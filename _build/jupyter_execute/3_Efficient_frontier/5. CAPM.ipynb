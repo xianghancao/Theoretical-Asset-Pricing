{
 "cells": [
  {
   "cell_type": "markdown",
   "id": "baac198d-52f4-462e-88c1-195345f4166c",
   "metadata": {},
   "source": [
    "# 5. CAPM Foundation"
   ]
  },
  {
   "cell_type": "markdown",
   "id": "ae0534a5-1fd2-49dd-b163-cd7cfdfa97b9",
   "metadata": {},
   "source": [
    "## Connection to CAPM\n",
    "\n",
    "CAPM Implications (not fully detailed in the provided pages but contextualized):\n",
    "\n",
    "The tangency portfolio in the presence of a risk-free asset becomes the market portfolio in CAPM, as all investors hold it in combination with the risk-free asset (Tobin’s two-fund separation).\n",
    "The linear frontier corresponds to the security market line (SML) in CAPM, where expected returns are:\n",
    "$$E[r_i] = r_f + \\beta_i (E[r_m] - r_f), \\quad \\beta_i = \\frac{\\text{Cov}(r_i, r_m)}{\\text{Var}(r_m)}$$\n",
    "\n",
    "The portfolio frontier’s properties (e.g., two-fund separation, linearity with a risk-free asset) underpin CAPM’s equilibrium framework.\n",
    "\n"
   ]
  },
  {
   "cell_type": "markdown",
   "id": "1cf70641-895e-4005-9bc9-a66d310f8315",
   "metadata": {},
   "source": []
  }
 ],
 "metadata": {
  "kernelspec": {
   "display_name": "Python 3 (ipykernel)",
   "language": "python",
   "name": "python3"
  },
  "language_info": {
   "codemirror_mode": {
    "name": "ipython",
    "version": 3
   },
   "file_extension": ".py",
   "mimetype": "text/x-python",
   "name": "python",
   "nbconvert_exporter": "python",
   "pygments_lexer": "ipython3",
   "version": "3.9.17"
  }
 },
 "nbformat": 4,
 "nbformat_minor": 5
}