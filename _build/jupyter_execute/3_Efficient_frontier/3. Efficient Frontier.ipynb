{
 "cells": [
  {
   "cell_type": "markdown",
   "id": "a3e5b1c2-7fb7-43d1-b929-926045cc8582",
   "metadata": {},
   "source": [
    "# 3. Efficient Frontier"
   ]
  },
  {
   "cell_type": "markdown",
   "id": "da8dfde2-3a13-4137-9fc6-db955df35b14",
   "metadata": {},
   "source": [
    "\n",
    "## Efficient Frontier:\n",
    "\n",
    "Definition: Efficient portfolios are frontier portfolios with expected returns exceeding that of the global minimum variance portfolio (MVP), $ E[r_{p,mvp}] $.\n",
    "Property: Any convex combination of efficient portfolios is also efficient.\n",
    "Proof: For $ M $ efficient portfolios with returns $ \\{E[r_{p,1}], ..., E[r_{p,M}]\\} > E[r_{p,mvp}] $, weights $ \\{x_1, ..., x_M\\} $ ($ x_i \\geq 0 $, $ \\sum x_i = 1 $), the composite portfolio’s return is:\n",
    "$$\\sum_{i=1}^M x_i E[r_{p,i}] > \\sum_{i=1}^M x_i E[r_{p,mvp}] = E[r_{p,mvp}]$$\n",
    "Since the combination is a frontier portfolio (from portfolio separation) and has a return above the MVP, it is efficient.\n",
    "\n",
    "\n",
    "## Zero Covariance Portfolio:\n",
    "\n",
    "For any frontier portfolio (except the MVP), there exists another frontier portfolio with zero covariance.\n",
    "Proof: Referenced to Pennacchi (2008), not detailed in the notes.\n",
    "\n"
   ]
  },
  {
   "cell_type": "markdown",
   "id": "ee9c3599-2d07-467f-81a4-c51a0a9ba691",
   "metadata": {},
   "source": []
  },
  {
   "cell_type": "markdown",
   "id": "0aca455c-35ca-4221-b34d-25c1f424b4f8",
   "metadata": {},
   "source": []
  }
 ],
 "metadata": {
  "kernelspec": {
   "display_name": "Python 3 (ipykernel)",
   "language": "python",
   "name": "python3"
  },
  "language_info": {
   "codemirror_mode": {
    "name": "ipython",
    "version": 3
   },
   "file_extension": ".py",
   "mimetype": "text/x-python",
   "name": "python",
   "nbconvert_exporter": "python",
   "pygments_lexer": "ipython3",
   "version": "3.9.17"
  }
 },
 "nbformat": 4,
 "nbformat_minor": 5
}