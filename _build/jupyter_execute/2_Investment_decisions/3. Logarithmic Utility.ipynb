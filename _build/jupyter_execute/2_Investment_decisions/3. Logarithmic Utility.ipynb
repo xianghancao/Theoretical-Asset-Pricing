{
 "cells": [
  {
   "cell_type": "markdown",
   "id": "0b3e3d83-5908-42ed-b77c-6ac30497ee29",
   "metadata": {},
   "source": [
    "# 3. Logarithmic Utility"
   ]
  },
  {
   "cell_type": "markdown",
   "id": "8a1e64f5-a41c-47cc-b5d5-4f2de2e85eae",
   "metadata": {},
   "source": [
    "## Example with Logarithmic Utility\n",
    "\n",
    "Setup: Assume a logarithmic utility function $ U(Y) = \\ln(Y) $, with $ U'(Y) = \\frac{1}{Y} $. The risky asset has two possible returns, $ r_2 > r_f > r_1 $, with probabilities $ p $ and $ 1-p $, and $ E[\\tilde{r}] = p r_2 + (1-p)r_1 > r_f $.\n",
    "FOC:\n",
    "$$E\\left[\\frac{\\tilde{r} - r_f}{Y_0(1 + r_f) + a(\\tilde{r} - r_f)}\\right] = 0$$\n",
    "Evaluating with the two states:\n",
    "$$p \\frac{r_2 - r_f}{Y_0(1 + r_f) + a(r_2 - r_f)} + (1-p) \\frac{r_1 - r_f}{Y_0(1 + r_f) + a(r_1 - r_f)} = 0$$\n",
    "\n",
    "Solution: The fraction of wealth invested in the risky asset is:\n",
    "$$\\frac{a}{Y_0} = -\\frac{(1 + r_f)(E[\\tilde{r}] - r_f)}{(r_1 - r_f)(r_2 - r_f)} > 0$$\n",
    "\n",
    "Intuition: The fraction increases with the risk premium $ E[\\tilde{r}] - r_f $ and decreases with return dispersion (related to variance). Since logarithmic utility is constant relative risk aversion (CRRA), the fraction is independent of wealth.\n"
   ]
  },
  {
   "cell_type": "markdown",
   "id": "607e1b83-374c-4c7e-a94f-e99886faf182",
   "metadata": {},
   "source": []
  }
 ],
 "metadata": {
  "kernelspec": {
   "display_name": "Python 3 (ipykernel)",
   "language": "python",
   "name": "python3"
  },
  "language_info": {
   "codemirror_mode": {
    "name": "ipython",
    "version": 3
   },
   "file_extension": ".py",
   "mimetype": "text/x-python",
   "name": "python",
   "nbconvert_exporter": "python",
   "pygments_lexer": "ipython3",
   "version": "3.9.17"
  }
 },
 "nbformat": 4,
 "nbformat_minor": 5
}