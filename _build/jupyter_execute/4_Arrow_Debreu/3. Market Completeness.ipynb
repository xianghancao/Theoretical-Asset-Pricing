{
 "cells": [
  {
   "cell_type": "markdown",
   "id": "322da12f-2c04-4828-98f5-727f99202fba",
   "metadata": {},
   "source": [
    "# 3. Market Completeness\n"
   ]
  },
  {
   "cell_type": "markdown",
   "id": "ad4c3683-487f-4046-9671-9c602db12b0f",
   "metadata": {},
   "source": [
    "## Definition\n",
    "A market is complete if there are enough linearly independent assets to span all states of nature, allowing unique state prices to be inferred from traded assets’ prices and payoffs.\n",
    "Theorem: Unique state prices exist if the payoff matrix $ D $ has rank $ S $ (i.e., $ \\text{rank}(D) = S $), meaning there are at least $ S $ linearly independent assets. In this case, $ D $ is invertible (if square), and state prices are:\n",
    "$$y = (D^T)^{-1} P$$\n",
    "\n"
   ]
  },
  {
   "cell_type": "markdown",
   "id": "58b95609-9489-4836-85cc-b46fdec548e8",
   "metadata": {},
   "source": [
    "## Example (3):\n",
    "\n",
    "Three states, four assets with payoff matrix:\n",
    "$$D = \\begin{pmatrix}\n",
    "8.5 & 8.5 & 7 & 4 \\\\\n",
    "10 & 8 & 8 & 6 \\\\\n",
    "4 & 10 & 6 & 2\n",
    "\\end{pmatrix}$$\n",
    "and prices $ P = \\begin{pmatrix} 7.23 \\\\ 8.13 \\\\ 6.66 \\\\ 4.02 \\end{pmatrix} $.\n",
    "$ \\text{rank}(D) = 3 $, matching the number of states, so the market is complete.\n",
    "Select three assets (e.g., exclude asset 3) to form a square matrix:\n",
    "$$D = \\begin{pmatrix}\n",
    "8.5 & 8.5 & 4 \\\\\n",
    "10 & 8 & 6 \\\\\n",
    "4 & 10 & 2\n",
    "\\end{pmatrix}, \\quad P = \\begin{pmatrix} 7.23 \\\\ 8.13 \\\\ 4.02 \\end{pmatrix}$$\n",
    "\n",
    "Compute state prices:\n",
    "$$y = (D^T)^{-1} P = \\begin{pmatrix} 0.18 \\\\ 0.45 \\\\ 0.3 \\end{pmatrix}$$\n",
    "\n",
    "The market’s completeness allows recovery of state prices, consistent with the law of one price.\n",
    "\n"
   ]
  }
 ],
 "metadata": {
  "kernelspec": {
   "display_name": "Python 3 (ipykernel)",
   "language": "python",
   "name": "python3"
  },
  "language_info": {
   "codemirror_mode": {
    "name": "ipython",
    "version": 3
   },
   "file_extension": ".py",
   "mimetype": "text/x-python",
   "name": "python",
   "nbconvert_exporter": "python",
   "pygments_lexer": "ipython3",
   "version": "3.9.17"
  }
 },
 "nbformat": 4,
 "nbformat_minor": 5
}