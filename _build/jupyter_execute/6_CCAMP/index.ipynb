{
 "cells": [
  {
   "cell_type": "markdown",
   "id": "f944b2c2-c3a6-477b-b5c6-1bd9b0f1542b",
   "metadata": {},
   "source": [
    "# 7 CCAPM"
   ]
  },
  {
   "cell_type": "markdown",
   "id": "93775c20-083c-4dba-8ac4-de35b47c8d71",
   "metadata": {},
   "source": [
    "## Key Takeaways\n",
    "\n",
    "1. CCAPM Framework: Links asset prices to consumption via the SDF $ z_{t+1} = \\delta \\frac{u'(c_{t+1})}{u'(c_t)} $, with prices given by $ P_{t,i} = E_t[z_{t+1} D_{t+1,i}] $ or returns by $ 1 = E_t[z_{t+1} R_{t+1,i}] $.\n",
    "2. Economic Intuition: Investors value assets based on their ability to smooth consumption. Assets with high payoffs in low-consumption states (high marginal utility) have higher prices and lower expected returns.\n",
    "3. Risk Corrections: Expected returns compensate for risk based on covariance with marginal utility (or consumption). Risky assets (positively correlated with consumption) require higher returns; hedging assets (negatively correlated) may have lower returns.\n",
    "4. Link to CAPM: CCAPM reduces to CAPM under the strong assumption that the market portfolio’s return is perfectly negatively correlated with marginal utility, aligning expected returns with market beta.\n",
    "5. Empirical Testability: CCAPM provides a framework to test asset pricing models by proxying the SDF with consumption data, unlike relative pricing models."
   ]
  },
  {
   "cell_type": "markdown",
   "id": "bab0de6f-637c-487d-94d0-9e7437df7f78",
   "metadata": {},
   "source": [
    "\n",
    "\n",
    "\n",
    "\n"
   ]
  }
 ],
 "metadata": {
  "kernelspec": {
   "display_name": "Python 3 (ipykernel)",
   "language": "python",
   "name": "python3"
  },
  "language_info": {
   "codemirror_mode": {
    "name": "ipython",
    "version": 3
   },
   "file_extension": ".py",
   "mimetype": "text/x-python",
   "name": "python",
   "nbconvert_exporter": "python",
   "pygments_lexer": "ipython3",
   "version": "3.9.17"
  }
 },
 "nbformat": 4,
 "nbformat_minor": 5
}