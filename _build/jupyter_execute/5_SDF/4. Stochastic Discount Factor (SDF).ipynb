{
 "cells": [
  {
   "cell_type": "markdown",
   "id": "1ddd3504-cb47-48ad-adbb-5667d42dbc9e",
   "metadata": {},
   "source": [
    "# 4. Stochastic Discount Factor (SDF)"
   ]
  },
  {
   "cell_type": "markdown",
   "id": "845b6c0e-ab06-42c0-be15-be943089c1d0",
   "metadata": {},
   "source": [
    "## Definition\n",
    "The SDF, denoted $ z_s $, is the state price per unit of probability:\n",
    "$$z_s = \\frac{y_s}{p_s} = \\delta \\frac{u'(c_s)}{u'(c_0)}$$\n",
    "\n",
    "The SDF discounts state-contingent payoffs to present value, adjusting for risk and time preferences.\n",
    "\n",
    "\n",
    "Asset Pricing with SDF:\n",
    "\n",
    "For an asset with state-contingent payoffs $ D_i = (D_{1,i}, D_{2,i}, \\ldots, D_{S,i}) $, its price is:\n",
    "$$P_i = \\sum_{s=1}^S y_s D_{s,i} = \\sum_{s=1}^S p_s z_s D_{s,i} = E[z D_i]$$\n",
    "\n",
    "In terms of returns ($ R_i = \\frac{D_i}{P_i} $):\n",
    "$$1 = E[z R_i]$$\n",
    "\n",
    "\n",
    "\n",
    "\n",
    "\n"
   ]
  },
  {
   "cell_type": "markdown",
   "id": "e4a431c7-0bed-4e37-bdbd-2febfee21dd3",
   "metadata": {},
   "source": [
    "## Economic Intuition\n",
    "\n",
    "The SDF is high in states with high marginal utility (e.g., economic downturns for risk-averse investors), increasing the value of assets with high payoffs in those states.\n",
    "Assets with payoffs negatively correlated with marginal utility (high in “good” states) have lower prices and higher expected returns due to their riskiness.\n",
    "\n",
    "\n"
   ]
  },
  {
   "cell_type": "markdown",
   "id": "72bd60c3-8258-4a57-bd21-098ee0948092",
   "metadata": {},
   "source": []
  }
 ],
 "metadata": {
  "kernelspec": {
   "display_name": "Python 3 (ipykernel)",
   "language": "python",
   "name": "python3"
  },
  "language_info": {
   "codemirror_mode": {
    "name": "ipython",
    "version": 3
   },
   "file_extension": ".py",
   "mimetype": "text/x-python",
   "name": "python",
   "nbconvert_exporter": "python",
   "pygments_lexer": "ipython3",
   "version": "3.9.17"
  }
 },
 "nbformat": 4,
 "nbformat_minor": 5
}