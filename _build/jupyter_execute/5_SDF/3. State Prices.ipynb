{
 "cells": [
  {
   "cell_type": "markdown",
   "id": "d443e9ad-09bc-4652-ade0-67cfbc6fd1f2",
   "metadata": {},
   "source": [
    "# 3. State Prices"
   ]
  },
  {
   "cell_type": "markdown",
   "id": "95b571c1-970b-46f9-a7ab-7f86b269f33f",
   "metadata": {},
   "source": [
    "## Deriving State Prices\n",
    "\n",
    "Lagrangian Method:\n",
    "\n",
    "Solve the constrained optimization using Lagrange multipliers:\n",
    "$$L(c_0, c_1, \\ldots, c_S, \\lambda) = u(c_0) + \\delta \\sum_{s=1}^S p_s u(c_s) + \\lambda \\left( Y - c_0 - \\sum_{s=1}^S y_s c_s \\right)$$\n",
    "\n",
    "First-order conditions (FOCs):\n",
    "$$u'(c_0) = \\lambda$$\n",
    "$$\\delta p_s u'(c_s) = \\lambda y_s \\quad \\text{for each state } s$$\n",
    "\n",
    "Combining FOCs:\n",
    "$$y_s = \\delta p_s \\frac{u'(c_s)}{u'(c_0)}$$\n",
    "\n",
    "\n",
    "\n",
    "Interpretation:\n",
    "\n",
    "The state price $ y_s $ is determined by three factors:\n",
    "\n",
    "Time Preference ($ \\delta $): A lower $ \\delta $ (stronger preference for current consumption) reduces state prices, as investors value future payoffs less.\n",
    "State Probability ($ p_s $): States with lower probability have lower state prices, as investors are less willing to pay for unlikely payoffs.\n",
    "Marginal Utility Ratio ($ \\frac{u'(c_s)}{u'(c_0)} $): Higher marginal utility in state $ s $ (e.g., low consumption states for risk-averse investors) increases $ y_s $, as investors value payoffs more in “bad” states where consumption is scarce.\n",
    "\n",
    "\n"
   ]
  },
  {
   "cell_type": "markdown",
   "id": "8956747c-2ac1-4127-b7b0-81e00e966675",
   "metadata": {},
   "source": []
  }
 ],
 "metadata": {
  "kernelspec": {
   "display_name": "Python 3 (ipykernel)",
   "language": "python",
   "name": "python3"
  },
  "language_info": {
   "codemirror_mode": {
    "name": "ipython",
    "version": 3
   },
   "file_extension": ".py",
   "mimetype": "text/x-python",
   "name": "python",
   "nbconvert_exporter": "python",
   "pygments_lexer": "ipython3",
   "version": "3.9.17"
  }
 },
 "nbformat": 4,
 "nbformat_minor": 5
}