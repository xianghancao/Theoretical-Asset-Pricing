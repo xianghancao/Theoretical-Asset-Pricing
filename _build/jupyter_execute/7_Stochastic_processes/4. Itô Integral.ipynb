{
 "cells": [
  {
   "cell_type": "markdown",
   "id": "3e2b4fd3-df65-400a-8c3a-35982ccc7cd5",
   "metadata": {},
   "source": [
    "# 4. Itô Integral"
   ]
  },
  {
   "cell_type": "markdown",
   "id": "cf428a39-a227-4a58-a04b-80c795498c91",
   "metadata": {},
   "source": [
    "## Itô Integral\n",
    "\n",
    "Definition: The change in $ z(t) $ over a finite interval $[0, T]$ is expressed as a stochastic integral (Itô integral):\n",
    "$$z(T) - z(0) = \\int_0^T dz(t) \\sim N(0, T)$$\n",
    "\n",
    "Non-Differentiability:\n",
    "\n",
    "The derivative $ \\frac{dz(t)}{dt} $ does not exist, as $ z(t) $ has unbounded variation and is nowhere differentiable.\n",
    "Intuition: The Wiener process exhibits continuous but erratic changes, making it unsuitable for standard calculus but suitable for stochastic calculus.\n"
   ]
  },
  {
   "cell_type": "markdown",
   "id": "1c302c08-4879-4103-9c5d-689d24c7e178",
   "metadata": {},
   "source": []
  }
 ],
 "metadata": {
  "kernelspec": {
   "display_name": "Python 3 (ipykernel)",
   "language": "python",
   "name": "python3"
  },
  "language_info": {
   "codemirror_mode": {
    "name": "ipython",
    "version": 3
   },
   "file_extension": ".py",
   "mimetype": "text/x-python",
   "name": "python",
   "nbconvert_exporter": "python",
   "pygments_lexer": "ipython3",
   "version": "3.9.17"
  }
 },
 "nbformat": 4,
 "nbformat_minor": 5
}