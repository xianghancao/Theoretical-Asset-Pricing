{
 "cells": [
  {
   "cell_type": "markdown",
   "id": "9139765c-0714-4bc9-b311-466101f3791a",
   "metadata": {},
   "source": [
    "# 1. Wiener Process"
   ]
  },
  {
   "cell_type": "markdown",
   "id": "caa96701-5ba6-4c39-ac0c-596b772c1bf4",
   "metadata": {},
   "source": [
    "## Wiener Processes (Brownian Motion)\n",
    "\n",
    "Definition: A Wiener process, $ z(t) $, also known as Brownian motion, is a continuous-time stochastic process with specific properties. Over a small time interval $ \\Delta t $, the change in the process is:\n",
    "$$\\Delta z = z(t + \\Delta t) - z(t) = \\sqrt{\\Delta t} \\, \\tilde{\\epsilon}$$\n",
    "where $ \\tilde{\\epsilon} $ is a random variable with:\n",
    "\n",
    "$ E[\\tilde{\\epsilon}] = 0 $\n",
    "$ \\text{Var}[\\tilde{\\epsilon}] = 1 $\n",
    "Independence across non-overlapping intervals: $ \\text{Cov}[z(t + \\Delta t) - z(t), z(s + \\Delta t) - z(s)] = 0 $ for non-overlapping intervals $(t, t + \\Delta t)$ and $(s, s + \\Delta t)$.\n",
    "\n",
    "\n",
    "Markov Property: The Wiener process is a Markov process, meaning the probability distribution of $ z(T) $ at time $ T > t $ depends only on $ z(t) $, not on prior values at $ s < t $.\n",
    "Moments:\n",
    "$$E[\\Delta z] = E[\\sqrt{\\Delta t} \\, \\tilde{\\epsilon}] = \\sqrt{\\Delta t} \\cdot 0 = 0$$\n",
    "$$\\text{Var}[\\Delta z] = \\text{Var}[\\sqrt{\\Delta t} \\, \\tilde{\\epsilon}] = \\Delta t \\cdot \\text{Var}[\\tilde{\\epsilon}] = \\Delta t$$\n",
    "$$\\text{Std}[\\Delta z] = \\sqrt{\\Delta t}$$\n",
    "\n"
   ]
  },
  {
   "cell_type": "markdown",
   "id": "d73b2e73-e3b2-4e19-ad5d-52015a0fd70f",
   "metadata": {},
   "source": []
  }
 ],
 "metadata": {
  "kernelspec": {
   "display_name": "Python 3 (ipykernel)",
   "language": "python",
   "name": "python3"
  },
  "language_info": {
   "codemirror_mode": {
    "name": "ipython",
    "version": 3
   },
   "file_extension": ".py",
   "mimetype": "text/x-python",
   "name": "python",
   "nbconvert_exporter": "python",
   "pygments_lexer": "ipython3",
   "version": "3.9.17"
  }
 },
 "nbformat": 4,
 "nbformat_minor": 5
}
