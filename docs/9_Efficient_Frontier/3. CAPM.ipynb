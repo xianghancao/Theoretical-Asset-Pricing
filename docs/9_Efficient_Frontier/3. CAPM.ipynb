{
 "cells": [
  {
   "cell_type": "markdown",
   "id": "af6393af-b765-44f1-8e16-d899125cc064",
   "metadata": {},
   "source": [
    "\n",
    "# 3. Capital Asset Pricing Model (CAPM)\n",
    "\n",
    "## Sharpe (1964):\n",
    "\n",
    "Derived CAPM based on Markowitz and Tobin’s models, with the formula:\n",
    "\n",
    "$$E[r_i] = r_f + \\beta_i (E[r_m] - r_f)$$\n",
    "\n",
    "- where $ \\beta_i = \\frac{\\text{Cov}(r_i, r_m)}{\\text{Var}(r_m)} $,  measuring an asset’s systematic risk relative to the market portfolio.\n",
    "- Assumes all investors follow Tobin’s separation theorem, making the tangency portfolio equal to the market portfolio.\n",
    "\n",
    "\n",
    "Other Contributors: Lintner (1965), Mossin (1966), and Treynor (1962) also derived CAPM independently.\n",
    "CAPM’s Role and Limitations:\n",
    "\n",
    "Widely taught in MBA finance courses as an introduction to risk and return.\n",
    "Relies on strong assumptions (quadratic utility or normal returns) and is a single-period model, unable to handle dynamic return patterns (e.g., predictability).\n",
    "\n",
    "\n",
    "\n"
   ]
  },
  {
   "cell_type": "markdown",
   "id": "2fe6fb02-d5e7-4d3f-9981-c79561249033",
   "metadata": {},
   "source": []
  }
 ],
 "metadata": {
  "kernelspec": {
   "display_name": "Python 3 (ipykernel)",
   "language": "python",
   "name": "python3"
  },
  "language_info": {
   "codemirror_mode": {
    "name": "ipython",
    "version": 3
   },
   "file_extension": ".py",
   "mimetype": "text/x-python",
   "name": "python",
   "nbconvert_exporter": "python",
   "pygments_lexer": "ipython3",
   "version": "3.9.17"
  }
 },
 "nbformat": 4,
 "nbformat_minor": 5
}
