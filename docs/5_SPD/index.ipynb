{
 "cells": [
  {
   "cell_type": "markdown",
   "id": "f7f6a67b-8df3-4472-87c1-bb42c2677255",
   "metadata": {},
   "source": [
    "# 5 State Price Deflator"
   ]
  },
  {
   "cell_type": "markdown",
   "id": "ca7653ca-73a5-4201-a392-a9eb68dbbab9",
   "metadata": {},
   "source": []
  }
 ],
 "metadata": {
  "kernelspec": {
   "display_name": "Python 3 (ipykernel)",
   "language": "python",
   "name": "python3"
  },
  "language_info": {
   "codemirror_mode": {
    "name": "ipython",
    "version": 3
   },
   "file_extension": ".py",
   "mimetype": "text/x-python",
   "name": "python",
   "nbconvert_exporter": "python",
   "pygments_lexer": "ipython3",
   "version": "3.9.17"
  }
 },
 "nbformat": 4,
 "nbformat_minor": 5
}
