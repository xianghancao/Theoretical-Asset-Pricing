{
 "cells": [
  {
   "cell_type": "markdown",
   "id": "9b546390-21fa-4108-be7a-f981d1baf8b4",
   "metadata": {},
   "source": [
    "# Time-Preference Factor"
   ]
  },
  {
   "cell_type": "markdown",
   "id": "f374501f-73df-4e59-8e93-469de42f8eea",
   "metadata": {},
   "source": [
    "## Definition"
   ]
  },
  {
   "cell_type": "markdown",
   "id": "4bf50008-afa5-45fb-ad8a-97c8942c484c",
   "metadata": {},
   "source": [
    "在资产定价和消费选择理论中，主观时间偏好因子（Subjective Time-Preference Factor, 也称时间折现参数，time discount parameter）是表示个体对未来效用（utility）折扣的主观参数。它捕捉了人们倾向于更重视当前消费而非未来消费的心理和经济倾向，常记作 $ \\beta $（beta），其中 $  0 < \\beta < 1 $。这个因子源于 Ramsey (1928) 的最优储蓄模型和现代动态随机一般均衡（DSGE）框架，用于解释为什么人们愿意为延迟消费支付“时间成本”。"
   ]
  },
  {
   "cell_type": "markdown",
   "id": "c1bb5a5f-5c95-414d-80e4-0424850314b3",
   "metadata": {},
   "source": [
    "$ \\beta = \\frac{1}{1 + \\rho} $，其中 $ \\rho > 0 $ 是时间偏好率（rate of time preference），衡量“纯粹的时间偏好”（pure time preference），即不考虑不确定性下对当前消费的相对重视。典型值 $ \\beta \\approx 0.96 $（年化），对应 $ \\rho \\approx 0.04 $（4% 年化折扣率），这与实证观察（如储蓄行为）一致。"
   ]
  }
 ],
 "metadata": {
  "kernelspec": {
   "display_name": "Python 3 (ipykernel)",
   "language": "python",
   "name": "python3"
  },
  "language_info": {
   "codemirror_mode": {
    "name": "ipython",
    "version": 3
   },
   "file_extension": ".py",
   "mimetype": "text/x-python",
   "name": "python",
   "nbconvert_exporter": "python",
   "pygments_lexer": "ipython3",
   "version": "3.9.17"
  }
 },
 "nbformat": 4,
 "nbformat_minor": 5
}
