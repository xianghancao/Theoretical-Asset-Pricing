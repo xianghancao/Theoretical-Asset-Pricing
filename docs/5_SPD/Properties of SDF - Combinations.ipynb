{
 "cells": [
  {
   "cell_type": "markdown",
   "id": "cca9a506-db4b-448e-b52a-aaf2fbaa7bcb",
   "metadata": {},
   "source": [
    "# Combinations of SPD"
   ]
  },
  {
   "cell_type": "markdown",
   "id": "55e97ef5-3533-4917-ae38-308c7304d9bc",
   "metadata": {},
   "source": [
    "## 1. Definition\n",
    "> Theorem()  \n",
    "> Theorem 4.7"
   ]
  },
  {
   "cell_type": "markdown",
   "id": "5b17d8c5-cce8-4bc8-b55a-e6f0a5de1221",
   "metadata": {},
   "source": [
    "如果存在多个 SPD，它们的凸组合（convex combination）也是一个 SPD 。这意味着，只要有两个 SPD，就可以生成无限多的 SPD 。"
   ]
  },
  {
   "cell_type": "markdown",
   "id": "d759f0ee-fb15-4626-967e-a4570653c7ab",
   "metadata": {},
   "source": [
    "\n",
    "为了证明这个定理，我们需要展示凸组合 $\\zeta = \\sum_{l=1}^L \\alpha_l \\zeta_l$ 满足状态价格通缩因子的定义。一个随机变量 $\\zeta$ 是一个状态价格通缩因子（state-price deflator），当且仅当它满足以下两个条件：\n",
    "\n",
    "1.  **它是一个正随机变量**：$\\zeta > 0$ 几乎处处成立。\n",
    "2.  **它能将未来财富折现到现在的价值**：对于任何未来财富随机变量 $X$ 和它的价格 $\\pi(X)$，有 $\\pi(X) = E[\\zeta X]$。\n"
   ]
  },
  {
   "cell_type": "markdown",
   "id": "a3ae71a2-5e96-4721-a311-323b8bcde215",
   "metadata": {},
   "source": []
  }
 ],
 "metadata": {
  "kernelspec": {
   "display_name": "Python 3 (ipykernel)",
   "language": "python",
   "name": "python3"
  },
  "language_info": {
   "codemirror_mode": {
    "name": "ipython",
    "version": 3
   },
   "file_extension": ".py",
   "mimetype": "text/x-python",
   "name": "python",
   "nbconvert_exporter": "python",
   "pygments_lexer": "ipython3",
   "version": "3.9.17"
  }
 },
 "nbformat": 4,
 "nbformat_minor": 5
}
