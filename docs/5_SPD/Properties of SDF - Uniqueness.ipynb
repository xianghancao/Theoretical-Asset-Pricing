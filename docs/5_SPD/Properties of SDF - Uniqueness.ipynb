{
 "cells": [
  {
   "cell_type": "markdown",
   "id": "77e387a8-d1fa-4cf6-8f6b-4f8caef91bbf",
   "metadata": {},
   "source": [
    "# Uniqueness of SPD"
   ]
  },
  {
   "cell_type": "markdown",
   "id": "356c92bf-0f18-46e9-a84d-3c8dd8b8354c",
   "metadata": {},
   "source": [
    "# 1. Definition"
   ]
  },
  {
   "cell_type": "markdown",
   "id": "d483982c-1b8b-4a3f-ad20-11f5eef8aa15",
   "metadata": {},
   "source": [
    "> Theorem(Uniqueness of SPD)  \n",
    "> Theorem 4.6"
   ]
  },
  {
   "cell_type": "markdown",
   "id": "9c59ef7d-dc11-4c1b-920a-bd0dbe7bd9b9",
   "metadata": {},
   "source": [
    "在无套利的前提下，如果市场是完全的（complete），那么 SPD 是唯一的 。如果市场是不完全的（incomplete），则存在多个 SPD 。"
   ]
  },
  {
   "cell_type": "markdown",
   "id": "fe378994-9557-4647-8d0b-9d94b56cc8c0",
   "metadata": {},
   "source": []
  }
 ],
 "metadata": {
  "kernelspec": {
   "display_name": "Python 3 (ipykernel)",
   "language": "python",
   "name": "python3"
  },
  "language_info": {
   "codemirror_mode": {
    "name": "ipython",
    "version": 3
   },
   "file_extension": ".py",
   "mimetype": "text/x-python",
   "name": "python",
   "nbconvert_exporter": "python",
   "pygments_lexer": "ipython3",
   "version": "3.9.17"
  }
 },
 "nbformat": 4,
 "nbformat_minor": 5
}
