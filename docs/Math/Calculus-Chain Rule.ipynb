{
 "cells": [
  {
   "cell_type": "markdown",
   "id": "c9cb5dd7-7841-47d0-8cf0-cddcf9efc7f6",
   "metadata": {},
   "source": [
    "# Chain Rule"
   ]
  },
  {
   "cell_type": "markdown",
   "id": "6ee48cc5-a841-4329-90dc-973f72975aa1",
   "metadata": {},
   "source": [
    "> **Theorem (The chain rule)**  \n",
    "> *If $g$ is differentiable at $x_0$ and $f$ is differentiable at $u_0 = g(x_0)$, then $F(x) = f(g(x))$ is differentiable at $x_0$ and\n",
    "> $$ F'(x_0) = f'(g(x_0))g'(x_0)$$*"
   ]
  },
  {
   "cell_type": "markdown",
   "id": "e07a669e-636a-47bd-b845-fad62abb829b",
   "metadata": {},
   "source": []
  }
 ],
 "metadata": {
  "kernelspec": {
   "display_name": "Python 3 (ipykernel)",
   "language": "python",
   "name": "python3"
  },
  "language_info": {
   "codemirror_mode": {
    "name": "ipython",
    "version": 3
   },
   "file_extension": ".py",
   "mimetype": "text/x-python",
   "name": "python",
   "nbconvert_exporter": "python",
   "pygments_lexer": "ipython3",
   "version": "3.9.17"
  }
 },
 "nbformat": 4,
 "nbformat_minor": 5
}
