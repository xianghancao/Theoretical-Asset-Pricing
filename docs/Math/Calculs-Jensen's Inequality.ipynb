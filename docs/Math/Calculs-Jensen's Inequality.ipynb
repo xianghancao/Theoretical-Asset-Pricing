{
 "cells": [
  {
   "cell_type": "markdown",
   "id": "7dc24a72-ab75-41a3-9856-0b7c34cead0e",
   "metadata": {},
   "source": [
    "# Calculus: Jensen's Inequality"
   ]
  },
  {
   "cell_type": "markdown",
   "id": "4a88fc7c-f0ac-4bd9-b75b-7101080122dd",
   "metadata": {},
   "source": [
    "詹森不等式（**Jensen's Inequality**）是数学分析中一个非常重要的基本不等式，它在**概率论**、**统计学**、**经济学**和**信息论**等多个领域都有广泛的应用。\n",
    "\n",
    "简而言之，詹森不等式给出了**凸函数（Convex Function）的期望值**与**期望值的函数值**之间的一种关系。\n",
    "\n",
    "---\n",
    "\n",
    "## 核心内容与公式\n",
    "\n",
    "詹森不等式的核心是**凸函数**（或**凹函数**）的性质。\n",
    "\n",
    "### 1. 针对凸函数\n",
    "\n",
    "如果 $f$ 是一个**凸函数**（图形向上弯曲，像一个碗），而 $X$ 是一个随机变量，那么不等式表达为：\n",
    "\n",
    "$$E[f(X)] \\ge f(E[X])$$\n",
    "\n",
    "* **左边 $E[f(X)]$：** **函数值 $f(X)$ 的期望**（即先对随机变量 $X$ 进行函数 $f$ 变换，再求期望或平均值）。\n",
    "* **右边 $f(E[X)]$：** **期望值 $E[X]$ 的函数**（即先求随机变量 $X$ 的期望或平均值，再代入函数 $f$ 进行变换）。\n",
    "\n",
    "**通俗理解：** 对于一个凸函数，**平均值的函数值**总是**小于或等于** **函数值的平均值**。\n",
    "\n",
    "### 2. 针对凹函数\n",
    "\n",
    "如果 $f$ 是一个**凹函数**（图形向下弯曲，像一个倒扣的碗），不等式的方向则会颠倒：\n",
    "\n",
    "$$E[f(X)] \\le f(E[X])$$\n",
    "\n",
    "### 3. 离散形式（加权平均值）\n",
    "\n",
    "如果不涉及概率论中的随机变量和期望，它也有一个更基础的**离散形式**，适用于加权平均值。对于凸函数 $f$ 和一组数 $x_1, x_2, \\ldots, x_n$，以及满足 $\\lambda_i \\ge 0$ 且 $\\sum_{i=1}^n \\lambda_i = 1$ 的权重 $\\lambda_i$：\n",
    "\n",
    "$$f\\left(\\sum_{i=1}^n \\lambda_i x_i\\right) \\le \\sum_{i=1}^n \\lambda_i f(x_i)$$\n",
    "\n",
    "这个形式说明：**加权平均值的函数值** 小于等于 **函数值的加权平均值**。\n",
    "\n",
    "---\n",
    "\n",
    "## 为什么要用它？（应用）\n",
    "\n",
    "詹森不等式是一个强大的工具，因为它提供了一个**上界**或**下界**来估算复杂的期望值。\n",
    "\n",
    "### 1. 算术平均-几何平均不等式（AM-GM）\n",
    "\n",
    "它是许多经典不等式的基础。例如，取 $f(x) = -\\ln(x)$（这是一个**凸函数**），并取 $\\lambda_i = 1/n$，由詹森不等式可直接推导出：\n",
    "\n",
    "$$-\\ln\\left(\\frac{1}{n}\\sum_{i=1}^n x_i\\right) \\le \\sum_{i=1}^n \\frac{1}{n} (-\\ln x_i)$$\n",
    "\n",
    "整理后即为著名的**算术平均-几何平均不等式**：\n",
    "\n",
    "$$\\frac{x_1 + \\cdots + x_n}{n} \\ge \\sqrt[n]{x_1 x_2 \\cdots x_n}$$\n",
    "\n",
    "### 2. 方差（Variance）\n",
    "\n",
    "由于 $f(x) = x^2$ 是一个凸函数，我们可以立即得到：\n",
    "\n",
    "$$E[X^2] \\ge (E[X])^2$$\n",
    "\n",
    "这正是**方差** $\\text{Var}(X) = E[X^2] - (E[X])^2 \\ge 0$ 的数学基础。\n",
    "\n",
    "### 3. 金融和经济学\n",
    "\n",
    "在金融学中，它被用于理解**风险（Risk）**和**收益（Return）**的关系。由于效用函数（Utility Function）通常被假设为**凹函数**（风险厌恶），詹森不等式 $\\mathbf{E}[f(X)] \\le f(\\mathbf{E}[X])$ 表明，一个人对有风险的资产的平均效用，要小于无风险资产的效用。\n",
    "\n",
    "简而言之，**詹森不等式是连接函数凸性/凹性与平均值（期望）之间关系的桥梁。**"
   ]
  },
  {
   "cell_type": "markdown",
   "id": "faae3085-84cf-45be-9e74-e4182c151b48",
   "metadata": {},
   "source": []
  }
 ],
 "metadata": {
  "kernelspec": {
   "display_name": "Python 3 (ipykernel)",
   "language": "python",
   "name": "python3"
  },
  "language_info": {
   "codemirror_mode": {
    "name": "ipython",
    "version": 3
   },
   "file_extension": ".py",
   "mimetype": "text/x-python",
   "name": "python",
   "nbconvert_exporter": "python",
   "pygments_lexer": "ipython3",
   "version": "3.9.17"
  }
 },
 "nbformat": 4,
 "nbformat_minor": 5
}
