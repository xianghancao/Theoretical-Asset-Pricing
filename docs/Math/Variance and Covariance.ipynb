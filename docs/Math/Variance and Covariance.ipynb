{
 "cells": [
  {
   "cell_type": "markdown",
   "id": "9c7269da-e510-45ea-9de9-9df634d430cd",
   "metadata": {},
   "source": [
    "# Variance & Covariance"
   ]
  },
  {
   "cell_type": "markdown",
   "id": "4501a16f-09f9-4a68-baea-e5d09111debf",
   "metadata": {},
   "source": [
    "## 1. 方差公式\n",
    "假设 $ \\zeta_s $ 是每个状态 $ s $ 下的随机折扣因子，方差可以定义为：\n",
    "$$\\text{Var}(\\zeta) = E[(\\zeta - E[\\zeta])^2]$$\n",
    "\n",
    "$ E[\\zeta] $ 是 SDF 的期望值，计算为 $ E[\\zeta] = \\sum_s \\pi_s \\zeta_s $。\n",
    "方差展开为：\n",
    "$$\\text{Var}(\\zeta) = E[\\zeta^2] - (E[\\zeta])^2$$\n",
    "其中 $ E[\\zeta^2] = \\sum_s \\pi_s \\zeta_s^2 $。"
   ]
  },
  {
   "cell_type": "markdown",
   "id": "84571130-9a21-4647-9414-bd8fc549629e",
   "metadata": {},
   "source": [
    "## 2. 协方差的公式\n",
    "对于两个随机变量 $ X $ 和 $ Y $，总体协方差 $ \\text{Cov}(X, Y) $ 的定义为：\n",
    "$$\\text{Cov}(X, Y) = E[(X - E[X])(Y - E[Y])]$$\n",
    "等价地，可以展开为：\n",
    "$$\\text{Cov}(X, Y) = E[XY] - E[X] \\cdot E[Y]$$\n",
    "\n",
    "$ E[X] $ 和 $ E[Y] $ 分别是 $ X $ 和 $ Y $ 的期望值。\n",
    "$ E[XY] $ 是 $ X $ 和 $ Y $ 的乘积的期望值。"
   ]
  },
  {
   "cell_type": "markdown",
   "id": "2385bed3-4a53-40ed-8ea9-32e4e157972b",
   "metadata": {},
   "source": []
  }
 ],
 "metadata": {
  "kernelspec": {
   "display_name": "Python 3 (ipykernel)",
   "language": "python",
   "name": "python3"
  },
  "language_info": {
   "codemirror_mode": {
    "name": "ipython",
    "version": 3
   },
   "file_extension": ".py",
   "mimetype": "text/x-python",
   "name": "python",
   "nbconvert_exporter": "python",
   "pygments_lexer": "ipython3",
   "version": "3.9.17"
  }
 },
 "nbformat": 4,
 "nbformat_minor": 5
}
