{
 "cells": [
  {
   "cell_type": "markdown",
   "id": "cd18a96a-c501-42f4-8b1d-913dd8d5ccb6",
   "metadata": {},
   "source": [
    "# Log-normal distribution"
   ]
  },
  {
   "cell_type": "markdown",
   "id": "7537add6-4875-4577-b880-c185220bd45a",
   "metadata": {},
   "source": [
    "https://en.wikipedia.org/wiki/Log-normal_distribution"
   ]
  }
 ],
 "metadata": {
  "kernelspec": {
   "display_name": "Python 3 (ipykernel)",
   "language": "python",
   "name": "python3"
  },
  "language_info": {
   "codemirror_mode": {
    "name": "ipython",
    "version": 3
   },
   "file_extension": ".py",
   "mimetype": "text/x-python",
   "name": "python",
   "nbconvert_exporter": "python",
   "pygments_lexer": "ipython3",
   "version": "3.9.17"
  }
 },
 "nbformat": 4,
 "nbformat_minor": 5
}
