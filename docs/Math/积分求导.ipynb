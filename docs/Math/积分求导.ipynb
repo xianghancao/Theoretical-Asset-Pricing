{
 "cells": [
  {
   "cell_type": "markdown",
   "id": "e6b4b884-a19e-462e-9fca-b8927ae5333e",
   "metadata": {},
   "source": [
    "# 积分求导"
   ]
  },
  {
   "cell_type": "markdown",
   "id": "5f549151-9b46-47ca-a006-c48a47cb1489",
   "metadata": {},
   "source": [
    "根据微积分基本定理，当对一个积分上限为变量的定积分求导时，直接将被积函数中的积分变量替换为积分上限即可。"
   ]
  }
 ],
 "metadata": {
  "kernelspec": {
   "display_name": "Python 3 (ipykernel)",
   "language": "python",
   "name": "python3"
  },
  "language_info": {
   "codemirror_mode": {
    "name": "ipython",
    "version": 3
   },
   "file_extension": ".py",
   "mimetype": "text/x-python",
   "name": "python",
   "nbconvert_exporter": "python",
   "pygments_lexer": "ipython3",
   "version": "3.9.17"
  }
 },
 "nbformat": 4,
 "nbformat_minor": 5
}
