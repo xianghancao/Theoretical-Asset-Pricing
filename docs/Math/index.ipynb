{
 "cells": [
  {
   "cell_type": "markdown",
   "id": "21a9c842-9b2a-450b-9fb9-a2cc850f3f76",
   "metadata": {},
   "source": [
    "# Appendix: Math"
   ]
  },
  {
   "cell_type": "markdown",
   "id": "e988c99e-3ad9-4cf0-aab6-deb811b9467b",
   "metadata": {},
   "source": []
  }
 ],
 "metadata": {
  "kernelspec": {
   "display_name": "Python 3 (ipykernel)",
   "language": "python",
   "name": "python3"
  },
  "language_info": {
   "codemirror_mode": {
    "name": "ipython",
    "version": 3
   },
   "file_extension": ".py",
   "mimetype": "text/x-python",
   "name": "python",
   "nbconvert_exporter": "python",
   "pygments_lexer": "ipython3",
   "version": "3.9.17"
  }
 },
 "nbformat": 4,
 "nbformat_minor": 5
}
