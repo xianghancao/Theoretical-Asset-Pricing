{
 "cells": [
  {
   "cell_type": "markdown",
   "id": "70ab533b-9769-4de3-9bbc-f8f7c1ba575a",
   "metadata": {},
   "source": [
    "# Calculus: 可分离变量的ODE方程"
   ]
  },
  {
   "cell_type": "markdown",
   "id": "a2f346f1-5dd7-4a95-b490-3110429da06c",
   "metadata": {},
   "source": [
    "## 1. Definition"
   ]
  },
  {
   "cell_type": "markdown",
   "id": "a787d648-36c1-4605-b988-ad77275d3950",
   "metadata": {},
   "source": [
    "## 2. Example\n",
    "\n",
    "关于 $m(t)$ 的常微分方程：\n",
    "$m'(t) = \\frac{1}{2}a^2 m(t)$，且 $m(0) = 1$\n",
    "\n",
    "这是一个可分离变量的一阶线性常微分方程。我们可以写成：\n",
    "$$\\frac{dm}{dt} = \\frac{1}{2}a^2 m$$\n",
    "$$\\frac{dm}{m} = \\frac{1}{2}a^2 dt$$\n",
    "\n",
    "对两边积分：\n",
    "$\\int \\frac{dm}{m} = \\int \\frac{1}{2}a^2 dt$\n",
    "$\\ln|m| = \\frac{1}{2}a^2 t + C$\n",
    "$m(t) = e^{\\frac{1}{2}a^2 t + C} = e^C \\cdot e^{\\frac{1}{2}a^2 t}$\n",
    "\n",
    "利用初始条件 $m(0) = 1$ 来求解常数 $e^C$：\n",
    "$m(0) = e^C \\cdot e^{\\frac{1}{2}a^2 \\cdot 0} = e^C \\cdot 1 = e^C$\n",
    "$1 = e^C$\n",
    "\n",
    "因此，$m(t) = e^{\\frac{1}{2}a^2 t}$。\n"
   ]
  },
  {
   "cell_type": "markdown",
   "id": "1056b137-5a24-44b2-9459-f381d5c7ef25",
   "metadata": {},
   "source": []
  }
 ],
 "metadata": {
  "kernelspec": {
   "display_name": "Python 3 (ipykernel)",
   "language": "python",
   "name": "python3"
  },
  "language_info": {
   "codemirror_mode": {
    "name": "ipython",
    "version": 3
   },
   "file_extension": ".py",
   "mimetype": "text/x-python",
   "name": "python",
   "nbconvert_exporter": "python",
   "pygments_lexer": "ipython3",
   "version": "3.9.17"
  }
 },
 "nbformat": 4,
 "nbformat_minor": 5
}
