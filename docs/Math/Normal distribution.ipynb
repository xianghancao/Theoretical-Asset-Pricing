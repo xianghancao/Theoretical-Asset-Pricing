{
 "cells": [
  {
   "cell_type": "markdown",
   "id": "d2382106-af3c-4acd-b4bc-be4aa1782beb",
   "metadata": {},
   "source": [
    "# Normal distribution"
   ]
  },
  {
   "cell_type": "markdown",
   "id": "9a8e4ea8-5ff1-49a9-9a47-986dd7a354cb",
   "metadata": {},
   "source": [
    "For a normally distributed random variable $X \\sim N(\\mu, \\sigma^2)$, we know that $E[e^X] = e^{\\mu + \\frac{1}{2}\\sigma^2}$."
   ]
  },
  {
   "cell_type": "markdown",
   "id": "998378fd-dbed-4f5b-b23a-addd0716b6b5",
   "metadata": {},
   "source": []
  }
 ],
 "metadata": {
  "kernelspec": {
   "display_name": "Python 3 (ipykernel)",
   "language": "python",
   "name": "python3"
  },
  "language_info": {
   "codemirror_mode": {
    "name": "ipython",
    "version": 3
   },
   "file_extension": ".py",
   "mimetype": "text/x-python",
   "name": "python",
   "nbconvert_exporter": "python",
   "pygments_lexer": "ipython3",
   "version": "3.9.17"
  }
 },
 "nbformat": 4,
 "nbformat_minor": 5
}
