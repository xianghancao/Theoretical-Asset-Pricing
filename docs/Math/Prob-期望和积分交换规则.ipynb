{
 "cells": [
  {
   "cell_type": "markdown",
   "id": "c0cebc8e-0f22-4e79-839f-50ee3d6d66fa",
   "metadata": {},
   "source": [
    "# 期望和积分的可交换性（Fubini 定理）"
   ]
  },
  {
   "cell_type": "markdown",
   "id": "f58a20db-6577-4d46-93a2-be61a647d54e",
   "metadata": {},
   "source": []
  }
 ],
 "metadata": {
  "kernelspec": {
   "display_name": "Python 3 (ipykernel)",
   "language": "python",
   "name": "python3"
  },
  "language_info": {
   "codemirror_mode": {
    "name": "ipython",
    "version": 3
   },
   "file_extension": ".py",
   "mimetype": "text/x-python",
   "name": "python",
   "nbconvert_exporter": "python",
   "pygments_lexer": "ipython3",
   "version": "3.9.17"
  }
 },
 "nbformat": 4,
 "nbformat_minor": 5
}
