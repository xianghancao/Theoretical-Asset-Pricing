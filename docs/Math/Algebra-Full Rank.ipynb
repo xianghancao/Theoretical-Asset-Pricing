{
 "cells": [
  {
   "cell_type": "markdown",
   "id": "85ffa8b2-2cbe-4cde-aa9e-a74c92a237ee",
   "metadata": {},
   "source": [
    "# Algebra: Full Rank"
   ]
  },
  {
   "cell_type": "markdown",
   "id": "e7ec6b53-dccc-4545-9b6f-2ef65088759e",
   "metadata": {},
   "source": [
    "一个矩阵是非奇异 (non-singular) 的，等价于说：\n",
    "* 该矩阵是可逆的 (Invertible)，即它的逆矩阵 $\\Sigma^{-1}$ 存在。\n",
    "* 该矩阵的行列式不为零 ($\\det(\\Sigma) \\neq 0$)。\n",
    "* 该矩阵是满秩的 (Full Rank)。\n",
    "* 该矩阵的行向量（或列向量）是线性无关的 (Linearly Independent)。"
   ]
  }
 ],
 "metadata": {
  "kernelspec": {
   "display_name": "Python 3 (ipykernel)",
   "language": "python",
   "name": "python3"
  },
  "language_info": {
   "codemirror_mode": {
    "name": "ipython",
    "version": 3
   },
   "file_extension": ".py",
   "mimetype": "text/x-python",
   "name": "python",
   "nbconvert_exporter": "python",
   "pygments_lexer": "ipython3",
   "version": "3.9.17"
  }
 },
 "nbformat": 4,
 "nbformat_minor": 5
}
