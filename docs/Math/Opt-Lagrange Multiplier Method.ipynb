{
 "cells": [
  {
   "cell_type": "markdown",
   "id": "5c03ec29-693e-4fab-8df7-a16a3a2fa4ed",
   "metadata": {},
   "source": [
    "# Lagrange Multiplier Method"
   ]
  },
  {
   "cell_type": "markdown",
   "id": "ea5dd2a9-77fb-48ca-8241-9f81a54e5782",
   "metadata": {},
   "source": [
    "**拉格朗日乘数法**（Lagrange Multiplier Method）中的一个工具，用于求**一个原函数**在**约束条件**下的极值（最大值或最小值）。\n",
    "\n",
    "简而言之，你是在利用拉格朗日函数找到**受约束的**目标函数的最大值。\n",
    "\n",
    "---\n",
    "\n",
    "## 拉格朗日乘数法求最大值的步骤\n",
    "\n",
    "假设你要解决的优化问题是：\n",
    "**最大化** 目标函数 $f(x_1, x_2, \\ldots, x_n)$\n",
    "**受限于** 约束条件 $g(x_1, x_2, \\ldots, x_n) = c$\n",
    "\n",
    "以下是使用拉格朗日乘数法的通用步骤：\n",
    "\n",
    "### 步骤 1：构造拉格朗日函数\n",
    "\n",
    "引入一个新的变量 $\\lambda$（**拉格朗日乘数**），构造拉格朗日函数 $L$：\n",
    "$$L(x_1, \\ldots, x_n, \\lambda) = f(x_1, \\ldots, x_n) + \\lambda \\left( c - g(x_1, \\ldots, x_n) \\right)$$\n",
    "**注意：** 也可以写成 $f - \\lambda(g - c)$ 或 $f + \\lambda(g - c)$，这只会影响 $\\lambda$ 的符号，最终的极值点 $(x_1, \\ldots, x_n)$ 是相同的。\n",
    "\n",
    "### 步骤 2：求偏导数并设为零\n",
    "\n",
    "将拉格朗日函数 $L$ 对所有变量（包括 $\\lambda$）分别求偏导数，并让所有偏导数等于零。这构成了**一阶条件**（First-Order Conditions）：\n",
    "1.  $\\frac{\\partial L}{\\partial x_1} = \\frac{\\partial f}{\\partial x_1} - \\lambda \\frac{\\partial g}{\\partial x_1} = 0$\n",
    "2.  $\\frac{\\partial L}{\\partial x_2} = \\frac{\\partial f}{\\partial x_2} - \\lambda \\frac{\\partial g}{\\partial x_2} = 0$\n",
    "3.  $\\vdots$\n",
    "4.  $\\frac{\\partial L}{\\partial x_n} = \\frac{\\partial f}{\\partial x_n} - \\lambda \\frac{\\partial g}{\\partial x_n} = 0$\n",
    "5.  $\\frac{\\partial L}{\\partial \\lambda} = c - g(x_1, \\ldots, x_n) = 0$  （这一步实际上就是回到了约束条件本身）\n",
    "\n",
    "### 步骤 3：解方程组\n",
    "\n",
    "联立上述 $n+1$ 个方程，解出所有可能的临界点 $\\left( x_1^*, \\ldots, x_n^*, \\lambda^* \\right)$。\n",
    "\n",
    "### 步骤 4：确定最大值\n",
    "\n",
    "将所有求得的临界点**（只取 $x$ 变量的部分）**代回**原目标函数** $f(x_1, \\ldots, x_n)$ 中，比较函数值。\n",
    "\n",
    "* 如果约束集是**有界闭集**（bounded and closed），则函数值最大的点就是最大值点。\n",
    "* 在许多实际问题中（例如经济学中的效用最大化），根据问题的性质和函数的形状（如凹函数），你通常可以**推断**最大值存在，并且所找到的唯一临界点就是最大值点。\n",
    "* 对于更严谨的数学分析，你需要利用**二阶条件**（如带边海森矩阵 Bordered Hessian Matrix）来严格判断临界点是最大值点、最小值点还是鞍点。但对于大多数应用问题，这一步可以省略，或者通过检查函数在临界点附近的表现来简化判断。\n",
    "\n",
    "---\n",
    "\n",
    "### 核心思想\n",
    "\n",
    "拉格朗日乘数法的核心数学思想是：在最大值或最小值点，目标函数 $f$ 的等高线必须与约束条件 $g=c$ 的曲线**相切**。这在数学上等价于它们的**梯度向量** $\\nabla f$ 和 $\\nabla g$ 必须是**平行的**。\n",
    "\n",
    "$$\\nabla f = \\lambda \\nabla g$$\n",
    "\n",
    "拉格朗日函数的一阶条件就是这个梯度平行条件的代数表达。"
   ]
  },
  {
   "cell_type": "markdown",
   "id": "c22456e2-cf24-4294-93f8-790cad681f08",
   "metadata": {},
   "source": []
  }
 ],
 "metadata": {
  "kernelspec": {
   "display_name": "Python 3 (ipykernel)",
   "language": "python",
   "name": "python3"
  },
  "language_info": {
   "codemirror_mode": {
    "name": "ipython",
    "version": 3
   },
   "file_extension": ".py",
   "mimetype": "text/x-python",
   "name": "python",
   "nbconvert_exporter": "python",
   "pygments_lexer": "ipython3",
   "version": "3.9.17"
  }
 },
 "nbformat": 4,
 "nbformat_minor": 5
}
