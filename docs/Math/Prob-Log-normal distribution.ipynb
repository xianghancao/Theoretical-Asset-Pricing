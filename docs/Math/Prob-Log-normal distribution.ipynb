{
 "cells": [
  {
   "cell_type": "markdown",
   "id": "cd18a96a-c501-42f4-8b1d-913dd8d5ccb6",
   "metadata": {},
   "source": [
    "# Prob: Lognormal Distribution"
   ]
  },
  {
   "cell_type": "markdown",
   "id": "6e881e60-848c-46d2-8874-5dc6af43f47a",
   "metadata": {},
   "source": [
    "## 1. Definition"
   ]
  },
  {
   "cell_type": "markdown",
   "id": "5ddcb988-3cf1-4bd2-aeb9-97697821c391",
   "metadata": {},
   "source": [
    "对于一个服从正态分布 $X \\sim \\text{LogNorm}(\\mu, \\sigma^2)$ 的随机变量，其自然对数 $\\ln X$ 成正态分布，\n",
    "\n",
    "$$ \\ln X \\sim N(\\mu, \\sigma^2)$$"
   ]
  },
  {
   "cell_type": "markdown",
   "id": "fc1e57bb-aa94-409d-86aa-cbc565ad75b0",
   "metadata": {},
   "source": [
    "换句话说，对于一个随机变量 $X$，如果 $ln(X)$ 服从正态分布，那么 $X$ 服从**对数正态分布** (Lognormal Distribution)。\n"
   ]
  },
  {
   "cell_type": "markdown",
   "id": "a4fa8025-010f-4eb5-8c17-27995e638042",
   "metadata": {},
   "source": [
    "\n",
    "\n",
    "对数正态分布的期望 (Expected Value) 为：\n",
    "\n",
    "$$E(X) = e^{\\mu + \\frac{\\sigma^2}{2}}$$\n",
    "\n",
    "\n",
    "对数正态分布的方差 (Variance) 为：\n",
    "\n",
    "$$Var(X) = (e^{\\sigma^2} - 1)e^{2\\mu + \\sigma^2}$$\n",
    "\n",
    "要推导出这个公式，可以利用以下关系：\n",
    "\n",
    "$$Var(X) = E(X^2) - [E(X)]^2$$\n",
    "\n",
    "其中，$E(X^2) = e^{2\\mu + 2\\sigma^2}$。\n"
   ]
  },
  {
   "cell_type": "markdown",
   "id": "7537add6-4875-4577-b880-c185220bd45a",
   "metadata": {},
   "source": [
    "Ref: https://en.wikipedia.org/wiki/Log-normal_distribution"
   ]
  },
  {
   "cell_type": "markdown",
   "id": "8b17a3ee-911e-40c6-a220-8adb1a4eaad0",
   "metadata": {},
   "source": [
    "## 2. Example"
   ]
  },
  {
   "cell_type": "markdown",
   "id": "9a3d29b9-9dbc-490e-b492-43443f9481d8",
   "metadata": {},
   "source": [
    "### Example1\n",
    "$z_t$ is a standard Brownian Motion, Please find $\\text{E}[e^{az_t}] $.\n",
    "\n",
    "因为 $z_t \\sim N(0, t)$，所以 $az_t \\sim N(0, a^2t)$。\n",
    "\n",
    "对于一个服从正态分布 $X \\sim N(\\mu, \\sigma^2)$ 的随机变量，其指数的期望 $\\text{E}[e^X]$ 为 $e^{\\mu + \\frac{1}{2}\\sigma^2}$。在这个问题中，$\\mu=0, \\sigma^2 = a^2t$，所以 $\\text{E}[e^{az_t}] = e^{0 + \\frac{1}{2}a^2t} = e^{\\frac{1}{2}a^2t}$"
   ]
  }
 ],
 "metadata": {
  "kernelspec": {
   "display_name": "Python 3 (ipykernel)",
   "language": "python",
   "name": "python3"
  },
  "language_info": {
   "codemirror_mode": {
    "name": "ipython",
    "version": 3
   },
   "file_extension": ".py",
   "mimetype": "text/x-python",
   "name": "python",
   "nbconvert_exporter": "python",
   "pygments_lexer": "ipython3",
   "version": "3.9.17"
  }
 },
 "nbformat": 4,
 "nbformat_minor": 5
}
