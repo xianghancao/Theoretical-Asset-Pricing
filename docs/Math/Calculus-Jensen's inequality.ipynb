{
 "cells": [
  {
   "cell_type": "markdown",
   "id": "0e56a898-1368-4439-a718-70bdc6174398",
   "metadata": {},
   "source": [
    "# Jensen's inequality"
   ]
  },
  {
   "cell_type": "markdown",
   "id": "cb90b114-60b3-4d83-96b9-eb7b152df20d",
   "metadata": {},
   "source": [
    "> **Definition(Jensen's inequality)**  \n",
    "> A function $U$ is strictly concave in the interval $I$ if for all $a,b\\in I$ and $\\lambda \\in (0,1)$, it holds that $$ u((1-\\lambda)a + \\lambda b ) > (1-\\lambda)u(a) + \\lambda u(b)$$\n"
   ]
  },
  {
   "cell_type": "markdown",
   "id": "79dd829f-7ce9-4273-8ab2-82d36ab18a0e",
   "metadata": {},
   "source": [
    "\n",
    "对于凹函数 $u'(c)$（因为 $u(c)$ 是凹的，$u'(c)$ 是单调下降的），Jensen 不等式表明：\n",
    "$$E[u'(c)] \\geq u'(E[c])$$\n",
    "由于 $u'(c)$ 是凹函数（如果 $u''(c) < 0$），严格的不等式通常成立，除非 $c$ 是常数。"
   ]
  },
  {
   "cell_type": "markdown",
   "id": "eecde181-9d2d-4e93-951f-f4709ae528da",
   "metadata": {},
   "source": []
  }
 ],
 "metadata": {
  "kernelspec": {
   "display_name": "Python 3 (ipykernel)",
   "language": "python",
   "name": "python3"
  },
  "language_info": {
   "codemirror_mode": {
    "name": "ipython",
    "version": 3
   },
   "file_extension": ".py",
   "mimetype": "text/x-python",
   "name": "python",
   "nbconvert_exporter": "python",
   "pygments_lexer": "ipython3",
   "version": "3.9.17"
  }
 },
 "nbformat": 4,
 "nbformat_minor": 5
}
