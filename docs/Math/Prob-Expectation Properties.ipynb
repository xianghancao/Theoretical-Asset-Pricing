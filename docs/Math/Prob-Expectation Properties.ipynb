{
 "cells": [
  {
   "cell_type": "markdown",
   "id": "d686b793-51c6-4322-a00e-4b850d5852d0",
   "metadata": {},
   "source": [
    "# 期望算子的线性性质"
   ]
  },
  {
   "cell_type": "markdown",
   "id": "6e79e777-ab86-40de-878d-53724231b641",
   "metadata": {},
   "source": [
    "期望算子的线性性质是概率论中一个非常重要的基本性质，它指的是：\n",
    "\n",
    "对于任意两个随机变量 $X$ 和 $Y$，以及任意两个常数 $a$ 和 $b$，期望算子 $E$ 满足以下性质：\n",
    "\n",
    "$E[aX + bY] = aE[X] + bE[Y]$\n",
    "\n",
    "这个性质可以分解成两个更基本的性质：\n",
    "\n",
    "1.  **常数倍性质 (Homogeneity)**: $E[aX] = aE[X]$\n",
    "    当随机变量乘以一个常数时，它的期望也乘以这个常数。\n",
    "2.  **加法性质 (Additivity)**: $E[X + Y] = E[X] + E[Y]$\n",
    "    两个随机变量的和的期望等于它们各自期望的和。\n",
    "\n",
    "结合这两个性质就得到了完整的线性性质。\n",
    "\n",
    "这个性质之所以重要，是因为它极大地简化了期望的计算。在许多情况下，我们不需要知道随机变量的具体分布，只要知道它们的期望，就可以计算出它们的线性组合的期望。\n",
    "\n",
    "举个简单的例子：假设你掷骰子，X 是第一次掷出的点数，Y 是第二次掷出的点数。\n",
    "\n",
    "* $E[X]$ 是掷一次骰子的期望，也就是 $(1+2+3+4+5+6)/6 = 3.5$。\n",
    "* $E[Y]$ 同样是 $3.5$。\n",
    "\n",
    "如果你想知道两次掷出的点数之和的期望，也就是 $E[X+Y]$，根据线性性质，我们知道：\n",
    "\n",
    "$E[X+Y] = E[X] + E[Y] = 3.5 + 3.5 = 7$\n",
    "\n",
    "而不需要去列出所有可能的和（2, 3, ..., 12）及其概率来计算。\n",
    "\n",
    "在金融数学中，这个性质尤其有用，比如在处理资产组合的期望收益时。如果一个投资组合由两种资产组成，其权重分别为 $w_1$ 和 $w_2$（其中 $w_1+w_2=1$），两种资产的收益率分别为 $R_1$ 和 $R_2$，那么投资组合的期望收益率 $E[R_p]$ 就是：\n",
    "\n",
    "$E[R_p] = E[w_1R_1 + w_2R_2] = w_1E[R_1] + w_2E[R_2]$\n",
    "\n",
    "这使得组合收益率的计算变得非常直接。"
   ]
  },
  {
   "cell_type": "markdown",
   "id": "1dcea783-b2b3-4caf-b620-3b9c09a46cc3",
   "metadata": {},
   "source": []
  }
 ],
 "metadata": {
  "kernelspec": {
   "display_name": "Python 3 (ipykernel)",
   "language": "python",
   "name": "python3"
  },
  "language_info": {
   "codemirror_mode": {
    "name": "ipython",
    "version": 3
   },
   "file_extension": ".py",
   "mimetype": "text/x-python",
   "name": "python",
   "nbconvert_exporter": "python",
   "pygments_lexer": "ipython3",
   "version": "3.9.17"
  }
 },
 "nbformat": 4,
 "nbformat_minor": 5
}
