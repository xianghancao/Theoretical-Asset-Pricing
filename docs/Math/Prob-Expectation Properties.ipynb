{
 "cells": [
  {
   "cell_type": "markdown",
   "id": "d686b793-51c6-4322-a00e-4b850d5852d0",
   "metadata": {},
   "source": [
    "# Prob: Expectation Properties"
   ]
  },
  {
   "cell_type": "markdown",
   "id": "6e79e777-ab86-40de-878d-53724231b641",
   "metadata": {},
   "source": [
    "### 期望算子的线性性质\n",
    "\n",
    "对于任意两个随机变量 $X$ 和 $Y$，以及任意两个常数 $a$ 和 $b$，期望算子 $E$ 满足以下性质：\n",
    "\n",
    "$$E[aX + bY] = aE[X] + bE[Y]$$\n"
   ]
  },
  {
   "cell_type": "markdown",
   "id": "1dcea783-b2b3-4caf-b620-3b9c09a46cc3",
   "metadata": {},
   "source": []
  }
 ],
 "metadata": {
  "kernelspec": {
   "display_name": "Python 3 (ipykernel)",
   "language": "python",
   "name": "python3"
  },
  "language_info": {
   "codemirror_mode": {
    "name": "ipython",
    "version": 3
   },
   "file_extension": ".py",
   "mimetype": "text/x-python",
   "name": "python",
   "nbconvert_exporter": "python",
   "pygments_lexer": "ipython3",
   "version": "3.9.17"
  }
 },
 "nbformat": 4,
 "nbformat_minor": 5
}
