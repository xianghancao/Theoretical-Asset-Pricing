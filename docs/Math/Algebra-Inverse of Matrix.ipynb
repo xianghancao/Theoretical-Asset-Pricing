{
 "cells": [
  {
   "cell_type": "markdown",
   "id": "c7828cc5-88cd-4bd0-bfd0-ddf1b8fe9ccb",
   "metadata": {},
   "source": [
    "# Inverse Algo"
   ]
  },
  {
   "cell_type": "markdown",
   "id": "dfa5a43a-df62-4912-aa74-2eb9bde402a1",
   "metadata": {},
   "source": [
    "代数余子式矩阵（adjoint matrix）是求矩阵逆时的重要步骤。对于一个 $ n \\times n $ 矩阵 $ A $，其代数余子式矩阵 $ \\text{adj}(A) $ 是由每个元素的代数余子式（algebraic cofactor）组成，并对其转置得到。"
   ]
  },
  {
   "cell_type": "markdown",
   "id": "fb869b77-33de-49c6-97d5-e54292edd592",
   "metadata": {},
   "source": [
    "假设我们有一个简单的 $ 2 \\times 2 $ 矩阵，如：\n",
    "$$A = \\begin{bmatrix} a & b \\\\ c & d \\end{bmatrix}$$\n",
    "\n",
    "行列式 $ \\det(A) = ad - bc $。\n",
    "\n",
    "对于矩阵 $ A $ 的元素 $ a_{ij} $，其代数余子式 $ C_{ij} = (-1)^{i+j} \\cdot \\det(M_{ij}) $，其中 $ M_{ij} $ 是删除第 $ i $ 行和第 $ j $ 列后的子矩阵的行列式。代数余子式：\n",
    "\n",
    "- $ C_{11} = (-1)^{1+1} \\cdot \\det(M_{11}) = d $  \n",
    "- $ C_{12} = (-1)^{1+2} \\cdot \\det(M_{12}) = -c $  \n",
    "- $ C_{21} = (-1)^{2+1} \\cdot \\det(M_{21}) = -b $  \n",
    "- $ C_{22} = (-1)^{2+2} \\cdot \\det(M_{22}) = a $  \n",
    "\n",
    "\n",
    "余子式矩阵：$\\begin{bmatrix} d & -c \\\\ -b & a \\end{bmatrix}$。  \n",
    "伴随矩阵（转置）：$\\text{adj}(A) = \\begin{bmatrix} d & -b \\\\ -c & a \\end{bmatrix}$。  \n",
    "逆矩阵：$ A^{-1} = \\frac{1}{ad - bc} \\cdot \\begin{bmatrix} d & -b \\\\ -c & a   \\end{bmatrix} $（若 $ ad - bc \\neq 0 $）。"
   ]
  }
 ],
 "metadata": {
  "kernelspec": {
   "display_name": "Python 3 (ipykernel)",
   "language": "python",
   "name": "python3"
  },
  "language_info": {
   "codemirror_mode": {
    "name": "ipython",
    "version": 3
   },
   "file_extension": ".py",
   "mimetype": "text/x-python",
   "name": "python",
   "nbconvert_exporter": "python",
   "pygments_lexer": "ipython3",
   "version": "3.9.17"
  }
 },
 "nbformat": 4,
 "nbformat_minor": 5
}
