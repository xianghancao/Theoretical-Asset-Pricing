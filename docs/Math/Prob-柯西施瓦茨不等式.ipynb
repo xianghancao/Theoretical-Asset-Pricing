{
 "cells": [
  {
   "cell_type": "markdown",
   "id": "cbc3ca6f-8a86-48a4-b738-e9cc1987d24d",
   "metadata": {},
   "source": [
    "# 柯西施瓦茨不等式"
   ]
  },
  {
   "cell_type": "markdown",
   "id": "4a069e7c-6809-46af-aee6-07dda56d30fe",
   "metadata": {},
   "source": [
    "柯西施瓦茨不等式:\n",
    "$$|cov[x, z]| \\le \\sigma[x]\\sigma[z]$$"
   ]
  },
  {
   "cell_type": "markdown",
   "id": "a925cc1d-57ef-44c7-81bc-e4c6e6dac3a3",
   "metadata": {},
   "source": []
  }
 ],
 "metadata": {
  "kernelspec": {
   "display_name": "Python 3 (ipykernel)",
   "language": "python",
   "name": "python3"
  },
  "language_info": {
   "codemirror_mode": {
    "name": "ipython",
    "version": 3
   },
   "file_extension": ".py",
   "mimetype": "text/x-python",
   "name": "python",
   "nbconvert_exporter": "python",
   "pygments_lexer": "ipython3",
   "version": "3.9.17"
  }
 },
 "nbformat": 4,
 "nbformat_minor": 5
}
