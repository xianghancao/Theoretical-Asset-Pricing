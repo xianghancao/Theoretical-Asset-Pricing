{
 "cells": [
  {
   "cell_type": "markdown",
   "id": "f755e7c8-43a1-4b3a-9f27-503ccca74e46",
   "metadata": {},
   "source": [
    "# Product rule"
   ]
  },
  {
   "cell_type": "markdown",
   "id": "ba80c46e-b4ad-4ad1-8762-26046142b2b6",
   "metadata": {},
   "source": [
    "乘机法则：\n",
    "$$ $$ "
   ]
  }
 ],
 "metadata": {
  "kernelspec": {
   "display_name": "Python 3 (ipykernel)",
   "language": "python",
   "name": "python3"
  },
  "language_info": {
   "codemirror_mode": {
    "name": "ipython",
    "version": 3
   },
   "file_extension": ".py",
   "mimetype": "text/x-python",
   "name": "python",
   "nbconvert_exporter": "python",
   "pygments_lexer": "ipython3",
   "version": "3.9.17"
  }
 },
 "nbformat": 4,
 "nbformat_minor": 5
}
