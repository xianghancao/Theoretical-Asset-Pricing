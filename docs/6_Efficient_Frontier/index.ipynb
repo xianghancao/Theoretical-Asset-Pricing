{
 "cells": [
  {
   "cell_type": "markdown",
   "id": "719c7ca3-4a59-4f65-95ba-05bfdc86c4cf",
   "metadata": {},
   "source": [
    "# 6 Efficient Frontier"
   ]
  },
  {
   "cell_type": "markdown",
   "id": "74f03dec-5f04-4ff3-aad8-b44579eade6a",
   "metadata": {},
   "source": [
    "## Key Takeaways\n",
    "\n",
    "1. Portfolio Frontier: Derived analytically by minimizing variance for a given expected return, resulting in optimal weights $ w^* = a + b E[r_p] $.\n",
    "2. Portfolio Separation: Any frontier portfolio can be constructed from two frontier portfolios, simplifying portfolio choice.\n",
    "3. Efficient Frontier: Convex combinations of efficient portfolios (returns above the MVP) remain efficient.\n",
    "4. Risk-Free Asset: Introduces a linear frontier in mean-standard deviation space, aligning with CAPM’s capital allocation line.\n",
    "5. CAPM Foundation: The tangency portfolio and linear frontier provide the theoretical basis for CAPM’s market portfolio and security market line."
   ]
  },
  {
   "cell_type": "markdown",
   "id": "a10a9cc6-d479-445c-9158-0a8fdbccfa78",
   "metadata": {},
   "source": []
  }
 ],
 "metadata": {
  "kernelspec": {
   "display_name": "Python 3 (ipykernel)",
   "language": "python",
   "name": "python3"
  },
  "language_info": {
   "codemirror_mode": {
    "name": "ipython",
    "version": 3
   },
   "file_extension": ".py",
   "mimetype": "text/x-python",
   "name": "python",
   "nbconvert_exporter": "python",
   "pygments_lexer": "ipython3",
   "version": "3.9.17"
  }
 },
 "nbformat": 4,
 "nbformat_minor": 5
}
