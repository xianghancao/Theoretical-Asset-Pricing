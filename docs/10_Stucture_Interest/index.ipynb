{
 "cells": [
  {
   "cell_type": "markdown",
   "id": "951c1c98-0ccd-4aff-b657-f49c6a040082",
   "metadata": {},
   "source": [
    "# 10 The Term Structure of Interest Rates"
   ]
  },
  {
   "cell_type": "markdown",
   "id": "a71b9926-5617-440e-b91a-4a210dda86a4",
   "metadata": {},
   "source": []
  }
 ],
 "metadata": {
  "kernelspec": {
   "display_name": "Python 3 (ipykernel)",
   "language": "python",
   "name": "python3"
  },
  "language_info": {
   "codemirror_mode": {
    "name": "ipython",
    "version": 3
   },
   "file_extension": ".py",
   "mimetype": "text/x-python",
   "name": "python",
   "nbconvert_exporter": "python",
   "pygments_lexer": "ipython3",
   "version": "3.9.17"
  }
 },
 "nbformat": 4,
 "nbformat_minor": 5
}
