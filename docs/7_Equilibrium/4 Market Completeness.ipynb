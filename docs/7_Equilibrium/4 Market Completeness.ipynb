{
 "cells": [
  {
   "cell_type": "markdown",
   "id": "b970eaa7-3dd1-4177-9b45-e74c3a1449f1",
   "metadata": {},
   "source": [
    "# Market Completeness"
   ]
  },
  {
   "cell_type": "markdown",
   "id": "4c67b663-6eae-41df-9f99-7cc81e0e59ba",
   "metadata": {},
   "source": [
    "## 1. Definition"
   ]
  },
  {
   "cell_type": "markdown",
   "id": "f5a7b0e8-3fd5-4f4e-ada3-5d9673662f99",
   "metadata": {},
   "source": [
    "### 1.1 Market is complete $\\Rightarrow$ Pareto-optimal"
   ]
  },
  {
   "cell_type": "markdown",
   "id": "591e7268-1b37-49f5-afe3-8b88095c6203",
   "metadata": {},
   "source": [
    "> **Theorem (First Welfare Theorem)**  \n",
    "> *If the financial market is complete, then every equilibrium consumption allocation is Pareto-optimal.*\n",
    "\n",
    "\n",
    "<center><b> Market is complete $\\Rightarrow$ Pareto-optimal</b></center>\n",
    "\n",
    "In a complete market, the state-price deflator is unique, meaning the marginal rate of substitution is the same for all individuals, leading to efficient risk-sharing.\n"
   ]
  },
  {
   "cell_type": "markdown",
   "id": "92d9ac7e-0205-4b40-907d-09a10a04ca13",
   "metadata": {},
   "source": [
    "### 1.2 Market is complete $\\Rightarrow$ A representative individual"
   ]
  },
  {
   "cell_type": "markdown",
   "id": "0fa0605f-f5e0-44c3-9739-fea61b16225d",
   "metadata": {},
   "source": [
    ">**Theorem (Representative Individual in Complete Markets)**  \n",
    "> *If the financial market is complete, the economy has a representative individual.*\n",
    "\n",
    "<center><b> Market is complete $\\Rightarrow$ A representative individual</b></center>"
   ]
  },
  {
   "cell_type": "markdown",
   "id": "d5bb4abf-e119-44fe-acec-3944c1a6a89d",
   "metadata": {},
   "source": [
    "### 1.3 Effectively Complete Markets\n",
    "\n",
    "A market is effectively complete if every Pareto-optimal consumption allocation can be obtained by trading in the available assets. \n",
    "\n",
    "If an Arrow-Debreu style asset can be formed for every possible value of aggregate consumption, the market is effectively complete. This means risk beyond aggregate consumption risk (or \"market risk\") is diversified away and carries no premium.\n"
   ]
  },
  {
   "cell_type": "markdown",
   "id": "2753d558-2069-4ba7-8b7d-20dabf53c329",
   "metadata": {},
   "source": [
    "### 1.4 HARA Utility\n",
    "> **Theorem (HARA Utility)**    \n",
    "> *Even if the market is incomplete, if individuals have time-additive HARA utility functions with identical risk cautiousness, and a risk-free asset is traded, and endowments are spanned by traded assets, the equilibrium is Pareto-optimal and has a representative individual. In this case, individual consumption is a strictly increasing affine function of aggregate consumption.*"
   ]
  },
  {
   "cell_type": "markdown",
   "id": "08f25d81-0fc2-4411-9e38-417de9662207",
   "metadata": {},
   "source": [
    "$$\n",
    "\\left.\n",
    "  \\begin{array}{l}\n",
    "    \\text{Market is incomplete} \\\\\n",
    "    \\text{Time-additive HARA utility} \\\\\n",
    "    \\text{Identical risk cautiousness} \\\\\n",
    "    \\text{Risk-free asset is traded}\n",
    "  \\end{array}\n",
    "\\right\\}\n",
    "\\Rightarrow   \\text{Pareto-optimal} \\Rightarrow \\text{A representative individual}\n",
    "$$"
   ]
  },
  {
   "cell_type": "markdown",
   "id": "c49180da-e3d5-4158-ab85-40ae2a209f8b",
   "metadata": {},
   "source": []
  }
 ],
 "metadata": {
  "kernelspec": {
   "display_name": "Python 3 (ipykernel)",
   "language": "python",
   "name": "python3"
  },
  "language_info": {
   "codemirror_mode": {
    "name": "ipython",
    "version": 3
   },
   "file_extension": ".py",
   "mimetype": "text/x-python",
   "name": "python",
   "nbconvert_exporter": "python",
   "pygments_lexer": "ipython3",
   "version": "3.9.17"
  }
 },
 "nbformat": 4,
 "nbformat_minor": 5
}
