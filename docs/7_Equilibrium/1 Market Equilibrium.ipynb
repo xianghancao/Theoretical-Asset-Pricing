{
 "cells": [
  {
   "cell_type": "markdown",
   "id": "73caefd0-39e9-4765-9446-ee3ee73d7b30",
   "metadata": {},
   "source": [
    "# Market Equilibrium"
   ]
  },
  {
   "cell_type": "markdown",
   "id": "20b0b139-d1ba-44e4-919a-8baa0aac33c0",
   "metadata": {},
   "source": [
    "## 1. Definition"
   ]
  },
  {
   "cell_type": "markdown",
   "id": "8a754942-31f2-4ded-935d-d2813f9562c5",
   "metadata": {},
   "source": [
    "An equilibrium consists of a price vector $P$ and portfolios $\\theta^{l}$ for each individual $l$ such that:\n",
    "1.  Each individual's portfolio $\\theta^{l}$ is **optimal** given $P$.\n",
    "2.  **Markets clear**, meaning the sum of all individual net trades in each asset is zero ($\\sum_{l=1}^{L}\\theta_{i}^{l}=0$)."
   ]
  },
  {
   "cell_type": "markdown",
   "id": "b0cfb3b2-6f0e-4ae2-a8f1-6b2f3de9ee48",
   "metadata": {},
   "source": []
  }
 ],
 "metadata": {
  "kernelspec": {
   "display_name": "Python 3 (ipykernel)",
   "language": "python",
   "name": "python3"
  },
  "language_info": {
   "codemirror_mode": {
    "name": "ipython",
    "version": 3
   },
   "file_extension": ".py",
   "mimetype": "text/x-python",
   "name": "python",
   "nbconvert_exporter": "python",
   "pygments_lexer": "ipython3",
   "version": "3.9.17"
  }
 },
 "nbformat": 4,
 "nbformat_minor": 5
}
