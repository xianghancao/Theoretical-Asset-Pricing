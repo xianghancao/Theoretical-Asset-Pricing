{
 "cells": [
  {
   "cell_type": "markdown",
   "id": "73caefd0-39e9-4765-9446-ee3ee73d7b30",
   "metadata": {},
   "source": [
    "# Conditions of Equilibrium"
   ]
  },
  {
   "cell_type": "markdown",
   "id": "20b0b139-d1ba-44e4-919a-8baa0aac33c0",
   "metadata": {},
   "source": [
    "## 1. Definition"
   ]
  },
  {
   "cell_type": "markdown",
   "id": "b0cfb3b2-6f0e-4ae2-a8f1-6b2f3de9ee48",
   "metadata": {},
   "source": [
    "### 1.1 均衡的定义与核心条件 (Definition and Core Conditions of Equilibrium)\n",
    "\n",
    "一个**均衡**（Equilibrium）由一个资产价格向量 $P$ 和每个个体 $l$ 的投资组合 $\\theta^{l}$ 构成，并必须满足以下两个核心条件：\n",
    "\n",
    "1.  **个体投资组合的最优化 (Optimality of Individual Portfolios):**\n",
    "    对于每一个个体 $l=1,...,L$，其选择的投资组合 $\\theta^{l}$ 在给定资产价格 $P$ 下是**最优的** 。\n",
    "    * **核心含义：** 这意味着每个个体都在其**预算约束**下，选择了一个能够**最大化其效用** $\\mathcal{U}_{l}$ 的消费和投资计划 。在均衡价格下，个体找不到任何其他能负担得起的投资组合能让他们感觉更好 。\n",
    "\n",
    "2.  **市场出清 (Market Clearing):**\n",
    "    所有资产的市场都出清，即所有个体在每种资产上的净交易之和必须为零 。\n",
    "    * **核心含义：** $\\sum_{l=1}^{L}\\theta_{i}^{l}=0$ 对于所有资产 $i=1,...,I$ 都成立 。这保证了在给定的价格下，市场上对每种资产的总需求等于总供给（在净供给为零的假设下）。\n",
    "\n",
    "---\n",
    "\n",
    "### 1.2 对应均衡的消费分配 (Corresponding Equilibrium Consumption Allocation)\n",
    "\n",
    "满足上述条件的均衡会产生一个相应的**均衡消费分配** $(c_{0}^{l}, c^{l})$ ，其定义为：\n",
    "\n",
    "* **当前消费 ($t=0$):** $c_{0}^{l}=e_{0}^{l}-\\theta^{l}\\cdot P$\n",
    "    * 个体 $l$ 的当前消费等于其初始禀赋 $e_{0}^{l}$ 减去购买投资组合 $\\theta^{l}$ 的花费 。\n",
    "* **未来消费 ($t=1$):** $c_{\\omega}^{l}=e_{\\omega}^{l}+D_{\\omega}^{\\theta^{l}}$\n",
    "    * 个体 $l$ 在状态 $\\omega$ 下的未来消费等于其未来禀赋 $e_{\\omega}^{l}$ 加上投资组合 $\\theta^{l}$ 在该状态下的分红（回报）$D_{\\omega}^{\\theta^{l}}$ 。\n",
    "\n",
    "简而言之，**均衡**是价格 $P$ 和交易量 $\\theta^{l}$ 的组合，使得所有人都做出了**最理性**的选择（最优化），同时市场上**没有未满足的需求或过剩的供给**（市场出清）。"
   ]
  }
 ],
 "metadata": {
  "kernelspec": {
   "display_name": "Python 3 (ipykernel)",
   "language": "python",
   "name": "python3"
  },
  "language_info": {
   "codemirror_mode": {
    "name": "ipython",
    "version": 3
   },
   "file_extension": ".py",
   "mimetype": "text/x-python",
   "name": "python",
   "nbconvert_exporter": "python",
   "pygments_lexer": "ipython3",
   "version": "3.9.17"
  }
 },
 "nbformat": 4,
 "nbformat_minor": 5
}
