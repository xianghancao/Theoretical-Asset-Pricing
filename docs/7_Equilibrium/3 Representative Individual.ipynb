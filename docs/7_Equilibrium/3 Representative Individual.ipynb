{
 "cells": [
  {
   "cell_type": "markdown",
   "id": "29e30504-97d2-4416-870a-906a724113b2",
   "metadata": {},
   "source": [
    "# Representative Individual"
   ]
  },
  {
   "cell_type": "markdown",
   "id": "fca9a2e8-775b-4565-8b01-8d2a131e5cee",
   "metadata": {},
   "source": [
    "## 1. Definition\n",
    "### 1.1 A Representative Individual\n",
    "An economy has a **representative individual** if, for each equilibrium, there is a vector $\\eta$ such that the equilibrium asset prices are the same in the economy with the $L$ individuals and in an economy with a single individual whose utility is $\\mathcal{U}_{\\eta}$ and whose endowment is the aggregate endowment $(\\overline{e}_{0},\\overline{e})$.\n",
    "\n"
   ]
  },
  {
   "cell_type": "markdown",
   "id": "8ef1b75c-b0c9-429b-a526-2bb99d2f9e8e",
   "metadata": {},
   "source": [
    "如果对经济中的每个均衡，都存在一个权重向量 $\\eta$，使得拥有单一效用函数为 $\\mathcal{U}_{\\eta}$、禀赋为聚合禀赋 $(\\overline{e}_{0},\\overline{e})$ 的个体（即**代表性个体**）的经济中，均衡资产价格保持不变。"
   ]
  },
  {
   "cell_type": "markdown",
   "id": "264ef53d-2c2c-478c-a26c-4b805971ea88",
   "metadata": {},
   "source": [
    "\n",
    "> **Theorem 7.3**  \n",
    "> *If the equilibrium consumption allocation is **Pareto-optimal**, the economy has a representative individual.*\n",
    "\n",
    "<center><b>Pareto-optimal $\\Rightarrow$ Representative individual</b></center>\n",
    "\n"
   ]
  },
  {
   "cell_type": "markdown",
   "id": "5ca64b8f-6188-4cbc-9e95-593815f4c438",
   "metadata": {},
   "source": [
    "\n",
    "\n",
    "Optimal Consumption and Aggregate Consumption (Theorem 7.2):** For any Pareto-optimal consumption allocation, the consumption of any individual will be a **strictly increasing function of aggregate consumption** ($c^{l}=f_{l}(C)$)."
   ]
  },
  {
   "cell_type": "markdown",
   "id": "2b735a8e-dca2-426d-9ea2-0b918c519794",
   "metadata": {},
   "source": [
    "### 1.2 The unique state-price deflator \n",
    "\n",
    "In a complete market, the unique state-price deflator $\\zeta_{\\omega}$ can be found by evaluating the derivative of the representative individual's utility function at the aggregate endowment:\n",
    "    $$\\zeta_{\\omega}=\\frac{u_{\\eta,1}^{\\prime}(\\overline{e}_{\\omega})}{u_{\\eta,0}^{\\prime}(\\overline{e}_{0})}$$\n"
   ]
  },
  {
   "cell_type": "markdown",
   "id": "f33ae73a-3275-4e77-8c64-a48a254021a3",
   "metadata": {},
   "source": []
  }
 ],
 "metadata": {
  "kernelspec": {
   "display_name": "Python 3 (ipykernel)",
   "language": "python",
   "name": "python3"
  },
  "language_info": {
   "codemirror_mode": {
    "name": "ipython",
    "version": 3
   },
   "file_extension": ".py",
   "mimetype": "text/x-python",
   "name": "python",
   "nbconvert_exporter": "python",
   "pygments_lexer": "ipython3",
   "version": "3.9.17"
  }
 },
 "nbformat": 4,
 "nbformat_minor": 5
}
