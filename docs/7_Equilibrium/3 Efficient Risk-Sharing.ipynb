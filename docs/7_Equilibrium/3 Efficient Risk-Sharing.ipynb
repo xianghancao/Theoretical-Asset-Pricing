{
 "cells": [
  {
   "cell_type": "markdown",
   "id": "bb29c52b-3219-4137-bc01-4f7bcc01fa8b",
   "metadata": {},
   "source": [
    "# Efficient Risk-Sharing"
   ]
  },
  {
   "cell_type": "markdown",
   "id": "42a1e48c-384d-404b-a910-0e92318f0235",
   "metadata": {},
   "source": [
    "**高效风险分担 (Efficient Risk-Sharing)** 是帕累托最优均衡的一个核心特征，它描述了风险是如何在经济中的所有个体之间分配的 。\n",
    "\n",
    "---\n",
    "\n",
    "## 1. Definition\n",
    "\n",
    "一个均衡展现出**高效风险分担**，意味着在每一个未来状态 $\\omega$ 下，所有个体都拥有**相同的边际替代率 (Marginal Rate of Substitution, MRS)** 。\n",
    "\n",
    "用更直白的话来说，这意味着：\n",
    "\n",
    "* **风险的边际价值相等：** 每个人对**跨期或跨状态**转移一单位财富（或消费）所获得的边际价值是相同的 。\n",
    "* **不存有互惠交易机会：** 如果所有人的 MRS 都不相同，就说明存在着一个交易机会：某人愿意用某种状态 $\\omega$ 的消费换取更多另一种状态 $\\omega'$ 的消费，而另一个人则正好反过来。通过进行这种交易，双方都能在不损害对方利益的情况下改善自己的境况。当 MRS **相等**时，这种互惠改善的交易机会就消失了 。\n",
    "* **统一的定价：** 在一个高效风险分担的均衡中，由不同个体最优消费计划所推导出的**状态价格折现因子 (State-Price Deflators, SPD)** 是**完全相同**的 。\n",
    "\n",
    "### 效用函数下的表达\n",
    "\n",
    "如果个体具有时间可加的预期效用 (Time-Additive Expected Utility) ，那么高效风险分担意味着对于任意两个个体 $k$ 和 $l$，以及任意状态 $\\omega$，都有 ：\n",
    "\n",
    "$$e^{-\\delta_{k}}\\frac{u_{k}^{\\prime}(\\mathcal{c}_{\\omega}^{k})}{u_{k}^{\\prime}(\\mathcal{c}_{0}^{k})}=e^{-\\delta_{l}}\\frac{u_{l}^{\\prime}(\\mathcal{c}_{\\omega}^{l})}{u_{l}^{\\prime}(\\mathcal{c}_{0}^{l})}$$\n",
    "\n",
    "其中:\n",
    "* $u^{\\prime}(\\cdot)$ 是边际效用 (Marginal Utility) 。\n",
    "* $c_{0}$ 是当前消费 。\n",
    "* $c_{\\omega}$ 是状态 $\\omega$ 下的未来消费 。\n",
    "* $e^{-\\delta}$ 是时间偏好因子 。\n",
    "\n",
    "### 核心结论\n",
    "\n",
    "**一个可行的消费分配是帕累托最优的，当且仅当个体有效率地分担了总风险，即他们的边际替代率是相同的** 。\n",
    "\n",
    "因此，高效风险分担是判断一个市场均衡是否实现**社会效率**的决定性标准 。"
   ]
  },
  {
   "cell_type": "markdown",
   "id": "8a637fa1-ad4d-4b03-bdd7-6a6602cd2b67",
   "metadata": {},
   "source": []
  }
 ],
 "metadata": {
  "kernelspec": {
   "display_name": "Python 3 (ipykernel)",
   "language": "python",
   "name": "python3"
  },
  "language_info": {
   "codemirror_mode": {
    "name": "ipython",
    "version": 3
   },
   "file_extension": ".py",
   "mimetype": "text/x-python",
   "name": "python",
   "nbconvert_exporter": "python",
   "pygments_lexer": "ipython3",
   "version": "3.9.17"
  }
 },
 "nbformat": 4,
 "nbformat_minor": 5
}
