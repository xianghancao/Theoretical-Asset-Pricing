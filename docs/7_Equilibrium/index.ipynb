{
 "cells": [
  {
   "cell_type": "markdown",
   "id": "bd9c5151-72e4-4dff-a071-f941e6d0d2a5",
   "metadata": {},
   "source": [
    "# 7 Equilibrium"
   ]
  },
  {
   "cell_type": "markdown",
   "id": "dbb1009c-dd7a-44c3-bf38-92d573639ddb",
   "metadata": {},
   "source": []
  }
 ],
 "metadata": {
  "kernelspec": {
   "display_name": "Python 3 (ipykernel)",
   "language": "python",
   "name": "python3"
  },
  "language_info": {
   "codemirror_mode": {
    "name": "ipython",
    "version": 3
   },
   "file_extension": ".py",
   "mimetype": "text/x-python",
   "name": "python",
   "nbconvert_exporter": "python",
   "pygments_lexer": "ipython3",
   "version": "3.9.17"
  }
 },
 "nbformat": 4,
 "nbformat_minor": 5
}
