{
 "cells": [
  {
   "cell_type": "markdown",
   "id": "db82b595-87ce-458c-8dc1-ca0055e7fa0a",
   "metadata": {},
   "source": [
    "# Pareto-Optimality"
   ]
  },
  {
   "cell_type": "markdown",
   "id": "72dcb4b5-8fac-4b17-91c9-f49cd7d31045",
   "metadata": {},
   "source": [
    "## 1. Defintion\n"
   ]
  },
  {
   "cell_type": "markdown",
   "id": "8926c350-0e4d-46b8-997e-19f0836a844a",
   "metadata": {},
   "source": [
    "### 1.1 Pareto-optimal\n",
    "A consumption allocation is **Pareto-optimal** if it is feasible and no other feasible consumption plan can make at least one individual strictly better off without making any other individual worse off.\n",
    "\n",
    "一个消费配置被称为帕累托最优 ，如果它是可行的 ，并且不存在另一个可行的消费计划能使所有个体的效用至少与原配置相同，且至少有一人严格更高 \n",
    "\n"
   ]
  },
  {
   "cell_type": "markdown",
   "id": "ae1c9ce1-ce5b-4ef4-b5aa-279a9028e159",
   "metadata": {},
   "source": [
    "### 1.2 Second Welfare Theorem"
   ]
  },
  {
   "cell_type": "markdown",
   "id": "d2e99ca9-17cf-4bb4-bed8-ff685dfc1cbf",
   "metadata": {},
   "source": [
    "> **Theorem (Second Welfare Theorem)**  \n",
    "> *Any Pareto-optimal consumption allocation can be achieved by maximizing a **linear combination of individual utilities** (the \"central planner's problem\") for a strictly positive weighting vector $\\eta$.*\n",
    "\n"
   ]
  },
  {
   "cell_type": "markdown",
   "id": "896b28c3-b80d-40ac-b7bd-dca9098a5e51",
   "metadata": {},
   "source": [
    "第二福利定理（Theorem 7.1）：** 给定任何帕累托最优消费配置，存在一个严格为正的权重向量 $\\eta=(\\eta_{1},...,\\eta_{L})^{\\top}$ [cite: 42][cite_start]，使得该配置最大化**个体效用线性组合**（即中央计划者问题 $\\mathcal{U}_{\\eta}$）"
   ]
  },
  {
   "cell_type": "markdown",
   "id": "51feb524-6fcf-4185-84b2-d9bf489776fc",
   "metadata": {},
   "source": [
    "### 1.3 Efficient Risk-Sharing"
   ]
  },
  {
   "cell_type": "markdown",
   "id": "bb327493-8686-4c79-bf54-d92704243575",
   "metadata": {},
   "source": [
    "A feasible consumption allocation is Pareto-optimal if and only if a weighting vector $\\eta$ exists such that the **marginal rates of substitution** across time and states are equalized across all individuals. This property is known as efficient risk-sharing.\n",
    "\n",
    "Specifically, $$\\frac{\\frac{\\partial \\mathcal{U}_{k}}{\\partial c_{\\omega}^{k}}}{\\frac{\\partial \\mathcal{U}_{k}}{\\partial c_{0}^{k}}}=\\frac{\\frac{\\partial \\mathcal{U}_{l}}{\\partial c_{\\omega}^{l}}}{\\frac{\\partial \\mathcal{U}_{l}}{\\partial c_{0}^{l}}}$$ for any two individuals $k$ and $l$.\n"
   ]
  },
  {
   "cell_type": "markdown",
   "id": "222a1948-f484-46db-9143-83569e6532e5",
   "metadata": {},
   "source": []
  }
 ],
 "metadata": {
  "kernelspec": {
   "display_name": "Python 3 (ipykernel)",
   "language": "python",
   "name": "python3"
  },
  "language_info": {
   "codemirror_mode": {
    "name": "ipython",
    "version": 3
   },
   "file_extension": ".py",
   "mimetype": "text/x-python",
   "name": "python",
   "nbconvert_exporter": "python",
   "pygments_lexer": "ipython3",
   "version": "3.9.17"
  }
 },
 "nbformat": 4,
 "nbformat_minor": 5
}
