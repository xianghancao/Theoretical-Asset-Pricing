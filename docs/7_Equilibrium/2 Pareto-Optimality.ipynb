{
 "cells": [
  {
   "cell_type": "markdown",
   "id": "db82b595-87ce-458c-8dc1-ca0055e7fa0a",
   "metadata": {},
   "source": [
    "# Pareto-Optimality"
   ]
  },
  {
   "cell_type": "markdown",
   "id": "72dcb4b5-8fac-4b17-91c9-f49cd7d31045",
   "metadata": {},
   "source": [
    "## 1. Defintion\n"
   ]
  },
  {
   "cell_type": "markdown",
   "id": "8926c350-0e4d-46b8-997e-19f0836a844a",
   "metadata": {},
   "source": [
    "### 1.1 Pareto-optimal\n",
    "A consumption allocation is **Pareto-optimal** if it is feasible and no other feasible consumption plan can make at least one individual strictly better off without making any other individual worse off.\n",
    "\n",
    "一个消费配置被称为帕累托最优 ，如果它是可行的 ，并且不存在另一个可行的消费计划能使所有个体的效用至少与原配置相同，且至少有一人严格更高 \n",
    "\n"
   ]
  },
  {
   "cell_type": "markdown",
   "id": "93bfa0b5-c5e8-4a1b-8452-219a14fc3d10",
   "metadata": {},
   "source": [
    "### 1.2 Conditions of Pareto-optimal"
   ]
  },
  {
   "cell_type": "markdown",
   "id": "3978c0f7-f692-4f08-8bcf-2f2f88784086",
   "metadata": {},
   "source": [
    "\"Pareto-optimal\"（帕累托最优）是经济学中的一个核心概念，用于评估一个资源的分配状态。\n",
    "\n",
    "一个**消费分配**（consumption allocation）被称为是**帕累托最优的**，如果它满足以下两个条件 ：\n",
    "\n",
    "1.  **可行性 (Feasibility):** 这是一个前提条件，即所有的分配必须是可行的，总的分配量不能超过总的禀赋（Aggregate Endowments）.\n",
    "    * $\\sum_{l=1}^{L}c_{0}^{l}\\le\\overline{e}_{0}$ (当前消费总和 $\\le$ 当前总禀赋) \n",
    "    * $\\sum_{l=1}^{L}c_{\\omega}^{l}\\le\\overline{e}_{\\omega}$ (未来状态 $\\omega$ 的消费总和 $\\le$ 未来状态 $\\omega$ 的总禀赋) \n",
    "\n",
    "2.  **无可改进性 (No Improvement Possible):** 在该分配状态下，**不存在**任何其他**可行**的消费计划 $\\left\\{(\\hat{c}_{0}^{1},\\hat{c}^{1}),...,(\\hat{c}_{0}^{L},\\hat{c}^{L})\\right\\}$  能够做到：\n",
    "    * **使至少一个人的效用提高** ($\\mathcal{U}_{l}(\\hat{c}_{0}^{l},\\hat{c}^{l}) > \\mathcal{U}_{l}(c_{0}^{l},\\mathfrak{c}^{l})$ for some $l$) 。\n",
    "    * **同时不损害任何其他人的效用** ($\\mathcal{U}_{k}(\\hat{c}_{0}^{k},\\hat{c}^{k}) \\ge \\mathcal{U}_{k}(c_{0}^{k},\\mathfrak{c}^{k})$ for all other $k$) 。\n",
    "\n",
    "简单来说：\n",
    "\n",
    "> **帕累托最优**是指在不损害任何其他人利益的前提下，无法再通过重新分配资源来使任何一个个体变得更好的状态。 \n"
   ]
  },
  {
   "cell_type": "markdown",
   "id": "ae1c9ce1-ce5b-4ef4-b5aa-279a9028e159",
   "metadata": {},
   "source": [
    "### 1.2 Second Welfare Theorem"
   ]
  },
  {
   "cell_type": "markdown",
   "id": "d2e99ca9-17cf-4bb4-bed8-ff685dfc1cbf",
   "metadata": {},
   "source": [
    "> **Theorem (Second Welfare Theorem)**  \n",
    "> *Any Pareto-optimal consumption allocation can be achieved by maximizing a **linear combination of individual utilities** (the \"central planner's problem\") for a strictly positive weighting vector $\\eta$.*\n",
    "\n"
   ]
  },
  {
   "cell_type": "markdown",
   "id": "896b28c3-b80d-40ac-b7bd-dca9098a5e51",
   "metadata": {},
   "source": [
    "第二福利定理（Theorem 7.1）：** 给定任何帕累托最优消费配置，存在一个严格为正的权重向量 $\\eta=(\\eta_{1},...,\\eta_{L})^{\\top}$ ，使得该配置最大化**个体效用线性组合**（即中央计划者问题 $\\mathcal{U}_{\\eta}$）"
   ]
  }
 ],
 "metadata": {
  "kernelspec": {
   "display_name": "Python 3 (ipykernel)",
   "language": "python",
   "name": "python3"
  },
  "language_info": {
   "codemirror_mode": {
    "name": "ipython",
    "version": 3
   },
   "file_extension": ".py",
   "mimetype": "text/x-python",
   "name": "python",
   "nbconvert_exporter": "python",
   "pygments_lexer": "ipython3",
   "version": "3.9.17"
  }
 },
 "nbformat": 4,
 "nbformat_minor": 5
}
