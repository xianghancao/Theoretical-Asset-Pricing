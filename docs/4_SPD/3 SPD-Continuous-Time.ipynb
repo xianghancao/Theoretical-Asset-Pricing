{
 "cells": [
  {
   "cell_type": "markdown",
   "id": "054e3bbf-44a4-4852-8710-09be8278d33c",
   "metadata": {},
   "source": [
    "# State-price Deflator: Continuous-Time "
   ]
  },
  {
   "cell_type": "markdown",
   "id": "fdffa6f0-d93b-415f-9a23-564cf3ee6ac8",
   "metadata": {},
   "source": []
  }
 ],
 "metadata": {
  "kernelspec": {
   "display_name": "Python 3 (ipykernel)",
   "language": "python",
   "name": "python3"
  },
  "language_info": {
   "codemirror_mode": {
    "name": "ipython",
    "version": 3
   },
   "file_extension": ".py",
   "mimetype": "text/x-python",
   "name": "python",
   "nbconvert_exporter": "python",
   "pygments_lexer": "ipython3",
   "version": "3.9.17"
  }
 },
 "nbformat": 4,
 "nbformat_minor": 5
}
