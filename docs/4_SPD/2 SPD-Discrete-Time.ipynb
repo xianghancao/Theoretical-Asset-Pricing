{
 "cells": [
  {
   "cell_type": "markdown",
   "id": "e60282d3-b0e3-4baa-bd30-d75ee6be5022",
   "metadata": {},
   "source": [
    "# SPD: Discrete-Time "
   ]
  },
  {
   "cell_type": "markdown",
   "id": "c6f5bfe7-690c-4cb3-aa82-93fe0a1ec8b3",
   "metadata": {},
   "source": [
    "## 1. Definition"
   ]
  },
  {
   "cell_type": "markdown",
   "id": "5e25d523-b918-4c1f-b47b-05ff37c9ba35",
   "metadata": {},
   "source": [
    "$$\n",
    "P_t = E_t\\left[\\sum^T_{s=t+1}D_s\\frac{\\zeta_{s}}{\\zeta_t}\\right]\n",
    "$$"
   ]
  },
  {
   "cell_type": "markdown",
   "id": "f6158ae5-31c5-4e0b-b05a-cec676f3aacd",
   "metadata": {},
   "source": [
    "当对初始时刻$t=0$进行定价时,\n",
    "$$\n",
    "P_0 = E_0\\left[\\sum^T_{s=1}D_s\\zeta_{s}\\right], \\zeta_0=1\n",
    "$$"
   ]
  },
  {
   "cell_type": "markdown",
   "id": "f600cc33-862d-4cc0-9b95-c2b8eb6d084f",
   "metadata": {},
   "source": [
    "根据折现因子的定义：\n",
    "- $s$时刻到$t=0$的折现因子: $\\zeta_s$\n",
    "- $t$时刻到$t=0$的折现因子: $\\zeta_t$\n",
    "\n",
    "当对中间时刻$t(t>0)$进行定价时，那么从$s$时刻($s>t$)的现金流$D_s$折现到当前时刻$t$, 其折现因子是: $$\\frac{\\zeta_s}{\\zeta_t}$$"
   ]
  },
  {
   "cell_type": "markdown",
   "id": "d543b107-25b5-41f8-bbe3-1a846b43586f",
   "metadata": {},
   "source": [
    "## 2. Example"
   ]
  },
  {
   "cell_type": "markdown",
   "id": "11559b99-ce25-4d28-a561-31bd37b71a74",
   "metadata": {},
   "source": [
    "\n",
    "### 2.1. 零息债券（Zero-Coupon Bond）的结构\n",
    "\n",
    "零息债券是一种最简单的债券。\n",
    "\n",
    "* **定义：** 它在存续期内不支付任何利息（息票）。\n",
    "* **现金流：** 它只在**到期日 $s$** 支付一次现金流，即**面值 $F$**（在您的练习题中 $F=1$）。\n",
    "\n",
    "由于零息债券的现金流发生在**单一时间点 $s$**，所以我们只需要对这一笔现金流进行折现，而**不需要对多个现金流求和**。\n",
    "\n",
    "**零息债券价格公式：**\n",
    "$$B_t^s = \\mathbb{E}_t \\left[ \\mathbf{1} \\cdot \\frac{\\zeta_s}{\\zeta_t} \\right]$$\n",
    "（其中 $1$ 是到期日 $s$ 的现金流 $D_s$）\n",
    "\n"
   ]
  },
  {
   "cell_type": "markdown",
   "id": "ba56a958-50c5-4315-945e-63807341a890",
   "metadata": {},
   "source": [
    "### 2.2 一般资产（如附息债券、股票）的结构\n",
    "\n",
    "一般资产（例如附息债券或股票）在存续期内会支付**多笔现金流**。\n",
    "\n",
    "* **附息债券（Coupon Bond）：** 在 $t+1, t+2, \\dots, T$ 时刻支付息票 $C$ 和在 $T$ 时刻支付面值 $F$。\n",
    "* **股票：** 在 $t+1, t+2, \\dots$ 时刻支付股息 $D_s$。\n",
    "\n",
    "对于这些资产，其当前价格是**未来所有现金流**的折现现值之和。\n",
    "\n",
    "**一般资产定价公式：**\n",
    "$$P_t = \\mathbb{E}_t \\left[ \\sum_{s=t+1}^{T} D_s \\frac{\\zeta_s}{\\zeta_t} \\right]$$\n",
    "\n",
    "\n",
    "\n",
    "| 资产类型 | 现金流发生次数 | 现金流 $D_s$ | 定价公式是否需要求和 |\n",
    "| :---: | :---: | :---: | :---: |\n",
    "| **零息债券** ($B_t^s$) | **一次** (到期日 $s$) | 仅 $D_s=1$ | **不需要求和** |\n",
    "| **一般资产** ($P_t$) | **多次** ($t+1$ 到 $T$) | $D_{t+1}, D_{t+2}, \\dots$ | **需要求和** |\n",
    "\n",
    "因此，零息债券的价格公式是更一般资产定价公式中**只取一项**（对应于到期日 $s$ 的现金流）的特殊情况。"
   ]
  },
  {
   "cell_type": "markdown",
   "id": "308e4f0e-74c6-4b9d-9ac4-78180f929864",
   "metadata": {},
   "source": []
  }
 ],
 "metadata": {
  "kernelspec": {
   "display_name": "Python 3 (ipykernel)",
   "language": "python",
   "name": "python3"
  },
  "language_info": {
   "codemirror_mode": {
    "name": "ipython",
    "version": 3
   },
   "file_extension": ".py",
   "mimetype": "text/x-python",
   "name": "python",
   "nbconvert_exporter": "python",
   "pygments_lexer": "ipython3",
   "version": "3.9.17"
  }
 },
 "nbformat": 4,
 "nbformat_minor": 5
}
