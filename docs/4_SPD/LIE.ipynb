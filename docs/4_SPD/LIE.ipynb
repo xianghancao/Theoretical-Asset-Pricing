{
 "cells": [
  {
   "cell_type": "markdown",
   "id": "6c8116f7-2c45-4738-bacb-2669cc0ab9c6",
   "metadata": {},
   "source": [
    "# LIE 如何保证金融定价的递归性？\n",
    "\n",
    "在金融定价中，我们关注的是**状态价格平减指数（$\\zeta$）**所定义的**风险调整期望（Risk-Adjusted Expectation）**。LIE 保证了**多期展开式**和**动态递推式**的等价性。\n",
    "\n",
    "我们来看**资产 $P_t$ 对 $T=2$ 现金流 $D_2$ 的定价**如何通过 LIE 实现递归：\n",
    "\n",
    "#### 目标：用单步 $\\zeta$ 乘积计算 $t=0$ 价格\n",
    "\n",
    "我们知道 $t=0$ 价格 $P_0$ 应该等于 $D_2$ 的多期折现：\n",
    "$$P_0 = E_0 \\left[ D_2 \\cdot \\frac{\\zeta_2}{\\zeta_0} \\right]$$\n",
    "\n",
    "#### 递归实现 (动态递推式)\n",
    "\n",
    "价格 $P_0$ 是通过**两步**计算得出的：\n",
    "\n",
    "1.  **第一步（$t=1$ 时刻）：** 计算 $D_2$ 在 $t=1$ 时的现值 $P_1$：\n",
    "    $$P_1 = E_1 \\left[ D_2 \\cdot \\frac{\\zeta_2}{\\zeta_1} \\right]$$\n",
    "    * $\\frac{\\zeta_2}{\\zeta_1}$ 是 $t=1 \\to t=2$ 的**单期折现因子**。\n",
    "    * $P_1$ 是一个**随机变量**，取决于 $t=1$ 发生的具体状态。\n",
    "\n",
    "2.  **第二步（$t=0$ 时刻）：** 将 $P_1$ 折现回 $t=0$：\n",
    "    $$P_0 = E_0 \\left[ P_1 \\cdot \\frac{\\zeta_1}{\\zeta_0} \\right]$$\n",
    "    * $\\frac{\\zeta_1}{\\zeta_0}$ 是 $t=0 \\to t=1$ 的**单期折现因子**。\n",
    "\n",
    "#### LIE 的应用（保证递归正确性）\n",
    "\n",
    "我们将第一步的 $P_1$ 表达式代入第二步：\n",
    "\n",
    "$$P_0 = E_0 \\left[ \\left( E_1 \\left[ D_2 \\cdot \\frac{\\zeta_2}{\\zeta_1} \\right] \\right) \\cdot \\frac{\\zeta_1}{\\zeta_0} \\right]$$\n",
    "\n",
    "关键在于：在**状态价格平减指数**的框架下，LIE 仍然成立，即：\n",
    "\n",
    "$$\\mathbf{E}_t \\left[ \\mathbf{E}_{t+1} [ X_{t+2} ] \\cdot \\frac{\\zeta_{t+1}}{\\zeta_t} \\right] = \\mathbf{E}_t \\left[ X_{t+2} \\cdot \\frac{\\zeta_{t+1}}{\\zeta_t} \\right]$$\n",
    "\n",
    "如果我们将 $X_{t+2} = D_2 \\cdot \\frac{\\zeta_2}{\\zeta_1}$ 代入，则可以进行**重新组合**：\n",
    "\n",
    "$$\\begin{aligned} P_0 &= E_0 \\left[ E_1 \\left[ D_2 \\cdot \\frac{\\zeta_2}{\\zeta_1} \\right] \\cdot \\frac{\\zeta_1}{\\zeta_0} \\right] \\\\ &= E_0 \\left[ \\left( D_2 \\cdot \\frac{\\zeta_2}{\\zeta_1} \\right) \\cdot \\frac{\\zeta_1}{\\zeta_0} \\right] & \\text{(应用 LIE)} \\\\ &= E_0 \\left[ D_2 \\cdot \\underbrace{\\frac{\\zeta_2}{\\zeta_1} \\cdot \\frac{\\zeta_1}{\\zeta_0}}_{\\text{单期因子的乘积}} \\right] \\\\ &= E_0 \\left[ D_2 \\cdot \\frac{\\zeta_2}{\\zeta_0} \\right] & \\text{(多期展开式)} \\end{aligned}$$\n",
    "\n",
    "**结论：**\n",
    "\n",
    "LIE 保证了**先算 $P_1$ 再算 $P_0$ (动态递归)** 的结果，与**一步到位算 $P_0$ (多期展开)** 的结果**完全一致**。因此，金融资产的定价在多期模型中具有**动态一致性**，您可以在任何时点 $t$ 停止并计算资产的现值，这个现值将是所有未来现金流在 $t$ 时刻的**正确无套利价格**。"
   ]
  }
 ],
 "metadata": {
  "kernelspec": {
   "display_name": "Python 3 (ipykernel)",
   "language": "python",
   "name": "python3"
  },
  "language_info": {
   "codemirror_mode": {
    "name": "ipython",
    "version": 3
   },
   "file_extension": ".py",
   "mimetype": "text/x-python",
   "name": "python",
   "nbconvert_exporter": "python",
   "pygments_lexer": "ipython3",
   "version": "3.9.17"
  }
 },
 "nbformat": 4,
 "nbformat_minor": 5
}
