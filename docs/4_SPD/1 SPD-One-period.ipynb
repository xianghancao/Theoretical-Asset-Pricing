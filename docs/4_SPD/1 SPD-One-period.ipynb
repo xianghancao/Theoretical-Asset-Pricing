{
 "cells": [
  {
   "cell_type": "markdown",
   "id": "1ddd3504-cb47-48ad-adbb-5667d42dbc9e",
   "metadata": {},
   "source": [
    "# SPD: One-period "
   ]
  },
  {
   "cell_type": "markdown",
   "id": "845b6c0e-ab06-42c0-be15-be943089c1d0",
   "metadata": {},
   "source": [
    "## 1. Definition\n"
   ]
  },
  {
   "cell_type": "markdown",
   "id": "17290fed-d36f-4b52-9196-d20b4a0c0ed6",
   "metadata": {},
   "source": [
    "### 1.1 Pricing"
   ]
  },
  {
   "cell_type": "markdown",
   "id": "6e9c8786-0d4b-417a-b338-53728908bec8",
   "metadata": {},
   "source": [
    "For an asset with state-contingent payoffs $ D_i = (D_{1,i}, D_{2,i}, \\ldots, D_{S,i}) $, since state price $\\psi_s$:\n",
    "$$\\psi_s = \\pi_s \\zeta_s $$, its price is:\n",
    "$$P_i = \\sum_{s=1}^S \\psi_s D_{s,i} = \\sum_{s=1}^S \\pi_s \\zeta_s D_{s,i}$$\n",
    "\n",
    "$$P_i = \\text{E}[\\zeta D_i]$$\n",
    "\n",
    "- $\\pi_s$: probability of state $s$\n",
    "- $\\zeta$: SPD\n",
    "- $D_{s,i}$: payoffs from asset $i$ at state $s$\n",
    "\n"
   ]
  },
  {
   "cell_type": "markdown",
   "id": "d1729c59-6e8f-4967-8501-ccfcfe6d92b4",
   "metadata": {},
   "source": [
    "more compactly,\n",
    "$$\\mathbf{P} = \\text{E}[\\zeta \\mathbf{D}]$$"
   ]
  },
  {
   "cell_type": "markdown",
   "id": "b7e968fa-7ee9-439f-9505-a84c561e9918",
   "metadata": {},
   "source": [
    "- \"Good State\": Low $\\zeta$\n",
    "- \"Bad State\": High $\\zeta$\n",
    "\n"
   ]
  },
  {
   "cell_type": "markdown",
   "id": "fbf94697-3d75-4300-b2f8-d69ff5461311",
   "metadata": {},
   "source": [
    "### 1.2 变形"
   ]
  },
  {
   "cell_type": "markdown",
   "id": "799fe8a1-2e25-44e1-a8f5-afcd600701c9",
   "metadata": {},
   "source": [
    "\n",
    "\n",
    "$$\\frac{P_i}{P_i} = \\text{E}[\\zeta\\frac{D_i}{P_i}]$$\n",
    "\n",
    "In terms of returns ($ R_i = \\frac{D_i}{P_i} $):\n",
    "$$1 = \\text{E}[\\zeta R_i]$$\n",
    "\n"
   ]
  },
  {
   "cell_type": "markdown",
   "id": "f27f04aa-9091-4e5f-b63f-7b41181f6915",
   "metadata": {},
   "source": [
    "### 1.3 Covariance format\n",
    "利用协方差公式，可以得到，\n",
    "$$P_i = \\text{E}[\\zeta]\\text{E}[D_i] + \\text{Cov}[D_i, \\zeta]$$\n",
    "the gross return $R_i$,\n",
    "$$\\text{E}[R_i] = \\frac{1}{\\text{E}[\\zeta]} - \\frac{\\text{Cov}[R_i, \\zeta]}{\\text{E}[\\zeta]}$$"
   ]
  },
  {
   "cell_type": "markdown",
   "id": "e9ded96b-db57-461c-a3f3-da8d396340ca",
   "metadata": {},
   "source": [
    "### 1.4 Risk-free return\n",
    "Risk-free(gross) return $R^f$ 是对期末支付 $1$ 且不依赖于状态的资产（即无风险资产, $D=1$, $ P^f=\\text{E}[\\zeta]D = \\text{E}[\\zeta]$）:\n",
    "\n",
    "$$1 = \\text{E}[\\zeta R^f] = \\text{E}[\\zeta] * R^f$$\n",
    "$$R^f = \\frac{1}{\\text{E}[\\zeta]} = \\frac{1}{P^f} $$\n"
   ]
  },
  {
   "cell_type": "markdown",
   "id": "49176a00-a240-4076-97ae-38d16851d465",
   "metadata": {},
   "source": [
    "### 1.5 Risk Premium\n",
    "$$E[R_i] - R^f$$"
   ]
  },
  {
   "cell_type": "markdown",
   "id": "9019157f-7803-49fb-90cd-53128ee5ba42",
   "metadata": {},
   "source": [
    "### 1.6 Sharpe Ratio"
   ]
  },
  {
   "cell_type": "markdown",
   "id": "30594c5b-a387-438e-83fe-239986eb5147",
   "metadata": {},
   "source": [
    "$$\\frac{E[R_i] - R^f}{\\sigma[R_i]} = -Corr[R_i, \\zeta]\\frac{\\sigma[\\zeta]}{E[\\zeta]}$$"
   ]
  },
  {
   "cell_type": "markdown",
   "id": "dd7b13b0-6f0f-48ea-b4bc-a059c13d9bbe",
   "metadata": {},
   "source": [
    "If $-Corr[R_i, \\zeta] > 0$, which means $R_i$  and $\\zeta$ opposite relationship, e.g. \"Good State\" (low $\\zeta$) happens, asset return will be very high; \"Bad State\"(high $\\zeta$) happens, asset return will be very llow."
   ]
  },
  {
   "cell_type": "markdown",
   "id": "b58b2aaa-1db8-4a9f-adb6-dc82fb0d5806",
   "metadata": {},
   "source": [
    "## 2. Example"
   ]
  }
 ],
 "metadata": {
  "kernelspec": {
   "display_name": "Python 3 (ipykernel)",
   "language": "python",
   "name": "python3"
  },
  "language_info": {
   "codemirror_mode": {
    "name": "ipython",
    "version": 3
   },
   "file_extension": ".py",
   "mimetype": "text/x-python",
   "name": "python",
   "nbconvert_exporter": "python",
   "pygments_lexer": "ipython3",
   "version": "3.9.17"
  }
 },
 "nbformat": 4,
 "nbformat_minor": 5
}
