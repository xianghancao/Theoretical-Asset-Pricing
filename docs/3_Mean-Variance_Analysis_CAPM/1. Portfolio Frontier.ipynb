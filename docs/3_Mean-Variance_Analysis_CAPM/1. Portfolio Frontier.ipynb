{
 "cells": [
  {
   "cell_type": "markdown",
   "id": "ee22650d-8094-4fd8-a67e-d8e520801e8b",
   "metadata": {},
   "source": [
    "# 1. Portfolio Frontier"
   ]
  },
  {
   "cell_type": "markdown",
   "id": "1303569c-53d1-4f34-baf3-91d8ab280a25",
   "metadata": {},
   "source": [
    "## 1. Mathematics of the Portfolio Frontier\n",
    "\n",
    "Objective: \n",
    "\n",
    "Derive the portfolio frontier, the set of portfolios that minimize variance for a given expected return, as formalized by Merton (1972).\n",
    "\n",
    "Notation:\n",
    "\n",
    "- $ E[r] = (E[r_1], E[r_2], ..., E[r_n])^T $: $ n \\times 1 $ vector of expected returns for $ n $ assets.\n",
    "- $ V $: $ n \\times n $ covariance matrix of asset returns, assumed symmetric, positive definite, and full rank.\n",
    "- $ w = (w_1, w_2, ..., w_n)^T $: $ n \\times 1 $ vector of portfolio weights.\n",
    "- $ i $: $ n \\times 1 $ vector of ones (for weight sum constraint).\n",
    "\n",
    "\n",
    "Portfolio Metrics:\n",
    "\n",
    "- Expected return: $ E[r_p] = w^T E[r] $.\n",
    "- Variance: $ \\sigma_p^2 = w^T V w $.\n",
    "- Weight constraint: $ w^T i = 1 $.\n"
   ]
  },
  {
   "cell_type": "markdown",
   "id": "c3c775f7-25dc-4262-9e6f-d5495bedfe9d",
   "metadata": {},
   "source": [
    "## 2. Deriving the Portfolio Frontier\n",
    "\n",
    "Optimization Problem: \n",
    "\n",
    "Minimize portfolio variance subject to constraints on expected return and weight sum:\n",
    "$$\\min \\sigma_p^2 \\quad \\text{subject to} \\quad E[r_p] = w^T E[r], \\quad w^T i = 1$$\n",
    "\n",
    "Lagrangian:\n",
    "$$\\min_w \\frac{1}{2} w^T V w + \\lambda [E[r_p] - w^T E[r]] + \\gamma [1 - w^T i]$$\n",
    "\n",
    "First-Order Conditions (FOCs):\n",
    "\n",
    "$ V w - \\lambda E[r] - \\gamma i = 0 $\n",
    "$ E[r_p] - w^T E[r] = 0 $\n",
    "$ 1 - w^T i = 0 $\n",
    "\n",
    "\n",
    "Solution:\n",
    "\n",
    "- Optimal weights: $ w^* = \\lambda V^{-1} E[r] + \\gamma V^{-1} i $.\n",
    "- Solving for Lagrange multipliers $ \\lambda $ and $ \\gamma $:\n",
    "$$\\lambda = \\frac{d E[r_p] - a}{z d - a^2}, \\quad \\gamma = \\frac{z - a E[r_p]}{z d - a^2}$$\n",
    "where:  \n",
    "$$a = E[r]^T V^{-1} i = i^T V^{-1} E[r], \\quad z = E[r]^T V^{-1} E[r], \\quad d = i^T V^{-1} i$$\n",
    "\n",
    "Substituting, the optimal weights are:\n",
    "\n",
    "$$w^* = a + b E[r_p]$$\n",
    "where:\n",
    "$$a = \\frac{z V^{-1} i - a V^{-1} E[r]}{z d - a^2}, \\quad b = \\frac{d V^{-1} E[r] - a V^{-1} i}{z d - a^2}$$\n",
    "\n",
    "\n",
    "\n",
    "Key Result: \n",
    "\n",
    "Equation $ w^* = a + b E[r_p] $ is a necessary and sufficient condition for a portfolio to lie on the frontier.\n"
   ]
  },
  {
   "cell_type": "markdown",
   "id": "a146f42a-43c7-445d-ac7c-6188796b5430",
   "metadata": {},
   "source": []
  }
 ],
 "metadata": {
  "kernelspec": {
   "display_name": "Python 3 (ipykernel)",
   "language": "python",
   "name": "python3"
  },
  "language_info": {
   "codemirror_mode": {
    "name": "ipython",
    "version": 3
   },
   "file_extension": ".py",
   "mimetype": "text/x-python",
   "name": "python",
   "nbconvert_exporter": "python",
   "pygments_lexer": "ipython3",
   "version": "3.9.17"
  }
 },
 "nbformat": 4,
 "nbformat_minor": 5
}
