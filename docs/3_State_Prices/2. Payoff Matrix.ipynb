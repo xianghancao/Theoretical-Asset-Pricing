{
 "cells": [
  {
   "cell_type": "markdown",
   "id": "10ecfb5a-6628-4609-8660-2fb301dddc4f",
   "metadata": {},
   "source": [
    "# Payoff Matrix"
   ]
  },
  {
   "cell_type": "markdown",
   "id": "fd319c02-7647-4dc6-9427-ab32e8476665",
   "metadata": {},
   "source": [
    "## 1. Definition"
   ]
  },
  {
   "cell_type": "markdown",
   "id": "b25ac794-73d2-4dde-a007-afecad493026",
   "metadata": {},
   "source": [
    "\n",
    "\n",
    "A one-period model where an asset is characterized by its price at time 0 ($ P_0 $) and its payoff at time 1 ($ D_1 $). The payoff includes the ex-dividend price plus any dividend ($ D_{t+1} = P_{t+1} + d_{t+1} $). In a one-period model, the entire asset value is assumed to be paid as a dividend at period-end.\n"
   ]
  },
  {
   "cell_type": "markdown",
   "id": "222dabbd-e889-446d-9ff9-cf0edc13b75e",
   "metadata": {},
   "source": [
    "Uncertainty is modeled with $ S $ mutually exclusive states of nature, each with a positive probability(also is called uncertainty) $ \\pi_s $ ($ \\sum_{s=1}^S \\pi_s = 1 $). \n",
    "\n",
    "An asset $ i $’s state-contingent payoffs are represented by a vector:\n",
    "\n",
    "$$\\mathbf{D}_i = \\begin{pmatrix} D_{1,i} \\\\ D_{2,i} \\\\ \\vdots \\\\ D_{S,i} \\end{pmatrix}$$\n",
    "\n",
    "where $ D_{s,i} $ is the payoff of asset $ i $ in state $ s $, which is also the probability contribution of payoffs at the beginning.\n"
   ]
  },
  {
   "cell_type": "markdown",
   "id": "f4cd4c7c-7f4e-411e-864d-aedc0640faba",
   "metadata": {},
   "source": [
    "For $ N $ assets, the state-contingent payoffs are stacked in an $ S \\times N $ matrix $ \\mathbf{D} $:\n",
    "$$\\mathbf{D} = \\begin{pmatrix}\n",
    "D_{1,1} & \\cdots & D_{1,N} \\\\\n",
    "D_{2,1} & \\cdots & D_{2,N} \\\\\n",
    "\\vdots & \\ddots & \\vdots \\\\\n",
    "D_{S,1} & \\cdots & D_{S,N}\n",
    "\\end{pmatrix}$$\n",
    "\n"
   ]
  },
  {
   "cell_type": "markdown",
   "id": "712f75d0-8ecf-40e7-8fb1-99610a8a0f80",
   "metadata": {},
   "source": [
    "## 2. Example"
   ]
  },
  {
   "cell_type": "markdown",
   "id": "f362b2b0-28bf-44c1-847d-e7c198b02fae",
   "metadata": {},
   "source": [
    "### Arrow-Debreu Securities"
   ]
  },
  {
   "cell_type": "markdown",
   "id": "1a55276f-66c7-4a0d-bb9f-b785d7bed3cd",
   "metadata": {},
   "source": [
    "An Arrow-Debreu security (or called state security, primitive security, pure security, state contingent claims) pays 1 unit if state $ s $ occurs and 0 otherwise. Its payoff vector is:\n",
    "$$\\mathbf{e}_s = \\begin{pmatrix} D_{1} \\\\ D_{2} \\\\ \\vdots \\\\ D_{s} \\\\ \\vdots \\\\ D_{S} \\end{pmatrix}\n",
    "= \\begin{pmatrix} 0 \\\\ 0 \\\\ \\vdots \\\\ 1 \\\\ \\vdots \\\\ 0 \\end{pmatrix} \\quad (\\text{1 in position } s)$$\n"
   ]
  },
  {
   "cell_type": "markdown",
   "id": "13eb8ea8-bdd5-4338-ac3f-094103e34be6",
   "metadata": {},
   "source": [
    "Arrow-Debreu securities are fundamental to asset pricing. "
   ]
  },
  {
   "cell_type": "markdown",
   "id": "b7210d72-3a3a-4f25-9937-9e7179e3cb14",
   "metadata": {},
   "source": []
  }
 ],
 "metadata": {
  "kernelspec": {
   "display_name": "Python 3 (ipykernel)",
   "language": "python",
   "name": "python3"
  },
  "language_info": {
   "codemirror_mode": {
    "name": "ipython",
    "version": 3
   },
   "file_extension": ".py",
   "mimetype": "text/x-python",
   "name": "python",
   "nbconvert_exporter": "python",
   "pygments_lexer": "ipython3",
   "version": "3.9.17"
  }
 },
 "nbformat": 4,
 "nbformat_minor": 5
}
