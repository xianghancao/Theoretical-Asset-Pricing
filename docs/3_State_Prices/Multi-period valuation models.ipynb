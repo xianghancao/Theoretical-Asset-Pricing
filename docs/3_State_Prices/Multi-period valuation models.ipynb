{
 "cells": [
  {
   "cell_type": "markdown",
   "id": "71473f16-93c2-4366-89e1-83bb7c6bda6e",
   "metadata": {},
   "source": [
    "# Multi-period valuation models"
   ]
  },
  {
   "cell_type": "markdown",
   "id": "a7ba7338-ec49-4245-804b-51b24c07ec2e",
   "metadata": {},
   "source": [
    "## Definition"
   ]
  },
  {
   "cell_type": "markdown",
   "id": "ef435549-2b50-4a5b-976a-15d91e9e998f",
   "metadata": {},
   "source": [
    "### PDE valuation"
   ]
  },
  {
   "cell_type": "markdown",
   "id": "f7fc4141-552e-4d04-90bd-57e945bd6b49",
   "metadata": {},
   "source": [
    "$$ P_t = E_t\\frac{\\zeta_T}{\\zeta_t}D_T $$"
   ]
  },
  {
   "cell_type": "markdown",
   "id": "d355999c-d732-4992-9bbe-8a05219bb165",
   "metadata": {},
   "source": [
    "Todo"
   ]
  },
  {
   "cell_type": "markdown",
   "id": "6b3279ec-0999-4c16-ae43-14691fbc94fb",
   "metadata": {},
   "source": [
    "### Affine models"
   ]
  },
  {
   "cell_type": "markdown",
   "id": "0d4abd4e-3ae2-47a3-b1e0-37bcd285fbff",
   "metadata": {},
   "source": []
  }
 ],
 "metadata": {
  "kernelspec": {
   "display_name": "Python 3 (ipykernel)",
   "language": "python",
   "name": "python3"
  },
  "language_info": {
   "codemirror_mode": {
    "name": "ipython",
    "version": 3
   },
   "file_extension": ".py",
   "mimetype": "text/x-python",
   "name": "python",
   "nbconvert_exporter": "python",
   "pygments_lexer": "ipython3",
   "version": "3.9.17"
  }
 },
 "nbformat": 4,
 "nbformat_minor": 5
}
