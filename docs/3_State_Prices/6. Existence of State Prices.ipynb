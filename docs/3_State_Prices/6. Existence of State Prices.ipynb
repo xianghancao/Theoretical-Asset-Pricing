{
 "cells": [
  {
   "cell_type": "markdown",
   "id": "80eb79ef-80b8-4cda-a5c5-7fd1a6c01528",
   "metadata": {},
   "source": [
    "# Existence of State Prices"
   ]
  },
  {
   "cell_type": "markdown",
   "id": "1c4daabc-e654-4059-b542-a1d1e5b928f3",
   "metadata": {},
   "source": [
    "## 1. Definition"
   ]
  },
  {
   "cell_type": "markdown",
   "id": "1d62edb5-2b59-4287-a2e2-807b138413c8",
   "metadata": {},
   "source": [
    "> ***Theorem (The existence of state prices)***   \n",
    "State prices exist if and only if the Law of One Price holds. The implication goes\n",
    "in both directions:\n",
    "> - The law of one price implies the existence of state prices\n",
    "> - The existence of state prices implies that the law of one price holds"
   ]
  }
 ],
 "metadata": {
  "kernelspec": {
   "display_name": "Python 3 (ipykernel)",
   "language": "python",
   "name": "python3"
  },
  "language_info": {
   "codemirror_mode": {
    "name": "ipython",
    "version": 3
   },
   "file_extension": ".py",
   "mimetype": "text/x-python",
   "name": "python",
   "nbconvert_exporter": "python",
   "pygments_lexer": "ipython3",
   "version": "3.9.17"
  }
 },
 "nbformat": 4,
 "nbformat_minor": 5
}
