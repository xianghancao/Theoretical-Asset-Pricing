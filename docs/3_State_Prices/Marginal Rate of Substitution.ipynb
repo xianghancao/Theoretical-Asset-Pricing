{
 "cells": [
  {
   "cell_type": "code",
   "execution_count": null,
   "id": "ff533523-a244-49c0-a3b3-48234f472b84",
   "metadata": {},
   "outputs": [],
   "source": [
    "边际替代率（Marginal Rate of Substitution, MRS）"
   ]
  },
  {
   "cell_type": "markdown",
   "id": "ecc24ecb-7b1b-4f07-abd0-9bd67277a853",
   "metadata": {},
   "source": []
  }
 ],
 "metadata": {
  "kernelspec": {
   "display_name": "Python 3 (ipykernel)",
   "language": "python",
   "name": "python3"
  },
  "language_info": {
   "codemirror_mode": {
    "name": "ipython",
    "version": 3
   },
   "file_extension": ".py",
   "mimetype": "text/x-python",
   "name": "python",
   "nbconvert_exporter": "python",
   "pygments_lexer": "ipython3",
   "version": "3.9.17"
  }
 },
 "nbformat": 4,
 "nbformat_minor": 5
}
