{
 "cells": [
  {
   "cell_type": "markdown",
   "id": "322da12f-2c04-4828-98f5-727f99202fba",
   "metadata": {},
   "source": [
    "# Market Completeness\n"
   ]
  },
  {
   "cell_type": "markdown",
   "id": "ad4c3683-487f-4046-9671-9c602db12b0f",
   "metadata": {},
   "source": [
    "## 1. Definition\n",
    "A market is complete if there are enough linearly independent assets to span all states of nature, allowing unique state prices to be inferred from traded assets’ prices and payoffs.\n",
    "\n",
    "> **Theorem (Market Completeness)**  \n",
    "Unique state prices exist if the payoff matrix $ \\mathbf{D} $ has rank $ S $ (i.e., $ \\text{rank}(\\mathbf{D}) = S $), meaning there are at least $ S $ linearly independent assets. In this case, $ \\mathbf{D} $ is invertible (if square), and state prices are:\n",
    "$$\\mathbf{\\psi} = (\\mathbf{D}^T)^{-1} \\mathbf{P}$$\n",
    "\n"
   ]
  },
  {
   "cell_type": "markdown",
   "id": "58b95609-9489-4836-85cc-b46fdec548e8",
   "metadata": {},
   "source": [
    "### Example\n",
    "For $ N $ assets, the state-contingent payoffs are stacked in an $ S \\times N $ matrix $ \\mathbf{D} $:\n",
    "$$\\mathbf{D} = \\begin{pmatrix}\n",
    "D_{1,1} & \\cdots & D_{1,N} \\\\\n",
    "D_{2,1} & \\cdots & D_{2,N} \\\\\n",
    "\\vdots & \\ddots & \\vdots \\\\\n",
    "D_{S,1} & \\cdots & D_{S,N}\n",
    "\\end{pmatrix}$$\n",
    "\n",
    "Three states($S=3$), four assets($N=4$) with payoff matrix, and prices:\n",
    "$$\\mathbf{D} = \\begin{pmatrix}\n",
    "8.5 & 8.5 & 7 & 4 \\\\\n",
    "10 & 8 & 8 & 6 \\\\\n",
    "4 & 10 & 6 & 2\n",
    "\\end{pmatrix}, \\quad \\mathbf{P} = \\begin{pmatrix} 7.23 \\\\ 8.13 \\\\ 6.66 \\\\ 4.02 \\end{pmatrix} $$  $ \\text{rank}(\\mathbf{D}) = 3 $, matching the number of states, so the market is complete.   \n",
    "In order to take the **inverse of the payoff matrix**, we need to select three assets (e.g., exclude asset 3) to form a square matrix:\n",
    "$$\\mathbf{D} = \\begin{pmatrix}\n",
    "8.5 & 8.5 & 4 \\\\\n",
    "10 & 8 & 6 \\\\\n",
    "4 & 10 & 2\n",
    "\\end{pmatrix}, \\quad \\mathbf{P} = \\begin{pmatrix} 7.23 \\\\ 8.13 \\\\ 4.02 \\end{pmatrix}$$\n"
   ]
  },
  {
   "cell_type": "markdown",
   "id": "0d52d61f-5d7f-4a9a-8ab8-84413cebb855",
   "metadata": {},
   "source": [
    "\n",
    "Compute state prices:\n",
    "$$\\mathbf{\\psi} = (\\mathbf{D}^T)^{-1} \\mathbf{P} = \\begin{pmatrix} 0.18 \\\\ 0.45 \\\\ 0.3 \\end{pmatrix}$$\n",
    "\n",
    "The market’s completeness allows recovery of state prices, consistent with the law of one price.\n",
    "\n"
   ]
  },
  {
   "cell_type": "markdown",
   "id": "cc93934b-715e-47ea-afe8-a4b08eab57cd",
   "metadata": {},
   "source": [
    "> Notes\n",
    "如果只有2states，可以直接联立方程组求解，不用求逆运算。"
   ]
  }
 ],
 "metadata": {
  "kernelspec": {
   "display_name": "Python 3 (ipykernel)",
   "language": "python",
   "name": "python3"
  },
  "language_info": {
   "codemirror_mode": {
    "name": "ipython",
    "version": 3
   },
   "file_extension": ".py",
   "mimetype": "text/x-python",
   "name": "python",
   "nbconvert_exporter": "python",
   "pygments_lexer": "ipython3",
   "version": "3.9.17"
  }
 },
 "nbformat": 4,
 "nbformat_minor": 5
}
