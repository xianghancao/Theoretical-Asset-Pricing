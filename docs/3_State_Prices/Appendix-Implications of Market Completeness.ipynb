{
 "cells": [
  {
   "cell_type": "markdown",
   "id": "b6f1765c-0853-43af-86f7-18da0227731f",
   "metadata": {},
   "source": [
    "# Appendix: Implications of Market Completeness"
   ]
  },
  {
   "cell_type": "markdown",
   "id": "011c8712-2c33-485b-9ce8-d830a8c45ca5",
   "metadata": {},
   "source": [
    "## Implications"
   ]
  },
  {
   "cell_type": "markdown",
   "id": "8aaf761d-5d49-43b8-9d72-36bae9fd62fd",
   "metadata": {},
   "source": [
    "\n",
    "\n",
    "If a market is complete, we can create any possible payoff pattern using the available assets. To see this, let the vector $ Y $ denote an arbitrary $ S \\times 1 $ vector of end-of-period wealth levels. Furthermore, let the vector $ \\theta $ (of size $ N \\times 1 $) be the number of shares purchased of each of the $ N $ assets.\n",
    "$$\\mathbf{Y} = \\begin{pmatrix} Y_1 \\\\ Y_2 \\\\ \\vdots \\\\ Y_S \\end{pmatrix}, \\quad \\theta = \\begin{pmatrix} \\theta_1 \\\\ \\theta_2 \\\\ \\vdots \\\\ \\theta_N \\end{pmatrix}$$\n",
    "\n",
    "In the vectors above, $ Y_s $ denotes the end-of-period wealth if state $ s $ occurs, and $ \\theta_i $ denotes the number of units bought of asset $ i $.\n",
    "The vector $ \\theta $ must satisfy:\n",
    "$$\\mathbf{D} \\theta = \\mathbf{Y}$$\n",
    "\n"
   ]
  },
  {
   "cell_type": "markdown",
   "id": "bc8b00c0-fcf7-4628-ab8f-c7df1c82de88",
   "metadata": {},
   "source": [
    "When $\\mathbf{D}$ is a nonsingular matrix, which means it has a full rank. We can get:\n",
    "\n",
    "$$\\theta = \\mathbf{D}^{-1} \\mathbf{Y} $$"
   ]
  },
  {
   "cell_type": "markdown",
   "id": "6ba03399-6d07-4866-832c-661b34aae1d5",
   "metadata": {},
   "source": [
    "## Example\n",
    "Consider again the payoff matrix of the three linearly independent assets (that was given in example 3).\n",
    "$$D = \\begin{pmatrix}\n",
    "8.5 & 8.5 & 4 \\\\\n",
    "10 & 8 & 6 \\\\\n",
    "4 & 10 & 2\n",
    "\\end{pmatrix}$$\n",
    "There are three states of nature. Because the market is complete, we can, for any desired end-of-period wealth distribution, construct a portfolio that produces these wealth levels. For example, if we want to arrive at the end-of-period wealth levels in the different states of nature given below (you can pick any numbers):\n",
    "$$Y = \\begin{pmatrix} 102 \\\\ 51.23 \\\\ 75.45 \\end{pmatrix}$$\n",
    "we can solve for a portfolio that produces these payoffs by:\n",
    "$$\\theta = \\mathbf{D}^{-1} \\mathbf{Y} = \\begin{pmatrix} 8.5 & 8.5 & 4 \\\\ 10 & 8 & 6 \\\\ 4 & 10 & 2 \\end{pmatrix}^{-1} \\begin{pmatrix} 102 \\\\ 51.23 \\\\ 75.45 \\end{pmatrix} = \\begin{pmatrix} 27.5906 \\\\ 5.4518 \\\\ -44.7150 \\end{pmatrix}$$\n",
    "\n",
    "Thus, we can arrive at the payoff pattern given by $ Y $ above by buying 27.5906 units of asset one, 5.4518 units of asset two, and selling short 44.7150 units of asset three.\n",
    "\n"
   ]
  },
  {
   "cell_type": "markdown",
   "id": "1eaf8fff-2c3e-4ba2-b907-0478ae4b0170",
   "metadata": {},
   "source": [
    "## Payoffs space"
   ]
  },
  {
   "cell_type": "markdown",
   "id": "964a08b2-e44d-42e2-bb94-104c663d44cb",
   "metadata": {},
   "source": [
    "\n",
    "In technical jargon, we say that the payoffs of all assets that are introduced to the market lie in the space spanned by the payoffs of the assets that are already available.\n",
    "\n",
    "If an asset does not increase the payoff span (that is, if its payoffs can be written as a linear combination of other assets), the asset is said to be redundant.\n",
    "\n",
    "One another important implication of complete markets is that individuals can, in principle, hedge against all possible risks by investing in the asset market. If you, for example, know that there is a state of nature where you desperately need more wealth, you can create a portfolio that provides you with large payoffs in that state.\n"
   ]
  },
  {
   "cell_type": "markdown",
   "id": "0d02740d-6846-4c11-8297-9ce880c994c4",
   "metadata": {},
   "source": [
    "在技术术语中，我们说市场中引入的所有资产的收益都位于现有资产收益所跨越的空间内。\n",
    "\n",
    "如果一个资产不增加收益范围（即，其收益可以写成其他资产的线性组合），则该资产被称为冗余的。\n",
    "\n",
    "完全市场的一个重要含义是，个人原则上可以通过投资于资产市场对所有可能的风险进行对冲。例如，如果你知道存在一个自然状态，你迫切需要更多财富，你可以创建一个在该状态下提供高收益的投资组合。\n"
   ]
  },
  {
   "cell_type": "markdown",
   "id": "646e5c98-6666-4599-812d-886b808dc152",
   "metadata": {},
   "source": [
    "## Real-life markets"
   ]
  },
  {
   "cell_type": "markdown",
   "id": "20b65e79-a207-489b-a96f-1772fa417c6d",
   "metadata": {},
   "source": [
    "\n",
    "现实生活中的市场不太可能完全。可能并非总是可能对冲（保险）所有可能的突发情况（例如，个人劳动收入的突然下降）。\n",
    "\n",
    "市场中引入的大多数金融创新和新工具都是为了使市场更加完备，并为市场参与者提供新的风险分担方式。\n",
    "\n",
    "参见例如 Shiller (2003)，他提出了几种使市场更加完备的新工具。例如，国家可以买卖基于其 GDP 的期货合约，个人可以买卖基于其劳动收入、房屋价值等工具。"
   ]
  },
  {
   "cell_type": "markdown",
   "id": "266c8e97-4b0a-485e-b1f3-2188ecb2f782",
   "metadata": {},
   "source": [
    "> “现实生活中的市场不太可能完全”指的是，在实际的经济环境中，市场很少能达到理论上的“完全市场”状态。完全市场是指一种理想化的市场条件，其中存在足够多的资产和金融工具，可以通过投资组合对冲或保险所有可能的状态或风险。然而，现实中由于信息不对称、交易成本、监管限制以及某些风险的不可预测性（如自然灾害或政策变化），市场往往无法覆盖所有可能的情况。 “可能并非总是可能对冲（保险）所有可能的突发情况（例如，个人劳动收入的突然下降）”进一步解释了这一点。意思是，有些风险（比如个人因失业或健康问题导致收入突然减少）可能无法通过现有的金融工具完全对冲或保险。因为这些风险可能缺乏相应的市场工具来交易，或者这些工具的成本过高、流动性不足，或者根本无法准确预测和定价。因此，现实中的市场参与者无法完全消除所有不确定性带来的影响。"
   ]
  }
 ],
 "metadata": {
  "kernelspec": {
   "display_name": "Python 3 (ipykernel)",
   "language": "python",
   "name": "python3"
  },
  "language_info": {
   "codemirror_mode": {
    "name": "ipython",
    "version": 3
   },
   "file_extension": ".py",
   "mimetype": "text/x-python",
   "name": "python",
   "nbconvert_exporter": "python",
   "pygments_lexer": "ipython3",
   "version": "3.9.17"
  }
 },
 "nbformat": 4,
 "nbformat_minor": 5
}
