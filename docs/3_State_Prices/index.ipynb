{
 "cells": [
  {
   "cell_type": "markdown",
   "id": "fb4e737a-1e7c-4eb8-b689-e62c60af56c5",
   "metadata": {},
   "source": [
    "# 3 State Pricing"
   ]
  },
  {
   "cell_type": "markdown",
   "id": "61d83c1a-9daa-4f14-8a66-113ac016404f",
   "metadata": {},
   "source": []
  }
 ],
 "metadata": {
  "kernelspec": {
   "display_name": "Python 3 (ipykernel)",
   "language": "python",
   "name": "python3"
  },
  "language_info": {
   "codemirror_mode": {
    "name": "ipython",
    "version": 3
   },
   "file_extension": ".py",
   "mimetype": "text/x-python",
   "name": "python",
   "nbconvert_exporter": "python",
   "pygments_lexer": "ipython3",
   "version": "3.9.17"
  }
 },
 "nbformat": 4,
 "nbformat_minor": 5
}
