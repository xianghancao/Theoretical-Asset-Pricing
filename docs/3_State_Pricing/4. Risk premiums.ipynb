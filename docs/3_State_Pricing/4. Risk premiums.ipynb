{
 "cells": [
  {
   "cell_type": "markdown",
   "id": "2d1e074f-c735-48e7-9b01-6bf76771d519",
   "metadata": {},
   "source": [
    "# 4. Risk premiums"
   ]
  },
  {
   "cell_type": "markdown",
   "id": "cfe13a6d-5a78-48f5-ac76-a9f0358c460d",
   "metadata": {},
   "source": [
    "## 1. Definition"
   ]
  },
  {
   "cell_type": "markdown",
   "id": "51048dc6-cd1a-4e6b-aeb4-ef7e7ddc0518",
   "metadata": {},
   "source": [
    "$R_f = $\n"
   ]
  },
  {
   "cell_type": "markdown",
   "id": "af9a8725-89b5-4afc-bcf0-35720460852a",
   "metadata": {},
   "source": []
  },
  {
   "cell_type": "markdown",
   "id": "8394e586-4555-4c57-b90d-18d97f218992",
   "metadata": {},
   "source": [
    "## 2. Example"
   ]
  },
  {
   "cell_type": "markdown",
   "id": "de12499a-7c38-4198-92b5-f9bd25c3668d",
   "metadata": {},
   "source": [
    "Gross returns (1 + r) data (January to May 2005, three stocks: Finnair, Nokia, Olvi):\n",
    "$$R = \\begin{pmatrix}\n",
    "1.0404 & 1.0197 & 1.1037 \\\\\n",
    "1.0624 & 1.0362 & 1 \\\\\n",
    "1.0165 & 0.9781 & 1.0939 \\\\\n",
    "1 & 1.0617 & 0.9964 \\\\\n",
    "1.0953 & 1.1221 & 1.0641\n",
    "\\end{pmatrix}$$\n",
    "\n",
    "- Each row represents one month.\n",
    "- Each column represents one stock (Finnair, Nokia, Olvi from left to right).\n",
    "- For example, in the first month, Finnair’s gross return was 1.0404 (a 4.04% increase)."
   ]
  },
  {
   "cell_type": "markdown",
   "id": "bfa2fd5a-2aab-4e86-ba1a-346531c99a3e",
   "metadata": {},
   "source": [
    "### Calculating the Stochastic Discount Factor (SDF)"
   ]
  },
  {
   "cell_type": "markdown",
   "id": "422fe969-dba5-4ef4-bf4d-805d141822be",
   "metadata": {},
   "source": [
    "Calculate Stochastic Discount Factor (SDF) using the formula:\n",
    "$$\\zeta^* = 1^T (E[R^T R])^{-1} R^T$$\n",
    "\n",
    "The SDF ($\\zeta^*$) is a set of numbers. Result:\n",
    "$$\\zeta^{*T} = \\begin{pmatrix} 0.8269 \\\\ 1.2432 \\\\ 0.7957 \\\\ 0.8327 \\\\ 1.0749 \\end{pmatrix}$$\n",
    "\n",
    "These numbers correspond to the five months and will be used to \"price\" the assets."
   ]
  },
  {
   "cell_type": "markdown",
   "id": "86135bab-2417-47f2-83d3-fe7d2cead803",
   "metadata": {},
   "source": [
    "### Checking the Pricing"
   ]
  },
  {
   "cell_type": "markdown",
   "id": "33228380-87ca-447d-8f4d-ec6a5be251e8",
   "metadata": {},
   "source": [
    "\n",
    "\n",
    "\n",
    "Check the basic relationship $1 = E[\\zeta R_i]$ (using Finnair as an example):\n",
    "$$E[\\zeta R_{Finnair}] = \\frac{1}{5}(0.8269 \\times 1.0404 + 1.2432 \\times 1.0624 + 0.7957 \\times 1.0165 \\\\ + 0.8327 \\times 1 + 1.0749 \\times 1.0953) = 1$$\n",
    "This confirms the formula holds for Finnair (and it works for the other stocks too if you check)."
   ]
  },
  {
   "cell_type": "markdown",
   "id": "940ab7a0-fac3-4312-8161-65ebddc5c7cb",
   "metadata": {},
   "source": [
    "### Implied Risk-Free Rate"
   ]
  },
  {
   "cell_type": "markdown",
   "id": "ce474e75-17f4-407a-899f-2674f474ac25",
   "metadata": {},
   "source": [
    "\n",
    "\n",
    "Implied risk-free rate:\n",
    "$$R_f = \\frac{1}{E[\\zeta^*]} = \\frac{1}{0.9547} \\approx 1.0474 \\quad (4.74\\% \\text{ per month})$$\n",
    "\n"
   ]
  },
  {
   "cell_type": "markdown",
   "id": "376efdd5-b488-4e7e-a86f-880812634b6a",
   "metadata": {},
   "source": [
    "### Covariance and Expected Returns\n",
    "Covariances:\n",
    "$$Cov[R_{Finnair}, \\zeta^*] = 0.0043, \\quad Cov[R_{Nokia}, \\zeta^*] = 0.0037, \\quad Cov[R_{Olvi}, \\zeta^*] = -0.004$$\n",
    "\n",
    "Mean returns:\n",
    "$$E[R] = \\begin{pmatrix} 0.0429 & 0.0436 & 0.0516 \\end{pmatrix}$$\n",
    "(e.g., Finnair’s average return is 4.29% per month)\n",
    "\n",
    "Verify the relationship $E[R_i] - R_f = -R_f Cov[\\zeta, R_i]$ (using Finnair as an example):\n",
    "- Left side: $1.0429 - 1.0474 = -0.0045$\n",
    "- Right side: $-1.0474 \\times 0.0043 \\approx -0.0045$\n",
    "  \n",
    "They match, so the formula works."
   ]
  },
  {
   "cell_type": "markdown",
   "id": "8649ec8b-8787-4569-8e36-a182b3b8e39b",
   "metadata": {},
   "source": []
  }
 ],
 "metadata": {
  "kernelspec": {
   "display_name": "Python 3 (ipykernel)",
   "language": "python",
   "name": "python3"
  },
  "language_info": {
   "codemirror_mode": {
    "name": "ipython",
    "version": 3
   },
   "file_extension": ".py",
   "mimetype": "text/x-python",
   "name": "python",
   "nbconvert_exporter": "python",
   "pygments_lexer": "ipython3",
   "version": "3.9.17"
  }
 },
 "nbformat": 4,
 "nbformat_minor": 5
}
