{
 "cells": [
  {
   "cell_type": "markdown",
   "id": "5c171d98-8467-41a5-a418-eb2402e94d50",
   "metadata": {},
   "source": [
    "# 4. Law of One Price (LOP)"
   ]
  },
  {
   "cell_type": "markdown",
   "id": "8f68effc-4734-49a9-acba-720528fd53e6",
   "metadata": {},
   "source": [
    "## 1. Definition"
   ]
  },
  {
   "cell_type": "markdown",
   "id": "b2441fa7-687a-41b7-a5f8-ad2d9fd83463",
   "metadata": {},
   "source": [
    "The Law of One Price (LOP) states that two assets having the same state-contingent payoffs must have the same price.    \n",
    "\n",
    "> ***Thereom (LOP)***  \n",
    "If $ P(\\mathbf{D}_1) $ is the current price of an asset with payoff vector $ \\mathbf{D}_1 $, the LOP implies a <u>linear pricing rule</u> where the price of a portfolio of assets is the weighted sum of the individual asset prices: $$ P(\\theta_1 \\mathbf{D}_1 + \\theta_2 \\mathbf{D}_2) = \\theta_1 P(\\mathbf{D}_1) + \\theta_2 P(\\mathbf{D}_2) $$, with $ \\theta_1 $ and $ \\theta_2 $ representing the amounts invested in assets 1 and 2, respectively. This means you cannot repackage assets into a portfolio and sell it for more than the sum of the individual asset prices.(这意味着您不能将资产重新打包成投资组合，并以高于各资产单独价格总和的价格出售。)"
   ]
  },
  {
   "cell_type": "markdown",
   "id": "24ed799f-9f63-438b-8ea0-8c08bdfa7c8b",
   "metadata": {},
   "source": [
    "> ***Theorem (The existence of state prices)***   \n",
    "State prices exist if and only if the Law of One Price holds. The implication goes\n",
    "in both directions:\n",
    "> - The law of one price implies the existence of state prices\n",
    "> - The existence of state prices implies that the law of one price holds"
   ]
  },
  {
   "cell_type": "markdown",
   "id": "11db51e6-127a-48d1-ab06-e4e0e5b62735",
   "metadata": {},
   "source": [
    "## 2. Example"
   ]
  },
  {
   "cell_type": "markdown",
   "id": "0fa4a8b2-ba30-439d-9d9b-ca35782fa45d",
   "metadata": {},
   "source": [
    "Consider three assets with payoff vectors $ \\mathbf{D}_1 = (8.5, 10, 4)^T $, $ \\mathbf{D}_2 = (8.5, 8, 10)^T $, and $ \\mathbf{D}_3 = (8.5, 9, 7)^T $ and $ \\mathbf{D}_3 = 0.5 \\mathbf{D}_1 + 0.5 \\mathbf{D}_2 $. \n",
    "\n",
    "The prices of $ \\mathbf{D}_1 $ and $ \\mathbf{D}_2 $ are $ P_1 = 7.23 $ and $ P_2 = 8.13 $.\n",
    "\n",
    "The LOP implies $$ P(\\mathbf{D}_3) = 0.5 P(\\mathbf{D}_1) + 0.5 P(\\mathbf{D}_2) = 0.5 (7.23) + 0.5 (8.13) = 7.68 $$. This matches the price calculated using state prices, confirming that assets with replicable payoffs must have the same price. \n",
    "\n",
    "However, if $ P_3 = 8 $ (violating LOP), no consistent state prices can be found, illustrating that LOP must hold for state prices to exist."
   ]
  }
 ],
 "metadata": {
  "kernelspec": {
   "display_name": "Python 3 (ipykernel)",
   "language": "python",
   "name": "python3"
  },
  "language_info": {
   "codemirror_mode": {
    "name": "ipython",
    "version": 3
   },
   "file_extension": ".py",
   "mimetype": "text/x-python",
   "name": "python",
   "nbconvert_exporter": "python",
   "pygments_lexer": "ipython3",
   "version": "3.9.17"
  }
 },
 "nbformat": 4,
 "nbformat_minor": 5
}
