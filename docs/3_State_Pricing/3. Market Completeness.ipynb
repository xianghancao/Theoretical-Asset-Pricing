{
 "cells": [
  {
   "cell_type": "markdown",
   "id": "322da12f-2c04-4828-98f5-727f99202fba",
   "metadata": {},
   "source": [
    "# 3. Market Completeness\n"
   ]
  },
  {
   "cell_type": "markdown",
   "id": "ad4c3683-487f-4046-9671-9c602db12b0f",
   "metadata": {},
   "source": [
    "## Definition\n",
    "A market is complete if there are enough linearly independent assets to span all states of nature, allowing unique state prices to be inferred from traded assets’ prices and payoffs.\n",
    "\n",
    "> **Theorem (Market Completeness)**  \n",
    "Unique state prices exist if the payoff matrix $ \\mathbf{D} $ has rank $ S $ (i.e., $ \\text{rank}(\\mathbf{D}) = S $), meaning there are at least $ S $ linearly independent assets. In this case, $ \\mathbf{D} $ is invertible (if square), and state prices are:\n",
    "$$\\mathbf{\\psi} = (\\mathbf{D}^T)^{-1} \\mathbf{P}$$\n",
    "\n"
   ]
  },
  {
   "cell_type": "markdown",
   "id": "58b95609-9489-4836-85cc-b46fdec548e8",
   "metadata": {},
   "source": [
    "## Example:\n",
    "For $ N $ assets, the state-contingent payoffs are stacked in an $ S \\times N $ matrix $ \\mathbf{D} $:\n",
    "$$\\mathbf{D} = \\begin{pmatrix}\n",
    "D_{1,1} & \\cdots & D_{1,N} \\\\\n",
    "D_{2,1} & \\cdots & D_{2,N} \\\\\n",
    "\\vdots & \\ddots & \\vdots \\\\\n",
    "D_{S,1} & \\cdots & D_{S,N}\n",
    "\\end{pmatrix}$$\n",
    "\n",
    "Three states($S=3$), four assets($N=4$) with payoff matrix, and prices:\n",
    "$$\\mathbf{D} = \\begin{pmatrix}\n",
    "8.5 & 8.5 & 7 & 4 \\\\\n",
    "10 & 8 & 8 & 6 \\\\\n",
    "4 & 10 & 6 & 2\n",
    "\\end{pmatrix}, \\quad \\mathbf{P} = \\begin{pmatrix} 7.23 \\\\ 8.13 \\\\ 6.66 \\\\ 4.02 \\end{pmatrix} $$  $ \\text{rank}(\\mathbf{D}) = 3 $, matching the number of states, so the market is complete.   \n",
    "In order to take the **inverse of the payoff matrix**, we need to select three assets (e.g., exclude asset 3) to form a square matrix:\n",
    "$$\\mathbf{D} = \\begin{pmatrix}\n",
    "8.5 & 8.5 & 4 \\\\\n",
    "10 & 8 & 6 \\\\\n",
    "4 & 10 & 2\n",
    "\\end{pmatrix}, \\quad \\mathbf{P} = \\begin{pmatrix} 7.23 \\\\ 8.13 \\\\ 4.02 \\end{pmatrix}$$\n"
   ]
  },
  {
   "cell_type": "markdown",
   "id": "0d52d61f-5d7f-4a9a-8ab8-84413cebb855",
   "metadata": {},
   "source": [
    "\n",
    "Compute state prices:\n",
    "$$\\mathbf{\\psi} = (\\mathbf{D}^T)^{-1} \\mathbf{P} = \\begin{pmatrix} 0.18 \\\\ 0.45 \\\\ 0.3 \\end{pmatrix}$$\n",
    "\n",
    "The market’s completeness allows recovery of state prices, consistent with the law of one price.\n",
    "\n"
   ]
  },
  {
   "cell_type": "markdown",
   "id": "cc93934b-715e-47ea-afe8-a4b08eab57cd",
   "metadata": {},
   "source": [
    "> Notes\n",
    "如果只有2states，可以直接联立方程组求解，不用求逆运算。"
   ]
  },
  {
   "cell_type": "markdown",
   "id": "0f264362-939c-4037-b8ea-27fb7a134cee",
   "metadata": {},
   "source": [
    "## Appendix: Inverse Algo"
   ]
  },
  {
   "cell_type": "markdown",
   "id": "14f38ebf-1f0c-466f-906b-a38c8fb2403d",
   "metadata": {},
   "source": [
    "代数余子式矩阵（adjoint matrix）是求矩阵逆时的重要步骤。对于一个 $ n \\times n $ 矩阵 $ A $，其代数余子式矩阵 $ \\text{adj}(A) $ 是由每个元素的代数余子式（algebraic cofactor）组成，并对其转置得到。"
   ]
  },
  {
   "cell_type": "markdown",
   "id": "70cb647d-ae9d-4b57-81e4-c50dcbfeb0ee",
   "metadata": {},
   "source": [
    "假设我们有一个简单的 $ 2 \\times 2 $ 矩阵，如：\n",
    "$$A = \\begin{bmatrix} a & b \\\\ c & d \\end{bmatrix}$$\n",
    "\n",
    "行列式 $ \\det(A) = ad - bc $。\n",
    "\n",
    "对于矩阵 $ A $ 的元素 $ a_{ij} $，其代数余子式 $ C_{ij} = (-1)^{i+j} \\cdot \\det(M_{ij}) $，其中 $ M_{ij} $ 是删除第 $ i $ 行和第 $ j $ 列后的子矩阵的行列式。代数余子式：\n",
    "\n",
    "- $ C_{11} = (-1)^{1+1} \\cdot \\det(M_{11}) = d $  \n",
    "- $ C_{12} = (-1)^{1+2} \\cdot \\det(M_{12}) = -c $  \n",
    "- $ C_{21} = (-1)^{2+1} \\cdot \\det(M_{21}) = -b $  \n",
    "- $ C_{22} = (-1)^{2+2} \\cdot \\det(M_{22}) = a $  \n",
    "\n",
    "\n",
    "余子式矩阵：$\\begin{bmatrix} d & -c \\\\ -b & a \\end{bmatrix}$。  \n",
    "伴随矩阵（转置）：$\\text{adj}(A) = \\begin{bmatrix} d & -b \\\\ -c & a \\end{bmatrix}$。  \n",
    "逆矩阵：$ A^{-1} = \\frac{1}{ad - bc} \\cdot \\begin{bmatrix} d & -b \\\\ -c & a   \\end{bmatrix} $（若 $ ad - bc \\neq 0 $）。"
   ]
  },
  {
   "cell_type": "markdown",
   "id": "dc3b6976-292b-498e-8531-1652f28c9dd5",
   "metadata": {},
   "source": [
    "## Appendix: Shiller(2003)"
   ]
  },
  {
   "cell_type": "code",
   "execution_count": null,
   "id": "a03fb23f-7fe6-4b18-a555-63b29b8527b5",
   "metadata": {},
   "outputs": [],
   "source": []
  },
  {
   "cell_type": "markdown",
   "id": "d9c9d448-a222-4bce-a42b-dbbffeca97a1",
   "metadata": {},
   "source": [
    "## Apendix: State Price Links to CAPM"
   ]
  },
  {
   "cell_type": "markdown",
   "id": "83aa1ca0-bdbb-483d-a510-4c28a90c96cb",
   "metadata": {},
   "source": []
  }
 ],
 "metadata": {
  "kernelspec": {
   "display_name": "Python 3 (ipykernel)",
   "language": "python",
   "name": "python3"
  },
  "language_info": {
   "codemirror_mode": {
    "name": "ipython",
    "version": 3
   },
   "file_extension": ".py",
   "mimetype": "text/x-python",
   "name": "python",
   "nbconvert_exporter": "python",
   "pygments_lexer": "ipython3",
   "version": "3.9.17"
  }
 },
 "nbformat": 4,
 "nbformat_minor": 5
}
