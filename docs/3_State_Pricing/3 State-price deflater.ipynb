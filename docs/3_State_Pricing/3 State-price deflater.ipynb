{
 "cells": [
  {
   "cell_type": "markdown",
   "id": "ac70b359-0bff-4c41-b46b-511c0b91df7c",
   "metadata": {},
   "source": [
    "# State-price deflater"
   ]
  },
  {
   "cell_type": "markdown",
   "id": "cf80df86-476e-4f9f-8136-7eab7f94c31a",
   "metadata": {},
   "source": [
    "状态价格贴现因子"
   ]
  },
  {
   "cell_type": "markdown",
   "id": "cb2d79be-bf41-4da6-b47e-7d7b21632a4b",
   "metadata": {},
   "source": [
    "$$ \\frac{\\zeta_{t+1}}{\\zeta_t} = \\beta \\frac{U'(C_{t+1})}{U'(C_{t})}$$"
   ]
  },
  {
   "cell_type": "markdown",
   "id": "11a5a8e1-21be-4a11-8b51-72fb9996f5a1",
   "metadata": {},
   "source": []
  }
 ],
 "metadata": {
  "kernelspec": {
   "display_name": "Python 3 (ipykernel)",
   "language": "python",
   "name": "python3"
  },
  "language_info": {
   "codemirror_mode": {
    "name": "ipython",
    "version": 3
   },
   "file_extension": ".py",
   "mimetype": "text/x-python",
   "name": "python",
   "nbconvert_exporter": "python",
   "pygments_lexer": "ipython3",
   "version": "3.9.17"
  }
 },
 "nbformat": 4,
 "nbformat_minor": 5
}
