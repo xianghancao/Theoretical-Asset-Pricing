{
 "cells": [
  {
   "cell_type": "markdown",
   "id": "1ddd3504-cb47-48ad-adbb-5667d42dbc9e",
   "metadata": {},
   "source": [
    "# 3. SDF Pricing"
   ]
  },
  {
   "cell_type": "markdown",
   "id": "845b6c0e-ab06-42c0-be15-be943089c1d0",
   "metadata": {},
   "source": [
    "## 1. Definition\n"
   ]
  },
  {
   "cell_type": "markdown",
   "id": "6e9c8786-0d4b-417a-b338-53728908bec8",
   "metadata": {},
   "source": [
    "For an asset with state-contingent payoffs $ D_i = (D_{1,i}, D_{2,i}, \\ldots, D_{S,i}) $, its price is:\n",
    "$$P_i = \\sum_{s=1}^S \\psi_s D_{s,i} = \\sum_{s=1}^S \\pi_s \\zeta_s D_{s,i}$$\n",
    "\n",
    "$$P_i = E[\\zeta D_i]$$\n",
    "\n",
    ", since $\\psi_s = \\pi_s \\zeta_s $.\n",
    "\n"
   ]
  },
  {
   "cell_type": "markdown",
   "id": "d1729c59-6e8f-4967-8501-ccfcfe6d92b4",
   "metadata": {},
   "source": [
    "more compactly,\n",
    "$$\\mathbf{P} = E[\\zeta \\mathbf{D}]$$"
   ]
  },
  {
   "cell_type": "markdown",
   "id": "b7e968fa-7ee9-439f-9505-a84c561e9918",
   "metadata": {},
   "source": [
    "The SDF is high in states with high marginal utility (e.g., economic downturns for risk-averse investors), increasing the value of assets with high payoffs in those states.\n",
    "Assets with payoffs negatively correlated with marginal utility (high in “good” states) have lower prices and higher expected returns due to their riskiness.\n",
    "\n",
    "\n"
   ]
  },
  {
   "cell_type": "markdown",
   "id": "799fe8a1-2e25-44e1-a8f5-afcd600701c9",
   "metadata": {},
   "source": [
    "\n",
    "\n",
    "$$\\frac{P_i}{P_i} = E[\\zeta\\frac{D_i}{\\pi_i}]$$\n",
    "\n",
    "In terms of returns ($ R_i = \\frac{D_i}{\\pi_i} $):\n",
    "$$1 = E[\\zeta R_i]$$\n",
    "\n"
   ]
  },
  {
   "cell_type": "markdown",
   "id": "9019157f-7803-49fb-90cd-53128ee5ba42",
   "metadata": {},
   "source": [
    "$$R_f = $$"
   ]
  },
  {
   "cell_type": "markdown",
   "id": "b58b2aaa-1db8-4a9f-adb6-dc82fb0d5806",
   "metadata": {},
   "source": [
    "## 2. Example"
   ]
  },
  {
   "cell_type": "markdown",
   "id": "0af556e4-27a9-414e-a97a-e37016d2cabe",
   "metadata": {},
   "source": [
    "例子来源 Asset 1& asset 2"
   ]
  },
  {
   "cell_type": "markdown",
   "id": "6fb36f9f-3612-4f1a-a3c2-b543cfa612cd",
   "metadata": {},
   "source": [
    "### What It Means\n",
    "\n",
    "- The SDF correctly prices the assets in this data set.\n",
    "- Assets with lower covariance with the SDF (like Olvi, -0.004) have higher expected returns (5.16%), while those with higher covariance (like Finnair, 0.0043) have lower returns (4.29%).\n",
    "- This is a mathematical result, not based on economic theory, and it assumes the market follows the \"law of one price\" (assets with the same risk should have the same price)."
   ]
  }
 ],
 "metadata": {
  "kernelspec": {
   "display_name": "Python 3 (ipykernel)",
   "language": "python",
   "name": "python3"
  },
  "language_info": {
   "codemirror_mode": {
    "name": "ipython",
    "version": 3
   },
   "file_extension": ".py",
   "mimetype": "text/x-python",
   "name": "python",
   "nbconvert_exporter": "python",
   "pygments_lexer": "ipython3",
   "version": "3.9.17"
  }
 },
 "nbformat": 4,
 "nbformat_minor": 5
}
