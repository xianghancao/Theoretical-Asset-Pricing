{
 "cells": [
  {
   "cell_type": "code",
   "execution_count": null,
   "id": "8ebb55d2-09d3-45cd-9992-3f791df1952b",
   "metadata": {},
   "outputs": [],
   "source": []
  },
  {
   "cell_type": "markdown",
   "id": "ba03e838-00e0-451c-9193-7520f1eda520",
   "metadata": {},
   "source": [
    "代表性消费者模型"
   ]
  },
  {
   "cell_type": "markdown",
   "id": "268892fb-d392-45f9-a030-fd5fb1e5253b",
   "metadata": {},
   "source": []
  }
 ],
 "metadata": {
  "kernelspec": {
   "display_name": "Python 3 (ipykernel)",
   "language": "python",
   "name": "python3"
  },
  "language_info": {
   "codemirror_mode": {
    "name": "ipython",
    "version": 3
   },
   "file_extension": ".py",
   "mimetype": "text/x-python",
   "name": "python",
   "nbconvert_exporter": "python",
   "pygments_lexer": "ipython3",
   "version": "3.9.17"
  }
 },
 "nbformat": 4,
 "nbformat_minor": 5
}
