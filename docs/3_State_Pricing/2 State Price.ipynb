{
 "cells": [
  {
   "cell_type": "markdown",
   "id": "81591851-6d7d-4abc-a70a-490835f375c4",
   "metadata": {},
   "source": [
    "## State Price"
   ]
  },
  {
   "cell_type": "markdown",
   "id": "e7fdce2a-2fad-4dab-9463-13e8b12221ac",
   "metadata": {},
   "source": [
    "> Modern asset pricing theory is based on models of the possible states\n",
    "and the associated state prices. ---Munk"
   ]
  },
  {
   "cell_type": "markdown",
   "id": "45b15cee-3373-4cbd-b3cc-8c5df18c9447",
   "metadata": {},
   "source": [
    "The concept of state prices was introduced and studied by Arrow (1951, 1953, 1970), Debreu(1954), Negishi (1960), and Ross (1978)."
   ]
  },
  {
   "cell_type": "markdown",
   "id": "d4eee1bb-6f00-4462-8c07-9fed28a3445b",
   "metadata": {},
   "source": []
  }
 ],
 "metadata": {
  "kernelspec": {
   "display_name": "Python 3 (ipykernel)",
   "language": "python",
   "name": "python3"
  },
  "language_info": {
   "codemirror_mode": {
    "name": "ipython",
    "version": 3
   },
   "file_extension": ".py",
   "mimetype": "text/x-python",
   "name": "python",
   "nbconvert_exporter": "python",
   "pygments_lexer": "ipython3",
   "version": "3.9.17"
  }
 },
 "nbformat": 4,
 "nbformat_minor": 5
}
