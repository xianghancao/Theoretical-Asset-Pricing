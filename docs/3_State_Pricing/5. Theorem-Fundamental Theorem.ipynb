{
 "cells": [
  {
   "cell_type": "markdown",
   "id": "88309e60-b746-4242-88ef-6504e6ff1b9b",
   "metadata": {},
   "source": [
    "# Theorem: Fundamental Theorem of Asset Pricing"
   ]
  },
  {
   "cell_type": "markdown",
   "id": "f2f9ea8b-2657-4012-8b1d-12d2be429a3a",
   "metadata": {},
   "source": [
    "> **Theorem(Fundamental Theorem of Asset Pricing)**  Cox and Ross (1976, Ross 1977, 1978)\n",
    "*The following equivalent conditions on prices $ \\mathbf{P} $ and payoffs $ \\mathbf{D} $:  \n",
    "> (i) Absence of arbitrage  \n",
    "> (ii) Existence of a consistent positive linear pricing rule (positive state prices), where $ \\exists \\psi >> 0 $ such that $ \\mathbf{P} = \\mathbf{D}^T \\psi $  \n",
    "> (iii) Some agent with strictly increasing preferences $ U $ has an optimum*\n",
    "\n",
    "also known as the *fundamental theorem of financial economics*\n",
    "\n",
    "Points (i) and (ii) are linked, as the existence of an asset pricing model requires strictly positive state prices and no arbitrage opportunities, with one condition implying the other.  \n",
    "Point (iii) suggests that if arbitrage opportunities exist, a representative investor's maximization problem would lack an optimum, as buying more in a state with a negative price could infinitely increase wealth and unbounded expected utility."
   ]
  }
 ],
 "metadata": {
  "kernelspec": {
   "display_name": "Python 3 (ipykernel)",
   "language": "python",
   "name": "python3"
  },
  "language_info": {
   "codemirror_mode": {
    "name": "ipython",
    "version": 3
   },
   "file_extension": ".py",
   "mimetype": "text/x-python",
   "name": "python",
   "nbconvert_exporter": "python",
   "pygments_lexer": "ipython3",
   "version": "3.9.17"
  }
 },
 "nbformat": 4,
 "nbformat_minor": 5
}
