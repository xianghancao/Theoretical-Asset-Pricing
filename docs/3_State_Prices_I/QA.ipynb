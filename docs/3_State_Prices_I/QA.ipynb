{
 "cells": [
  {
   "cell_type": "markdown",
   "id": "e634117f-de78-49ea-8e05-deb3baad8b6f",
   "metadata": {},
   "source": [
    "# Q&A"
   ]
  },
  {
   "cell_type": "markdown",
   "id": "66f0426a-3bbf-4d66-844f-994c5937d533",
   "metadata": {},
   "source": [
    "1. **Stochastic Discount Factors (SDF)**:\n",
    "   - How are state prices related to stochastic discount factors?\n",
    "   - What is the significance of dividing state prices by probabilities to derive SDF?\n",
    "   - What are the alternative names for stochastic discount factors?\n",
    "\n",
    "2. **Economic Determinants of State Prices**:\n",
    "   - What are the economic sources that determine the value of a unit of payoff in different states of nature?\n",
    "   - How does the subjective time-preference factor influence state prices?\n",
    "   - Why are state prices higher in states with low aggregate consumption?\n",
    "\n",
    "3. **Relative vs. Absolute Pricing**:\n",
    "   - What is the difference between relative pricing and absolute pricing?\n",
    "   - Under what conditions does relative pricing fail, and absolute pricing becomes necessary?\n",
    "   - How do investor preferences affect relative pricing?\n",
    "\n",
    "4. **Representative Investor**:\n",
    "   - What is the concept of a representative investor?\n",
    "   - What technical conditions are required for the aggregation of investor actions?\n",
    "   - How does the representative investor’s maximization problem determine state prices?\n",
    "\n",
    "5. **Optimization and Lagrange Multipliers**:\n",
    "   - How is the representative investor’s optimization problem solved using Lagrange multipliers?\n",
    "   - What do the first-order conditions reveal about state prices?\n",
    "\n",
    "6. **Asset Pricing and Returns**:\n",
    "   - How can assets be priced using stochastic discount factors?\n",
    "   - What is the relationship between expected returns and the covariance with the SDF?\n",
    "   - Why does idiosyncratic risk not affect asset prices?\n",
    "\n",
    "7. **Examples and Applications**:\n",
    "   - How are the prices of Asset 1 and Asset 2 calculated using SDF in Example 1?\n",
    "   - What does the covariance between returns and SDF indicate in Example 2?\n",
    "   - How is the SDF extracted from data in Example 3, and what does it imply about the risk-free rate?\n",
    "\n",
    "8. **Theorems and Theories**:\n",
    "   - What are the existence theorems for the stochastic discount factor?\n",
    "   - What is the Fundamental Theorem of Asset Pricing?\n",
    "   - How does the Pricing Rule Representation Theorem relate different pricing methods?\n",
    "\n",
    "Feel free to explore any of these areas in detail!"
   ]
  },
  {
   "cell_type": "markdown",
   "id": "79ddaa9a-5ae2-4578-b0aa-1c06f812e0b0",
   "metadata": {},
   "source": []
  }
 ],
 "metadata": {
  "kernelspec": {
   "display_name": "Python 3 (ipykernel)",
   "language": "python",
   "name": "python3"
  },
  "language_info": {
   "codemirror_mode": {
    "name": "ipython",
    "version": 3
   },
   "file_extension": ".py",
   "mimetype": "text/x-python",
   "name": "python",
   "nbconvert_exporter": "python",
   "pygments_lexer": "ipython3",
   "version": "3.9.17"
  }
 },
 "nbformat": 4,
 "nbformat_minor": 5
}
