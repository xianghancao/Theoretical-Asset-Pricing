{
 "cells": [
  {
   "cell_type": "markdown",
   "id": "81591851-6d7d-4abc-a70a-490835f375c4",
   "metadata": {},
   "source": [
    "# State Price Vector"
   ]
  },
  {
   "cell_type": "markdown",
   "id": "cade1a62-4b96-4ecc-ba6f-4e27adab94fb",
   "metadata": {},
   "source": [
    "## 1. Definition"
   ]
  },
  {
   "cell_type": "markdown",
   "id": "e7fdce2a-2fad-4dab-9463-13e8b12221ac",
   "metadata": {},
   "source": [
    "> Modern asset pricing theory is based on models of the possible states\n",
    "and the associated state prices. ---Munk"
   ]
  },
  {
   "cell_type": "markdown",
   "id": "45b15cee-3373-4cbd-b3cc-8c5df18c9447",
   "metadata": {},
   "source": [
    "The concept of state prices was introduced and studied by Arrow (1951, 1953, 1970), Debreu(1954), Negishi (1960), and Ross (1978)."
   ]
  },
  {
   "cell_type": "markdown",
   "id": "c798ef99-7ab0-45b4-bda5-d3a06e88c8ce",
   "metadata": {},
   "source": [
    "### 1.1 State Price"
   ]
  },
  {
   "cell_type": "markdown",
   "id": "c8a0966f-fd05-4fb8-92cc-d888d7430c4a",
   "metadata": {},
   "source": [
    "状态价格（state price）的概念就是为了给每个未来可能的状态定价。一个状态价格，就是为了在特定状态发生时获得一单位回报，今天需要支付的价格。"
   ]
  },
  {
   "cell_type": "markdown",
   "id": "c2749f74-ec01-44f8-bae5-6a752c7d008c",
   "metadata": {},
   "source": [
    "在资产定价理论中，状态价格（state prices）是指在不同经济状态下用于贴现未来现金流的权重或价格。这些状态反映了未来可能的经济情景（如经济繁荣、衰退等），而状态价格是用来将这些不同状态下的未来收益或支付转化为当前价值的工具。"
   ]
  },
  {
   "cell_type": "markdown",
   "id": "4a48e0a1-8138-4942-af1d-a094ede543f5",
   "metadata": {},
   "source": [
    "状态价格反映了市场对不同状态的“风险调整”偏好。那些更可能发生或风险较高的状态可能对应更高的状态价格。\n",
    "它们确保无套利条件，即不存在免费午餐（arbitrage opportunities），并与资产的实际市场价格一致。"
   ]
  },
  {
   "cell_type": "markdown",
   "id": "8977b5e2-22a2-4f10-8c6b-5b76e7fc85c4",
   "metadata": {},
   "source": [
    "### 1.2 State Price Vector"
   ]
  },
  {
   "cell_type": "markdown",
   "id": "a3a0740e-6822-4b6e-b023-cdcbeca8a5a6",
   "metadata": {},
   "source": [
    "The state price for state $ s $ is denoted $ \\psi_s $. For $ S $ states, the payoff vectors form an $ S \\times S $ identity matrix $ e $, and state prices form an $ S \\times 1 $ vector:\n",
    "$$\\mathbf{\\psi} = \\begin{pmatrix} \\psi_1 \\\\ \\psi_2 \\\\ \\vdots \\\\ \\psi_S \\end{pmatrix}$$\n",
    "\n"
   ]
  },
  {
   "cell_type": "markdown",
   "id": "d4eee1bb-6f00-4462-8c07-9fed28a3445b",
   "metadata": {},
   "source": [
    "## 2. Example"
   ]
  },
  {
   "cell_type": "markdown",
   "id": "73046a3c-142a-447f-8a4d-77cf1610e7a0",
   "metadata": {},
   "source": []
  }
 ],
 "metadata": {
  "kernelspec": {
   "display_name": "Python 3 (ipykernel)",
   "language": "python",
   "name": "python3"
  },
  "language_info": {
   "codemirror_mode": {
    "name": "ipython",
    "version": 3
   },
   "file_extension": ".py",
   "mimetype": "text/x-python",
   "name": "python",
   "nbconvert_exporter": "python",
   "pygments_lexer": "ipython3",
   "version": "3.9.17"
  }
 },
 "nbformat": 4,
 "nbformat_minor": 5
}
