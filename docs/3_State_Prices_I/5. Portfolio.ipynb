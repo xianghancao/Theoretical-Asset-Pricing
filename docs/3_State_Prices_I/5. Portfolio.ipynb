{
 "cells": [
  {
   "cell_type": "markdown",
   "id": "d1eee8e4-871e-4cee-bea0-6eb9e1e5bcd2",
   "metadata": {},
   "source": [
    "# Portfolio"
   ]
  },
  {
   "cell_type": "markdown",
   "id": "80fd1956-956f-46ec-aecc-ff910882c963",
   "metadata": {},
   "source": [
    "## Portfolio's payoff"
   ]
  },
  {
   "cell_type": "markdown",
   "id": "f366ec79-f504-4953-b102-56eca1779fea",
   "metadata": {},
   "source": [
    "$D_{s,n}$ is payoff of asset $n$ during state $s$, a portfolio consisting of $\\theta_1$ and $\\theta_2$, then:\n",
    "- state 1: $$ D_{1, portfolio} = \\theta_1 D_{1,1} + \\theta_2 D_{1,2}$$\n",
    "- state 2: $$ D_{2, portfolio} = \\theta_1 D_{2,1} + \\theta_2 D_{2,2}$$"
   ]
  },
  {
   "cell_type": "markdown",
   "id": "454beae4-d092-429c-b6fa-66f4af0c706d",
   "metadata": {},
   "source": [
    "For $ N $ assets, the state-contingent payoffs are stacked in an $ S \\times N $ matrix $ \\mathbf{D} $:\n",
    "$$\\mathbf{D}_{asset} = \\begin{pmatrix}\n",
    "D_{1,1} & \\cdots & D_{1,N} \\\\\n",
    "D_{2,1} & \\cdots & D_{2,N} \\\\\n",
    "\\vdots & \\ddots & \\vdots \\\\\n",
    "D_{S,1} & \\cdots & D_{S,N}\n",
    "\\end{pmatrix}$$\n",
    "\n",
    "$$\\theta =  \\begin{pmatrix}\n",
    "\\theta_1 \\\\\n",
    "\\theta_2 \\\\\n",
    "\\vdots \\\\\n",
    "\\theta_N \\\\\n",
    "\\end{pmatrix}$$\n",
    "\n"
   ]
  },
  {
   "cell_type": "markdown",
   "id": "8c06e88b-d875-46ac-8c5f-243b13045ae7",
   "metadata": {},
   "source": [
    "$$\\mathbf{D}_{portfolio} = D * \\theta = \\mathbf{D}_{asset} = \\begin{pmatrix}\n",
    "D_{1,1} & \\cdots & D_{1,N} \\\\\n",
    "D_{2,1} & \\cdots & D_{2,N} \\\\\n",
    "\\vdots & \\ddots & \\vdots \\\\\n",
    "D_{S,1} & \\cdots & D_{S,N}\n",
    "\\end{pmatrix}  \\begin{pmatrix}\n",
    "\\theta_1 \\\\\n",
    "\\theta_2 \\\\\n",
    "\\vdots \\\\\n",
    "\\theta_N \\\\\n",
    "\\end{pmatrix}$$"
   ]
  },
  {
   "cell_type": "markdown",
   "id": "4d075f5c-3b4a-4cb1-888b-bff81f376f2b",
   "metadata": {},
   "source": []
  }
 ],
 "metadata": {
  "kernelspec": {
   "display_name": "Python 3 (ipykernel)",
   "language": "python",
   "name": "python3"
  },
  "language_info": {
   "codemirror_mode": {
    "name": "ipython",
    "version": 3
   },
   "file_extension": ".py",
   "mimetype": "text/x-python",
   "name": "python",
   "nbconvert_exporter": "python",
   "pygments_lexer": "ipython3",
   "version": "3.9.17"
  }
 },
 "nbformat": 4,
 "nbformat_minor": 5
}
