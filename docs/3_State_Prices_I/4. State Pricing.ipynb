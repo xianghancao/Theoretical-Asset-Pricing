{
 "cells": [
  {
   "cell_type": "markdown",
   "id": "806beede-b678-43c5-b5f4-32eb0890b01c",
   "metadata": {},
   "source": [
    "# State Pricing"
   ]
  },
  {
   "cell_type": "markdown",
   "id": "b8009335-9bb3-436e-ad86-d878d039f925",
   "metadata": {},
   "source": [
    "## 1. Definition"
   ]
  },
  {
   "cell_type": "markdown",
   "id": "c7d8ef5e-1e6a-4992-a68c-8966dc6d72bd",
   "metadata": {},
   "source": [
    "\n",
    "\n",
    "The price of any asset can be computed as the sum of its state-contingent payoffs weighted by state prices:"
   ]
  },
  {
   "cell_type": "markdown",
   "id": "5a2611d9-05fc-448f-9960-69b69fa8f55f",
   "metadata": {},
   "source": [
    "$$\\mathbf{P} = \\mathbf{D}^T \\mathbf{\\psi} $$\n",
    "$$\\begin{pmatrix} P_1 \\\\ P_2 \\\\ \\vdots \\\\ P_N \\end{pmatrix}  = \\begin{pmatrix}\n",
    "D_{1,1} & \\cdots & D_{1,N} \\\\\n",
    "D_{2,1} & \\cdots & D_{2,N} \\\\\n",
    "\\vdots & \\ddots & \\vdots \\\\\n",
    "D_{S,1} & \\cdots & D_{S,N}\n",
    "\\end{pmatrix} ^ T \n",
    "\\begin{pmatrix} \\psi_1 \\\\ \\psi_2 \\\\ \\vdots \\\\ \\psi_S \\end{pmatrix}$$"
   ]
  },
  {
   "cell_type": "markdown",
   "id": "57de9d48-6b21-461b-9b83-f77f90ffcdd2",
   "metadata": {},
   "source": [
    "For $ N $ assets, the state-contingent payoffs are stacked in an $ S \\times N $ matrix $ \\mathbf{D} $."
   ]
  },
  {
   "cell_type": "markdown",
   "id": "6b3fa46f-be57-4dfd-b3a3-d76669a2d512",
   "metadata": {},
   "source": [
    "## 2. Example\n",
    "\n",
    "\n",
    "\n",
    "Three assets($N=3$), three states($S=3$), with payoff matrix:\n",
    "$$\\mathbf{D} = \\begin{pmatrix}\n",
    "8.5 & 8.5 & 7 \\\\\n",
    "10 & 8 & 8 \\\\\n",
    "4 & 10 & 6\n",
    "\\end{pmatrix}$$\n",
    "\n",
    "and state prices $ \\mathbf{\\psi} = \\begin{pmatrix} 0.18 \\\\ 0.45 \\\\ 0.3 \\end{pmatrix} $.\n",
    "\n",
    "Asset prices:\n",
    "\n",
    "$$\\mathbf{P} = \\mathbf{D}^T \\mathbf{\\psi}\n",
    " = \\begin{pmatrix}\n",
    "8.5 & 10 & 4 \\\\\n",
    "8.5 & 8 & 10 \\\\\n",
    "7 & 8 & 6\n",
    "\\end{pmatrix} \\begin{pmatrix} 0.18 \\\\ 0.45 \\\\ 0.3 \\end{pmatrix} = \\begin{pmatrix} 7.23 \\\\ 8.13 \\\\ 6.66 \\end{pmatrix}$$\n"
   ]
  },
  {
   "cell_type": "markdown",
   "id": "422d20ae-c299-45c1-815f-0b9e6913629b",
   "metadata": {},
   "source": []
  }
 ],
 "metadata": {
  "kernelspec": {
   "display_name": "Python 3 (ipykernel)",
   "language": "python",
   "name": "python3"
  },
  "language_info": {
   "codemirror_mode": {
    "name": "ipython",
    "version": 3
   },
   "file_extension": ".py",
   "mimetype": "text/x-python",
   "name": "python",
   "nbconvert_exporter": "python",
   "pygments_lexer": "ipython3",
   "version": "3.9.17"
  }
 },
 "nbformat": 4,
 "nbformat_minor": 5
}
