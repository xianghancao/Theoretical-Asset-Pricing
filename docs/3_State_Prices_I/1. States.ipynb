{
 "cells": [
  {
   "cell_type": "markdown",
   "id": "c90c0127-fe2d-442b-beb6-a940a5e5af32",
   "metadata": {},
   "source": [
    "# States"
   ]
  },
  {
   "cell_type": "markdown",
   "id": "d61a8592-4752-4d85-ac26-93f164a57f9c",
   "metadata": {},
   "source": [
    "## 1. Definiton"
   ]
  },
  {
   "cell_type": "markdown",
   "id": "9c0af6a8-bf59-4c3a-91be-7ebbceb6e7b0",
   "metadata": {},
   "source": [
    "In asset pricing and finance, \"**states**\" refer to all possible, non-overlapping, and mutually exclusive future events or scenarios. They are the fundamental building blocks used to describe future uncertainty.\n",
    "\n",
    "#### Core Concepts of States:\n",
    "\n",
    "1.  **Mutually Exclusive**: At any given time, only one state can occur. For example, a stock market can either go up or down, but not both at the same time.\n",
    "2.  **Collectively Exhaustive**: All states, when combined, must cover every possible future outcome. There should be no scenario left out."
   ]
  },
  {
   "cell_type": "markdown",
   "id": "c81245e3-b291-46d2-8d04-1cc4beccd6e8",
   "metadata": {},
   "source": [
    "States:\n",
    "$$ S $$"
   ]
  },
  {
   "cell_type": "markdown",
   "id": "8daadefb-c941-41db-9b8f-8dad1f8a85a3",
   "metadata": {},
   "source": [
    "## 2. Example"
   ]
  },
  {
   "cell_type": "markdown",
   "id": "68435548-f99f-4d06-a76e-52a879ee0cc5",
   "metadata": {},
   "source": [
    "\n",
    "Imagine you're thinking about investing in a stock and only care about its price change over the next day. You could define the future with a few simple states:\n",
    "\n",
    "* **State 1**: The stock price goes up by 10%.\n",
    "* **State 2**: The stock price stays the same.\n",
    "* **State 3**: The stock price falls by 10%.\n"
   ]
  },
  {
   "cell_type": "markdown",
   "id": "15a23667-acef-46ee-a8ce-7145388a1081",
   "metadata": {},
   "source": []
  }
 ],
 "metadata": {
  "kernelspec": {
   "display_name": "Python 3 (ipykernel)",
   "language": "python",
   "name": "python3"
  },
  "language_info": {
   "codemirror_mode": {
    "name": "ipython",
    "version": 3
   },
   "file_extension": ".py",
   "mimetype": "text/x-python",
   "name": "python",
   "nbconvert_exporter": "python",
   "pygments_lexer": "ipython3",
   "version": "3.9.17"
  }
 },
 "nbformat": 4,
 "nbformat_minor": 5
}
