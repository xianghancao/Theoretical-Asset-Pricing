{
 "cells": [
  {
   "cell_type": "markdown",
   "id": "31973709-08dd-4fce-8383-d92432663ee4",
   "metadata": {},
   "source": [
    "# 2. Risk Aversion"
   ]
  },
  {
   "cell_type": "markdown",
   "id": "6dc33c01-afd9-4e38-9191-73bf049c1569",
   "metadata": {},
   "source": [
    "## Behavior of Risk-Averse Investors\n",
    "\n",
    "Theorem: For a risk-averse investor ($ U' > 0 $, $ U'' < 0 $), the optimal investment in the risky asset ($ \\hat{a} $) depends on the risk premium:\n",
    "$$\\hat{a} > 0 \\iff E[\\tilde{r}] > r_f, \\quad \\hat{a} = 0 \\iff E[\\tilde{r}] = r_f, \\quad \\hat{a} < 0 \\iff E[\\tilde{r}] < r_f$$\n",
    "\n",
    "Implication: A risk-averse investor invests in the risky asset only if its expected return exceeds the risk-free rate. If $ E[\\tilde{r}] > r_f $, some wealth is always allocated to the risky asset.\n",
    "\n",
    "\n",
    "Proof (for $ \\hat{a} > 0 \\iff E[\\tilde{r}] > r_f $):\n",
    "\n",
    "Define $ W(a) = E[U(Y_0(1 + r_f) + a(\\tilde{r} - r_f))] $.\n",
    "FOC: $ W'(a) = E[U'(Y_0(1 + r_f) + a(\\tilde{r} - r_f))(\\tilde{r} - r_f)] = 0 $.\n",
    "Second derivative: $ W''(a) = E[U''(Y_0(1 + r_f) + a(\\tilde{r} - r_f))(\\tilde{r} - r_f)^2] < 0 $ (due to risk aversion), ensuring a maximum.\n",
    "At $ a = 0 $, $ W'(0) = U'(Y_0(1 + r_f))E[\\tilde{r} - r_f] $. Since $ U' > 0 $, $ W'(0) > 0 \\iff E[\\tilde{r}] > r_f $, requiring $ a > 0 $ to satisfy the FOC.\n",
    "\n"
   ]
  },
  {
   "cell_type": "markdown",
   "id": "ecc04d8c-c564-4678-95f8-23858a995566",
   "metadata": {},
   "source": []
  }
 ],
 "metadata": {
  "kernelspec": {
   "display_name": "Python 3 (ipykernel)",
   "language": "python",
   "name": "python3"
  },
  "language_info": {
   "codemirror_mode": {
    "name": "ipython",
    "version": 3
   },
   "file_extension": ".py",
   "mimetype": "text/x-python",
   "name": "python",
   "nbconvert_exporter": "python",
   "pygments_lexer": "ipython3",
   "version": "3.9.17"
  }
 },
 "nbformat": 4,
 "nbformat_minor": 5
}
