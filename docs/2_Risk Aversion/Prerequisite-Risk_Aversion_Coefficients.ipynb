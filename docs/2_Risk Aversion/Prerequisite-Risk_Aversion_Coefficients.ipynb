{
 "cells": [
  {
   "cell_type": "markdown",
   "id": "8f59833b-e5cc-4bd3-8cf6-aebeaf8d4e91",
   "metadata": {},
   "source": [
    "# Prerequisite: Risk Aversion Coefficients"
   ]
  },
  {
   "cell_type": "markdown",
   "id": "a8c65422-7574-45ad-baa6-dc8c29fd665a",
   "metadata": {},
   "source": [
    "Risk aversion coefficients refer to parameters or measures in a utility function that quantify an individual's or investor's degree of risk aversion—i.e., their preference for avoiding uncertainty or potential losses over seeking higher returns. \n",
    "## Definition\n",
    "\n",
    "Risk aversion coefficients are numerical values embedded in utility functions that reflect how much an individual dislikes risk. They indicate the trade-off between expected return and the variability (or risk) of outcomes.\n",
    "These coefficients are derived from the curvature of the utility function, which determines how the marginal utility of wealth decreases as wealth increases.\n"
   ]
  },
  {
   "cell_type": "markdown",
   "id": "cb9a84d5-33e5-4d87-aade-a63a4b553c46",
   "metadata": {},
   "source": [
    "\n",
    "## Types and Examples\n",
    "\n",
    "### Constant Absolute Risk Aversion (CARA):\n",
    "\n",
    "- Utility function: $ u(Y) = -e^{-\\alpha Y} $ (from your earlier example).\n",
    "- Coefficient: $ \\alpha > 0 $.\n",
    "- Meaning: $ \\alpha $ measures the degree of absolute risk aversion. A higher $ \\alpha $ indicates greater aversion to absolute changes in wealth, regardless of the wealth level.\n",
    "\n",
    "\n",
    "### Constant Relative Risk Aversion (CRRA):\n",
    "\n",
    "- Utility function: $ u(Y) = \\frac{1}{1-\\rho} Y^{1-\\rho} $ (from your example, with $ \\rho > 0 $ and $ \\rho \\neq 1 $).\n",
    "- Coefficient: $ \\rho $ (also called the relative risk aversion coefficient).\n",
    "- Meaning: $ \\rho $ measures the degree of relative risk aversion, scaled by wealth. A higher $ \\rho $ indicates greater aversion to proportional risks (e.g., percentage losses).\n",
    "\n",
    "\n",
    "### Log Utility (Special Case of CRRA):\n",
    "\n",
    "- Utility function: $ u(Y) = \\ln(Y) $ (from your example).\n",
    "- Coefficient: Implied $ \\rho = 1 $ (as $ \\lim_{\\rho \\to 1} \\frac{Y^{1-\\rho}}{1-\\rho} = \\ln(Y) $).\n",
    "- Meaning: Represents moderate relative risk aversion, common in models assuming constant proportional risk tolerance.\n",
    "\n",
    "\n",
    "### Quadratic Utility:\n",
    "\n",
    "- Utility function: $ u(Y) = \\alpha Y - \\beta Y^2 $ (from your example, with $ \\alpha, \\beta > 0 $).\n",
    "- Coefficient: Related to $ \\beta $, which introduces risk aversion through the quadratic term. Higher $ \\beta $ increases aversion to wealth variability.\n",
    "- Note: This form implies risk aversion decreases at very high wealth levels, which is less common in practice.\n",
    "\n",
    "\n"
   ]
  },
  {
   "cell_type": "markdown",
   "id": "f375725a-1391-4e7d-a662-d84c08b2b3e3",
   "metadata": {},
   "source": [
    "## Mathematical Insight\n",
    "\n",
    "Absolute Risk Aversion (ARA): $ A(Y) = -\\frac{u''(Y)}{u'(Y)} $.\n",
    "\n",
    "For $ u(Y) = -e^{-\\alpha Y} $, $ A(Y) = \\alpha $ (constant).\n",
    "\n",
    "\n",
    "Relative Risk Aversion (RRA): $ R(Y) = Y \\cdot A(Y) $.\n",
    "\n",
    "For $ u(Y) = \\frac{1}{1-\\rho} Y^{1-\\rho} $, $ R(Y) = \\rho $ (constant).\n",
    "\n",
    "\n",
    "These coefficients are derived from the first and second derivatives of the utility function, showing how risk aversion changes with wealth.\n",
    "\n"
   ]
  },
  {
   "cell_type": "markdown",
   "id": "14675043-2a6c-4bdb-bc10-a34d57114941",
   "metadata": {},
   "source": [
    "## Relevance in Finance\n",
    "\n",
    "Portfolio Choice: Risk aversion coefficients determine the optimal allocation between risky assets (e.g., stocks) and risk-free assets (e.g., bonds). Higher aversion (larger $ \\alpha $ or $ \\rho $) leads to more conservative investments.\n",
    "Asset Pricing: Models like the Capital Asset Pricing Model (CAPM) or intertemporal models use these coefficients to assess market risk premiums.\n",
    "Insurance and Derivatives: They help explain demand for hedging or insurance products.\n",
    "In your GSF/NFN research, these coefficients might appear in expected utility maximization problems or stochastic optimization models.\n",
    "\n"
   ]
  },
  {
   "cell_type": "markdown",
   "id": "becd7b13-65b5-49a4-8b9d-75b1216038f0",
   "metadata": {},
   "source": [
    "## Summary\n",
    "Risk aversion coefficients (e.g., $ \\alpha $, $ \\rho $, or $ \\beta $) are parameters in utility functions that measure an individual's unwillingness to take risks. They guide financial decisions by quantifying how much extra return is needed to compensate for risk, with specific forms like CARA and CRRA being widely used in finance.\n"
   ]
  },
  {
   "cell_type": "markdown",
   "id": "d475717c-2be6-4921-9125-5b2757d0dac6",
   "metadata": {},
   "source": []
  }
 ],
 "metadata": {
  "kernelspec": {
   "display_name": "Python 3 (ipykernel)",
   "language": "python",
   "name": "python3"
  },
  "language_info": {
   "codemirror_mode": {
    "name": "ipython",
    "version": 3
   },
   "file_extension": ".py",
   "mimetype": "text/x-python",
   "name": "python",
   "nbconvert_exporter": "python",
   "pygments_lexer": "ipython3",
   "version": "3.9.17"
  }
 },
 "nbformat": 4,
 "nbformat_minor": 5
}
