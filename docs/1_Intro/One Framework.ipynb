{
 "cells": [
  {
   "cell_type": "markdown",
   "id": "d9fd36af-6739-41d6-b748-f4faadf6dbe7",
   "metadata": {},
   "source": [
    "# One Framework"
   ]
  },
  {
   "cell_type": "markdown",
   "id": "d98860e0-b016-49aa-8108-60c762a7fa60",
   "metadata": {},
   "source": [
    "\"Important for asset pricing to take uncertainty into account; uncertainty about future dividends, prices, labor income, ....\" 是金融经济学中**资产定价理论**的一个核心观点。\n",
    "\n",
    "资产定价是金融学的核心分支，研究金融资产（如股票、债券、衍生品等）的市场价格是如何确定的。\n",
    "\n",
    "一个资产的理论价格通常是其**未来预期现金流**（如股息、利息、最终售价）的**折现值**。\n",
    "\n",
    "**State-Price deflator, or Stochastic Discount Factor, or Pricing Kernel** 这是更现代和严谨的方法。它使用一个**随机因子 $M$** 来折现未来现金流。这个因子 $M$ 包含了所有关于宏观经济和风险的信息。\n",
    "    $$P_t = E_t[M_{t+1} \\cdot \\text{Cash Flow}_{t+1}]$$\n",
    "\n",
    "这句话强调，一个资产的合理价格**不仅取决于它未来能带来多少现金流（预期值）**，**还取决于这些现金流的不确定性有多大**。不确定性越高，资产的价格就会越低（因为折现要求更高），这就是风险在定价中的体现。"
   ]
  }
 ],
 "metadata": {
  "kernelspec": {
   "display_name": "Python 3 (ipykernel)",
   "language": "python",
   "name": "python3"
  },
  "language_info": {
   "codemirror_mode": {
    "name": "ipython",
    "version": 3
   },
   "file_extension": ".py",
   "mimetype": "text/x-python",
   "name": "python",
   "nbconvert_exporter": "python",
   "pygments_lexer": "ipython3",
   "version": "3.9.17"
  }
 },
 "nbformat": 4,
 "nbformat_minor": 5
}
