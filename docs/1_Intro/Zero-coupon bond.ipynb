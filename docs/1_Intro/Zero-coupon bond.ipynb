{
 "cells": [
  {
   "cell_type": "markdown",
   "id": "3dfa9ff8-0110-4177-8e4d-5f56d02056ed",
   "metadata": {},
   "source": [
    "## Zero-coupon bond"
   ]
  },
  {
   "cell_type": "markdown",
   "id": "400947e6-dfc9-487b-89dc-e0ec9da93d92",
   "metadata": {},
   "source": [
    "\n",
    "### 无风险贴现因子的计算（折现率）\n",
    "\n",
    "**理论基础：** 零息债券（Zero-Coupon Bond）的现值就是无风险的折现值，它代表了今天投资一定金额，在 $t$ 期后能获得面值回报的市场价格。\n",
    "\n",
    "**所用公式：**\n",
    "\n",
    "**$t$ 期的无风险贴现因子 $B(0, t)$：**\n",
    "$$B(0, t) = \\frac{\\text{债券价格}_t}{\\text{债券面值}_t}$$\n",
    "\n",
    "* **一年期贴现因子 $B(0, 1)$：**\n",
    "    $$B(0, 1) = \\frac{960}{1000} = 0.96$$\n",
    "* **两年期贴现因子 $B(0, 2)$：**\n",
    "    $$B(0, 2) = \\frac{929.02}{1000} = 0.92902$$\n"
   ]
  },
  {
   "cell_type": "markdown",
   "id": "43a064d8-540a-411a-8bca-41d0e7ae914d",
   "metadata": {},
   "source": []
  }
 ],
 "metadata": {
  "kernelspec": {
   "display_name": "Python 3 (ipykernel)",
   "language": "python",
   "name": "python3"
  },
  "language_info": {
   "codemirror_mode": {
    "name": "ipython",
    "version": 3
   },
   "file_extension": ".py",
   "mimetype": "text/x-python",
   "name": "python",
   "nbconvert_exporter": "python",
   "pygments_lexer": "ipython3",
   "version": "3.9.17"
  }
 },
 "nbformat": 4,
 "nbformat_minor": 5
}
