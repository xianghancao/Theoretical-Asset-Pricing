{
 "cells": [
  {
   "cell_type": "markdown",
   "id": "3dfa9ff8-0110-4177-8e4d-5f56d02056ed",
   "metadata": {},
   "source": [
    "## Zero-coupon bond"
   ]
  },
  {
   "cell_type": "markdown",
   "id": "400947e6-dfc9-487b-89dc-e0ec9da93d92",
   "metadata": {},
   "source": []
  }
 ],
 "metadata": {
  "kernelspec": {
   "display_name": "Python 3 (ipykernel)",
   "language": "python",
   "name": "python3"
  },
  "language_info": {
   "codemirror_mode": {
    "name": "ipython",
    "version": 3
   },
   "file_extension": ".py",
   "mimetype": "text/x-python",
   "name": "python",
   "nbconvert_exporter": "python",
   "pygments_lexer": "ipython3",
   "version": "3.9.17"
  }
 },
 "nbformat": 4,
 "nbformat_minor": 5
}
