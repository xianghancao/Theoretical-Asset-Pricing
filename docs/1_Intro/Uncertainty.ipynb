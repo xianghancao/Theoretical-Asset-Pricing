{
 "cells": [
  {
   "cell_type": "markdown",
   "id": "8f7b2233-4fb6-4b95-adee-703e4ca40c3b",
   "metadata": {},
   "source": [
    "# Uncertainty"
   ]
  },
  {
   "cell_type": "markdown",
   "id": "0498f850-e4d7-4d36-b84e-daefd45abb8a",
   "metadata": {},
   "source": [
    "## Definition"
   ]
  },
  {
   "cell_type": "markdown",
   "id": "018fce91-01a3-4757-ba8b-91b88d6d5745",
   "metadata": {},
   "source": [
    "这个说法 \"Important for asset pricing to take uncertainty into account; uncertainty about future dividends, prices, labor income, ....\" 是金融经济学中**资产定价理论**的一个核心观点。\n",
    "\n",
    "它的意思是：\n",
    "\n",
    "> **在资产定价中，将不确定性（或风险）纳入考量至关重要；这些不确定性包括未来股息、未来价格、未来劳动收入等。**\n",
    "\n",
    "\n",
    "资产定价是金融学的核心分支，研究金融资产（如股票、债券、衍生品等）的市场价格是如何确定的。\n",
    "\n",
    "一个资产的理论价格通常是其**未来预期现金流**（如股息、利息、最终售价）的**折现值**。\n",
    "\n",
    "$$P_t = E_t \\left[ \\sum_{k=1}^T \\beta^k \\cdot \\text{Cash Flow}_{t+k} \\right]$$\n",
    "（这是一个简化表示，更精确的模型使用随机折现因子。）\n",
    "\n",
    "#### 2. 不确定性（Uncertainty / Risk）\n",
    "\n",
    "“不确定性”是指未来经济变量、现金流或资产价格的**变动范围**和**不可预测性**。在金融学中，“不确定性”和“风险”通常可以互换使用，特指资产未来收益的不确定性。\n",
    "\n",
    "**为什么必须考虑不确定性？**\n",
    "\n",
    "因为投资者厌恶风险（Risk Aversion）。如果两个资产的预期收益相同，投资者会选择风险更低的那一个。为了让投资者愿意持有高风险资产，该资产必须提供一个**风险溢价**。\n",
    "\n",
    "#### 3. 不确定性来源\n",
    "\n",
    "列举的几个例子是资产定价模型中最主要的风险驱动因素：\n",
    "\n",
    "* **未来股息 (Future Dividends)：** 公司的盈利和派息政策是不确定的。\n",
    "* **未来价格 (Future Prices)：** 资产未来的出售价格（资本利得）是不确定的。\n",
    "* **劳动收入 (Labor Income)：** 对于个人投资者而言，其未来的工资收入（人力资本）也是不确定的，这会影响他们的储蓄和投资决策。\n",
    "\n",
    "#### 4. 如何纳入考量（The Mechanism）\n",
    "\n",
    "在资产定价中纳入不确定性，主要是通过以下方式：\n",
    "\n",
    "1.  **风险调整折现率 (Risk-Adjusted Discount Rate)：** 风险越高的现金流，应该使用越高的折现率 $\\text{r}$ 来折现，从而得到一个较低的现值（价格）。\n",
    "    $$P = \\frac{E[\\text{Cash Flow}]}{1 + \\text{r}}$$\n",
    "2.  **随机折现因子 (Stochastic Discount Factor, SDF) 或 定价核 (Pricing Kernel)：** 这是更现代和严谨的方法。它使用一个**随机因子 $M$** 来折现未来现金流。这个因子 $M$ 包含了所有关于宏观经济和风险的信息。\n",
    "    $$P_t = E_t[M_{t+1} \\cdot \\text{Cash Flow}_{t+1}]$$\n",
    "\n",
    "**结论：**\n",
    "\n",
    "这句话强调，一个资产的合理价格**不仅取决于它未来能带来多少现金流（预期值）**，**还取决于这些现金流的不确定性有多大**。不确定性越高，资产的价格就会越低（因为折现要求更高），这就是风险在定价中的体现。"
   ]
  },
  {
   "cell_type": "markdown",
   "id": "7f444730-bdea-417e-85d6-64aea5dfe99f",
   "metadata": {},
   "source": []
  },
  {
   "cell_type": "markdown",
   "id": "05e6dd8f-ad4f-4b4a-bb13-1ae1742d7bc3",
   "metadata": {},
   "source": []
  }
 ],
 "metadata": {
  "kernelspec": {
   "display_name": "Python 3 (ipykernel)",
   "language": "python",
   "name": "python3"
  },
  "language_info": {
   "codemirror_mode": {
    "name": "ipython",
    "version": 3
   },
   "file_extension": ".py",
   "mimetype": "text/x-python",
   "name": "python",
   "nbconvert_exporter": "python",
   "pygments_lexer": "ipython3",
   "version": "3.9.17"
  }
 },
 "nbformat": 4,
 "nbformat_minor": 5
}
