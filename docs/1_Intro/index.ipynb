{
 "cells": [
  {
   "cell_type": "markdown",
   "id": "9fa216b1-73e4-4979-bd5c-43078045197c",
   "metadata": {},
   "source": [
    "# 1 Intro"
   ]
  },
  {
   "cell_type": "markdown",
   "id": "3391e4f1-d769-4b13-9e14-4a316cb63e53",
   "metadata": {},
   "source": [
    "## Questions"
   ]
  },
  {
   "cell_type": "markdown",
   "id": "9e4a4e68-7aa6-496d-8956-022a81a51e9e",
   "metadata": {},
   "source": []
  }
 ],
 "metadata": {
  "kernelspec": {
   "display_name": "Python 3 (ipykernel)",
   "language": "python",
   "name": "python3"
  },
  "language_info": {
   "codemirror_mode": {
    "name": "ipython",
    "version": 3
   },
   "file_extension": ".py",
   "mimetype": "text/x-python",
   "name": "python",
   "nbconvert_exporter": "python",
   "pygments_lexer": "ipython3",
   "version": "3.9.17"
  }
 },
 "nbformat": 4,
 "nbformat_minor": 5
}
