{
 "cells": [
  {
   "cell_type": "markdown",
   "id": "b9514889-a7e8-4e53-aebd-f7adb6a03734",
   "metadata": {},
   "source": [
    "# Asset"
   ]
  },
  {
   "cell_type": "markdown",
   "id": "2dc622f0-6235-447f-b963-b22535965ac2",
   "metadata": {},
   "source": [
    "## 1. Definition"
   ]
  },
  {
   "cell_type": "markdown",
   "id": "c64512b1-e242-453e-a016-12bda1b57413",
   "metadata": {},
   "source": [
    "> An asset is characterized by its dividends and its price.\n",
    "> -----Munk"
   ]
  },
  {
   "cell_type": "markdown",
   "id": "6eef03eb-17ae-48c2-9656-9e5f2b01ea4f",
   "metadata": {},
   "source": [
    "一项金融资产（尤其是股票等权益资产）的全部价值和特性，可以由其在整个持有期内产生的两种现金流来定义：\n",
    "\n",
    "### 1.1. 股息 (Dividends) \n",
    "\n",
    "股息代表资产在持有期间，定期（如季度或年度）支付给所有者的现金流(Income)。\n",
    "\n",
    "* 特点： 它是持有资产的直接回报。对于股票，股息是公司将利润的一部分分给股东；对于债券，这是定期的利息（息票）。\n",
    "* 在定价中的作用： 它构成了资产未来现金流中的“收益”部分。\n"
   ]
  },
  {
   "cell_type": "markdown",
   "id": "6e1b0d6f-9a84-47f3-8fa8-b5626e301792",
   "metadata": {},
   "source": [
    "\n",
    "### 1.2. 价格 (Price)\n",
    "\n",
    "价格代表资产本身的市场价值。\n",
    "\n",
    "* 特点： 投资者可以通过在未来的某个时点以高于买入时的价格卖出资产来获得回报，这被称为资本利得 (Capital Gain)。\n",
    "* 在定价中的作用： 价格体现了市场对该资产未来所有剩余现金流（包括未来的股息和最终卖出价格）的现值评估。\n"
   ]
  },
  {
   "cell_type": "markdown",
   "id": "14ccf8d0-65ef-4913-9371-1749a1534455",
   "metadata": {},
   "source": [
    "\n",
    "### 1.3 无套利原则\n",
    "\n",
    "在金融学中，任何资产的理论价值可以简化为一个两期模型：\n",
    "\n",
    "$$\\text{Asset Price}_t = E_t \\left[ \\frac{\\text{Dividend}_{t+1} + \\text{Price}_{t+1}}{1 + \\text{Discount Rate}} \\right]$$\n",
    "\n",
    "这个公式说明：资产今天的价格 ($Price_t$) 等于下一期预期的所有回报（股息 $Dividend_{t+1}$ 加上下一期价格 $Price_{t+1}$），经过风险调整后的折现。\n",
    "\n",
    "* 递归与最终价值： 虽然 $Price_{t+1}$ 仍然是未来的价格，但它可以被其自身的未来股息和价格所替代。如果我们不断代入，最终资产的价格可以被表示为所有未来预期的股息的现值（这个过程称为 股息贴现模型，DDM）：\n",
    "\n",
    "$$\\text{Price}_t = \\sum_{k=1}^\\infty E_t \\left[ \\frac{\\text{Dividend}_{t+k}}{(1 + \\text{Discount Rate})^k} \\right]$$\n",
    "\n",
    "因此，在理论上：\n",
    "\n",
    "1.  资产的全部价值来源就是它未来能产生的所有股息（或现金流）。\n",
    "2.  资产的市场价格就是市场对这些未来股息的集合估值。\n",
    "\n",
    "总结： 股息是资产的“基本面产出”，价格是资产的“市场估值”。这两者是描述和分析一个资产回报与风险特征的全部要素。"
   ]
  },
  {
   "cell_type": "markdown",
   "id": "b6dbf91a-972b-4919-abb1-907ed1de682f",
   "metadata": {},
   "source": []
  }
 ],
 "metadata": {
  "kernelspec": {
   "display_name": "Python 3 (ipykernel)",
   "language": "python",
   "name": "python3"
  },
  "language_info": {
   "codemirror_mode": {
    "name": "ipython",
    "version": 3
   },
   "file_extension": ".py",
   "mimetype": "text/x-python",
   "name": "python",
   "nbconvert_exporter": "python",
   "pygments_lexer": "ipython3",
   "version": "3.9.17"
  }
 },
 "nbformat": 4,
 "nbformat_minor": 5
}
