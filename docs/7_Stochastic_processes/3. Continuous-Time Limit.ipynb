{
 "cells": [
  {
   "cell_type": "markdown",
   "id": "0bec5dac-a398-4154-a80d-9333e1dca1f0",
   "metadata": {},
   "source": [
    "# 3. Continuous-Time Limit"
   ]
  },
  {
   "cell_type": "markdown",
   "id": "95ea102a-6eb7-48f1-b297-40386d8593af",
   "metadata": {},
   "source": [
    "## Continuous-Time Limit\n",
    "\n",
    "Limit as $ \\Delta t \\to 0 $:\n",
    "\n",
    "As $ \\Delta t \\to 0 $, the number of intervals $ n \\to \\infty $. By the Central Limit Theorem, the sum of independent, identically distributed $ \\tilde{\\epsilon}_i $:\n",
    "$$\\lim_{n \\to \\infty} (z(T) - z(0)) = \\lim_{\\Delta t \\to 0} (z(T) - z(0)) \\sim N(0, T)$$\n",
    "\n",
    "The change $ z(T) - z(0) $ is normally distributed with mean 0 and variance $ T $.\n",
    "\n",
    "\n",
    "Differential Form:\n",
    "\n",
    "In the continuous-time limit:\n",
    "$$dz(t) = \\lim_{\\Delta t \\to 0} \\Delta z = \\lim_{\\Delta t \\to 0} \\sqrt{\\Delta t} \\, \\tilde{\\epsilon}$$\n",
    "or, in shorthand:\n",
    "$$dz = \\tilde{\\epsilon} \\sqrt{dt}$$\n",
    "\n",
    "Moments:\n",
    "$$E[dz] = 0, \\quad \\text{Var}[dz] = dt$$\n",
    "\n",
    "This defines a pure Brownian motion or Wiener process.\n",
    "\n"
   ]
  },
  {
   "cell_type": "markdown",
   "id": "ff2dcb99-67ce-4468-bd02-44590a2d1899",
   "metadata": {},
   "source": []
  }
 ],
 "metadata": {
  "kernelspec": {
   "display_name": "Python 3 (ipykernel)",
   "language": "python",
   "name": "python3"
  },
  "language_info": {
   "codemirror_mode": {
    "name": "ipython",
    "version": 3
   },
   "file_extension": ".py",
   "mimetype": "text/x-python",
   "name": "python",
   "nbconvert_exporter": "python",
   "pygments_lexer": "ipython3",
   "version": "3.9.17"
  }
 },
 "nbformat": 4,
 "nbformat_minor": 5
}
