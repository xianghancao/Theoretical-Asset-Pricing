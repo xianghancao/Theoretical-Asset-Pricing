{
 "cells": [
  {
   "cell_type": "markdown",
   "id": "cb592412-c17f-46be-a8c1-58ab5c301ed3",
   "metadata": {},
   "source": [
    "# 2. Markov Property"
   ]
  },
  {
   "cell_type": "markdown",
   "id": "fa04a037-0565-4d69-8303-7ef685cbb902",
   "metadata": {},
   "source": [
    "## Change Over a Finite Interval\n",
    "\n",
    "Setup: Consider a fixed interval $[0, T]$ divided into $ n $ small intervals of length $ \\Delta t = T/n $. The total change in $ z(t) $ is:\n",
    "$$z(T) - z(0) = \\sum_{i=1}^n \\Delta z_i$$\n",
    "where $ \\Delta z_i = z(i \\Delta t) - z((i-1) \\Delta t) = \\sqrt{\\Delta t} \\, \\tilde{\\epsilon}_i $, and $ \\tilde{\\epsilon}_i $ are independent random variables with $ E[\\tilde{\\epsilon}_i] = 0 $, $ \\text{Var}[\\tilde{\\epsilon}_i] = 1 $.\n",
    "Expression:\n",
    "$$z(T) - z(0) = \\sqrt{\\Delta t} \\sum_{i=1}^n \\tilde{\\epsilon}_i$$\n",
    "\n",
    "Moments:\n",
    "$$E_0[z(T) - z(0)] = \\sqrt{\\Delta t} \\sum_{i=1}^n E_0[\\tilde{\\epsilon}_i] = 0$$\n",
    "$$\\text{Var}_0[z(T) - z(0)] = \\text{Var}_0\\left[\\sqrt{\\Delta t} \\sum_{i=1}^n \\tilde{\\epsilon}_i\\right] = \\Delta t \\sum_{i=1}^n \\text{Var}_0[\\tilde{\\epsilon}_i] = \\Delta t \\cdot n \\cdot 1 = T$$\n",
    "$$\\text{Std}_0[z(T) - z(0)] = \\sqrt{T}$$\n",
    "\n"
   ]
  },
  {
   "cell_type": "markdown",
   "id": "8f67830f-e03f-4c1f-8b3d-879e7c0360ef",
   "metadata": {},
   "source": []
  }
 ],
 "metadata": {
  "kernelspec": {
   "display_name": "Python 3 (ipykernel)",
   "language": "python",
   "name": "python3"
  },
  "language_info": {
   "codemirror_mode": {
    "name": "ipython",
    "version": 3
   },
   "file_extension": ".py",
   "mimetype": "text/x-python",
   "name": "python",
   "nbconvert_exporter": "python",
   "pygments_lexer": "ipython3",
   "version": "3.9.17"
  }
 },
 "nbformat": 4,
 "nbformat_minor": 5
}
