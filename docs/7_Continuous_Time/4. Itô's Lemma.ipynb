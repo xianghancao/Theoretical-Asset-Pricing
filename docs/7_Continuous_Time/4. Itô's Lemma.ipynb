{
 "cells": [
  {
   "cell_type": "markdown",
   "id": "4579d199-4ef4-4e3c-af3a-2cab8b9759c0",
   "metadata": {},
   "source": [
    "# Itô's Lemma"
   ]
  },
  {
   "cell_type": "markdown",
   "id": "51842b01-1488-410b-bbff-7435eb90ab47",
   "metadata": {},
   "source": [
    "## 1. Definition"
   ]
  },
  {
   "cell_type": "markdown",
   "id": "7b7999fe-814d-4f81-8411-80214cae2406",
   "metadata": {},
   "source": [
    "### 1.1 Itô process "
   ]
  },
  {
   "cell_type": "markdown",
   "id": "9df9e43b-1097-4241-b345-42bc1d62a59e",
   "metadata": {},
   "source": [
    "Define the Itô Process $ X_t $:\n",
    "\n",
    "Let $ X_t $ follow an Itô process of the form:\n",
    "$$dX_t = \\mu(X_t, t) dt + \\sigma(X_t, t) dz_t$$\n",
    "where $ \\mu(X_t, t) $ is the drift term, $ \\sigma(X_t, t) $ is the diffusion term, and $ dz_t $ is the increment of a Wiener process."
   ]
  },
  {
   "cell_type": "markdown",
   "id": "2f076a74-78e3-4578-ba58-3de0fbb4463e",
   "metadata": {},
   "source": [
    "### 1.2 Itô's lemma"
   ]
  },
  {
   "cell_type": "markdown",
   "id": "f442bc44-b851-4d2b-88aa-2afdb461d223",
   "metadata": {},
   "source": [
    "> **Theorem(Itô's lemma)**, a fundamental theorem in stochastic calculus  \n",
    "> *Let $ x(t) $ follow the Itô process:\n",
    "$$dX_t = \\mu(X_t, t) dt + \\sigma(X_t, t) dz$$\n",
    ">Let $ F(X_t, t) $ be a function of an Itô process $ X_t $ and time $t$, and at least twice differentiable. Then, $ dF $ follows the process:\n",
    "> $$ dF = \\left[ \\frac{\\partial F}{\\partial X} \\mu(X, t) + \\frac{\\partial F}{\\partial t} + \\frac{1}{2} \\frac{\\partial^2 F}{\\partial X^2} \\sigma^2(X, t) \\right] dt + \\frac{\\partial F}{\\partial X} \\sigma(X, t) dz$$*\n"
   ]
  },
  {
   "cell_type": "markdown",
   "id": "416e4c4e-94d2-4bca-ab7c-0e6663f8b276",
   "metadata": {},
   "source": [
    "\n",
    "This implies $ F(X_t, t) $ also follows an Itô process with a drift rate of:\n",
    "$$\\left[ \\frac{\\partial F}{\\partial X} \\mu(X, t) + \\frac{\\partial F}{\\partial t} + \\frac{1}{2} \\frac{\\partial^2 F}{\\partial X^2} \\sigma^2(X, t) \\right]$$\n",
    "and a variance rate of:\n",
    "$$\\left( \\frac{\\partial F}{\\partial X} \\right)^2 \\sigma^2(X, t)$$\n",
    "Note that both $ X_t $ and $ F(X_t, t) $ depend on the same source of uncertainty captured by $ dz $."
   ]
  },
  {
   "cell_type": "markdown",
   "id": "f0c8f3c0-693a-4e70-8b09-4a72af513a4e",
   "metadata": {},
   "source": [
    "### 1.3 Itô calculus rules"
   ]
  },
  {
   "cell_type": "markdown",
   "id": "154757bd-da07-465a-a880-322390a5b0a3",
   "metadata": {},
   "source": [
    "Due to the properties of Wiener processes:\n",
    "\\begin{align}(dt)^2 = 0 \\\\  dt \\cdot dz = 0 \\\\  (dz)^2 = dt \\end{align}"
   ]
  },
  {
   "cell_type": "markdown",
   "id": "bff8c2aa-6f67-48f4-b615-7a42f47d8c0c",
   "metadata": {},
   "source": [
    "\n",
    "Thus, $ (dX)^2 = (\\sigma dz)^2 = \\sigma^2 (dz)^2 = \\sigma^2 dt $."
   ]
  },
  {
   "cell_type": "markdown",
   "id": "bc258639-078b-461c-a698-b656af557d64",
   "metadata": {},
   "source": [
    "$$ dF=\\frac{\\partial F}{\\partial X} dX + \\frac{\\partial F}{\\partial t} dt + \\frac{1}{2} \\frac{\\partial^2 F}{\\partial X^2} (dX)^2$$"
   ]
  },
  {
   "cell_type": "markdown",
   "id": "0bd051fd-872f-4429-8d97-1a32d8f8dacb",
   "metadata": {},
   "source": [
    "## 2. Example"
   ]
  },
  {
   "cell_type": "markdown",
   "id": "6a425388-daac-4aa7-9534-97e2fe0a4d1b",
   "metadata": {},
   "source": []
  }
 ],
 "metadata": {
  "kernelspec": {
   "display_name": "Python 3 (ipykernel)",
   "language": "python",
   "name": "python3"
  },
  "language_info": {
   "codemirror_mode": {
    "name": "ipython",
    "version": 3
   },
   "file_extension": ".py",
   "mimetype": "text/x-python",
   "name": "python",
   "nbconvert_exporter": "python",
   "pygments_lexer": "ipython3",
   "version": "3.9.17"
  }
 },
 "nbformat": 4,
 "nbformat_minor": 5
}
