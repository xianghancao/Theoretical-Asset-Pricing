{
 "cells": [
  {
   "cell_type": "markdown",
   "id": "648dbdd1-0f13-495c-8296-2d644c683ff2",
   "metadata": {},
   "source": [
    "# Geometric Brownian Motion"
   ]
  },
  {
   "cell_type": "markdown",
   "id": "579c713e-8d0e-4c64-82fb-d896bf838adb",
   "metadata": {},
   "source": [
    "## 1. Definition"
   ]
  },
  {
   "cell_type": "markdown",
   "id": "7a8f97ec-4b07-4438-81ac-ccd4aa705d3b",
   "metadata": {},
   "source": [
    "A stock price modeled using **geometric Brownian Motion(GBM)** is:  \n",
    "Let $ S $ be the price of a stock. Then the stochastic differential equation (SDE):\n",
    "$$dS = \\mu S dt + \\sigma S dz,$$\n",
    "where:\n",
    "\n",
    "- $ \\mu $ is the drift rate,\n",
    "- $ \\sigma $ is the volatility,\n",
    "- $z$ is a standard Brownian motion (Wiener process)\n",
    "- $ dt $ is the time increment,\n",
    "- $ dz $ is the increment of a Wiener process.\n",
    "\n",
    "\n",
    "This implies that:\n",
    "\n",
    "$$\\frac{dS}{S} = \\mu dt + \\sigma dz.$$\n",
    "\n",
    "\n",
    "It represents the relative change in the stock price as a stochastic differential equation, combining a deterministic drift term $ \\mu dt $ and a random volatility term $ \\sigma dz $."
   ]
  },
  {
   "cell_type": "markdown",
   "id": "b063a98a-d6f0-4db1-b81a-a902a3a55903",
   "metadata": {},
   "source": []
  }
 ],
 "metadata": {
  "kernelspec": {
   "display_name": "Python 3 (ipykernel)",
   "language": "python",
   "name": "python3"
  },
  "language_info": {
   "codemirror_mode": {
    "name": "ipython",
    "version": 3
   },
   "file_extension": ".py",
   "mimetype": "text/x-python",
   "name": "python",
   "nbconvert_exporter": "python",
   "pygments_lexer": "ipython3",
   "version": "3.9.17"
  }
 },
 "nbformat": 4,
 "nbformat_minor": 5
}
