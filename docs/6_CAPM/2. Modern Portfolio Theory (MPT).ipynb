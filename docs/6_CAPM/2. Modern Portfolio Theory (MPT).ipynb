{
 "cells": [
  {
   "cell_type": "markdown",
   "id": "edd0d57e-95a8-4144-8434-40209d43cf8a",
   "metadata": {},
   "source": [
    "# 2. Modern Portfolio Theory (MPT)"
   ]
  },
  {
   "cell_type": "markdown",
   "id": "e21548e0-8bd2-441d-ae92-e8fbdf5d8122",
   "metadata": {},
   "source": [
    "## Markowitz (1952)"
   ]
  },
  {
   "cell_type": "markdown",
   "id": "d48f81e8-59a1-4754-a7a8-7184de80e428",
   "metadata": {},
   "source": []
  }
 ],
 "metadata": {
  "kernelspec": {
   "display_name": "Python 3 (ipykernel)",
   "language": "python",
   "name": "python3"
  },
  "language_info": {
   "codemirror_mode": {
    "name": "ipython",
    "version": 3
   },
   "file_extension": ".py",
   "mimetype": "text/x-python",
   "name": "python",
   "nbconvert_exporter": "python",
   "pygments_lexer": "ipython3",
   "version": "3.9.17"
  }
 },
 "nbformat": 4,
 "nbformat_minor": 5
}
