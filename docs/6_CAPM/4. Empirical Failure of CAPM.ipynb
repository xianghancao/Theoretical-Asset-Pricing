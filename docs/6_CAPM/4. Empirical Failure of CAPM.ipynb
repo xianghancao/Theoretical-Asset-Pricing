{
 "cells": [
  {
   "cell_type": "markdown",
   "id": "0c6fcdce-16b7-47a3-899d-afba0fd12f7e",
   "metadata": {},
   "source": [
    "\n",
    "# 4. Empirical Failure of CAPM\n",
    "\n",
    "Early Tests (1960–1980):\n",
    "\n",
    "Supported CAPM, showing higher-beta portfolios had higher returns, but test portfolios may not have been robust.\n",
    "\n",
    "\n",
    "Modern Tests (Post-1980s):\n",
    "\n",
    "Banz (1981): Small-cap stocks yielded higher returns than CAPM predicted.\n",
    "Fama and French (1992): Value stocks (high book-to-market ratios) outperformed CAPM predictions.\n",
    "Test Data (1960–2020, 25 portfolios sorted by size and book-to-market):\n",
    "\n",
    "Value premium: Value stocks had higher returns but lower betas, contradicting CAPM.\n",
    "Cross-sectional regression showed a weak relationship between beta and returns (R² = 16%).\n",
    "Time-series regressions produced significant alphas, rejecting CAPM.\n",
    "\n",
    "\n",
    "\n",
    "\n",
    "Roll’s (1977) Critique:\n",
    "\n",
    "CAPM’s only testable implication is that the market portfolio is mean-variance efficient.\n",
    "If the proxy (e.g., CRSP value-weighted index) is not efficient, alphas are non-zero, leading to CAPM’s failure.\n",
    "\n",
    "\n",
    "Reasons for Failure:\n",
    "\n",
    "The proxy market portfolio may not represent the “true” market portfolio.\n",
    "Single-period model cannot capture dynamic risk premiums or multiple risk factors.\n",
    "\n",
    "\n",
    "\n"
   ]
  },
  {
   "cell_type": "markdown",
   "id": "c3709405-740e-407c-8deb-39625d4eaec2",
   "metadata": {},
   "source": []
  }
 ],
 "metadata": {
  "kernelspec": {
   "display_name": "Python 3 (ipykernel)",
   "language": "python",
   "name": "python3"
  },
  "language_info": {
   "codemirror_mode": {
    "name": "ipython",
    "version": 3
   },
   "file_extension": ".py",
   "mimetype": "text/x-python",
   "name": "python",
   "nbconvert_exporter": "python",
   "pygments_lexer": "ipython3",
   "version": "3.9.17"
  }
 },
 "nbformat": 4,
 "nbformat_minor": 5
}
