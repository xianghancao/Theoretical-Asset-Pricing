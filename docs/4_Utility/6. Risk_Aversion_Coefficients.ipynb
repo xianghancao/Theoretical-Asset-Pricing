{
 "cells": [
  {
   "cell_type": "markdown",
   "id": "8f59833b-e5cc-4bd3-8cf6-aebeaf8d4e91",
   "metadata": {},
   "source": [
    "# Risk Aversion Coefficients"
   ]
  },
  {
   "cell_type": "markdown",
   "id": "a8c65422-7574-45ad-baa6-dc8c29fd665a",
   "metadata": {},
   "source": [
    "## 1. Definition\n",
    "\n",
    "Risk aversion coefficients are numerical values embedded in utility functions that reflect how much an individual dislikes risk. They indicate the trade-off between expected return and the variability (or risk) of outcomes.\n",
    "\n",
    "These coefficients are derived from the curvature of the utility function, which determines how the marginal utility of wealth decreases as wealth increases.\n"
   ]
  },
  {
   "cell_type": "markdown",
   "id": "c72bac63-733c-4703-890f-acebafde2d81",
   "metadata": {},
   "source": [
    "## 2. Examples"
   ]
  },
  {
   "cell_type": "markdown",
   "id": "cb9a84d5-33e5-4d87-aade-a63a4b553c46",
   "metadata": {},
   "source": [
    "### Constant Absolute Risk Aversion (CARA):\n",
    "\n",
    "$$ U(Y) = -e^{-\\alpha Y} $$\n",
    "- Coefficient: $ \\alpha > 0 $.\n",
    "- Meaning: $ \\alpha $ measures the degree of absolute risk aversion. A higher $ \\alpha $ indicates greater aversion to absolute changes in wealth, regardless of the wealth level.\n",
    "\n",
    "\n",
    "### Constant Relative Risk Aversion (CRRA):\n",
    "\n",
    "$$ U(Y) = \\frac{1}{1-\\rho} Y^{1-\\rho} $$, with $ \\rho > 0 $ and $ \\rho \\neq 1 $\n",
    "- Coefficient: $ \\rho $ (also called the relative risk aversion coefficient).\n",
    "- Meaning: $ \\rho $ measures the degree of relative risk aversion, scaled by wealth. A higher $ \\rho $ indicates greater aversion to proportional risks (e.g., percentage losses).\n",
    "\n",
    "\n",
    "### Log Utility (Special Case of CRRA):\n",
    "\n",
    "$$ U(Y) = \\ln(Y) $$\n",
    "- Coefficient: Implied $ \\rho = 1 $ (as $ \\lim_{\\rho \\to 1} \\frac{Y^{1-\\rho}}{1-\\rho} = \\ln(Y) $).\n",
    "- Meaning: Represents moderate relative risk aversion, common in models assuming constant proportional risk tolerance.\n",
    "\n",
    "\n",
    "### Quadratic Utility:\n",
    "\n",
    "$$ U(Y) = \\alpha Y - \\beta Y^2 $$  with $ \\alpha, \\beta > 0 $\n",
    "- Coefficient: Related to $ \\beta $, which introduces risk aversion through the quadratic term. Higher $ \\beta $ increases aversion to wealth variability.\n",
    "- Note: This form implies risk aversion decreases at very high wealth levels, which is less common in practice.\n",
    "\n",
    "\n"
   ]
  },
  {
   "cell_type": "markdown",
   "id": "763bfda1-3bc9-46c9-b0eb-df2db0ef260c",
   "metadata": {},
   "source": [
    "### ARA"
   ]
  },
  {
   "cell_type": "markdown",
   "id": "4a0fd0a4-c79a-45df-b1c2-d5f5b36fb04c",
   "metadata": {},
   "source": [
    "### HARA"
   ]
  },
  {
   "cell_type": "markdown",
   "id": "8e3378d5-d463-47b2-b314-0c634983cb22",
   "metadata": {},
   "source": []
  }
 ],
 "metadata": {
  "kernelspec": {
   "display_name": "Python 3 (ipykernel)",
   "language": "python",
   "name": "python3"
  },
  "language_info": {
   "codemirror_mode": {
    "name": "ipython",
    "version": 3
   },
   "file_extension": ".py",
   "mimetype": "text/x-python",
   "name": "python",
   "nbconvert_exporter": "python",
   "pygments_lexer": "ipython3",
   "version": "3.9.17"
  }
 },
 "nbformat": 4,
 "nbformat_minor": 5
}
