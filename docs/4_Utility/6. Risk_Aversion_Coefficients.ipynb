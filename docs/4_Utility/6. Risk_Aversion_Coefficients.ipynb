{
 "cells": [
  {
   "cell_type": "markdown",
   "id": "8f59833b-e5cc-4bd3-8cf6-aebeaf8d4e91",
   "metadata": {},
   "source": [
    "# Risk Aversion Coefficients"
   ]
  },
  {
   "cell_type": "markdown",
   "id": "a8c65422-7574-45ad-baa6-dc8c29fd665a",
   "metadata": {},
   "source": [
    "## 1. Definition\n",
    "\n",
    "Risk aversion coefficients are numerical values embedded in utility functions that reflect how much an individual dislikes risk. They indicate the trade-off between expected return and the variability (or risk) of outcomes.\n",
    "\n",
    "These coefficients are derived from the curvature of the utility function, which determines how the marginal utility of wealth decreases as wealth increases.\n"
   ]
  },
  {
   "cell_type": "markdown",
   "id": "bda8b19f-bc84-4f44-9465-85f7754701b1",
   "metadata": {},
   "source": [
    "### 1.1 Comman risk aversion"
   ]
  },
  {
   "cell_type": "markdown",
   "id": "84af112a-bbf1-4d68-be91-410fa78d5864",
   "metadata": {},
   "source": [
    "#### Absolute risk aversion (ARA)"
   ]
  },
  {
   "cell_type": "markdown",
   "id": "0eb7b377-0baa-47fc-9319-6c979c762a03",
   "metadata": {},
   "source": [
    "ARA coefficient is "
   ]
  },
  {
   "cell_type": "markdown",
   "id": "9dbba7a5-a06b-4b7b-89b8-9af3500fcaf5",
   "metadata": {},
   "source": [
    "$$ R_A(c) \\equiv  -\\frac{u''(c)}{u'(c)} $$"
   ]
  },
  {
   "cell_type": "markdown",
   "id": "35f3e37c-06f0-41f4-afca-12c1521636c0",
   "metadata": {},
   "source": [
    "ARA meaures risk aversion for a given level of wealth."
   ]
  },
  {
   "cell_type": "markdown",
   "id": "e58ecee7-8101-4e17-9798-36b875908819",
   "metadata": {},
   "source": [
    "#### Relative risk aversion (RRA)"
   ]
  },
  {
   "cell_type": "markdown",
   "id": "6bf4e6d6-d638-4d67-b89c-fd69d891bab2",
   "metadata": {},
   "source": [
    "RRA coefficient is "
   ]
  },
  {
   "cell_type": "markdown",
   "id": "011e15f2-d4f9-470d-8d26-2729d5fd06f2",
   "metadata": {},
   "source": [
    "$$  R_R(c) \\equiv -  \\frac{u''(c)}{u'(c) } c $$"
   ]
  },
  {
   "cell_type": "markdown",
   "id": "3f959f83-cd90-4817-89d7-86a136176c83",
   "metadata": {},
   "source": [
    "RRA measures how relative amount of the wealth invested in risky assets change when the wealth level increases."
   ]
  },
  {
   "cell_type": "markdown",
   "id": "8e3378d5-d463-47b2-b314-0c634983cb22",
   "metadata": {},
   "source": []
  }
 ],
 "metadata": {
  "kernelspec": {
   "display_name": "Python 3 (ipykernel)",
   "language": "python",
   "name": "python3"
  },
  "language_info": {
   "codemirror_mode": {
    "name": "ipython",
    "version": 3
   },
   "file_extension": ".py",
   "mimetype": "text/x-python",
   "name": "python",
   "nbconvert_exporter": "python",
   "pygments_lexer": "ipython3",
   "version": "3.9.17"
  }
 },
 "nbformat": 4,
 "nbformat_minor": 5
}
