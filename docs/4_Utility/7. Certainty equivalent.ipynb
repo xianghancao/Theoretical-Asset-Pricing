{
 "cells": [
  {
   "cell_type": "markdown",
   "id": "4b9af2d5-c2ae-4287-9763-01c96db302dd",
   "metadata": {},
   "source": [
    "# Certainty equivalent and risk premium "
   ]
  },
  {
   "cell_type": "markdown",
   "id": "a99f4b16-26bd-4680-86cb-296485cf8045",
   "metadata": {},
   "source": [
    "# 1. Definition"
   ]
  },
  {
   "cell_type": "markdown",
   "id": "dbd35320-c24c-4e01-b259-5dfb05690d76",
   "metadata": {},
   "source": [
    "The **certainty equivalent** (CE) is the guaranteed amount of money that an individual would find equally as appealing as a risky investment. It is the sure-thing value that provides the same level of utility as the expected utility of a gamble.\n",
    "\n",
    "The CE is found by taking the inverse of the utility function of the expected utility from the gamble.\n",
    "* **Formula:** $U(CE) = E[U(W)]$\n",
    "    * $U$ is the individual's utility function.\n",
    "    * $CE$ is the certainty equivalent.\n",
    "    * $E[U(W)]$ is the expected utility of the risky wealth or gamble, which is the sum of the utility of each possible outcome multiplied by its probability.\n",
    "\n",
    "For a risk-averse person, the utility function is concave, which means that the certainty equivalent will always be less than the expected value of the gamble.\n",
    "\n"
   ]
  },
  {
   "cell_type": "markdown",
   "id": "8902a248-9326-44eb-b9a4-2d4f7cf29492",
   "metadata": {},
   "source": [
    "## 2. Example"
   ]
  },
  {
   "cell_type": "markdown",
   "id": "d6b62eb8-e4f6-44aa-b5a7-16b332461146",
   "metadata": {},
   "source": [
    "Video: [How to Solve for Certainty Equivalent and Risk Premium](https://www.youtube.com/watch?v=8LRuCrdL6Ro)"
   ]
  },
  {
   "cell_type": "markdown",
   "id": "a605163c-daa3-4ff7-870f-12f7ef49becd",
   "metadata": {},
   "source": []
  }
 ],
 "metadata": {
  "kernelspec": {
   "display_name": "Python 3 (ipykernel)",
   "language": "python",
   "name": "python3"
  },
  "language_info": {
   "codemirror_mode": {
    "name": "ipython",
    "version": 3
   },
   "file_extension": ".py",
   "mimetype": "text/x-python",
   "name": "python",
   "nbconvert_exporter": "python",
   "pygments_lexer": "ipython3",
   "version": "3.9.17"
  }
 },
 "nbformat": 4,
 "nbformat_minor": 5
}
