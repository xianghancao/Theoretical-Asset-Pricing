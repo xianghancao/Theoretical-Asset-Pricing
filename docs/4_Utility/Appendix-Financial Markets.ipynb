{
 "cells": [
  {
   "cell_type": "markdown",
   "id": "18865306-f488-472d-9930-0574772a1ba6",
   "metadata": {},
   "source": [
    "# Appendix: Assumption & Role of Financial Markets\n"
   ]
  },
  {
   "cell_type": "markdown",
   "id": "6d7b5a7f-3083-4380-b7d8-a94e2cecc542",
   "metadata": {},
   "source": [
    "## Core Assumption\n",
    "Core Assumption: Investors prefer a smooth consumption stream across both time and different states of nature.\n",
    "- Time Dimension: Investors aim to avoid sharp fluctuations in consumption over periods. Example: Given two plans with equal total consumption (12 units), investors prefer {6, 6} over {2, 10} for smoother consumption.\n",
    "- Risk Dimension: Investors prefer consistent consumption across possible future states. Example: Given two plans with equal expected consumption (11 units) across four equally likely states, investors favor a plan with uniform consumption over one with high variability (e.g., 20 units in one state, 4 in another).\n",
    "\n",
    "\n",
    "## Role of Financial Markets\n",
    "\n",
    "Role of Financial Markets:\n",
    "\n",
    "- Time: Borrowing allows increased consumption today at the expense of future consumption, while investing in assets (e.g., risk-free) shifts consumption to the future, with the risk-free rate as compensation for delay.\n",
    "- Risk: Assets with variable payoffs help diversify consumption risk. Example: An investor with a risky consumption plan {9, 20, 12, 8, 4} prefers an asset with payoffs {1, 2, 3, 4} (high payoffs when consumption is low) over {4, 3, 2, 1} (high payoffs when consumption is high), as it reduces consumption variability.\n"
   ]
  }
 ],
 "metadata": {
  "kernelspec": {
   "display_name": "Python 3 (ipykernel)",
   "language": "python",
   "name": "python3"
  },
  "language_info": {
   "codemirror_mode": {
    "name": "ipython",
    "version": 3
   },
   "file_extension": ".py",
   "mimetype": "text/x-python",
   "name": "python",
   "nbconvert_exporter": "python",
   "pygments_lexer": "ipython3",
   "version": "3.9.17"
  }
 },
 "nbformat": 4,
 "nbformat_minor": 5
}
