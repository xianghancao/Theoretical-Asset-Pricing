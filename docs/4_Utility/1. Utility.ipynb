{
 "cells": [
  {
   "cell_type": "markdown",
   "id": "9aae0f40-9be4-4dfb-b582-fa5b7578e05e",
   "metadata": {},
   "source": [
    "# Utility"
   ]
  },
  {
   "cell_type": "markdown",
   "id": "7d9a78b4-14b9-4168-a649-bf6be79647dc",
   "metadata": {},
   "source": [
    "## 1. Definition\n",
    "\n",
    "\"Utility\" refers to the pleasure, satisfaction or happiness an individual derives from goods, service, wealth, or outcomes.\n",
    "\n",
    "In economics, it’s an abstract concept used to quantify preferences. For instance, a person might prefer higher wealth $ Y $ or more stable returns, which a utility function can mathematically express.\n",
    "\n",
    "The concept was introduced in the 18th century by economists like Daniel Bernoulli (e.g., to address the St. Petersburg Paradox) and formalized in the 20th century by von Neumann and Morgenstern in expected utility theory.\n"
   ]
  },
  {
   "cell_type": "markdown",
   "id": "af160ebc-0c26-48a7-b985-0028f8057ad7",
   "metadata": {},
   "source": [
    "## 2. Example"
   ]
  },
  {
   "cell_type": "markdown",
   "id": "37fd5b72-a431-4c1b-973a-6d4b873f9c5b",
   "metadata": {},
   "source": []
  }
 ],
 "metadata": {
  "kernelspec": {
   "display_name": "Python 3 (ipykernel)",
   "language": "python",
   "name": "python3"
  },
  "language_info": {
   "codemirror_mode": {
    "name": "ipython",
    "version": 3
   },
   "file_extension": ".py",
   "mimetype": "text/x-python",
   "name": "python",
   "nbconvert_exporter": "python",
   "pygments_lexer": "ipython3",
   "version": "3.9.17"
  }
 },
 "nbformat": 4,
 "nbformat_minor": 5
}
