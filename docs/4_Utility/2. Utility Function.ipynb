{
 "cells": [
  {
   "cell_type": "markdown",
   "id": "92f050bc-2dba-4310-ae05-a6a1b5e7e2ba",
   "metadata": {},
   "source": [
    "# Utility Functions\n"
   ]
  },
  {
   "cell_type": "markdown",
   "id": "f2bddfc0-903c-4908-a34b-651d36563690",
   "metadata": {},
   "source": [
    "# 1. Definition"
   ]
  },
  {
   "cell_type": "markdown",
   "id": "a56dc4e9-426d-4a32-9102-45c91fc30aca",
   "metadata": {},
   "source": [
    "**Utility Functions** are mathematical functions that map an input (e.g., wealth $ c $) to a utility value: \n",
    "$$ U(c)$$\n",
    ", which provide rules for how $ c $ influences satisfaction or decision-making.\n"
   ]
  },
  {
   "cell_type": "markdown",
   "id": "b3da44d8-8271-4055-89cf-1b734e611844",
   "metadata": {},
   "source": [
    "### 1.1 Power Utility"
   ]
  },
  {
   "cell_type": "markdown",
   "id": "aedf5df4-20c3-49cf-990f-bbb99262d0b9",
   "metadata": {},
   "source": [
    "Consider a representative agent with power utility and relative risk\n",
    "aversion coefficient $\\gamma > 1$ who consumes an economy’s aggregate consumption\n",
    "$c_{t+1}$ at $t + 1$."
   ]
  },
  {
   "cell_type": "markdown",
   "id": "b3c52ee7-2817-45fa-827c-e6b81090b5ad",
   "metadata": {},
   "source": [
    "The agent's utility function is of the power form: \n",
    " $$ U(c) = \\frac{1}{1-\\gamma}c^{1-\\gamma} $$, \n",
    "where $ \\gamma > 1 $ indicates relative risk aversion greater than 1.\n",
    "Higher $ \\gamma $ implies the agent is more risk-averse, meaning they discount future consumption more heavily when it is uncertain."
   ]
  },
  {
   "cell_type": "markdown",
   "id": "889c8669-baa0-413f-97f0-afb6f877ab59",
   "metadata": {},
   "source": [
    "## Appendix: Other common utility functions"
   ]
  },
  {
   "cell_type": "markdown",
   "id": "08c734aa-c39e-430b-8897-39f400eb19fe",
   "metadata": {},
   "source": [
    "### Negative exponential utility\n",
    "$$ U(Y) = -e^{-\\alpha \\gamma} $$\n",
    "Represents constant absolute risk aversion (CARA), common in asset pricing.\n"
   ]
  },
  {
   "cell_type": "markdown",
   "id": "b38c08c3-cb30-4270-af26-bd8db2811e75",
   "metadata": {},
   "source": []
  }
 ],
 "metadata": {
  "kernelspec": {
   "display_name": "Python 3 (ipykernel)",
   "language": "python",
   "name": "python3"
  },
  "language_info": {
   "codemirror_mode": {
    "name": "ipython",
    "version": 3
   },
   "file_extension": ".py",
   "mimetype": "text/x-python",
   "name": "python",
   "nbconvert_exporter": "python",
   "pygments_lexer": "ipython3",
   "version": "3.9.17"
  }
 },
 "nbformat": 4,
 "nbformat_minor": 5
}
