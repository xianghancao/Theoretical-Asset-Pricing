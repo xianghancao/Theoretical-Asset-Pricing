{
 "cells": [
  {
   "cell_type": "markdown",
   "id": "446fde49-1f8b-4852-a64b-591d9903ebef",
   "metadata": {},
   "source": [
    "# Risk Aversion"
   ]
  },
  {
   "cell_type": "markdown",
   "id": "ce5c854b-4b43-499a-a957-778d340144c9",
   "metadata": {},
   "source": [
    "## 1. Definition"
   ]
  },
  {
   "cell_type": "markdown",
   "id": "f27b2d69-502d-40b1-98fc-bbefb941a385",
   "metadata": {},
   "source": [
    "### 1.1 A risk averse investor"
   ]
  },
  {
   "cell_type": "markdown",
   "id": "6ddf4a4e-cc18-438a-81e4-82c957ed4a4e",
   "metadata": {},
   "source": [
    "A \"fair\" gamble is defined as one that has an expected value of zero. For example, a gamble where an investor can either gain an amount $h$ with probability $1/2$ or lose an amount $h$ with probability $1/2$. "
   ]
  },
  {
   "cell_type": "markdown",
   "id": "96b92a2d-5e03-4460-b2c6-cf677478beaf",
   "metadata": {},
   "source": [
    "A risk averse investor with a level of personal wealth $Y$ would not participate in it. This implies that the expected utility that he gets from the two possible outcomes of the gamble is less that the utility he receives from keeping his personal wealth safe in his hand."
   ]
  },
  {
   "cell_type": "markdown",
   "id": "7ff3931f-15ed-496b-aef3-2f1e00b4ee82",
   "metadata": {},
   "source": [
    "$$ U(Y)>\\frac{1}{2} U(Y+h) + \\frac{1}{2} U(Y-h) = E[U] $$"
   ]
  },
  {
   "cell_type": "markdown",
   "id": "e871d100-a2a8-4e82-b6bb-a771a10c642f",
   "metadata": {},
   "source": [
    "### 1.2 Concave"
   ]
  },
  {
   "cell_type": "markdown",
   "id": "5395a2f0-0208-4168-a9d6-b280f68f957e",
   "metadata": {},
   "source": [
    "假设效用函数 $u(c)$ 是凹函数（concave），这是经济理论中的标准假设，反映了风险规避（risk aversion）。凹函数的二阶导数 $u''(c) \\leq 0$，意味着边际效用 $u'(c)$ 是下降的，即随着消费 $c$ 增加，边际效用减少。\n",
    "\n",
    "\n"
   ]
  },
  {
   "cell_type": "markdown",
   "id": "a77de6a1-1e7f-4c80-a177-91655256cde8",
   "metadata": {},
   "source": [
    "> **Definition(Jensen's inequality)**  \n",
    "> A function $U$ is strictly concave in the interval $I$ if for all $a,b\\in I$ and $\\lambda \\in (0,1)$, it holds that $$ U((1-\\lambda)a + \\lambda b ) > (1-\\lambda)U(a) + \\lambda U(b)$$\n"
   ]
  },
  {
   "cell_type": "markdown",
   "id": "a6711ddf-6618-44b2-b6d8-06291da68bd2",
   "metadata": {},
   "source": [
    "\n",
    "对于凹函数 $u'(c)$（因为 $u(c)$ 是凹的，$u'(c)$ 是单调下降的），Jensen 不等式表明：\n",
    "$$E[u'(c)] \\geq u'(E[c])$$\n",
    "由于 $u'(c)$ 是凹函数（如果 $u''(c) < 0$），严格的不等式通常成立，除非 $c$ 是常数。"
   ]
  },
  {
   "cell_type": "markdown",
   "id": "8c2dfb83-e10c-4bf1-8d5c-37bd14b43cdf",
   "metadata": {},
   "source": [
    "### 1.3 Absolute risk aversion (ARA)"
   ]
  },
  {
   "cell_type": "markdown",
   "id": "ceb0ef08-50d6-4b20-b586-04bd073996b1",
   "metadata": {},
   "source": [
    "$$ -\\frac{U''(Y)}{U'(Y)} \\equiv R_A(Y)$$"
   ]
  },
  {
   "cell_type": "markdown",
   "id": "2be77be2-d246-4cd3-b731-e1a9ec0d4593",
   "metadata": {},
   "source": [
    "ARA meaures risk aversion for a given level of wealth."
   ]
  },
  {
   "cell_type": "markdown",
   "id": "8ba8e0de-01a1-4e77-ab2e-bf31d74235f6",
   "metadata": {},
   "source": [
    "### 1.4 Relative risk aversion (RRA)"
   ]
  },
  {
   "cell_type": "markdown",
   "id": "a558ca91-f1d5-463b-a578-ee9b4b4c0ba6",
   "metadata": {},
   "source": [
    "$$ - Y \\frac{U''(Y)}{U'(Y)} \\equiv R_R(Y)$$"
   ]
  },
  {
   "cell_type": "markdown",
   "id": "84638017-d767-4ba4-bc8d-4741488b0911",
   "metadata": {},
   "source": [
    "RRA measures how relative amount of the wealth invested in risky assets change when the wealth level increases."
   ]
  },
  {
   "cell_type": "markdown",
   "id": "acc9f220-4354-48c8-a180-4c0709b9bc53",
   "metadata": {},
   "source": [
    "## 2. Example"
   ]
  },
  {
   "cell_type": "markdown",
   "id": "4ff04682-14cd-4594-9e95-ff778064fa61",
   "metadata": {},
   "source": []
  }
 ],
 "metadata": {
  "kernelspec": {
   "display_name": "Python 3 (ipykernel)",
   "language": "python",
   "name": "python3"
  },
  "language_info": {
   "codemirror_mode": {
    "name": "ipython",
    "version": 3
   },
   "file_extension": ".py",
   "mimetype": "text/x-python",
   "name": "python",
   "nbconvert_exporter": "python",
   "pygments_lexer": "ipython3",
   "version": "3.9.17"
  }
 },
 "nbformat": 4,
 "nbformat_minor": 5
}
