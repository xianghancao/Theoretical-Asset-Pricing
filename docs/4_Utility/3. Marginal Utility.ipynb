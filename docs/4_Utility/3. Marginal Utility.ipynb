{
 "cells": [
  {
   "cell_type": "markdown",
   "id": "665bcb82-b349-4425-8f3c-6fb50faa320c",
   "metadata": {},
   "source": [
    "# Marginal Utility"
   ]
  },
  {
   "cell_type": "markdown",
   "id": "b3369a37-573f-49d0-865d-56144f1b0278",
   "metadata": {},
   "source": [
    "## 1. Definition"
   ]
  },
  {
   "cell_type": "markdown",
   "id": "3f29c150-e3bc-4c7f-ba03-aa69b07a72bb",
   "metadata": {},
   "source": [
    "Marginal utility describes the additional satisfaction or benefit a consumer gains from consuming one more unit of a good or service $c$."
   ]
  },
  {
   "cell_type": "markdown",
   "id": "cb0ae4ba-b579-496c-bbc6-326bc7fe617f",
   "metadata": {},
   "source": [
    "$$ MU = U'(c)= \\frac{dU}{dc}$$"
   ]
  },
  {
   "cell_type": "markdown",
   "id": "1485f584-4b25-45cd-90b1-e0eb32f28742",
   "metadata": {},
   "source": [
    ", where $U'(c)$ is a utility function."
   ]
  },
  {
   "cell_type": "markdown",
   "id": "6486a54c-ce6e-4dcf-8432-832ccd50c484",
   "metadata": {},
   "source": [
    "## 2. Example\n",
    "For power utility function: \n",
    " $$ U(c) = \\frac{1}{1-\\gamma}c^{1-\\gamma} $$, where $ \\gamma > 1 $ indicates relative risk aversion greater than 1. Its marginal utility is\n",
    "\n",
    "$$MU = U'(c) = c^{-\\gamma}$$\n",
    " "
   ]
  },
  {
   "cell_type": "markdown",
   "id": "91fb7938-7145-4890-857a-3cfa7416a16d",
   "metadata": {},
   "source": [
    "## Appendix"
   ]
  },
  {
   "cell_type": "markdown",
   "id": "aac8ded3-fd1a-4588-960c-d8e32e374302",
   "metadata": {},
   "source": [
    "### Different time periods\n",
    "If an investor's utility function depends on their level of consumption in **different time periods** (e.g., today and tomorrow), then marginal utility is the partial derivative of the utility function with respect to the consumption in each period.\n",
    "\n",
    "* **Marginal Utility of first-period consumption ($MU_{c_1}$)**: The extra utility gained from increasing today's consumption.\n",
    "* **Marginal Utility of second-period consumption ($MU_{c_2}$)**: The extra utility gained from increasing tomorrow's consumption.\n",
    "\n",
    "$$MU_{c_1} = \\frac{\\partial U}{\\partial c_1}$$\n",
    "\n",
    "$$MU_{c_2} = \\frac{\\partial U}{\\partial c_2}$$\n"
   ]
  },
  {
   "cell_type": "markdown",
   "id": "9e6f964c-cf92-4f6b-882c-9ce921115b6c",
   "metadata": {},
   "source": [
    "### Different states of the world\n",
    "\n",
    "Alternatively, if the utility function depends on consumption in **different states of the world**, such as in a \"good\" state or a \"bad\" state, the marginal utilities are:\n",
    "\n",
    "* **Marginal Utility of good-state consumption ($MU_{c_{good}}$)**: The partial derivative of the utility function with respect to consumption in the good state.\n",
    "* **Marginal Utility of bad-state consumption ($MU_{c_{bad}}$)**: The partial derivative of the utility function with respect to consumption in the bad state.\n",
    "\n",
    "$$MU_{c_{good}} = \\frac{\\partial U}{\\partial c_{good}}$$\n",
    "\n",
    "$$MU_{c_{bad}} = \\frac{\\partial U}{\\partial c_{bad}}$$\n",
    "\n",
    "In asset pricing, these **state-dependent marginal utilities** are crucial. The price of an asset depends on its payoff in different states and how much those payoffs contribute to the investor's consumption and utility. When an investor receives a high payoff from an asset in a \"bad\" state (when their marginal utility is high), they value that asset more highly."
   ]
  },
  {
   "cell_type": "markdown",
   "id": "ae5d39e2-3e3d-47fb-a480-f05bb6f0d7a1",
   "metadata": {},
   "source": []
  }
 ],
 "metadata": {
  "kernelspec": {
   "display_name": "Python 3 (ipykernel)",
   "language": "python",
   "name": "python3"
  },
  "language_info": {
   "codemirror_mode": {
    "name": "ipython",
    "version": 3
   },
   "file_extension": ".py",
   "mimetype": "text/x-python",
   "name": "python",
   "nbconvert_exporter": "python",
   "pygments_lexer": "ipython3",
   "version": "3.9.17"
  }
 },
 "nbformat": 4,
 "nbformat_minor": 5
}
