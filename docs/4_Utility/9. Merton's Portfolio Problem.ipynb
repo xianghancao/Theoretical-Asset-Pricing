{
 "cells": [
  {
   "cell_type": "markdown",
   "id": "441523f4-66a1-444a-b217-e500853f1a17",
   "metadata": {},
   "source": [
    "# Merton's Portfolio Problem\n",
    "\n",
    "The lecture introduces a one-period model where an investor allocates initial wealth $ Y_0 $ between a risk-free asset (with return $ r_f $) and a risky asset with stochastic return $ \\tilde{r} $.\n",
    "\n",
    "Wealth at Time 1:   \n",
    "The investor’s uncertain end-of-period wealth is:\n",
    "$$\\tilde{Y}_1 = (1 + r_f)(Y_0 - a) + a(1 + \\tilde{r}) = Y_0(1 + r_f) + a(\\tilde{r} - r_f)$$\n",
    "where $ a $ is the amount invested in the risky asset, and $ Y_0 - a $ is invested in the risk-free asset.\n",
    "\n",
    "Objective:   \n",
    "Maximize expected utility of end-of-period wealth:\n",
    "$$\\max_a E[U(\\tilde{Y}_1)] = \\max_a E[U(Y_0(1 + r_f) + a(\\tilde{r} - r_f))]$$\n",
    "\n",
    "Optimization:   \n",
    "Using the chain rule, the first-order condition (FOC) for optimal $ a $ is:\n",
    "$$E[U'(\\tilde{Y}_1)(\\tilde{r} - r_f)] = 0$$\n",
    "This can be rewritten as:\n",
    "$$E[U'(\\tilde{Y}_1)\\tilde{r}] = E[U'(\\tilde{Y}_1)]r_f$$\n",
    "\n",
    "At the optimum, the marginal utility from the risky asset’s return equals that from the risk-free asset. If the risky asset provides higher marginal utility, the investor should allocate more to it until equality holds, reflecting diminishing marginal utility for risk-averse investors.\n",
    "\n"
   ]
  },
  {
   "cell_type": "markdown",
   "id": "71c05c7c-7308-44db-b097-afdfbc4bccb8",
   "metadata": {},
   "source": []
  }
 ],
 "metadata": {
  "kernelspec": {
   "display_name": "Python 3 (ipykernel)",
   "language": "python",
   "name": "python3"
  },
  "language_info": {
   "codemirror_mode": {
    "name": "ipython",
    "version": 3
   },
   "file_extension": ".py",
   "mimetype": "text/x-python",
   "name": "python",
   "nbconvert_exporter": "python",
   "pygments_lexer": "ipython3",
   "version": "3.9.17"
  }
 },
 "nbformat": 4,
 "nbformat_minor": 5
}
