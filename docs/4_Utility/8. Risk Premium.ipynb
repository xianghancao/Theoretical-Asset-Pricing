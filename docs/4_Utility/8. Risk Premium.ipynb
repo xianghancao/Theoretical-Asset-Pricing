{
 "cells": [
  {
   "cell_type": "markdown",
   "id": "008a4a01-0092-4477-8b17-07349ea94589",
   "metadata": {},
   "source": [
    "# Risk Premium"
   ]
  },
  {
   "cell_type": "markdown",
   "id": "614c6783-5d4b-4999-bc5d-48baaf961a51",
   "metadata": {},
   "source": [
    "## 1. Definition\n",
    "\n",
    "The **risk premium** is the difference between the expected value of a risky asset and its certainty equivalent. It represents the extra return an investor demands for taking on risk. In other words, it is the monetary value of the \"cost\" of uncertainty for a risk-averse person.\n",
    "\n",
    "\n",
    "The risk premium is the amount of money a risk-averse investor is willing to give up to avoid a gamble.\n",
    "\n",
    "* **Formula:** $RP = E[W] - CE$\n",
    "    * $RP$ is the risk premium.\n",
    "    * $E[W]$ is the expected value of the risky wealth or gamble, calculated as the sum of each outcome multiplied by its probability.\n",
    "    * $CE$ is the certainty equivalent.\n",
    "\n",
    "For a risk-averse individual, the risk premium is positive because $E[W] > CE$. A risk-neutral individual has a risk premium of zero because $E[W] = CE$, while a risk-loving individual would have a negative risk premium because $E[W] < CE$."
   ]
  },
  {
   "cell_type": "markdown",
   "id": "d4855c75-d7eb-4d2e-9d55-d9d071d3ebe3",
   "metadata": {},
   "source": [
    "## Example"
   ]
  },
  {
   "cell_type": "markdown",
   "id": "66f6595f-d470-458d-abdf-2ba97912586f",
   "metadata": {},
   "source": [
    "Video: [How to Solve for Certainty Equivalent and Risk Premium](https://www.youtube.com/watch?v=8LRuCrdL6Ro)"
   ]
  },
  {
   "cell_type": "markdown",
   "id": "85b4ed91-f5c5-4133-bcd3-06b95aa1f64a",
   "metadata": {},
   "source": []
  }
 ],
 "metadata": {
  "kernelspec": {
   "display_name": "Python 3 (ipykernel)",
   "language": "python",
   "name": "python3"
  },
  "language_info": {
   "codemirror_mode": {
    "name": "ipython",
    "version": 3
   },
   "file_extension": ".py",
   "mimetype": "text/x-python",
   "name": "python",
   "nbconvert_exporter": "python",
   "pygments_lexer": "ipython3",
   "version": "3.9.17"
  }
 },
 "nbformat": 4,
 "nbformat_minor": 5
}
