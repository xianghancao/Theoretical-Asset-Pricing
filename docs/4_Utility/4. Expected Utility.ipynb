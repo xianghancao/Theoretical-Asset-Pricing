{
 "cells": [
  {
   "cell_type": "markdown",
   "id": "2e494d6d-4a33-4012-b30d-bb99d5a59c4c",
   "metadata": {},
   "source": [
    "# Expected Utility"
   ]
  },
  {
   "cell_type": "markdown",
   "id": "27eac794-9b3a-431a-a031-db279fbfc2c7",
   "metadata": {},
   "source": [
    "## 1.Definition"
   ]
  },
  {
   "cell_type": "markdown",
   "id": "9ff3c04a-2d90-4ae7-babf-af43c76fd447",
   "metadata": {},
   "source": [
    "\n",
    "A risky asset (lottery) has payoffs $ \\{x_1, ..., x_n\\} $ with probabilities $ \\pi = \\{\\pi_1, ..., \\pi_n\\} $, where $ \\sum \\pi_i = 1 $, $ \\pi_i \\geq 0 $.\n",
    "Preference Relations:\n",
    "\n",
    "- $ \\pi' \\succ \\pi $: Lottery $ \\pi' $ is strictly preferred.\n",
    "- $ \\pi' \\succeq \\pi $: Lottery $ \\pi' $ is weakly preferred (strictly or indifferent).\n",
    "- $ \\pi' \\sim \\pi $: Indifferent between lotteries.\n"
   ]
  },
  {
   "cell_type": "markdown",
   "id": "456a6d91-14c4-49b5-86da-45aca4ecfcca",
   "metadata": {},
   "source": [
    "\n",
    "Von Neumann-Morgenstern (VNM) Utility:\n",
    "\n",
    "If preferences satisfy these axioms, they can be represented by an expected utility function:\n",
    "$$V(\\pi_1, ..., \\pi_n) = \\sum_{i=1}^n \\pi_i U_i$$\n",
    "where $ U_i $ is the utility of outcome $ x_i $.\n",
    "\n",
    "Investors choose the lottery (or consumption plan) maximizing expected utility.\n",
    "For a consumption plan $ \\{c_{1,1}, ..., c_{1,S}\\} $ over $ S $ states:\n",
    "$$V(c_1) = E[U(c_1)] = \\sum_{s=1}^S \\pi_s U(c_{1,s})$$\n",
    "\n"
   ]
  },
  {
   "cell_type": "markdown",
   "id": "4ce28857-1f53-42c7-983a-a4a8bf345965",
   "metadata": {},
   "source": [
    "### 1.2 Expected Utility Theory"
   ]
  },
  {
   "cell_type": "markdown",
   "id": "087adb68-d095-433a-883f-f773dce7c2d8",
   "metadata": {},
   "source": [
    "\n",
    "Axioms for Expected Utility:\n",
    "\n",
    "- Completeness: Investors can compare any two lotteries ($ \\pi \\succeq \\pi' $, $ \\pi' \\succeq \\pi $, or both).\n",
    "- Transitivity: If $ \\pi'' \\succeq \\pi' $ and $ \\pi' \\succeq \\pi $, then $ \\pi'' \\succeq \\pi $.\n",
    "- Continuity: If $ \\pi'' \\succeq \\pi' \\succeq \\pi $, there exists $ \\lambda \\in [0, 1] $ such that $ \\pi' \\sim \\lambda \\pi'' + (1-\\lambda)\\pi $.\n",
    "- Independence: If $ \\pi' \\succ \\pi $, then $ \\lambda \\pi' + (1-\\lambda)\\pi'' \\succ \\lambda \\pi + (1-\\lambda)\\pi'' $ for any $ \\lambda \\in (0, 1] $ and lottery $ \\pi'' $.\n",
    "- Dominance: For compound lotteries $ \\pi1 = \\lambda_1 p^* + (1-\\lambda_1)p^\\dagger $ and $ \\pi2 = \\lambda_2 p^* + (1-\\lambda_2)p^\\dagger $, if $ p^* \\succ p^\\dagger $, then $ \\pi1 \\succ \\pi2 $ if and only if $ \\lambda_1 > \\lambda_2 $.\n",
    "\n"
   ]
  },
  {
   "cell_type": "markdown",
   "id": "8e9fab40-f86c-4ac3-837f-3bf419c5a8c9",
   "metadata": {},
   "source": [
    "\n",
    "**Expected Utility Theory** provides a framework to rank investments by assigning a single value (expected utility) based on investor preferences.\n"
   ]
  },
  {
   "cell_type": "markdown",
   "id": "1cc344fd-ff31-439f-a5c8-db9e2dc76a9d",
   "metadata": {},
   "source": [
    "## 2. Example"
   ]
  },
  {
   "cell_type": "markdown",
   "id": "62e31f1c-3c62-4010-ae97-1b3016745683",
   "metadata": {},
   "source": [
    "Video: [How to Solve for Certainty Equivalent and Risk Premium](https://www.youtube.com/watch?v=8LRuCrdL6Ro)"
   ]
  },
  {
   "cell_type": "markdown",
   "id": "be93621a-d7c6-479c-bcf3-5db6c1d7725a",
   "metadata": {},
   "source": []
  },
  {
   "cell_type": "code",
   "execution_count": null,
   "id": "8ef366c5-1c74-43a7-92bc-7aa5e1cf043f",
   "metadata": {},
   "outputs": [],
   "source": []
  }
 ],
 "metadata": {
  "kernelspec": {
   "display_name": "Python 3 (ipykernel)",
   "language": "python",
   "name": "python3"
  },
  "language_info": {
   "codemirror_mode": {
    "name": "ipython",
    "version": 3
   },
   "file_extension": ".py",
   "mimetype": "text/x-python",
   "name": "python",
   "nbconvert_exporter": "python",
   "pygments_lexer": "ipython3",
   "version": "3.9.17"
  }
 },
 "nbformat": 4,
 "nbformat_minor": 5
}
