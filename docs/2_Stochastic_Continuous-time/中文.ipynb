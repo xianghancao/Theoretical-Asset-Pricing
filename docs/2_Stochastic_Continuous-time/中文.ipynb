{
 "cells": [
  {
   "cell_type": "markdown",
   "id": "16214afd-1138-4c48-9081-30c82fe96e14",
   "metadata": {},
   "source": [
    "# 待整理"
   ]
  },
  {
   "cell_type": "markdown",
   "id": "5b4a8ec2-96d5-423a-b72b-65bc712461ca",
   "metadata": {},
   "source": [
    "## 1. 核心概念\n",
    "连续时间定价假设资产价格随时间连续变化，通常服从某种随机过程（如几何布朗运动）。与离散时间模型（如二叉树模型）相比，连续时间模型更适合描述高频交易、复杂的衍生品定价和动态投资组合管理。\n",
    "关键假设：\n",
    "\n",
    "市场是连续的，无交易成本和摩擦。\n",
    "资产价格遵循随机微分方程（SDE），通常是伊藤过程。\n",
    "无套利原则（No-Arbitrage Principle）和风险中性定价（Risk-Neutral Pricing）是核心。\n",
    "\n",
    "基本模型：\n",
    "资产价格 $ S_t $ 的动态通常表示为：\n",
    "$$dS_t = \\mu S_t dt + \\sigma S_t dW_t$$\n",
    "\n",
    "$ \\mu $：预期回报率（漂移项）。\n",
    "$ \\sigma $：波动率。\n",
    "$ W_t $：标准布朗运动（Wiener Process），表示随机波动。\n",
    "$ dt $：无穷小时间增量。\n",
    "$ dW_t $：布朗运动的增量，服从正态分布。\n",
    "\n",
    "## 2. 风险中性定价\n",
    "在连续时间框架下，资产定价通常通过风险中性测度（Risk-Neutral Measure）进行。核心思想是：在风险中性世界中，所有资产的预期回报率等于无风险利率 $ r $。因此，资产价格的动态在风险中性测度下变为：\n",
    "$$dS_t = r S_t dt + \\sigma S_t dW_t^Q$$\n",
    "其中 $ W_t^Q $ 是风险中性测度下的布朗运动。\n",
    "资产（如衍生品）的价格可以通过折现未来现金流的期望来计算：\n",
    "$$V_t = E^Q \\left[ e^{-r(T-t)} H(S_T) \\big| \\mathcal{F}_t \\right]$$\n",
    "\n",
    "$ V_t $：资产在时间 $ t $ 的价格。\n",
    "$ H(S_T) $：到期日 $ T $ 的支付函数。\n",
    "$ E^Q $：风险中性测度下的期望。\n",
    "$ \\mathcal{F}_t $：截至时间 $ t $ 的信息集。\n",
    "\n",
    "## 3. 布莱克-斯科尔斯模型（Black-Scholes Model）\n",
    "连续时间定价的经典应用是布莱克-斯科尔斯模型，用于期权定价。假设股票价格遵循几何布朗运动，欧式看涨期权的价格满足以下偏微分方程（PDE）：\n",
    "$$\\frac{\\partial V}{\\partial t} + \\frac{1}{2} \\sigma^2 S^2 \\frac{\\partial^2 V}{\\partial S^2} + r S \\frac{\\partial V}{\\partial S} - r V = 0$$\n",
    "通过求解此 PDE，得到布莱克-斯科尔斯公式：\n",
    "$$C(S, t) = S_t N(d_1) - K e^{-r(T-t)} N(d_2)$$\n",
    "其中：\n",
    "\n",
    "$ C $: 看涨期权价格。\n",
    "$ S_t $: 当前股票价格。\n",
    "$ K $: 行权价。\n",
    "$ r $: 无风险利率。\n",
    "$ T $: 到期时间。\n",
    "$ \\sigma $: 波动率。\n",
    "$ N(\\cdot) $: 标准正态分布的累积分布函数。\n",
    "$ d_1 = \\frac{\\ln(S_t/K) + (r + \\sigma^2/2)(T-t)}{\\sigma \\sqrt{T-t}} $, $ d_2 = d_1 - \\sigma \\sqrt{T-t} $。\n",
    "\n",
    "\n",
    "## 5. 实际应用\n",
    "\n",
    "衍生品定价：如期权、期货、利率衍生品（使用 HJM 或 BGM 模型）。\n",
    "投资组合优化：如 Merton 的动态投资组合选择问题。\n",
    "风险管理：计算 VaR（Value at Risk）或预期损失。\n",
    "利率模型：如 Vasicek、CIR 模型，用于债券和固定收益产品定价。"
   ]
  },
  {
   "cell_type": "markdown",
   "id": "c3b9d91a-6c6f-4852-b69b-211d0698e6a4",
   "metadata": {},
   "source": []
  }
 ],
 "metadata": {
  "kernelspec": {
   "display_name": "Python 3 (ipykernel)",
   "language": "python",
   "name": "python3"
  },
  "language_info": {
   "codemirror_mode": {
    "name": "ipython",
    "version": 3
   },
   "file_extension": ".py",
   "mimetype": "text/x-python",
   "name": "python",
   "nbconvert_exporter": "python",
   "pygments_lexer": "ipython3",
   "version": "3.9.17"
  }
 },
 "nbformat": 4,
 "nbformat_minor": 5
}
