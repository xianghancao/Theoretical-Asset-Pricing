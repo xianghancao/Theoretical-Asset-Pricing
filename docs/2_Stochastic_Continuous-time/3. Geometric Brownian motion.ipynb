{
 "cells": [
  {
   "cell_type": "markdown",
   "id": "648dbdd1-0f13-495c-8296-2d644c683ff2",
   "metadata": {},
   "source": [
    "# Geometric Brownian Motion"
   ]
  },
  {
   "cell_type": "markdown",
   "id": "579c713e-8d0e-4c64-82fb-d896bf838adb",
   "metadata": {},
   "source": [
    "## 1. Definition"
   ]
  },
  {
   "cell_type": "markdown",
   "id": "6a7616a1-4eff-49e1-85da-b56665da548f",
   "metadata": {},
   "source": [
    "几何布朗运动（Geometric Brownian Motion, GBM）是一种常用的随机过程，常用于对股票价格、商品期货价格和利率等金融资产价格进行建模。它假设资产价格的对数收益率遵循一个布朗运动（或维纳过程）。\n"
   ]
  },
  {
   "cell_type": "markdown",
   "id": "7a8f97ec-4b07-4438-81ac-ccd4aa705d3b",
   "metadata": {},
   "source": [
    "\n",
    "几何布朗运动一个连续时间的随机过程，可以用随机微分方程（SDE）来描述。A stock price modeled using **geometric Brownian Motion(GBM)** is:  \n",
    "Let $ S $ be the price of a stock. Then the stochastic differential equation (SDE):\n",
    "$$dS_t = \\mu S_t dt + \\sigma S_t dz,$$\n",
    "where:\n",
    "\n",
    "- $ \\mu $ is the drift rate, 代表资产价格的预期平均增长率。\n",
    "- $ \\sigma $ is the volatility, 代表资产价格的随机波动程度。\n",
    "- $z$ is a standard Brownian motion (Wiener process)\n",
    "- $ dt $ is the time increment,\n",
    "- $ dz $ is the increment of a Wiener process. 它代表了随机的冲击。\n",
    "\n",
    "\n",
    "This implies that:\n",
    "\n",
    "$$\\frac{dS}{S} = \\mu dt + \\sigma dz.$$\n",
    "\n",
    "\n",
    "It represents the relative change in the stock price as a stochastic differential equation, combining a deterministic drift term $ \\mu dt $ and a random volatility term $ \\sigma dz $."
   ]
  },
  {
   "cell_type": "markdown",
   "id": "da321146-f5ef-4a8f-a661-cfa99bc24d0d",
   "metadata": {},
   "source": [
    "\n",
    "这个方程的解可以表示为：\n",
    "\n",
    "$$S_t = S_0 \\exp\\left( \\left(\\mu - \\frac{1}{2}\\sigma^2\\right)t + \\sigma W_t \\right)$$\n",
    "\n",
    "其中 $S_0$ 是资产在时间 $t=0$ 时的初始价格。\n",
    "\n",
    "---\n",
    "\n",
    "### 几何布朗运动的特点\n",
    "\n",
    "几何布朗运动具有几个重要的特点，使其成为金融建模的理想选择：\n",
    "\n",
    "1.  **资产价格永不为负**：指数函数 $\\exp(\\cdot)$ 的性质决定了 $S_t$ 始终大于零。这符合现实世界中股票价格不能跌至负数的特性。\n",
    "2.  **对数正态分布**：资产价格 $S_t$ 本身服从**对数正态分布**。这意味着 $\\ln(S_t)$ 服从正态分布。\n",
    "3.  **随机性**：$\\d W_t$ 项引入了随机性，使得模型能够反映市场的不确定性。\n",
    "4.  **常数漂移和波动率**：在最基本的形式中，$\\mu$ 和 $\\sigma$ 被假定为常数。这意味着资产价格的预期增长率和波动性在整个建模期间保持不变。\n",
    "\n",
    "---\n",
    "\n",
    "### 几何布朗运动的应用\n",
    "\n",
    "几何布朗运动在金融工程和量化金融领域有广泛应用，包括：\n",
    "\n",
    "* **期权定价**：**布莱克-舒尔斯（Black-Scholes）模型**就是基于股票价格遵循几何布朗运动的假设。\n",
    "* **风险管理**：用于计算**风险价值（VaR）**和进行压力测试。\n",
    "* **资产配置**：在投资组合优化中，用于模拟不同资产的未来价格路径。\n",
    "* **量化交易**：用于构建和回测交易策略。\n",
    "\n",
    "---\n",
    "\n",
    "### 几何布朗运动的局限性\n",
    "\n",
    "虽然几何布朗运动是一个强大的工具，但它也有一些局限性：\n",
    "\n",
    "* **波动率不是常数**：在现实世界中，资产的波动率通常会随时间变化（例如，在市场动荡期间会急剧上升）。几何布朗运动的简单形式无法捕捉这种**波动率聚类**现象。\n",
    "* **价格跳跃**：模型假设价格是连续变化的，但现实中可能会发生**价格跳跃**（例如，重大新闻发布或市场崩盘）。\n",
    "* **漂移项和波动率的预测**：在实际应用中，准确估计 $\\mu$ 和 $\\sigma$ 是一个挑战。\n",
    "\n",
    "为了解决这些局限性，金融学家和量化分析师们开发了更复杂的模型，例如**带有跳跃的几何布朗运动**（Jump-Diffusion Models）和**随机波动率模型**（Stochastic Volatility Models），但几何布朗运动仍然是理解和应用许多高级金融概念的基础。"
   ]
  },
  {
   "cell_type": "markdown",
   "id": "b063a98a-d6f0-4db1-b81a-a902a3a55903",
   "metadata": {},
   "source": [
    "## 2. Example"
   ]
  },
  {
   "cell_type": "markdown",
   "id": "e75e03e0-1a7b-476b-a7e2-c5f569dbd912",
   "metadata": {},
   "source": []
  }
 ],
 "metadata": {
  "kernelspec": {
   "display_name": "Python 3 (ipykernel)",
   "language": "python",
   "name": "python3"
  },
  "language_info": {
   "codemirror_mode": {
    "name": "ipython",
    "version": 3
   },
   "file_extension": ".py",
   "mimetype": "text/x-python",
   "name": "python",
   "nbconvert_exporter": "python",
   "pygments_lexer": "ipython3",
   "version": "3.9.17"
  }
 },
 "nbformat": 4,
 "nbformat_minor": 5
}
