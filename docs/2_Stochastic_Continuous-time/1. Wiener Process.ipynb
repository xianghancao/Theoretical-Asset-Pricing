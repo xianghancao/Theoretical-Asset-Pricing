{
 "cells": [
  {
   "cell_type": "markdown",
   "id": "9139765c-0714-4bc9-b311-466101f3791a",
   "metadata": {},
   "source": [
    "# Wiener Process"
   ]
  },
  {
   "cell_type": "markdown",
   "id": "caa96701-5ba6-4c39-ac0c-596b772c1bf4",
   "metadata": {},
   "source": [
    "## 1. Definition\n"
   ]
  },
  {
   "cell_type": "markdown",
   "id": "75fb2d3a-bfbc-42cb-b734-87e1c1b7c0df",
   "metadata": {},
   "source": [
    "A **Wiener process**, $ z(t) $, also known as **Brownian motion**, is a continuous-time stochastic process with specific properties.   \n",
    "Over a small time interval $ \\Delta t $, the change in the process is:\n",
    "$$\\Delta z \\equiv z(t + \\Delta t) - z(t) = \\sqrt{\\Delta t} \\, \\tilde{\\epsilon}$$\n",
    "where $ \\tilde{\\epsilon} $ is a random variable with:\n",
    "\n",
    "$$ E[\\tilde{\\epsilon}] = 0 $$\n",
    "$$ \\text{Var}[\\tilde{\\epsilon}] = 1 $$\n",
    "\n",
    "Independence across non-overlapping intervals: \n",
    "$$ \\text{Cov}[z(t + \\Delta t) - z(t), z(s + \\Delta t) - z(s)] = 0 $$ for non-overlapping intervals $(t, t + \\Delta t)$ and $(s, s + \\Delta t)$.\n"
   ]
  },
  {
   "cell_type": "markdown",
   "id": "79aaace0-45ce-46e7-95c8-7b5b96191143",
   "metadata": {},
   "source": [
    "\n",
    "\n",
    "The Wiener process is a *Markov process*, meaning the probability distribution of $ z(T) $ at time $ T > t $ depends only on $ z(t) $, not on prior values at $ s < t $.\n",
    "Moments:\n",
    "$$E[\\Delta z] = E[\\sqrt{\\Delta t} \\, \\tilde{\\epsilon}] = \\sqrt{\\Delta t} \\cdot 0 = 0$$\n",
    "$$\\text{Var}[\\Delta z] = \\text{Var}[\\sqrt{\\Delta t} \\, \\tilde{\\epsilon}] = \\Delta t \\cdot \\text{Var}[\\tilde{\\epsilon}] = \\Delta t$$\n",
    "$$\\text{Std}[\\Delta z] = \\sqrt{\\Delta t}$$\n",
    "\n"
   ]
  },
  {
   "cell_type": "markdown",
   "id": "3f3fa554-54af-4a85-9695-32efeaad15c9",
   "metadata": {},
   "source": [
    "\n",
    "\n",
    "In the continuous-time limit:\n",
    "$$dz(t) \\equiv \\lim_{\\Delta t \\to 0} \\Delta z = \\lim_{\\Delta t \\to 0} \\sqrt{\\Delta t} \\, \\tilde{\\epsilon}$$\n",
    "or, in shorthand:\n",
    "$$dz = \\tilde{\\epsilon} \\sqrt{dt}$$\n",
    "\n",
    "Moments:\n",
    "\\begin{align}E[dz] = 0, \\\\ \\text{Var}[dz] = dt\\end{align}\n",
    "\n",
    "$dz$ is called a pure Brownian motion or Wiener process.\n",
    "\n"
   ]
  },
  {
   "cell_type": "markdown",
   "id": "42f4a0a1-75f2-4281-810c-9352adbc6c21",
   "metadata": {},
   "source": [
    "The drift rate is the mean change per unit time, and the variance rate is the variance per unit time.\n",
    "\n",
    "For a pure Wiener process $ dz $, the drift rate is 0, and the variance rate is 1.\n"
   ]
  },
  {
   "cell_type": "markdown",
   "id": "d73b2e73-e3b2-4e19-ad5d-52015a0fd70f",
   "metadata": {},
   "source": [
    "## Example"
   ]
  },
  {
   "cell_type": "markdown",
   "id": "a5facce9-0deb-438a-a322-65e88ea23b7c",
   "metadata": {},
   "source": []
  },
  {
   "cell_type": "markdown",
   "id": "42795cf4-98ba-487f-84d5-c8f808b1ed3c",
   "metadata": {},
   "source": []
  }
 ],
 "metadata": {
  "kernelspec": {
   "display_name": "Python 3 (ipykernel)",
   "language": "python",
   "name": "python3"
  },
  "language_info": {
   "codemirror_mode": {
    "name": "ipython",
    "version": 3
   },
   "file_extension": ".py",
   "mimetype": "text/x-python",
   "name": "python",
   "nbconvert_exporter": "python",
   "pygments_lexer": "ipython3",
   "version": "3.9.17"
  }
 },
 "nbformat": 4,
 "nbformat_minor": 5
}
