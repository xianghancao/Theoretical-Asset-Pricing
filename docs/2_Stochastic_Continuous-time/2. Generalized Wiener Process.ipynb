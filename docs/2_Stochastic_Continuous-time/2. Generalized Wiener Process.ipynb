{
 "cells": [
  {
   "cell_type": "markdown",
   "id": "5571d953-da9f-4e3e-82d6-57e92168cef2",
   "metadata": {},
   "source": [
    "# Generalized Wiener Process"
   ]
  },
  {
   "cell_type": "markdown",
   "id": "b0714ba0-3af4-4ba5-ae2b-9d3a835eda87",
   "metadata": {},
   "source": [
    "## 1. Definition\n"
   ]
  },
  {
   "cell_type": "markdown",
   "id": "aaa114e0-ff05-4959-8205-e7c9b6456642",
   "metadata": {},
   "source": [
    "**A generalized Wiener process** includes a non-zero drift rate and possibly a different variance rate, built upon the pure Wiener process. For example:\n",
    "$$dx(t) = \\mu dt + \\sigma dz(t)$$\n",
    "where $ \\mu $ is the drift rate, $ \\sigma $ is the volatility rate, both are constants.\n"
   ]
  },
  {
   "cell_type": "markdown",
   "id": "fda2be65-c221-4240-b225-6c5687a5ad19",
   "metadata": {},
   "source": [
    "The drift rate is the mean change per unit time, and the variance rate is the variance per unit time.\n"
   ]
  },
  {
   "cell_type": "markdown",
   "id": "36e38df3-16fd-471e-975d-efc3a8debd77",
   "metadata": {},
   "source": [
    "Moments of $ dx $:\n",
    "\n",
    "\\begin{align} E[dx] &= E[\\mu dt + \\sigma dz] \\\\\n",
    "&= E[\\mu dt + \\sigma \\tilde{\\epsilon} \\sqrt{dt}] \\\\\n",
    "&= E[\\mu dt] + \\sigma \\sqrt{dt} E[\\tilde{\\epsilon}] \\\\\n",
    "&= \\mu dt \\end{align}   , assuming $ E[\\tilde{\\epsilon}] = 0 $\n",
    "\n"
   ]
  },
  {
   "cell_type": "markdown",
   "id": "0b1981fd-feb7-4ae3-928d-8302d83b6d3b",
   "metadata": {},
   "source": [
    "\\begin{align}  Var[dx] &= Var[\\mu dt + \\sigma \\tilde{\\epsilon} \\sqrt{dt}] \\\\\n",
    "&= \\sigma^2 dt Var[\\tilde{\\epsilon}] \\\\\n",
    "&= \\sigma^2 dt \\end{align}, assuming $ Var[\\tilde{\\epsilon}] = 1 $\n",
    "\n"
   ]
  },
  {
   "cell_type": "markdown",
   "id": "fc4ce3d1-bf54-4c22-b90d-d90e58fec6b1",
   "metadata": {},
   "source": [
    "\n",
    "Change over time interval $[0, T]$:\n",
    "\n",
    "\\begin{align} x(T) - x(0) &= \\int_0^T dx = \\int_0^T \\mu dt + \\int_0^T \\sigma dz(t) \\\\\n",
    "&= \\mu \\int_0^T dt + \\sigma \\int_0^T dz(t) \\\\\n",
    "&\\sim N(\\mu T, \\sigma^2 T)\n",
    "\\end{align}\n",
    ", indicating the distribution is approximately normal with mean $ \\mu T $ and variance $ \\sigma^2 T $."
   ]
  },
  {
   "cell_type": "markdown",
   "id": "6b877a92-323a-4a5c-bfa5-b0d1374401be",
   "metadata": {},
   "source": [
    "## Example"
   ]
  },
  {
   "cell_type": "markdown",
   "id": "e56c3c24-2d48-4aa0-ac6b-5b7756406110",
   "metadata": {},
   "source": []
  }
 ],
 "metadata": {
  "kernelspec": {
   "display_name": "Python 3 (ipykernel)",
   "language": "python",
   "name": "python3"
  },
  "language_info": {
   "codemirror_mode": {
    "name": "ipython",
    "version": 3
   },
   "file_extension": ".py",
   "mimetype": "text/x-python",
   "name": "python",
   "nbconvert_exporter": "python",
   "pygments_lexer": "ipython3",
   "version": "3.9.17"
  }
 },
 "nbformat": 4,
 "nbformat_minor": 5
}
