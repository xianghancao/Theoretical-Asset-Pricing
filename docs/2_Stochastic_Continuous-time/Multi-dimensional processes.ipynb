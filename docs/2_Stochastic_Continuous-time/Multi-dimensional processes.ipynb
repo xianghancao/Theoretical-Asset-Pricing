{
 "cells": [
  {
   "cell_type": "markdown",
   "id": "35979fcc-e0d0-4e56-bb2f-be904b8c7f08",
   "metadata": {},
   "source": [
    "# 复合函数"
   ]
  },
  {
   "cell_type": "markdown",
   "id": "7ebb2f7c-09a9-45d7-8c09-e167dca4316c",
   "metadata": {},
   "source": [
    "## Definition"
   ]
  },
  {
   "cell_type": "markdown",
   "id": "08a775f1-c49e-49a6-9221-751eb5b58369",
   "metadata": {},
   "source": [
    "对于复合函数 $W_t = f(t, X_t, Y_t)$，其中 $f(t, x, y) = x e^{-y}$，Itô引理给出了：\n",
    "$$df = \\frac{\\partial f}{\\partial t} dt + \\frac{\\partial f}{\\partial x} dX + \\frac{\\partial f}{\\partial y} dY + \\frac{1}{2} \\frac{\\partial^2 f}{\\partial x^2} (dX)^2 + \\frac{1}{2} \\frac{\\partial^2 f}{\\partial y^2} (dY)^2 + \\frac{\\partial^2 f}{\\partial x \\partial y} dX dY$$"
   ]
  },
  {
   "cell_type": "markdown",
   "id": "547d18a9-5811-40f5-b34f-8fba7662c0aa",
   "metadata": {},
   "source": []
  }
 ],
 "metadata": {
  "kernelspec": {
   "display_name": "Python 3 (ipykernel)",
   "language": "python",
   "name": "python3"
  },
  "language_info": {
   "codemirror_mode": {
    "name": "ipython",
    "version": 3
   },
   "file_extension": ".py",
   "mimetype": "text/x-python",
   "name": "python",
   "nbconvert_exporter": "python",
   "pygments_lexer": "ipython3",
   "version": "3.9.17"
  }
 },
 "nbformat": 4,
 "nbformat_minor": 5
}
