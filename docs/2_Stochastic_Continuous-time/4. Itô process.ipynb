{
 "cells": [
  {
   "cell_type": "markdown",
   "id": "96875bcd-2a31-4716-be24-bd17391f860c",
   "metadata": {},
   "source": [
    "# Itô process "
   ]
  },
  {
   "cell_type": "markdown",
   "id": "2b414250-43cb-4ac0-95ee-f1c020e41663",
   "metadata": {},
   "source": [
    "Define the Itô Process $ X_t $:\n",
    "\n",
    "Let $ X_t $ follow an Itô process of the form:\n",
    "$$dX_t = \\mu(X_t, t) dt + \\sigma(X_t, t) dz_t$$\n",
    "where $ \\mu(X_t, t) $ is the drift term, $ \\sigma(X_t, t) $ is the diffusion term, and $ dz_t $ is the increment of a Wiener process."
   ]
  }
 ],
 "metadata": {
  "kernelspec": {
   "display_name": "Python 3 (ipykernel)",
   "language": "python",
   "name": "python3"
  },
  "language_info": {
   "codemirror_mode": {
    "name": "ipython",
    "version": 3
   },
   "file_extension": ".py",
   "mimetype": "text/x-python",
   "name": "python",
   "nbconvert_exporter": "python",
   "pygments_lexer": "ipython3",
   "version": "3.9.17"
  }
 },
 "nbformat": 4,
 "nbformat_minor": 5
}
