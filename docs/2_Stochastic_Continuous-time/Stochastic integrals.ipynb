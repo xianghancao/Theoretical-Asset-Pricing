{
 "cells": [
  {
   "cell_type": "markdown",
   "id": "e49e8a08-d909-4056-8962-8f6760a0aeab",
   "metadata": {},
   "source": [
    "# Stochastic integrals (Itô integral)\n",
    "The change in $ z(t) $ over a finite interval $[0, T]$ is expressed as **a stochastic integral (Itô integral)**:\n",
    "$$z(T) - z(0) = \\int_0^T dz(t) \\sim N(0, T)$$\n",
    "\n",
    "\n",
    "The derivative $ \\frac{dz(t)}{dt} $ does not exist, as $ z(t) $ has unbounded variation and is nowhere differentiable.\n",
    "\n",
    "The Wiener process exhibits continuous but erratic changes, making it unsuitable for standard calculus but suitable for stochastic calculus.\n",
    "\n",
    "\n",
    "\n"
   ]
  },
  {
   "cell_type": "markdown",
   "id": "f42ef597-b65f-43f7-bc88-539042a030c5",
   "metadata": {},
   "source": []
  }
 ],
 "metadata": {
  "kernelspec": {
   "display_name": "Python 3 (ipykernel)",
   "language": "python",
   "name": "python3"
  },
  "language_info": {
   "codemirror_mode": {
    "name": "ipython",
    "version": 3
   },
   "file_extension": ".py",
   "mimetype": "text/x-python",
   "name": "python",
   "nbconvert_exporter": "python",
   "pygments_lexer": "ipython3",
   "version": "3.9.17"
  }
 },
 "nbformat": 4,
 "nbformat_minor": 5
}
