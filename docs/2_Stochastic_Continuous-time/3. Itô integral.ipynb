{
 "cells": [
  {
   "cell_type": "markdown",
   "id": "e49e8a08-d909-4056-8962-8f6760a0aeab",
   "metadata": {},
   "source": [
    "# Itô integral\n",
    "\n"
   ]
  },
  {
   "cell_type": "markdown",
   "id": "f42ef597-b65f-43f7-bc88-539042a030c5",
   "metadata": {},
   "source": [
    "## 1. Definition"
   ]
  },
  {
   "cell_type": "markdown",
   "id": "237be41e-95fa-4f4b-8813-557b8ee1cd64",
   "metadata": {},
   "source": [
    "Itô integral provides a precise mathematical framework to define the integals of the form $\\int_0^T F_t dW_t$:"
   ]
  },
  {
   "cell_type": "markdown",
   "id": "2c23e095-41a6-4fa0-b451-c89e4486b83c",
   "metadata": {},
   "source": [
    "$$ \\int_0^T F_t \\, dW_t \\approx \\sum_i  F_{t_i} (W_{t_{i+1}} - W_{t_i})$$\n"
   ]
  },
  {
   "cell_type": "markdown",
   "id": "f62a5190-1fca-4b84-b0a4-338261d43d16",
   "metadata": {},
   "source": [
    "Properties:"
   ]
  },
  {
   "cell_type": "markdown",
   "id": "3900d2f4-0a45-4e43-a7ef-1788fe4b00a5",
   "metadata": {},
   "source": [
    "$$E[\\int_0^T F_t dW_t] = 0$$"
   ]
  },
  {
   "cell_type": "markdown",
   "id": "ed269a2a-17f4-45b6-93e2-532798132023",
   "metadata": {},
   "source": [
    "## 2. Example"
   ]
  }
 ],
 "metadata": {
  "kernelspec": {
   "display_name": "Python 3 (ipykernel)",
   "language": "python",
   "name": "python3"
  },
  "language_info": {
   "codemirror_mode": {
    "name": "ipython",
    "version": 3
   },
   "file_extension": ".py",
   "mimetype": "text/x-python",
   "name": "python",
   "nbconvert_exporter": "python",
   "pygments_lexer": "ipython3",
   "version": "3.9.17"
  }
 },
 "nbformat": 4,
 "nbformat_minor": 5
}
