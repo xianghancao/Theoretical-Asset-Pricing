{
 "cells": [
  {
   "cell_type": "markdown",
   "id": "65073502-dbd6-4ded-aba5-7915435cdfdf",
   "metadata": {},
   "source": [
    "# My questions"
   ]
  },
  {
   "cell_type": "markdown",
   "id": "5f79f692-f062-4445-b782-5deeb8f64636",
   "metadata": {},
   "source": [
    "## Disaster \n",
    "Munk's 灾难模型是否考虑了国家的债务发展的历史（过去信息），是否可以考虑贝叶斯进行概论评估"
   ]
  },
  {
   "cell_type": "markdown",
   "id": "c0d39571-254b-4489-b7cc-d8100f713fb7",
   "metadata": {},
   "source": [
    "## CES utility"
   ]
  },
  {
   "cell_type": "markdown",
   "id": "78adcaab-4ada-4f25-a99d-e93c8117f957",
   "metadata": {},
   "source": []
  },
  {
   "cell_type": "markdown",
   "id": "cdd7ee20-d654-4b4e-9a6f-84c2230fe1b0",
   "metadata": {},
   "source": [
    "## Factor models"
   ]
  },
  {
   "cell_type": "markdown",
   "id": "094862df-198e-4de6-8de7-52637bd7e674",
   "metadata": {},
   "source": []
  }
 ],
 "metadata": {
  "kernelspec": {
   "display_name": "Python 3 (ipykernel)",
   "language": "python",
   "name": "python3"
  },
  "language_info": {
   "codemirror_mode": {
    "name": "ipython",
    "version": 3
   },
   "file_extension": ".py",
   "mimetype": "text/x-python",
   "name": "python",
   "nbconvert_exporter": "python",
   "pygments_lexer": "ipython3",
   "version": "3.9.17"
  }
 },
 "nbformat": 4,
 "nbformat_minor": 5
}
