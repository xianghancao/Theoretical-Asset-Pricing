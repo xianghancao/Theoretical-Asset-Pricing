{
 "cells": [
  {
   "cell_type": "markdown",
   "id": "806beede-b678-43c5-b5f4-32eb0890b01c",
   "metadata": {},
   "source": [
    "# 2. State Pricing"
   ]
  },
  {
   "cell_type": "markdown",
   "id": "b8009335-9bb3-436e-ad86-d878d039f925",
   "metadata": {},
   "source": [
    "## Definition"
   ]
  },
  {
   "cell_type": "markdown",
   "id": "a31c754e-a9c5-4043-833b-38bedcdf3661",
   "metadata": {},
   "source": [
    "The state price for state $ s $ is denoted $ \\psi_s $. For $ S $ states, the payoff vectors form an $ S \\times S $ identity matrix $ e $, and state prices form an $ S \\times 1 $ vector:\n",
    "$$\\mathbf{\\psi} = \\begin{pmatrix} \\psi_1 \\\\ \\psi_2 \\\\ \\vdots \\\\ \\psi_S \\end{pmatrix}$$\n",
    "\n"
   ]
  },
  {
   "cell_type": "markdown",
   "id": "25fcda78-77a9-4207-b6f3-04fdafa80b0e",
   "metadata": {},
   "source": [
    "在资产定价理论中，状态价格（state prices）是指在不同经济状态下用于贴现未来现金流的权重或价格。这些状态反映了未来可能的经济情景（如经济繁荣、衰退等），而状态价格是用来将这些不同状态下的未来收益或支付转化为当前价值的工具。"
   ]
  },
  {
   "cell_type": "markdown",
   "id": "e530fbb0-5d5a-40ed-acd6-3a88911aa981",
   "metadata": {},
   "source": [
    "状态价格反映了市场对不同状态的“风险调整”偏好。那些更可能发生或风险较高的状态可能对应更高的状态价格。\n",
    "它们确保无套利条件，即不存在免费午餐（arbitrage opportunities），并与资产的实际市场价格一致。"
   ]
  },
  {
   "cell_type": "markdown",
   "id": "c7d8ef5e-1e6a-4992-a68c-8966dc6d72bd",
   "metadata": {},
   "source": [
    "\n",
    "\n",
    "The price of any asset can be computed as the sum of its state-contingent payoffs weighted by state prices:"
   ]
  },
  {
   "cell_type": "markdown",
   "id": "5a2611d9-05fc-448f-9960-69b69fa8f55f",
   "metadata": {},
   "source": [
    "$$\\mathbf{P} = \\mathbf{D}^T \\mathbf{\\psi} $$\n",
    "$$\\begin{pmatrix} P_1 \\\\ P_2 \\\\ \\vdots \\\\ P_N \\end{pmatrix}  = \\begin{pmatrix}\n",
    "D_{1,1} & \\cdots & D_{1,N} \\\\\n",
    "D_{2,1} & \\cdots & D_{2,N} \\\\\n",
    "\\vdots & \\ddots & \\vdots \\\\\n",
    "D_{S,1} & \\cdots & D_{S,N}\n",
    "\\end{pmatrix} ^ T \n",
    "\\begin{pmatrix} \\psi_1 \\\\ \\psi_2 \\\\ \\vdots \\\\ \\psi_S \\end{pmatrix}$$"
   ]
  },
  {
   "cell_type": "markdown",
   "id": "57de9d48-6b21-461b-9b83-f77f90ffcdd2",
   "metadata": {},
   "source": [
    "For $ N $ assets, the state-contingent payoffs are stacked in an $ S \\times N $ matrix $ \\mathbf{D} $."
   ]
  },
  {
   "cell_type": "markdown",
   "id": "6b3fa46f-be57-4dfd-b3a3-d76669a2d512",
   "metadata": {},
   "source": [
    "## Example:\n",
    "\n",
    "\n",
    "\n",
    "Three assets($N=3$), three states($S=3$), with payoff matrix:\n",
    "$$\\mathbf{D} = \\begin{pmatrix}\n",
    "8.5 & 8.5 & 7 \\\\\n",
    "10 & 8 & 8 \\\\\n",
    "4 & 10 & 6\n",
    "\\end{pmatrix}$$\n",
    "\n",
    "and state prices $ \\mathbf{\\psi} = \\begin{pmatrix} 0.18 \\\\ 0.45 \\\\ 0.3 \\end{pmatrix} $.\n",
    "\n",
    "Asset prices:\n",
    "\n",
    "$$\\mathbf{P} = \\mathbf{D}^T \\mathbf{\\psi}\n",
    " = \\begin{pmatrix}\n",
    "8.5 & 10 & 4 \\\\\n",
    "8.5 & 8 & 10 \\\\\n",
    "7 & 8 & 6\n",
    "\\end{pmatrix} \\begin{pmatrix} 0.18 \\\\ 0.45 \\\\ 0.3 \\end{pmatrix} = \\begin{pmatrix} 7.23 \\\\ 8.13 \\\\ 6.66 \\end{pmatrix}$$\n"
   ]
  },
  {
   "cell_type": "markdown",
   "id": "4e6cbf33-5275-4aeb-a38b-2d912d98bbee",
   "metadata": {},
   "source": [
    "## Example\n",
    "Two assets with the same expected payoff (2.5 units) differ in value. Asset 1 (payoffs {1, 2, 3, 4}) reduces consumption variability, making it more valuable (higher price, lower expected return) than Asset 2 (payoffs {4, 3, 2, 1}).\n",
    "Implication: Expected return $ E[r_i] = \\frac{E[D_i]}{P_i} - 1 $ is lower for Asset 1 due to its higher price, despite equal payoff variance. Asset pricing depends on systematic risk (covariance with consumption), not individual variance.\n"
   ]
  }
 ],
 "metadata": {
  "kernelspec": {
   "display_name": "Python 3 (ipykernel)",
   "language": "python",
   "name": "python3"
  },
  "language_info": {
   "codemirror_mode": {
    "name": "ipython",
    "version": 3
   },
   "file_extension": ".py",
   "mimetype": "text/x-python",
   "name": "python",
   "nbconvert_exporter": "python",
   "pygments_lexer": "ipython3",
   "version": "3.9.17"
  }
 },
 "nbformat": 4,
 "nbformat_minor": 5
}
