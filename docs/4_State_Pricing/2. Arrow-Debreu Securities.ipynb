{
 "cells": [
  {
   "cell_type": "markdown",
   "id": "9324f65c-a5c8-49a8-9146-d3770767d51b",
   "metadata": {},
   "source": [
    "# 2. Arrow-Debreu Securities"
   ]
  },
  {
   "cell_type": "markdown",
   "id": "09e36c3e-daab-4454-b227-43201b736f31",
   "metadata": {},
   "source": [
    "## Definition\n",
    "An Arrow-Debreu security (or state security) pays 1 unit if state $ s $ occurs and 0 otherwise. Its payoff vector is:\n",
    "$$e_s = \\begin{pmatrix} 0 \\\\ \\vdots \\\\ 1 \\\\ \\vdots \\\\ 0 \\end{pmatrix} \\quad (\\text{1 in position } s)$$\n"
   ]
  },
  {
   "cell_type": "markdown",
   "id": "a31c754e-a9c5-4043-833b-38bedcdf3661",
   "metadata": {},
   "source": [
    "\n",
    "The price of this security is denoted $ y_s $, the state price for state $ s $. For $ S $ states, the payoff vectors form an $ S \\times S $ identity matrix $ e $, and state prices form an $ S \\times 1 $ vector:\n",
    "$$\\mathbf{\\psi} = \\begin{pmatrix} \\psi_1 \\\\ \\psi_2 \\\\ \\vdots \\\\ \\psi_S \\end{pmatrix}$$\n",
    "\n"
   ]
  },
  {
   "cell_type": "markdown",
   "id": "c7d8ef5e-1e6a-4992-a68c-8966dc6d72bd",
   "metadata": {},
   "source": [
    "Arrow-Debreu securities are fundamental to asset pricing. The price of any asset can be computed as the sum of its state-contingent payoffs weighted by state prices:"
   ]
  },
  {
   "cell_type": "markdown",
   "id": "5a2611d9-05fc-448f-9960-69b69fa8f55f",
   "metadata": {},
   "source": [
    "\n",
    "$$\\mathbf{P} = \\mathbf{D}^T \\mathbf{\\psi}$$\n"
   ]
  },
  {
   "cell_type": "markdown",
   "id": "6b3fa46f-be57-4dfd-b3a3-d76669a2d512",
   "metadata": {},
   "source": [
    "## Example:\n",
    "\n",
    "For $ N $ assets, the state-contingent payoffs are stacked in an $ S \\times N $ matrix $ \\mathbf{D} $:\n",
    "$$\\mathbf{D} = \\begin{pmatrix}\n",
    "D_{1,1} & \\cdots & D_{1,N} \\\\\n",
    "D_{2,1} & \\cdots & D_{2,N} \\\\\n",
    "\\vdots & \\ddots & \\vdots \\\\\n",
    "D_{S,1} & \\cdots & D_{S,N}\n",
    "\\end{pmatrix}$$\n",
    "\n",
    "Three assets($N=3$), three states($S=3$), with payoff matrix:\n",
    "$$\\mathbf{D} = \\begin{pmatrix}\n",
    "8.5 & 8.5 & 7 \\\\\n",
    "10 & 8 & 8 \\\\\n",
    "4 & 10 & 6\n",
    "\\end{pmatrix}$$\n",
    "\n",
    "and state prices $ \\mathbf{\\psi} = \\begin{pmatrix} 0.18 \\\\ 0.45 \\\\ 0.3 \\end{pmatrix} $.\n",
    "\n",
    "Asset prices:\n",
    "\n",
    "$$\\mathbf{P} = \\mathbf{D}^T \\mathbf{\\psi}\n",
    " = \\begin{pmatrix}\n",
    "8.5 & 10 & 4 \\\\\n",
    "8.5 & 8 & 10 \\\\\n",
    "7 & 8 & 6\n",
    "\\end{pmatrix} \\begin{pmatrix} 0.18 \\\\ 0.45 \\\\ 0.3 \\end{pmatrix} = \\begin{pmatrix} 7.23 \\\\ 8.13 \\\\ 6.66 \\end{pmatrix}$$\n"
   ]
  },
  {
   "cell_type": "markdown",
   "id": "7308c2cd-9f6c-41a0-96bd-3bb7f6f0694e",
   "metadata": {},
   "source": []
  }
 ],
 "metadata": {
  "kernelspec": {
   "display_name": "Python 3 (ipykernel)",
   "language": "python",
   "name": "python3"
  },
  "language_info": {
   "codemirror_mode": {
    "name": "ipython",
    "version": 3
   },
   "file_extension": ".py",
   "mimetype": "text/x-python",
   "name": "python",
   "nbconvert_exporter": "python",
   "pygments_lexer": "ipython3",
   "version": "3.9.17"
  }
 },
 "nbformat": 4,
 "nbformat_minor": 5
}
