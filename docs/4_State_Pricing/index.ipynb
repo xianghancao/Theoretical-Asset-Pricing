{
 "cells": [
  {
   "cell_type": "markdown",
   "id": "fb4e737a-1e7c-4eb8-b689-e62c60af56c5",
   "metadata": {},
   "source": [
    "# 4 State Pricing"
   ]
  },
  {
   "cell_type": "markdown",
   "id": "63cc0496-0ed1-4201-a7b6-b29b1dc31431",
   "metadata": {},
   "source": [
    "## Key Takeaways\n",
    "\n",
    "1. State Pricing: Asset prices are determined by their state-contingent payoffs weighted by state prices, $ P = D^T y $.\n",
    "2. Arrow-Debreu Securities: Fundamental building blocks that pay 1 in a specific state, with prices $ y_s $ reflecting the value of state-contingent payoffs.\n",
    "3. Market Completeness: Requires $ \\text{rank}(D) = S $, ensuring enough independent assets to price all states uniquely, allowing state prices to be derived via $ y = (D^T)^{-1} P $.\n",
    "4. Practical Relevance: While Arrow-Debreu securities are theoretical, their prices can be inferred in complete markets, underpinning modern asset pricing models."
   ]
  },
  {
   "cell_type": "markdown",
   "id": "c806e873-7d8d-4089-8fb2-627e820fe1eb",
   "metadata": {},
   "source": [
    "## Implications for Asset Pricing\n",
    "\n",
    "- State Prices: Represent the price of one unit of payoff in a specific state, enabling valuation of any asset via its state-contingent payoffs.\n",
    "- Market Completeness: Ensures all state-contingent claims can be replicated, allowing precise pricing and risk hedging.\n",
    "- Reverse Decomposition: In complete markets, state prices can be inferred from observed asset prices and payoffs, a critical tool for asset pricing theory.\n",
    "\n",
    "\n"
   ]
  },
  {
   "cell_type": "markdown",
   "id": "61d83c1a-9daa-4f14-8a66-113ac016404f",
   "metadata": {},
   "source": []
  }
 ],
 "metadata": {
  "kernelspec": {
   "display_name": "Python 3 (ipykernel)",
   "language": "python",
   "name": "python3"
  },
  "language_info": {
   "codemirror_mode": {
    "name": "ipython",
    "version": 3
   },
   "file_extension": ".py",
   "mimetype": "text/x-python",
   "name": "python",
   "nbconvert_exporter": "python",
   "pygments_lexer": "ipython3",
   "version": "3.9.17"
  }
 },
 "nbformat": 4,
 "nbformat_minor": 5
}
