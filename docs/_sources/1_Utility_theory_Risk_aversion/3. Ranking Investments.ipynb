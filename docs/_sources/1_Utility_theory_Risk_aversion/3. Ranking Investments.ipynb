{
 "cells": [
  {
   "cell_type": "markdown",
   "id": "add99be8-b05c-42e9-83c3-bf18a34bb54e",
   "metadata": {},
   "source": [
    "# 3. Ranking Investments"
   ]
  },
  {
   "cell_type": "markdown",
   "id": "c3726519-aae6-4569-8ee7-cdc7759e7130",
   "metadata": {},
   "source": [
    "## State-by-State Dominance:\n",
    "\n",
    "Example: Three investments with costs of 1000 and state-contingent payoffs in two equally likely states:\n",
    "\n",
    "Investment 1: {1050, 1200} (returns: 5%, 20%)\n",
    "Investment 2: {500, 1600} (returns: -50%, 60%)\n",
    "Investment 3: {1050, 1600} (returns: 5%, 60%)\n",
    "\n",
    "\n",
    "Investment 3 dominates both 1 and 2 state-by-state (higher or equal payoffs in all states), so all rational investors prefer it.\n",
    "Investments 1 and 2 cannot be ranked by state-by-state dominance, as their preference depends on investor risk attitudes.\n"
   ]
  },
  {
   "cell_type": "markdown",
   "id": "a43bd988-366f-488b-9cdf-a6f4398ef418",
   "metadata": {},
   "source": [
    "\n",
    "Mean-Variance Criterion:\n",
    "\n",
    "Metrics:\n",
    "\n",
    "Investment 1: $ E[r_1] = 12.5\\% $, $ \\sigma_1 = 7.5\\% $\n",
    "Investment 2: $ E[r_2] = 5\\% $, $ \\sigma_2 = 55\\% $\n",
    "Investment 3: $ E[r_3] = 32.5\\% $, $ \\sigma_3 = 27.5\\% $\n",
    "\n",
    "\n",
    "Investment 1 dominates Investment 2 (higher mean, lower variance).\n",
    "Investment 3 does not dominate Investment 1 (higher mean but higher variance), so mean-variance cannot rank them.\n",
    "\n",
    "\n",
    "Sharpe Ratio:\n",
    "\n",
    "Investment 1: $ \\frac{12.5}{7.5} = 1.667 $\n",
    "Investment 3: $ \\frac{32.5}{27.5} = 1.182 $\n",
    "Investment 1 has a higher Sharpe ratio, but this is misleading since Investment 3 dominates state-by-state, highlighting limitations of mean-variance analysis.\n",
    "\n",
    "\n",
    "Additional Example:\n",
    "\n",
    "Investment 4: $ E[r_4] = 4\\% $, $ \\sigma_4 = 1\\% $\n",
    "Investment 5: $ E[r_5] = 5\\% $, $ \\sigma_5 = 3\\% $\n",
    "No dominance (mean-variance or state-by-state); choice depends on investor preferences.\n"
   ]
  },
  {
   "cell_type": "markdown",
   "id": "b77102b8-5827-42e8-a49d-4967b6599f60",
   "metadata": {},
   "source": []
  }
 ],
 "metadata": {
  "kernelspec": {
   "display_name": "Python 3 (ipykernel)",
   "language": "python",
   "name": "python3"
  },
  "language_info": {
   "codemirror_mode": {
    "name": "ipython",
    "version": 3
   },
   "file_extension": ".py",
   "mimetype": "text/x-python",
   "name": "python",
   "nbconvert_exporter": "python",
   "pygments_lexer": "ipython3",
   "version": "3.9.17"
  }
 },
 "nbformat": 4,
 "nbformat_minor": 5
}
