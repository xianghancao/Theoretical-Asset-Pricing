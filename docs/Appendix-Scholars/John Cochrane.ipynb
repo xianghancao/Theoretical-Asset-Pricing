{
 "cells": [
  {
   "cell_type": "markdown",
   "id": "cf53cf19-a060-40da-ad64-ca81df256950",
   "metadata": {},
   "source": [
    "# John Cochrane"
   ]
  },
  {
   "cell_type": "code",
   "execution_count": null,
   "id": "ae932fb2-0f4c-4fe4-b626-5a302abbf9f7",
   "metadata": {},
   "outputs": [],
   "source": []
  }
 ],
 "metadata": {
  "kernelspec": {
   "display_name": "Python 3 (ipykernel)",
   "language": "python",
   "name": "python3"
  },
  "language_info": {
   "codemirror_mode": {
    "name": "ipython",
    "version": 3
   },
   "file_extension": ".py",
   "mimetype": "text/x-python",
   "name": "python",
   "nbconvert_exporter": "python",
   "pygments_lexer": "ipython3",
   "version": "3.9.17"
  }
 },
 "nbformat": 4,
 "nbformat_minor": 5
}
