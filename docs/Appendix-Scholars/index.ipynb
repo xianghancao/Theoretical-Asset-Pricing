{
 "cells": [
  {
   "cell_type": "markdown",
   "id": "e2aee1bc-65e9-4612-b04a-644c124fe578",
   "metadata": {},
   "source": [
    "# Appendix: Scholars"
   ]
  },
  {
   "cell_type": "markdown",
   "id": "ec40461f-cd89-451a-ac9e-9f056ffbdb61",
   "metadata": {},
   "source": []
  }
 ],
 "metadata": {
  "kernelspec": {
   "display_name": "Python 3 (ipykernel)",
   "language": "python",
   "name": "python3"
  },
  "language_info": {
   "codemirror_mode": {
    "name": "ipython",
    "version": 3
   },
   "file_extension": ".py",
   "mimetype": "text/x-python",
   "name": "python",
   "nbconvert_exporter": "python",
   "pygments_lexer": "ipython3",
   "version": "3.9.17"
  }
 },
 "nbformat": 4,
 "nbformat_minor": 5
}
