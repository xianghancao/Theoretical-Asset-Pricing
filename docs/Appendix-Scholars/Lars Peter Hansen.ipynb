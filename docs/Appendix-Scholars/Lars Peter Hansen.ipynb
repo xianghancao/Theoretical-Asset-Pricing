{
 "cells": [
  {
   "cell_type": "markdown",
   "id": "65eb49f3-1443-4551-9914-c4543ba0ac00",
   "metadata": {},
   "source": [
    "# Lars Peter Hansen"
   ]
  },
  {
   "cell_type": "code",
   "execution_count": null,
   "id": "7b9c0985-8b02-4688-b35a-8e380849e4d3",
   "metadata": {},
   "outputs": [],
   "source": []
  }
 ],
 "metadata": {
  "kernelspec": {
   "display_name": "Python 3 (ipykernel)",
   "language": "python",
   "name": "python3"
  },
  "language_info": {
   "codemirror_mode": {
    "name": "ipython",
    "version": 3
   },
   "file_extension": ".py",
   "mimetype": "text/x-python",
   "name": "python",
   "nbconvert_exporter": "python",
   "pygments_lexer": "ipython3",
   "version": "3.9.17"
  }
 },
 "nbformat": 4,
 "nbformat_minor": 5
}
