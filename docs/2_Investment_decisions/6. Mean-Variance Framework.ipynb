{
 "cells": [
  {
   "cell_type": "markdown",
   "id": "bad7a22c-904f-4164-bac9-c94707ea6600",
   "metadata": {},
   "source": [
    "# 6. Mean-Variance Framework"
   ]
  },
  {
   "cell_type": "markdown",
   "id": "d9baa8f5-8051-4a42-8997-a7362110ad3d",
   "metadata": {},
   "source": [
    "## Mean-Variance Analysis\n",
    "\n",
    "Conditions: Mean-variance preferences (minimizing variance for a given expected return) hold under:\n",
    "\n",
    "Quadratic utility: $ U(\\tilde{r}_p) = b \\tilde{r}_p + c \\tilde{r}_p^2 $, with $ b > 0 $, $ c < 0 $ (to reflect risk aversion).\n",
    "Normally distributed returns.\n",
    "\n",
    "\n",
    "Expected Utility with Quadratic Utility:\n",
    "$$E[U(\\tilde{r}_p)] = b E[\\tilde{r}_p] + c E[\\tilde{r}_p^2]$$\n",
    "Since $ E[\\tilde{r}_p^2] = \\text{Var}(\\tilde{r}_p) + (E[\\tilde{r}_p])^2 $, the expected utility depends only on the mean and variance of the portfolio return, justifying mean-variance analysis under these conditions.\n",
    "\n"
   ]
  },
  {
   "cell_type": "markdown",
   "id": "8fc8024f-8f6b-4559-810c-893829d1ae7a",
   "metadata": {},
   "source": []
  }
 ],
 "metadata": {
  "kernelspec": {
   "display_name": "Python 3 (ipykernel)",
   "language": "python",
   "name": "python3"
  },
  "language_info": {
   "codemirror_mode": {
    "name": "ipython",
    "version": 3
   },
   "file_extension": ".py",
   "mimetype": "text/x-python",
   "name": "python",
   "nbconvert_exporter": "python",
   "pygments_lexer": "ipython3",
   "version": "3.9.17"
  }
 },
 "nbformat": 4,
 "nbformat_minor": 5
}
