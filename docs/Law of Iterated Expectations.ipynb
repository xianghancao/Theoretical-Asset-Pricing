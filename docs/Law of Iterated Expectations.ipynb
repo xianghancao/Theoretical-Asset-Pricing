{
 "cells": [
  {
   "cell_type": "markdown",
   "id": "46a3d201-f510-4f4b-b8e2-9cc4cdddc8f4",
   "metadata": {},
   "source": [
    "# Law of Iterated Expectations"
   ]
  },
  {
   "cell_type": "markdown",
   "id": "b40bee63-6fff-42ee-85a8-4282aafc0108",
   "metadata": {},
   "source": [
    "> Thereom(Law of Iterated Expectations)\n",
    "for $t<t'$,\n",
    "> $$ E_t[Et'[X]] = E_t[X]$$"
   ]
  },
  {
   "cell_type": "markdown",
   "id": "d6dfd015-7c2e-4bf1-9d5d-dfd7c8a1ef33",
   "metadata": {},
   "source": []
  },
  {
   "cell_type": "markdown",
   "id": "26057ad0-b6f5-400f-a7eb-00ebfe1f8400",
   "metadata": {},
   "source": []
  }
 ],
 "metadata": {
  "kernelspec": {
   "display_name": "Python 3 (ipykernel)",
   "language": "python",
   "name": "python3"
  },
  "language_info": {
   "codemirror_mode": {
    "name": "ipython",
    "version": 3
   },
   "file_extension": ".py",
   "mimetype": "text/x-python",
   "name": "python",
   "nbconvert_exporter": "python",
   "pygments_lexer": "ipython3",
   "version": "3.9.17"
  }
 },
 "nbformat": 4,
 "nbformat_minor": 5
}
