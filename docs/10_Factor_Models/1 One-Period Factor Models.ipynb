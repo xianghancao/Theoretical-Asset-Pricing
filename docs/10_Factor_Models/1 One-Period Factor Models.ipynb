{
 "cells": [
  {
   "cell_type": "markdown",
   "id": "b14d1a3e-94bf-4e58-b06f-c701a10522b1",
   "metadata": {},
   "source": [
    "# 单期因子模型 (One-Period Factor Models)\n"
   ]
  },
  {
   "cell_type": "markdown",
   "id": "e59878e6-608e-4e99-a3fe-3c6b8488315f",
   "metadata": {},
   "source": [
    "\n",
    "单期因子模型是使用一些常见的、可观察的因子来解释不同资产**预期收益**的一种方法 。\n",
    "\n",
    "### 核心定义：定价因子 (Pricing Factor)\n",
    "\n",
    "一个**定价因子**是一个 $K$ 维随机变量 $x=(x_{1},...,x_{K})^{\\top}$，它满足以下条件：存在常数 $\\alpha\\in\\mathbb{R}$ 和 $\\eta\\in\\mathbb{R}^{K}$，使得资产 $i=1,...,I$ 满足以下收益-$\\beta$ 关系:\n",
    "\n",
    "$$E[R_{i}]=\\alpha+\\beta[R_{i},x]^{\\top}\\eta$$\n",
    "\n",
    "其中 $\\beta[R_{i},x]$ 定义为:\n",
    "\n",
    "$$\\beta[R_{i},x]=(Var[x])^{-1}Cov[x,R_{i}]$$\n",
    "\n",
    "* **注意：** 如果交易市场上存在**无风险资产**，则 $\\alpha$ 等于无风险收益率 $R^{f}$ 。\n",
    "\n",
    "这个关系也意味着资产价格 $P_i$ 及其未来支付 $D_i$ 满足以下定价条件:\n",
    "\n",
    "$$P_{i}=\\frac{E[D_{i}]-\\beta[D_{i},x]^{\\top}\\eta}{\\alpha}$$\n",
    "\n",
    "### 定价因子的性质\n",
    "\n",
    "如果一个 $K$ 维随机变量 $x$ 是一个定价因子，那么任何形式为 $\\hat{x}=a+\\underline{\\underline{A}}x$ 的线性变换（其中 $a\\in\\mathbb{R}^{K}$ 且 $\\underline{\\underline{A}}$ 是一个非奇异的 $K\\times K$ 矩阵）**也是一个定价因子**（尽管 $\\alpha$ 和 $\\eta$ 会不同） 。\n",
    "\n",
    "这意味着你可以:\n",
    "* 对因子进行**正交化** 。\n",
    "* 对因子进行**去均值**，$\\hat{x}=x-E[x]$ 。\n",
    "* 如果一个随机变量 $\\epsilon$ 满足对所有资产 $i$ 都有 $Cov[R_{i},\\epsilon]=0$，那么 $x+\\epsilon$ 仍然是一个定价因子 。\n",
    "\n",
    "### 定价因子与状态价格折现因子 (SPD)\n",
    "\n",
    "定价因子和**状态价格折现因子** ($\\zeta$) 之间存在直接联系 。如果 $x$ 是一个定价因子，则存在常数 $a$ 和 $b$，使得一个 SPD 候选者是**因子的仿射函数**:\n",
    "\n",
    "$$\\zeta=a+b^{\\top}x=\\frac{1}{\\alpha}(1-\\eta^{\\top}(Var[x])^{-1}(x-E[x]))$$\n",
    "\n",
    "### 因子模拟收益 (Factor-Mimicking Returns)\n",
    "\n",
    "一个定价因子 $x$ 总是可以用一组**特定投资组合的收益**（称为**因子模拟投资组合**）向量来替代 。\n",
    "\n",
    "对于一个单一的一维因子 $x$，因子模拟投资组合的收益 $R^{x}$ 也是一个定价因子（具有相同的 $\\alpha$，但 $\\eta$ 不同） 。\n",
    "\n",
    "### CAPM 和 APT\n",
    "\n",
    "* **CAPM（资本资产定价模型）:** 只有当一个单一收益 $R$ 是**均值-方差 (MV) 有效收益**且**不同于最小方差收益**时，它才是一个定价因子 。标准的 CAPM 假设“市场组合的收益是 MV 有效的” 。\n",
    "* **APT（套利定价理论）:** 在 APT 的假设下（包括收益的线性因子结构和不存在套利机会），因子 $(F_{1},...,F_{K})$ 是一个**定价因子** 。这意味着资产 $i$ 的预期收益等于无风险收益率加上因子 $\\beta$ 乘以各自的**风险溢价** ($RP_{k}$) 之和 。\n",
    "\n",
    "---\n",
    "\n",
    "接下来，您想了解**多期因子模型**的细节，还是关于**实证因子模型**（如 Fama-French 模型）的发现？"
   ]
  },
  {
   "cell_type": "markdown",
   "id": "9837bf56-7e7f-4599-98c9-3efef5793bf3",
   "metadata": {},
   "source": []
  }
 ],
 "metadata": {
  "kernelspec": {
   "display_name": "Python 3 (ipykernel)",
   "language": "python",
   "name": "python3"
  },
  "language_info": {
   "codemirror_mode": {
    "name": "ipython",
    "version": 3
   },
   "file_extension": ".py",
   "mimetype": "text/x-python",
   "name": "python",
   "nbconvert_exporter": "python",
   "pygments_lexer": "ipython3",
   "version": "3.9.17"
  }
 },
 "nbformat": 4,
 "nbformat_minor": 5
}
