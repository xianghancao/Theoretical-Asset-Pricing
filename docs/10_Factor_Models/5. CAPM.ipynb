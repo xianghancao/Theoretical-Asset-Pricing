{
 "cells": [
  {
   "cell_type": "markdown",
   "id": "baac198d-52f4-462e-88c1-195345f4166c",
   "metadata": {},
   "source": [
    "# CAPM"
   ]
  },
  {
   "cell_type": "markdown",
   "id": "ae0534a5-1fd2-49dd-b163-cd7cfdfa97b9",
   "metadata": {},
   "source": [
    "## Definition\n",
    "\n",
    "CAPM Implications (not fully detailed in the provided pages but contextualized):\n",
    "\n",
    "The tangency portfolio in the presence of a risk-free asset becomes the market portfolio in CAPM, as all investors hold it in combination with the risk-free asset (Tobin’s two-fund separation).\n",
    "The linear frontier corresponds to the security market line (SML) in CAPM, where expected returns are:\n",
    "$$E[r_i] = r_f + \\beta_i (E[r_m] - r_f), \\quad \\beta_i = \\frac{\\text{Cov}(r_i, r_m)}{\\text{Var}(r_m)}$$\n",
    "\n",
    "The portfolio frontier’s properties (e.g., two-fund separation, linearity with a risk-free asset) underpin CAPM’s equilibrium framework.\n",
    "\n"
   ]
  },
  {
   "cell_type": "markdown",
   "id": "1cf70641-895e-4005-9bc9-a66d310f8315",
   "metadata": {},
   "source": [
    "## Tangency portfolio == Market portfolio\n",
    "**tangency portfolio** is often considered equivalent to the **market portfolio** under certain assumptions.\n",
    "\n",
    "Here’s a concise explanation:\n",
    "\n",
    "- The **tangency portfolio** is the portfolio on the efficient frontier where the capital market line (CML) is tangent. It represents the optimal portfolio of risky assets that maximizes the Sharpe ratio (the highest expected return per unit of risk) when combined with a risk-free asset.\n",
    "- The **market portfolio** in CAPM is a theoretical portfolio that includes all investable assets in the market, weighted by their market value.\n",
    "\n",
    "### Why are they the same?\n",
    "In CAPM, under idealized conditions (e.g., investors have homogeneous expectations, no transaction costs, and can borrow/lend at the risk-free rate), the tangency portfolio is the market portfolio because:\n",
    "- All rational investors will hold the same optimal risky portfolio (the tangency portfolio) to maximize their Sharpe ratio.\n",
    "- Since all investors hold this portfolio, it must represent the entire market, i.e., the market portfolio.\n",
    "\n",
    "### Key Assumptions:\n",
    "- Investors are risk-averse and optimize using mean-variance analysis.\n",
    "- All investors have access to the same information and opportunities.\n",
    "- There is a risk-free asset, and investors can borrow/lend at the risk-free rate.\n",
    "\n",
    "### Caveats:\n",
    "- In practice, the tangency portfolio may not perfectly match the market portfolio due to real-world frictions like taxes, transaction costs, or differing investor expectations.\n",
    "- The market portfolio is a theoretical construct and may not be fully observable or replicable (e.g., it includes all assets, like real estate or private companies, not just stocks).\n",
    "\n",
    "In summary, under CAPM's idealized assumptions, the **tangency portfolio** is indeed the **market portfolio**."
   ]
  },
  {
   "cell_type": "markdown",
   "id": "7573fc72-b1aa-48e0-ad3c-5fb1a9b72ef6",
   "metadata": {},
   "source": []
  }
 ],
 "metadata": {
  "kernelspec": {
   "display_name": "Python 3 (ipykernel)",
   "language": "python",
   "name": "python3"
  },
  "language_info": {
   "codemirror_mode": {
    "name": "ipython",
    "version": 3
   },
   "file_extension": ".py",
   "mimetype": "text/x-python",
   "name": "python",
   "nbconvert_exporter": "python",
   "pygments_lexer": "ipython3",
   "version": "3.9.17"
  }
 },
 "nbformat": 4,
 "nbformat_minor": 5
}
