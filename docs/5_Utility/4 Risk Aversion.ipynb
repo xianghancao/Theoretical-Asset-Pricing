{
 "cells": [
  {
   "cell_type": "markdown",
   "id": "446fde49-1f8b-4852-a64b-591d9903ebef",
   "metadata": {},
   "source": [
    "# Risk Aversion"
   ]
  },
  {
   "cell_type": "markdown",
   "id": "ce5c854b-4b43-499a-a957-778d340144c9",
   "metadata": {},
   "source": [
    "## 1. Definition"
   ]
  },
  {
   "cell_type": "markdown",
   "id": "9d5e4b84-5777-4ffb-81bb-7a89a681ab92",
   "metadata": {},
   "source": [
    "### 1.1 Certainty Equivalent"
   ]
  },
  {
   "cell_type": "markdown",
   "id": "edbfa236-5d35-4487-ac62-62fad0d19f51",
   "metadata": {},
   "source": [
    "确定等价物 $c^*$ 是指一个人能无风险地获得与风险消费计划相同的预期效用水平的消费量，换句话，它是指一个确定的消费水平，它能带来与不确定消费计划相同的期望效用。它的定义如下："
   ]
  },
  {
   "cell_type": "markdown",
   "id": "d469d5c5-fb9f-4aed-a1a4-a84e884e9390",
   "metadata": {},
   "source": [
    "$$u(c^*) = E[u(c)]$$"
   ]
  },
  {
   "cell_type": "markdown",
   "id": "a4f117a6-2b76-45f7-aa1f-2490be60259a",
   "metadata": {},
   "source": [
    "### 1.2 Risk Premium"
   ]
  },
  {
   "cell_type": "markdown",
   "id": "3550e03b-da26-4d99-8748-bb1d89f74086",
   "metadata": {},
   "source": [
    "风险溢价 (RP) 是指为了放弃不确定消费计划而接受确定性等价消费所必须获得的补偿。换句话说，它是期望消费与确定性等价之间的差额。"
   ]
  },
  {
   "cell_type": "markdown",
   "id": "137491e3-5c77-45a8-92f7-93c4999286b2",
   "metadata": {},
   "source": [
    "<center>Risk premium = Expectation of consumption - certainty equivalent</center>"
   ]
  },
  {
   "cell_type": "markdown",
   "id": "e25b40d4-9fe7-40a4-8409-2ab4d3ee2ea1",
   "metadata": {},
   "source": [
    "$$\\lambda(c)= E[c] - c^*$$"
   ]
  },
  {
   "cell_type": "markdown",
   "id": "bea9db49-8479-4b5a-9e2b-89c08233ff37",
   "metadata": {},
   "source": [
    "$$E[u(c)] = u(c^*) = u(E[c] - \\lambda(c))$$"
   ]
  },
  {
   "cell_type": "markdown",
   "id": "0fa30dea-43ab-4017-a8c0-826a97f00fa8",
   "metadata": {},
   "source": [
    "通常，我们更关心相对风险溢价 (relative risk premium)，它以期望消费的百分比表示：\n",
    "$$\\text{相对风险溢价} = \\frac{\\lambda(c)}{E[c]}$$\n"
   ]
  },
  {
   "cell_type": "markdown",
   "id": "85ab2ccd-1bb1-4199-a38b-b90d82733aef",
   "metadata": {},
   "source": [
    "### 1.3 绝对风险厌恶 (Absolute Risk Aversion, ARA)\n",
    "\n",
    "衡量对**给定金额**风险的厌恶程度：\n",
    "\n",
    "$$\\text{ARA}(c) = - \\frac{u''(c)}{u'(c)}$$ \n"
   ]
  },
  {
   "cell_type": "markdown",
   "id": "c7a219fa-e169-47f4-9083-465224dda501",
   "metadata": {},
   "source": [
    "\n",
    "### 1.4 相对风险厌恶 (Relative Risk Aversion, RRA)\n",
    "\n",
    "衡量对**给定比例**风险的厌恶程度：\n",
    "\n",
    "$$\\text{RRA}(c) = - \\frac{c u''(c)}{u'(c)} = c \\cdot \\text{ARA}(c)$$ \n",
    "\n",
    "其中：\n",
    "* $c$：消费水平。\n",
    "* $u'(c)$：效用函数的一阶导数（边际效用），假设为正 ($u'(c)>0$)。\n",
    "* $u''(c)$：效用函数的二阶导数，对于风险厌恶的个体为负 ($u''(c)<0$)。\n"
   ]
  },
  {
   "cell_type": "markdown",
   "id": "e1b1785f-2d07-4bcd-8a96-7ec05432e853",
   "metadata": {},
   "source": [
    "### 1.5 Risk Aversion == Concave"
   ]
  },
  {
   "cell_type": "markdown",
   "id": "de08c19a-9ff4-4eb1-a29f-0c1b68dc6924",
   "metadata": {},
   "source": [
    "如果一个函数 $u(c)$ 是凹的，那么对于函数上任意两点 $A=(c_1, u(c_1))$ 和 $B=(c_2, u(c_2))$，连接 $A$ 和 $B$ 的线段（弦）上的点，都位于函数图像的下方。用公式表达就是：对于任意 $c_1, c_2$ 以及 $0 < \\alpha < 1$，函数满足：$$u(\\alpha c_1 + (1-\\alpha) c_2) \\ge \\alpha u(c_1) + (1-\\alpha) u(c_2)$$"
   ]
  },
  {
   "cell_type": "markdown",
   "id": "e62b6d9d-1130-4f81-b75f-b8e4eab0ad39",
   "metadata": {},
   "source": [
    "### 1.6 Risk-averse Invstor\n"
   ]
  },
  {
   "cell_type": "markdown",
   "id": "be659564-92b3-404e-9a96-df6c501d8b6a",
   "metadata": {},
   "source": [
    "- They perfer risk-free asset\n",
    "- "
   ]
  },
  {
   "cell_type": "markdown",
   "id": "acc9f220-4354-48c8-a180-4c0709b9bc53",
   "metadata": {},
   "source": [
    "## 2. Example"
   ]
  },
  {
   "cell_type": "markdown",
   "id": "4ff04682-14cd-4594-9e95-ff778064fa61",
   "metadata": {},
   "source": []
  }
 ],
 "metadata": {
  "kernelspec": {
   "display_name": "Python 3 (ipykernel)",
   "language": "python",
   "name": "python3"
  },
  "language_info": {
   "codemirror_mode": {
    "name": "ipython",
    "version": 3
   },
   "file_extension": ".py",
   "mimetype": "text/x-python",
   "name": "python",
   "nbconvert_exporter": "python",
   "pygments_lexer": "ipython3",
   "version": "3.9.17"
  }
 },
 "nbformat": 4,
 "nbformat_minor": 5
}
