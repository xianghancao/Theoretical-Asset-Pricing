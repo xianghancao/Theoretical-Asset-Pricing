{
 "cells": [
  {
   "cell_type": "markdown",
   "id": "665bcb82-b349-4425-8f3c-6fb50faa320c",
   "metadata": {},
   "source": [
    "# Marginal Utility"
   ]
  },
  {
   "cell_type": "markdown",
   "id": "b3369a37-573f-49d0-865d-56144f1b0278",
   "metadata": {},
   "source": [
    "## 1. Definition"
   ]
  },
  {
   "cell_type": "markdown",
   "id": "3f29c150-e3bc-4c7f-ba03-aa69b07a72bb",
   "metadata": {},
   "source": [
    "Marginal utility describes the additional satisfaction or benefit a consumer gains from consuming one more unit of a good or service $c$."
   ]
  },
  {
   "cell_type": "markdown",
   "id": "cb0ae4ba-b579-496c-bbc6-326bc7fe617f",
   "metadata": {},
   "source": [
    "$$ MU = U'(c)= \\frac{dU}{dc}$$"
   ]
  },
  {
   "cell_type": "markdown",
   "id": "1485f584-4b25-45cd-90b1-e0eb32f28742",
   "metadata": {},
   "source": [
    ", where $U'(c)$ is a utility function."
   ]
  },
  {
   "cell_type": "markdown",
   "id": "6486a54c-ce6e-4dcf-8432-832ccd50c484",
   "metadata": {},
   "source": [
    "## 2. Example\n",
    "For power utility function: \n",
    " $$ U(c) = \\frac{1}{1-\\gamma}c^{1-\\gamma} $$, where $ \\gamma > 1 $ indicates relative risk aversion greater than 1. Its marginal utility is\n",
    "\n",
    "$$MU = U'(c) = c^{-\\gamma}$$\n",
    " "
   ]
  },
  {
   "cell_type": "markdown",
   "id": "ae5d39e2-3e3d-47fb-a480-f05bb6f0d7a1",
   "metadata": {},
   "source": []
  }
 ],
 "metadata": {
  "kernelspec": {
   "display_name": "Python 3 (ipykernel)",
   "language": "python",
   "name": "python3"
  },
  "language_info": {
   "codemirror_mode": {
    "name": "ipython",
    "version": 3
   },
   "file_extension": ".py",
   "mimetype": "text/x-python",
   "name": "python",
   "nbconvert_exporter": "python",
   "pygments_lexer": "ipython3",
   "version": "3.9.17"
  }
 },
 "nbformat": 4,
 "nbformat_minor": 5
}
