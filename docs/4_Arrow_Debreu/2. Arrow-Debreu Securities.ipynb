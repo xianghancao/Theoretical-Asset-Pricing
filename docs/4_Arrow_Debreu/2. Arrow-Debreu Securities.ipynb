{
 "cells": [
  {
   "cell_type": "markdown",
   "id": "9324f65c-a5c8-49a8-9146-d3770767d51b",
   "metadata": {},
   "source": [
    "# 2. Arrow-Debreu Securities"
   ]
  },
  {
   "cell_type": "markdown",
   "id": "09e36c3e-daab-4454-b227-43201b736f31",
   "metadata": {},
   "source": [
    "## Definition\n",
    "An Arrow-Debreu security (or state security) pays 1 unit if state $ s $ occurs and 0 otherwise. Its payoff vector is:\n",
    "$$e_s = \\begin{pmatrix} 0 \\\\ \\vdots \\\\ 1 \\\\ \\vdots \\\\ 0 \\end{pmatrix} \\quad (\\text{1 in position } s)$$\n",
    "The price of this security is denoted $ y_s $, the state price for state $ s $. For $ S $ states, the payoff vectors form an $ S \\times S $ identity matrix $ e $, and state prices form an $ S \\times 1 $ vector:\n",
    "$$y = \\begin{pmatrix} y_1 \\\\ y_2 \\\\ \\vdots \\\\ y_S \\end{pmatrix}$$\n",
    "\n",
    "Role in Pricing: Arrow-Debreu securities are fundamental to asset pricing. The price of any asset can be computed as the sum of its state-contingent payoffs weighted by state prices:\n",
    "$$P = D^T y$$\n",
    "\n"
   ]
  },
  {
   "cell_type": "markdown",
   "id": "6b3fa46f-be57-4dfd-b3a3-d76669a2d512",
   "metadata": {},
   "source": [
    "## Example (2):\n",
    "\n",
    "Three assets, three states, with payoff matrix:\n",
    "$$D = \\begin{pmatrix}\n",
    "8.5 & 8.5 & 7 \\\\\n",
    "10 & 8 & 8 \\\\\n",
    "4 & 10 & 6\n",
    "\\end{pmatrix}$$\n",
    "and state prices $ y = \\begin{pmatrix} 0.18 \\\\ 0.45 \\\\ 0.3 \\end{pmatrix} $.\n",
    "Asset prices:\n",
    "$$P = D^T y = \\begin{pmatrix}\n",
    "8.5 & 10 & 4 \\\\\n",
    "8.5 & 8 & 10 \\\\\n",
    "7 & 8 & 6\n",
    "\\end{pmatrix} \\begin{pmatrix} 0.18 \\\\ 0.45 \\\\ 0.3 \\end{pmatrix} = \\begin{pmatrix} 7.23 \\\\ 8.13 \\\\ 6.66 \\end{pmatrix}$$\n"
   ]
  },
  {
   "cell_type": "markdown",
   "id": "7308c2cd-9f6c-41a0-96bd-3bb7f6f0694e",
   "metadata": {},
   "source": []
  }
 ],
 "metadata": {
  "kernelspec": {
   "display_name": "Python 3 (ipykernel)",
   "language": "python",
   "name": "python3"
  },
  "language_info": {
   "codemirror_mode": {
    "name": "ipython",
    "version": 3
   },
   "file_extension": ".py",
   "mimetype": "text/x-python",
   "name": "python",
   "nbconvert_exporter": "python",
   "pygments_lexer": "ipython3",
   "version": "3.9.17"
  }
 },
 "nbformat": 4,
 "nbformat_minor": 5
}
