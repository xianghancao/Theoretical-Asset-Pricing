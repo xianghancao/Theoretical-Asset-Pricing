{
 "cells": [
  {
   "cell_type": "markdown",
   "id": "10ecfb5a-6628-4609-8660-2fb301dddc4f",
   "metadata": {},
   "source": [
    "# 1. State Pricing"
   ]
  },
  {
   "cell_type": "markdown",
   "id": "d23521e8-9acc-4b2d-a723-d3123df8dac4",
   "metadata": {},
   "source": [
    "## Preliminaries of State Pricing\n",
    "\n",
    "Framework: The lecture uses a one-period model where an asset is characterized by its price at time 0 ($ P_0 $) and its payoff at time 1 ($ D_1 $). The payoff includes the ex-dividend price plus any dividend ($ D_{t+1} = P_{t+1} + d_{t+1} $). In a one-period model, the entire asset value is assumed to be paid as a dividend at period-end.\n",
    "Incorporating Risk: Uncertainty is modeled with $ S $ mutually exclusive states of nature, each with a positive probability $ p_s $ ($ \\sum_{s=1}^S p_s = 1 $). An asset $ i $’s state-contingent payoffs are represented by a vector:\n",
    "$$D_i = \\begin{pmatrix} D_{1,i} \\\\ D_{2,i} \\\\ \\vdots \\\\ D_{S,i} \\end{pmatrix}$$\n",
    "where $ D_{s,i} $ is the payoff of asset $ i $ in state $ s $.\n",
    "Payoff Matrix: For $ N $ assets, the state-contingent payoffs are stacked in an $ S \\times N $ matrix $ D $:\n",
    "$$D = \\begin{pmatrix}\n",
    "D_{1,1} & \\cdots & D_{1,N} \\\\\n",
    "D_{2,1} & \\cdots & D_{2,N} \\\\\n",
    "\\vdots & \\ddots & \\vdots \\\\\n",
    "D_{S,1} & \\cdots & D_{S,N}\n",
    "\\end{pmatrix}$$\n",
    "Asset prices are represented by an $ N \\times 1 $ vector $ P $:\n",
    "$$P = \\begin{pmatrix} P_1 \\\\ P_2 \\\\ \\vdots \\\\ P_N \\end{pmatrix}$$\n"
   ]
  },
  {
   "cell_type": "markdown",
   "id": "222dabbd-e889-446d-9ff9-cf0edc13b75e",
   "metadata": {},
   "source": []
  }
 ],
 "metadata": {
  "kernelspec": {
   "display_name": "Python 3 (ipykernel)",
   "language": "python",
   "name": "python3"
  },
  "language_info": {
   "codemirror_mode": {
    "name": "ipython",
    "version": 3
   },
   "file_extension": ".py",
   "mimetype": "text/x-python",
   "name": "python",
   "nbconvert_exporter": "python",
   "pygments_lexer": "ipython3",
   "version": "3.9.17"
  }
 },
 "nbformat": 4,
 "nbformat_minor": 5
}
