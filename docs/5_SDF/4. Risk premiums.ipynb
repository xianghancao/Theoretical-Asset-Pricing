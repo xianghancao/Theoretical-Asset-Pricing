{
 "cells": [
  {
   "cell_type": "markdown",
   "id": "2d1e074f-c735-48e7-9b01-6bf76771d519",
   "metadata": {},
   "source": [
    "# 4. Risk premiums"
   ]
  },
  {
   "cell_type": "markdown",
   "id": "cfe13a6d-5a78-48f5-ac76-a9f0358c460d",
   "metadata": {},
   "source": [
    "## 1. Definition"
   ]
  },
  {
   "cell_type": "markdown",
   "id": "bfa22469-ab89-43e6-903a-288be9bd55ca",
   "metadata": {},
   "source": [
    "> ***Theorem(Existence of SDF)***  \n",
    "> - 如果“单一价格法则”（Law of One Price）成立，则总是存在一个随机折扣因子。\n",
    "> - 如果更强的条件（无套利机会）成立，不仅存在随机折扣因子，而且其所有实现值都严格为正。\n",
    "> - 如果市场是完整的，则存在唯一的随机折扣因子。\n",
    "> - 如果市场不完整，但“单一价格法则”成立，则存在多个随机折扣因子，这些因子能够将观察到的价格分配给市场上交易的资产。"
   ]
  },
  {
   "cell_type": "markdown",
   "id": "bed7a515-ba96-4d05-9db1-9588d0dc25be",
   "metadata": {},
   "source": [
    "> ***Theorem(fundamental theorem of asset pricing)***  Cox and Ross (1976, Ross 1977, 1978)\n",
    "The following equivalent conditions on prices $ \\mathbf{P} $ and payoffs $ \\mathbf{D} $:  \n",
    "> (i) Absence of arbitrage\n",
    "> (ii) Existence of a consistent positive linear pricing rule (positive state prices), where $ \\exists \\psi > 0 $ such that $ \\mathbf{P} = \\mathbf{D}^T \\psi $  \n",
    "> (iii) Some agent with strictly increasing preferences $ U $ has an optimum\n",
    "\n",
    "also known as the *fundamental theorem of financial economics*\n",
    "\n",
    "Points (i) and (ii) are linked, as the existence of an asset pricing model requires strictly positive state prices and no arbitrage opportunities, with one condition implying the other.  \n",
    "Point (iii) suggests that if arbitrage opportunities exist, a representative investor's maximization problem would lack an optimum, as buying more in a state with a negative price could infinitely increase wealth and unbounded expected utility."
   ]
  },
  {
   "cell_type": "markdown",
   "id": "ed2177ec-bdca-4b09-80a7-6ca3be689169",
   "metadata": {},
   "source": [
    "## 2. Example"
   ]
  },
  {
   "cell_type": "code",
   "execution_count": null,
   "id": "b4bb1a0a-ed5e-42cd-be64-3db5f971c269",
   "metadata": {},
   "outputs": [],
   "source": []
  }
 ],
 "metadata": {
  "kernelspec": {
   "display_name": "Python 3 (ipykernel)",
   "language": "python",
   "name": "python3"
  },
  "language_info": {
   "codemirror_mode": {
    "name": "ipython",
    "version": 3
   },
   "file_extension": ".py",
   "mimetype": "text/x-python",
   "name": "python",
   "nbconvert_exporter": "python",
   "pygments_lexer": "ipython3",
   "version": "3.9.17"
  }
 },
 "nbformat": 4,
 "nbformat_minor": 5
}
