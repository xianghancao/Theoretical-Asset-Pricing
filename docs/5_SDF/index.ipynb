{
 "cells": [
  {
   "cell_type": "markdown",
   "id": "6c9a44fb-96eb-4f31-87be-20911e3d42e1",
   "metadata": {},
   "source": [
    "# 6 SDF"
   ]
  },
  {
   "cell_type": "markdown",
   "id": "8c8f824b-804e-4b66-964a-e84802099e58",
   "metadata": {},
   "source": [
    "## Key Takeaways\n",
    "\n",
    "1. Relative vs. Absolute Pricing: Relative pricing uses other asset prices, while absolute pricing explains prices via systematic risk exposure, requiring stronger assumptions about investor preferences.\n",
    "2. Representative Investor: Simplifies analysis by aggregating investor behavior, assuming complete or quasi-complete markets.\n",
    "3. State Prices: Determined by time preference ($ \\delta $), state probability ($ p_s $), and marginal utility ratio ($ \\frac{u'(c_s)}{u'(c_0)} $), with higher prices for states with high marginal utility.\n",
    "4. Stochastic Discount Factor: $ z_s = \\delta \\frac{u'(c_s)}{u'(c_0)} $ links state prices to asset pricing, with $ P_i = E[z D_i] $ or $ 1 = E[z R_i] $, reflecting risk and time preferences.\n",
    "5. Economic Insight: Assets are priced based on their ability to provide payoffs in states where consumption is scarce (high marginal utility), explaining variations in expected returns."
   ]
  },
  {
   "cell_type": "markdown",
   "id": "f27f23c6-5bc9-437a-b856-3cf2509c7915",
   "metadata": {},
   "source": []
  }
 ],
 "metadata": {
  "kernelspec": {
   "display_name": "Python 3 (ipykernel)",
   "language": "python",
   "name": "python3"
  },
  "language_info": {
   "codemirror_mode": {
    "name": "ipython",
    "version": 3
   },
   "file_extension": ".py",
   "mimetype": "text/x-python",
   "name": "python",
   "nbconvert_exporter": "python",
   "pygments_lexer": "ipython3",
   "version": "3.9.17"
  }
 },
 "nbformat": 4,
 "nbformat_minor": 5
}
