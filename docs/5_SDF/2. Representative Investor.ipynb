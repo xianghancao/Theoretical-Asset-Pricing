{
 "cells": [
  {
   "cell_type": "markdown",
   "id": "826d007c-b46b-4a7c-9cc1-20c8772a0c99",
   "metadata": {},
   "source": [
    "# 2. Representative Investor\n"
   ]
  },
  {
   "cell_type": "markdown",
   "id": "32afad1c-a9e1-4f00-8736-f87817a6e1e5",
   "metadata": {},
   "source": [
    "\n",
    "## 1. Definition\n",
    "\n",
    "Assumes a hypothetical investor whose actions aggregate the behavior of all investors, valid under technical conditions (e.g., specific utility functions and complete or quasi-complete markets, as per Rubinstein, 1974).\n",
    "Simplifies analysis by focusing on a single investor’s optimization problem.\n",
    "\n"
   ]
  },
  {
   "cell_type": "markdown",
   "id": "0358766d-1327-484a-91ed-3954d8de8f66",
   "metadata": {},
   "source": [
    "### 1.1 Optimization Problem:\n",
    "\n",
    "The representative investor maximizes expected utility over consumption today ($ c_0 $) and in $ S $ future states ($ c_s $) tomorrow:\n",
    "$$\\max_{c_0, c_1, \\ldots, c_S} E[U(C)] = u(c_0) + \\delta \\sum_{s=1}^S \\pi_s u(c_s)$$\n",
    "subject to the budget constraint:\n",
    "$$c_0 + \\sum_{s=1}^S y_s c_s = Y$$\n",
    "where:\n",
    "\n",
    "$ \\delta $: Subjective time-preference factor (discounts future utility).  \n",
    "$ \\pi_s $: Probability of state $ s $.  \n",
    "$ y_s $: State price for state $ s $.  \n",
    "$ Y $: Current wealth.  \n",
    "$ y_0 = 1 $: Price of one unit of consumption today (for simplicity).  \n",
    "\n",
    "\n",
    "The budget constraint ensures that the cost of the consumption plan equals the investor’s wealth. In a one-period model, all wealth is consumed (unused wealth at the end provides no utility).\n",
    "\n",
    "\n"
   ]
  },
  {
   "cell_type": "markdown",
   "id": "d99159c9-5eb5-435b-a1e1-b5394121448a",
   "metadata": {},
   "source": [
    "### 1.2 Deriving State Prices\n",
    "\n"
   ]
  },
  {
   "cell_type": "markdown",
   "id": "3516b522-bc4f-4aa5-9862-accf4b6e7cc0",
   "metadata": {},
   "source": [
    "> ***Theorem(The Lagrange multiplier method)***  \n",
    "Let $f(x,y,z)$ be the target function and $g(x, y, z)=c$ the constraint. The optimum for the Lagrange function $$L(x,y,z, \\lambda) = f(x,y,z) + \\lambda(c-g(x,y,z)) $$ will then be the constrained optimum of $f(x,y,z)$"
   ]
  },
  {
   "cell_type": "markdown",
   "id": "d8eb9bdf-0f3b-4f81-bd71-5d3efa862371",
   "metadata": {},
   "source": [
    "\n",
    "\n",
    "Solve the constrained optimization using Lagrange multipliers:\n",
    "$$L(c_0, c_1, \\ldots, c_S, \\lambda) = u(c_0) + \\delta \\sum_{s=1}^S \\pi_s u(c_s) + \\lambda \\left( Y - c_0 - \\sum_{s=1}^S y_s c_s \\right)$$\n",
    "\n",
    "First-order conditions (FOCs):\n",
    "$$u'(c_0) = \\lambda$$\n",
    "$$\\delta \\pi_s u'(c_s) = \\lambda y_s \\quad \\text{for each state } s$$\n",
    "\n",
    "Combining FOCs:\n",
    "$$y_s = \\delta \\pi_s \\frac{u'(c_s)}{u'(c_0)}$$\n",
    "\n"
   ]
  },
  {
   "cell_type": "markdown",
   "id": "c1f6f651-d86c-4ad3-a7b3-3e1792359eeb",
   "metadata": {},
   "source": [
    "### 1.3 Interpretation:\n",
    "\n",
    "The state price $ y_s $ is determined by three factors:\n",
    "\n",
    "- Time Preference ($ \\delta $): A lower $ \\delta $ (stronger preference for current consumption) reduces state prices, as investors value future payoffs less.\n",
    "- State Probability ($ p_s $): States with lower probability have lower state prices, as investors are less willing to pay for unlikely payoffs.\n",
    "- Marginal Utility Ratio ($ \\frac{u'(c_s)}{u'(c_0)} $): Higher marginal utility in state $ s $ (e.g., low consumption states for risk-averse investors) increases $ y_s $, as investors value payoffs more in “bad” states where consumption is scarce.\n",
    "\n",
    "\n"
   ]
  },
  {
   "cell_type": "code",
   "execution_count": null,
   "id": "3b0fe19f-607a-4f38-88ee-2eeee18f8a40",
   "metadata": {},
   "outputs": [],
   "source": []
  }
 ],
 "metadata": {
  "kernelspec": {
   "display_name": "Python 3 (ipykernel)",
   "language": "python",
   "name": "python3"
  },
  "language_info": {
   "codemirror_mode": {
    "name": "ipython",
    "version": 3
   },
   "file_extension": ".py",
   "mimetype": "text/x-python",
   "name": "python",
   "nbconvert_exporter": "python",
   "pygments_lexer": "ipython3",
   "version": "3.9.17"
  }
 },
 "nbformat": 4,
 "nbformat_minor": 5
}
