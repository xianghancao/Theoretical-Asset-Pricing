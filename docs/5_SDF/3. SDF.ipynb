{
 "cells": [
  {
   "cell_type": "markdown",
   "id": "1ddd3504-cb47-48ad-adbb-5667d42dbc9e",
   "metadata": {},
   "source": [
    "# 3. Stochastic Discount Factor (SDF)"
   ]
  },
  {
   "cell_type": "markdown",
   "id": "845b6c0e-ab06-42c0-be15-be943089c1d0",
   "metadata": {},
   "source": [
    "## 1. Definition\n",
    "The SDF, denoted $ \\zeta_s $, is the state price per unit of probability:\n",
    "$$\\zeta_s = \\frac{\\psi_s}{\\pi_s} = \\delta \\frac{u'(c_s)}{u'(c_0)}$$\n",
    "\n",
    "The SDF discounts state-contingent payoffs to present value, adjusting for risk and time preferences.\n",
    "\n",
    "\n",
    "Asset Pricing with SDF:\n",
    "\n",
    "For an asset with state-contingent payoffs $ D_i = (D_{1,i}, D_{2,i}, \\ldots, D_{S,i}) $, its price is:\n",
    "$$P_i = \\sum_{s=1}^S \\psi_s D_{s,i} = \\sum_{s=1}^S \\pi_s \\zeta_s D_{s,i} = E[\\zeta D_i]$$\n",
    "\n",
    ", since $\\psi_s = \\pi_s \\zeta_s $.\n",
    "\n",
    "In terms of returns ($ R_i = \\frac{D_i}{\\pi_i} $):\n",
    "$$1 = E[\\zeta R_i]$$\n",
    "\n",
    "\n",
    "\n",
    "\n",
    "\n"
   ]
  },
  {
   "cell_type": "markdown",
   "id": "b7e968fa-7ee9-439f-9505-a84c561e9918",
   "metadata": {},
   "source": [
    "## 2. Economic Intuition\n",
    "\n",
    "The SDF is high in states with high marginal utility (e.g., economic downturns for risk-averse investors), increasing the value of assets with high payoffs in those states.\n",
    "Assets with payoffs negatively correlated with marginal utility (high in “good” states) have lower prices and higher expected returns due to their riskiness.\n",
    "\n",
    "\n"
   ]
  },
  {
   "cell_type": "markdown",
   "id": "5958d4dd-674c-43a6-99de-12be53cfb914",
   "metadata": {},
   "source": [
    "### State Prices and SDF:\n",
    "\n",
    "State prices reflect economic fundamentals: time preference, state probabilities, and marginal utility.\n",
    "The SDF encapsulates these factors into a single variable, enabling a unified framework for pricing all assets.\n",
    "\n",
    "\n",
    "\n"
   ]
  },
  {
   "cell_type": "markdown",
   "id": "a626394e-f894-4e5f-bc32-e4db44a697a8",
   "metadata": {},
   "source": [
    "### Absolute Pricing Insight:\n",
    "\n",
    "Unlike relative pricing, which relies on other asset prices, absolute pricing explains prices through systematic risk exposure (via marginal utility in different states).\n",
    "Essential for pricing assets in incomplete markets where relative pricing fails.\n",
    "\n"
   ]
  },
  {
   "cell_type": "markdown",
   "id": "45a66c93-d17f-4c2b-b02e-65ae3be3fe8e",
   "metadata": {},
   "source": [
    "### Risk and Return:\n",
    "\n",
    "Assets with high payoffs in low-marginal-utility states (e.g., “good” economic states) command lower prices (higher expected returns) because they are less valuable for risk hedging.\n",
    "Conversely, assets with high payoffs in high-marginal-utility states (e.g., “bad” economic states) have higher prices (lower expected returns) due to their hedging value.\n"
   ]
  },
  {
   "cell_type": "code",
   "execution_count": null,
   "id": "b6e5419a-9f9f-45ff-9e4a-70873652c215",
   "metadata": {},
   "outputs": [],
   "source": []
  }
 ],
 "metadata": {
  "kernelspec": {
   "display_name": "Python 3 (ipykernel)",
   "language": "python",
   "name": "python3"
  },
  "language_info": {
   "codemirror_mode": {
    "name": "ipython",
    "version": 3
   },
   "file_extension": ".py",
   "mimetype": "text/x-python",
   "name": "python",
   "nbconvert_exporter": "python",
   "pygments_lexer": "ipython3",
   "version": "3.9.17"
  }
 },
 "nbformat": 4,
 "nbformat_minor": 5
}
