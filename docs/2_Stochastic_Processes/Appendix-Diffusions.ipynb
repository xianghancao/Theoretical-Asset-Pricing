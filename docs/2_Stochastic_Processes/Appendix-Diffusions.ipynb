{
 "cells": [
  {
   "cell_type": "markdown",
   "id": "ba337369-9d44-42e0-b8b2-1274e3e90406",
   "metadata": {},
   "source": [
    "# Appendix: Diffusions"
   ]
  },
  {
   "cell_type": "markdown",
   "id": "fc3417d9-9433-4df9-b398-d653d023b391",
   "metadata": {},
   "source": [
    "##  1. Definition\n",
    "\n",
    " ### 1. 扩散过程（Diffusions）的主要特点\n",
    "\n",
    " ### 1.1. 连续性（Continuity）\n",
    "\n",
    "扩散过程 $X_t$ 是**连续时间**下的随机过程，它们**路径连续**。\n",
    "\n",
    "* **路径连续：** 过程的值 $X_t$ 在时间上是连续变化的，没有突然的跳跃。这意味着 $X_t$ 是 $t$ 的连续函数。例如，**布朗运动**（Wiener Process）就是最著名的扩散过程。\n",
    "\n",
    " ### 1.2. 马尔可夫性（Markov Property）\n",
    "\n",
    "扩散过程通常是**马尔可夫过程**。\n",
    "\n",
    "* **马尔可夫性：** 过程的未来状态只取决于当前状态，与过去的历史路径无关。用数学语言来说，给定现在 $X_t$，未来 $X_T$（$T>t$）的条件概率分布与 $\\{X_s: s < t\\}$ 无关。这使得建模和预测变得简化。\n",
    "\n",
    " ### 1.3. 漂移与波动（Drift and Volatility）\n",
    "\n",
    "扩散过程通常由两个关键函数来定义其局部动态：**漂移项**和**波动项**。\n",
    "\n",
    "* **漂移项 ($\\mu$)：** 表示过程的**趋势**或**平均速率**。它决定了过程在没有随机冲击的情况下，随时间演变的确定性方向。\n",
    "* **波动项 ($\\sigma$)：** 表示过程的**随机性**或**不确定性**。它衡量了过程的**瞬时方差**，通常乘以维纳过程的微分 $dz_t$，体现了随机冲击的影响。\n",
    "\n",
    "$$dX_t = \\mu(X_t, t) dt + \\sigma(X_t, t) dz_t$$\n",
    "\n",
    " ### 1.4. 局部特性（Local Characteristics）\n",
    "\n",
    "扩散过程的动态只取决于**当前状态**和**即时时间**。\n",
    "\n",
    "* **局部独立于时间间隔：** 在极小的时间间隔 $dt$ 内，过程的增量 $dX_t$ 是独立于其之前任何增量的。\n",
    "\n",
    " ### 1.5. 高斯增量（Gaussian Increments, 仅在局部）\n",
    "\n",
    "虽然扩散过程整体上可能不是正态分布，但在一个**无穷小的时间间隔**内，其增量 $dX_t$ 的条件分布近似于**正态分布**。这是因为 $dz_t$ 是正态分布的。\n",
    "\n",
    " ### 1.6. 伊藤积分（Itô Calculus）\n",
    "\n",
    "扩散过程的分析需要使用**伊藤微积分**（Itô Calculus）而非经典的牛顿-莱布尼茨微积分。\n",
    "\n",
    "* **伊藤引理：** 这是扩散过程分析的核心工具，用于求解函数的微分，它考虑了随机冲击的“二阶效应”（即 $\\frac{1}{2} \\sigma^2 \\frac{\\partial^2 f}{\\partial X^2} dt$ 项），这是传统微积分中不存在的。\n",
    "\n",
    "## 2. Example\n",
    "\n",
    " ### 1.示例：几何布朗运动 (GBM)\n",
    "\n",
    "几何布朗运动是金融学中应用最广泛的扩散过程，它的特点体现在其微分方程中：\n",
    "$$dX_t = \\mu X_t dt + \\sigma X_t dz_t$$\n",
    "\n",
    "* **特点：** 漂移和波动都**正比于当前资产价格 $X_t$**，这保证了价格永不为负，并且波动性随价格水平的提高而增加（即“乘性噪声”）。\n",
    "\n",
    "简而言之，**扩散过程**是**连续**、**马尔可夫**的随机过程，其行为由**漂移**（趋势）和**波动**（随机性）这两个局部特性所描述。"
   ]
  },
  {
   "cell_type": "markdown",
   "id": "7b2ff947-1a1e-433f-84e0-997df03117d5",
   "metadata": {},
   "source": []
  }
 ],
 "metadata": {
  "kernelspec": {
   "display_name": "Python 3 (ipykernel)",
   "language": "python",
   "name": "python3"
  },
  "language_info": {
   "codemirror_mode": {
    "name": "ipython",
    "version": 3
   },
   "file_extension": ".py",
   "mimetype": "text/x-python",
   "name": "python",
   "nbconvert_exporter": "python",
   "pygments_lexer": "ipython3",
   "version": "3.9.17"
  }
 },
 "nbformat": 4,
 "nbformat_minor": 5
}
