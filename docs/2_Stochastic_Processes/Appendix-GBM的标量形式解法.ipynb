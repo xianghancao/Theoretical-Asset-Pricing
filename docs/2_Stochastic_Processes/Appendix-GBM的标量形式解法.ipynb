{
 "cells": [
  {
   "cell_type": "markdown",
   "id": "89b2254d-5554-43a8-97f2-df267eebbd5a",
   "metadata": {},
   "source": [
    "# Appendix：GBM的标量形式解法"
   ]
  },
  {
   "cell_type": "markdown",
   "id": "681bc266-918f-4397-a49c-1e7455be151c",
   "metadata": {},
   "source": [
    "### 1. 随机微分方程 (SDE)\n",
    "\n",
    "我们从描述资产价格 $X_t$ 演化的 SDE 开始，其中 $\\mu$ 和 $\\sigma$ 是常数：\n",
    "\n",
    "$$dX_t = \\mu X_t dt + \\sigma X_t dz_t$$\n",
    "\n",
    "可以重写为相对变化形式：\n",
    "\n",
    "$$\\frac{dX_t}{X_t} = \\mu dt + \\sigma dz_t \\tag{2.14}$$\n",
    "\n",
    "### 2. 定义对数过程并应用 Itô 引理\n",
    "\n",
    "我们定义一个新过程 $Y_t = \\ln X_t$，并使用 **Itô 引理**来找到 $dY_t$ 的表达式。\n",
    "\n",
    "函数 $g(X_t, t) = \\ln X_t$ 的偏导数为：\n",
    "* $\\frac{\\partial g}{\\partial t} = 0$\n",
    "* $\\frac{\\partial g}{\\partial X} = \\frac{1}{X_t}$\n",
    "* $\\frac{\\partial^2 g}{\\partial X^2} = -\\frac{1}{X_t^2}$\n",
    "\n",
    "根据 **Itô 引理**的公式：\n",
    "$$dY_t = \\left( \\frac{\\partial g}{\\partial t} + \\mu_t \\frac{\\partial g}{\\partial X} + \\frac{1}{2} \\sigma_t^2 \\frac{\\partial^2 g}{\\partial X^2} \\right) dt + \\sigma_t \\frac{\\partial g}{\\partial X} d\\mathbf{z}_t$$\n",
    "\n",
    "将 $X_t$ 的漂移项 $\\mu_t = \\mu X_t$ 和扩散项 $\\sigma_t = \\sigma X_t$（来自 SDE $\\mathbf{dX_t = \\mu_t dt + \\sigma_t dz_t}$）以及偏导数代入：\n",
    "\n",
    "$$d(\\ln X_t) = \\left( 0 + (\\mu X_t) \\left(\\frac{1}{X_t}\\right) + \\frac{1}{2} (\\sigma X_t)^2 \\left(-\\frac{1}{X_t^2}\\right) \\right) dt + (\\sigma X_t) \\left(\\frac{1}{X_t}\\right) dz_t$$\n",
    "\n",
    "化简后得到 $Y_t = \\ln X_t$ 的微分形式：\n",
    "\n",
    "$$d(\\ln X_t) = \\left( \\mu - \\frac{1}{2} \\sigma^2 \\right) dt + \\sigma dz_t \\tag{A}$$\n",
    "\n",
    "### 3. 积分求解\n",
    "\n",
    "现在我们对等式 (A) 从初始时间 $t$ 积分到未来时间 $t'$：\n",
    "\n",
    "$$\\int_{t}^{t'} d(\\ln X_u) = \\int_{t}^{t'} \\left( \\mu - \\frac{1}{2} \\sigma^2 \\right) du + \\int_{t}^{t'} \\sigma dz_u$$\n",
    "\n",
    "由于 $\\mu$ 和 $\\sigma$ 都是**常数**：\n",
    "\n",
    "**左边 (对数过程的积分)：**\n",
    "$$\\int_{t}^{t'} d(\\ln X_u) = \\ln X_{t'} - \\ln X_t$$\n",
    "\n",
    "**右边 (漂移项的积分)：**\n",
    "$$\\int_{t}^{t'} \\left( \\mu - \\frac{1}{2} \\sigma^2 \\right) du = \\left( \\mu - \\frac{1}{2} \\sigma^2 \\right) \\int_{t}^{t'} du = \\left( \\mu - \\frac{1}{2} \\sigma^2 \\right) (t' - t)$$\n",
    "\n",
    "**右边 (随机项的 Itô 积分)：**\n",
    "$$\\int_{t}^{t'} \\sigma dz_u = \\sigma \\int_{t}^{t'} dz_u = \\sigma (z_{t'} - z_t)$$\n",
    "\n",
    "将三部分结果合并：\n",
    "\n",
    "$$\\ln X_{t'} - \\ln X_t = \\left( \\mu - \\frac{1}{2} \\sigma^2 \\right) (t' - t) + \\sigma (z_{t'} - z_t)$$\n",
    "\n",
    "整理得到：\n",
    "\n",
    "$$\\ln X_{t'} = \\ln X_t + \\left( \\mu - \\frac{1}{2} \\sigma^2 \\right) (t' - t) + \\sigma (z_{t'} - z_t)$$\n",
    "\n",
    "### 4. 取指数得到最终解\n",
    "\n",
    "最后，对等式两边取指数，得到 $X_{t'}$ 的最终显式解：\n",
    "\n",
    "$$X_{t'} = X_t \\exp \\left\\{ \\left( \\mu - \\frac{1}{2} \\sigma^2 \\right) (t' - t) + \\sigma (z_{t'} - z_t) \\right\\} \\tag{2.15}$$\n",
    "\n",
    "这正是您在图片中看到的几何布朗运动的标量形式解。"
   ]
  },
  {
   "cell_type": "markdown",
   "id": "636b70bd-37bb-44c5-bc9c-b3553d38709d",
   "metadata": {},
   "source": []
  }
 ],
 "metadata": {
  "kernelspec": {
   "display_name": "Python 3 (ipykernel)",
   "language": "python",
   "name": "python3"
  },
  "language_info": {
   "codemirror_mode": {
    "name": "ipython",
    "version": 3
   },
   "file_extension": ".py",
   "mimetype": "text/x-python",
   "name": "python",
   "nbconvert_exporter": "python",
   "pygments_lexer": "ipython3",
   "version": "3.9.17"
  }
 },
 "nbformat": 4,
 "nbformat_minor": 5
}
