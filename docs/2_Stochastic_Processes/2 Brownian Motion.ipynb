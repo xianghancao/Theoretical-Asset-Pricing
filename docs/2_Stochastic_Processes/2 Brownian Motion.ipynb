{
 "cells": [
  {
   "cell_type": "markdown",
   "id": "9139765c-0714-4bc9-b311-466101f3791a",
   "metadata": {},
   "source": [
    "# Brownian Motion"
   ]
  },
  {
   "cell_type": "markdown",
   "id": "caa96701-5ba6-4c39-ac0c-596b772c1bf4",
   "metadata": {},
   "source": [
    "## 1. Definition\n"
   ]
  },
  {
   "cell_type": "markdown",
   "id": "72abc627-44e8-4cbc-b376-1c99bd1c69bd",
   "metadata": {},
   "source": [
    "### 1.1 Brownian Motion"
   ]
  },
  {
   "cell_type": "markdown",
   "id": "75fb2d3a-bfbc-42cb-b734-87e1c1b7c0df",
   "metadata": {},
   "source": [
    "A **Brownian motion**, $ z(t) $, also known as **Wiener process**, is a continuous-time stochastic process with specific properties.   \n",
    "Over a small time interval $ \\Delta t $, the change in the process is:\n",
    "$$\\Delta z \\equiv z(t + \\Delta t) - z(t) = \\sqrt{\\Delta t} \\, \\tilde{\\epsilon}$$\n",
    "where $ \\tilde{\\epsilon} $ is a random variable with:\n",
    "\n",
    "$$ E[\\tilde{\\epsilon}] = 0 $$\n",
    "$$ \\text{Var}[\\tilde{\\epsilon}] = 1 $$\n",
    "\n",
    "Independence across non-overlapping intervals: \n",
    "$$ \\text{Cov}[z(t + \\Delta t) - z(t), z(s + \\Delta t) - z(s)] = 0 $$ for non-overlapping intervals $(t, t + \\Delta t)$ and $(s, s + \\Delta t)$.\n"
   ]
  },
  {
   "cell_type": "markdown",
   "id": "79aaace0-45ce-46e7-95c8-7b5b96191143",
   "metadata": {},
   "source": [
    "\n",
    "\n",
    "The Brownian process is a *Markov process*, meaning the probability distribution of $ z(T) $ at time $ T > t $ depends only on $ z(t) $, not on prior values at $ s < t $.\n",
    "Moments:\n",
    "$$E[\\Delta z] = E[\\sqrt{\\Delta t} \\, \\tilde{\\epsilon}] = \\sqrt{\\Delta t} \\cdot 0 = 0$$\n",
    "$$\\text{Var}[\\Delta z] = \\text{Var}[\\sqrt{\\Delta t} \\, \\tilde{\\epsilon}] = \\Delta t \\cdot \\text{Var}[\\tilde{\\epsilon}] = \\Delta t$$\n",
    "$$\\text{Std}[\\Delta z] = \\sqrt{\\Delta t}$$\n",
    "\n",
    "so, $\\Delta z \\sim N(0, \\Delta t)$"
   ]
  },
  {
   "cell_type": "markdown",
   "id": "3f3fa554-54af-4a85-9695-32efeaad15c9",
   "metadata": {},
   "source": [
    "\n",
    "\n",
    "In the continuous-time limit:\n",
    "$$dz(t) \\equiv \\lim_{\\Delta t \\to 0} \\Delta z = \\lim_{\\Delta t \\to 0} \\sqrt{\\Delta t} \\, \\tilde{\\epsilon}$$\n",
    "or, in shorthand:\n",
    "$$dz = \\tilde{\\epsilon} \\sqrt{dt}$$\n",
    "so, $dz \\sim N(0, dt)$"
   ]
  },
  {
   "cell_type": "markdown",
   "id": "e06e137e-b281-41b8-8a31-9b6e89322986",
   "metadata": {},
   "source": [
    "### 1.2 Properties"
   ]
  },
  {
   "cell_type": "markdown",
   "id": "03f4457a-20bc-4b24-9e40-45669e472765",
   "metadata": {},
   "source": [
    "Due to the properties of Brownian processes:\n",
    "\\begin{align}(dt)^2 = 0 \\\\  dt \\cdot dz = 0 \\\\  (dz)^2 = dt \\end{align}"
   ]
  },
  {
   "cell_type": "markdown",
   "id": "10f0801c-0057-4cbe-a5f5-f8394557a8ff",
   "metadata": {},
   "source": [
    "**方差：** 正态分布 $N(\\mu, \\sigma^2)$ 的方差是 $\\sigma^2$。因此，$\\Delta Z$ 的方差是 $\\Delta t$：\n",
    "    $$E[(\\Delta Z)^2] = \\text{Var}(\\Delta Z) = \\Delta t$$\n",
    "\n",
    "**数量级 (Order of Magnitude)：**\n",
    "    * 普通的微分 $dx$ 的数量级是 $\\Delta t$。\n",
    "    * 维纳增量 $dz$ 的数量级是 $\\sqrt{\\Delta t}$（因为其方差是 $\\Delta t$）。\n",
    "    * 因此，$(dz)^2$ 的数量级是 $(\\sqrt{\\Delta t})^2 = \\Delta t$。\n",
    "\n",
    "\n",
    "这三条规则一起构成了伊藤微积分中的“乘法表”：\n",
    "\n",
    "| 乘法 | 结果 | 解释 |\n",
    "| :---: | :---: | :--- |\n",
    "| $\\mathbf{dt \\cdot dt}$ | $\\mathbf{0}$ | **普通微积分规则**：高阶无穷小量被忽略。|\n",
    "| $\\mathbf{dz \\cdot dt}$ | $\\mathbf{0}$ | $\\sqrt{dt} \\cdot dt = (dt)^{3/2}$，更高阶，被忽略。|\n",
    "| $\\mathbf{dz \\cdot dz}$ | $\\mathbf{dt}$ | **二次变差规则**：随机增量“足够粗糙”，平方后与时间增量同阶，不可忽略。|"
   ]
  },
  {
   "cell_type": "markdown",
   "id": "6f10a2d1-39c5-4a05-bd70-71f0a9f6bf4c",
   "metadata": {},
   "source": [
    "### 1.3 Expectation & Variance"
   ]
  },
  {
   "cell_type": "markdown",
   "id": "1467b014-4e94-4822-9d4e-ce944dd17ded",
   "metadata": {},
   "source": [
    "\n",
    "\\begin{align}E[dt] = dt , \\\\ E[dz] = 0 \\end{align}\n"
   ]
  },
  {
   "cell_type": "markdown",
   "id": "bd1f8f77-0896-4e1f-b67f-d8c1ce624ea7",
   "metadata": {},
   "source": [
    "\\begin{align}Var[dt] = 0, \\\\ \\text{Var}[dz] = dt\\end{align}"
   ]
  },
  {
   "cell_type": "markdown",
   "id": "df0cbff3-15ac-4556-9095-12d6bda074fd",
   "metadata": {},
   "source": [
    "Standard Brownian Motion $z_t \\sim N(0, t)$, also $az_t \\sim N(0, a^2t)$."
   ]
  },
  {
   "cell_type": "markdown",
   "id": "ace83b1c-ac41-4e3d-aed9-06438c5732ca",
   "metadata": {},
   "source": [
    "$$Var(z_t) = E[z_t^2] - (E[z_t])^2 = E[z_t^2] - 0^2 = t$$"
   ]
  },
  {
   "cell_type": "markdown",
   "id": "d73b2e73-e3b2-4e19-ad5d-52015a0fd70f",
   "metadata": {},
   "source": [
    "## Example"
   ]
  }
 ],
 "metadata": {
  "kernelspec": {
   "display_name": "Python 3 (ipykernel)",
   "language": "python",
   "name": "python3"
  },
  "language_info": {
   "codemirror_mode": {
    "name": "ipython",
    "version": 3
   },
   "file_extension": ".py",
   "mimetype": "text/x-python",
   "name": "python",
   "nbconvert_exporter": "python",
   "pygments_lexer": "ipython3",
   "version": "3.9.17"
  }
 },
 "nbformat": 4,
 "nbformat_minor": 5
}
