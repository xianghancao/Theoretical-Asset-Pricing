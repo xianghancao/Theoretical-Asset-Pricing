{
 "cells": [
  {
   "cell_type": "markdown",
   "id": "648dbdd1-0f13-495c-8296-2d644c683ff2",
   "metadata": {},
   "source": [
    "# Geometric Brownian Motion"
   ]
  },
  {
   "cell_type": "markdown",
   "id": "579c713e-8d0e-4c64-82fb-d896bf838adb",
   "metadata": {},
   "source": [
    "## 1. Definition"
   ]
  },
  {
   "cell_type": "markdown",
   "id": "76464400-804d-4dc9-83ea-1ad40ca4896b",
   "metadata": {},
   "source": [
    "### 1.1 GBM"
   ]
  },
  {
   "cell_type": "markdown",
   "id": "6a7616a1-4eff-49e1-85da-b56665da548f",
   "metadata": {},
   "source": [
    "几何布朗运动（Geometric Brownian Motion, GBM）是一种常用的随机过程，常用于对股票价格、商品期货价格和利率等金融资产价格进行建模。它假设资产价格的对数收益率遵循一个布朗运动（或维纳过程）。\n"
   ]
  },
  {
   "cell_type": "markdown",
   "id": "7a8f97ec-4b07-4438-81ac-ccd4aa705d3b",
   "metadata": {},
   "source": [
    "\n",
    "几何布朗运动一个连续时间的随机过程，可以用随机微分方程（SDE）来描述。\n",
    "Let $ S $ be the price of a stock. Then the stochastic differential equation (SDE):\n",
    "$$dX_t = \\mu X_t dt + \\sigma X_t dz,$$\n",
    "where:\n",
    "\n",
    "- $ \\mu $ is the drift rate, 代表资产价格的预期平均增长率。\n",
    "- $ \\sigma $ is the volatility rate, 代表资产价格的随机波动程度。\n",
    "- $z$ is a standard Brownian motion (Wiener process)\n",
    "- $ dt $ is the time increment,\n",
    "- $ dz $ is the increment of a Wiener process. 它代表了随机的冲击。\n",
    "\n",
    "\n",
    "This implies that:\n",
    "\n",
    "$$\\frac{dX_t}{X_t} = \\mu dt + \\sigma dz.$$\n",
    "\n",
    "\n",
    "It represents the relative change in the stock price as a stochastic differential equation, combining a deterministic drift term $ \\mu dt $ and a random volatility term $ \\sigma dz $."
   ]
  },
  {
   "cell_type": "markdown",
   "id": "c5d190ca-b2c1-4902-979f-bef017353619",
   "metadata": {},
   "source": [
    "其特点在于：由于随机过程 $X_t$ 的瞬时变化 $dX_t$ 与其当前值 $X_t$ 成正比，并且所有的漂移和波动率参数都是常数，因此 $X_t$ 是一种几何布朗运动。"
   ]
  },
  {
   "cell_type": "markdown",
   "id": "5e04af2c-cd2a-42b0-aba6-99df2c564af8",
   "metadata": {},
   "source": [
    "\n",
    "\n",
    "| 特性 | 算术布朗运动 (ABM) | 几何布朗运动 (GBM) |\n",
    "| :--- | :--- | :--- |\n",
    "| **波动项** | $\\sigma dW_t$ (**常数波动**) | $\\sigma S_t dW_t$ (**比例波动**) |\n",
    "| **适用变量** | 价格可以为负，如利率、价差。 | 价格必须为正，如股票价格。 |\n"
   ]
  },
  {
   "cell_type": "markdown",
   "id": "12a47813-f00b-4054-be68-d2a496ab2a60",
   "metadata": {},
   "source": [
    "### 1.2 Future values\n",
    "Apply Ito's Lemma with $g(x) = ln(X)$, 这个方程的解可以表示为：\n"
   ]
  },
  {
   "cell_type": "markdown",
   "id": "0cb78ad3-2209-4aab-bcc8-db1936acfdfc",
   "metadata": {},
   "source": [
    "\n",
    "$$X_{t'} = X_t \\exp \\left\\{ \\left( \\mu - \\frac{1}{2} \\sigma^2 \\right) (t' - t) + \\sigma (z_{t'} - z_t) \\right\\}$$\n",
    "GBM其解 $X_{t'}$ 是由**确定性趋势**和**随机波动**两部分组成的。"
   ]
  },
  {
   "cell_type": "markdown",
   "id": "7f65cb7c-0634-4e76-9c6d-bb5421bcdcd3",
   "metadata": {},
   "source": [
    "### 1.3 Log-Normal Distribution\n",
    "\n",
    "首先，最重要的一点是：几何布朗运动的解 $X_{t'}$ 是一个 **对数正态随机变量**。\n",
    "\n",
    "因为 $X_{t'} / X_t$ 的对数（即 $\\ln X_{t'} - \\ln X_t$）是两个项的和：\n",
    "* **确定性项** $\\left( \\mu - \\frac{1}{2} \\sigma^2 \\right) (t' - t)$\n",
    "* **正态随机项** $\\sigma (z_{t'} - z_t)$ (因为 $z_{t'} - z_t \\sim N(0, t' - t)$)\n",
    "\n",
    "因此，$\\ln(X_{t'} / X_t)$ 服从正态分布，这意味着 $X_{t'}$ 本身服从**对数正态分布**。这决定了 GBM 的核心特性：\n",
    "\n",
    "* **非负性：** 价格 $X_{t'}$ **永远不会为负**（因为 $X_t$ 和指数函数都是正的），这非常适合作为股票价格或商品价格的模型。\n",
    "* **不对称性：** 价格的增长潜力是无限的，但损失最多只能到零，这导致了它的分布是**右偏**的。\n"
   ]
  },
  {
   "cell_type": "markdown",
   "id": "37a06932-0987-42a2-8ac7-6c7e217e0f43",
   "metadata": {},
   "source": [
    "### 1.4 漂移项：趋势与 Itô 修正\n",
    "\n",
    "漂移项 $\\left( \\mu - \\frac{1}{2} \\sigma^2 \\right) (t' - t)$ 决定了资产价格的**平均增长趋势**。\n",
    "\n",
    "> 为什么是 $\\mu - \\frac{1}{2} \\sigma^2$ 而不是 $\\mu$？\n",
    "\n",
    "SDE 中的 $\\mu$ 是**预期收益率**（$\\mathbf{E}[\\frac{dX_t}{X_t}] = \\mu dt$），但资产的**平均增长率**却是 $\\mu - \\frac{1}{2} \\sigma^2$。这个 $\\frac{1}{2} \\sigma^2$ 的项被称为 **“Itô 修正项”** 或 **“凸性偏差项”**。\n",
    "\n",
    "* **直观理解：** 在 GBM 中，价格的波动（$\\sigma^2$）会**抵消**一部分由 $\\mu$ 带来的预期增长。简单来说，由于波动性，你需要一个**更大的** $\\mu$ 才能达到**同样的平均复合收益率**。\n",
    "* **数学理解：** 这是由 **Itô 引理** 导致的。当我们从 SDE $dX_t/X_t$ 转向对数过程 $d(\\ln X_t)$ 时，函数 $\\ln(X)$ 的**二阶导数**是非零的（$\\frac{\\partial^2 (\\ln X)}{\\partial X^2} = -\\frac{1}{X^2}$）。Itô 引理要求在漂移项中加入 $\\frac{1}{2} \\sigma^2 \\frac{\\partial^2 g}{\\partial X^2}$ 这一项，正是这个修正确保了当波动性为零（$\\sigma=0$）时，GBM 的解会退化为普通微积分中的指数增长解。\n"
   ]
  },
  {
   "cell_type": "markdown",
   "id": "2cc3ef29-1b14-4934-b5de-1bd81d941519",
   "metadata": {},
   "source": [
    "### 1.5 随机项：波动与风险\n",
    "\n",
    "随机项 $\\sigma (z_{t'} - z_t)$ 决定了价格的**随机波动**。\n",
    "\n",
    "* **波动率 $\\sigma$：** 它是价格变动的**标准差**。$\\sigma$ 越大，随机项的影响就越大，价格 $X_{t'}$ 的不确定性就越高。\n",
    "* **布朗运动增量 $(z_{t'} - z_t)$：** 这项是 **$N(0, t' - t)$** 分布的随机变量。\n",
    "    * **$0$ 均值：** 意味着随机冲击本身没有偏向性，上涨和下跌的概率是均等的。\n",
    "    * **方差 $(t' - t)$：** 意味着波动性随时间的平方根增长。例如，两年内的随机波动是四年内随机波动的大约 $1/\\sqrt{2}$ 倍。\n"
   ]
  },
  {
   "cell_type": "markdown",
   "id": "2cff4869-fb86-48e4-892d-f8bf8da68523",
   "metadata": {},
   "source": [
    "\n",
    "您可以这样理解这个解：\n",
    "\n",
    "$$\\frac{X_{t'}}{X_t} = \\exp \\left\\{ \\text{复合趋势率} \\times \\text{时间} + \\text{波动率} \\times \\text{标准随机冲击} \\right\\}$$\n",
    "\n",
    "$$X_{t'} = X_t \\times e^{\\text{确定性增长}} \\times e^{\\text{随机波动}}$$\n",
    "\n",
    "**几何布朗运动的解**就是告诉我们：未来的资产价格 $X_{t'}$ 是**初始价格 $X_t$** 经过**连续复合的平均增长率**和**持续的随机冲击**共同作用的结果。"
   ]
  },
  {
   "cell_type": "markdown",
   "id": "c99bf92b-3fd1-453b-ac6f-0db1cf813857",
   "metadata": {},
   "source": [
    "### 1.6 Distribution"
   ]
  },
  {
   "cell_type": "markdown",
   "id": "58ef6252-20cc-4a73-b733-64d9fdc2f27c",
   "metadata": {},
   "source": [
    "\n",
    "几何布朗运动的对数是服从**正态分布**的\n",
    "\n",
    "$$\\ln(X_t) \\sim \\mathcal{N}\\left( \\ln(X_0) + \\left( \\mu - \\frac{1}{2} \\sigma^2 \\right) t, \\sigma^2 t \\right)$$\n",
    "\n",
    "因此，$X_t$ 的分布是**对数正态分布 (Lognormal Distribution)**。\n",
    "\n",
    "更具体地说，对于未来的任意时间 $T > t$， $X_t$ 的分布相对于 $X_t$ 满足：\n",
    "$$\\ln(X_t) \\mid X_t \\sim \\mathcal{N}\\left( \\ln(X_t) + \\left( \\mu - \\frac{1}{2} \\sigma^2 \\right) (T-t), \\sigma^2 (T-t) \\right)$$\n",
    "\n"
   ]
  },
  {
   "cell_type": "markdown",
   "id": "b063a98a-d6f0-4db1-b81a-a902a3a55903",
   "metadata": {},
   "source": [
    "## 2. Example"
   ]
  },
  {
   "cell_type": "markdown",
   "id": "e75e03e0-1a7b-476b-a7e2-c5f569dbd912",
   "metadata": {},
   "source": []
  }
 ],
 "metadata": {
  "kernelspec": {
   "display_name": "Python 3 (ipykernel)",
   "language": "python",
   "name": "python3"
  },
  "language_info": {
   "codemirror_mode": {
    "name": "ipython",
    "version": 3
   },
   "file_extension": ".py",
   "mimetype": "text/x-python",
   "name": "python",
   "nbconvert_exporter": "python",
   "pygments_lexer": "ipython3",
   "version": "3.9.17"
  }
 },
 "nbformat": 4,
 "nbformat_minor": 5
}
