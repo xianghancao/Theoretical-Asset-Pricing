{
 "cells": [
  {
   "cell_type": "markdown",
   "id": "35979fcc-e0d0-4e56-bb2f-be904b8c7f08",
   "metadata": {},
   "source": [
    "# Multi-dimensional Processes"
   ]
  },
  {
   "cell_type": "markdown",
   "id": "7ebb2f7c-09a9-45d7-8c09-e167dca4316c",
   "metadata": {},
   "source": [
    "## 1. Definition"
   ]
  },
  {
   "cell_type": "markdown",
   "id": "c147cf9b-b7cc-408f-919d-a1b2c3c77df0",
   "metadata": {},
   "source": [
    "### 1.1 two standard Brownian motion"
   ]
  },
  {
   "cell_type": "markdown",
   "id": "d8f29163-3483-4717-a548-9248a3bed58f",
   "metadata": {},
   "source": [
    "\\begin{align}\n",
    " dX_t &= \\mu_{X_{1t}} dt + \\sigma_{X_{1t}}dz_{1t} + \\sigma_{X_{2t}}dz_{2t}\\\\\n",
    " dY_t &= \\mu_{Y_{1t}} dt + \\sigma_{Y_{1t}}dz_{1t} + \\sigma_{Y_{2t}}dz_{2t}\n",
    "\\end{align}"
   ]
  },
  {
   "cell_type": "markdown",
   "id": "44a3926b-ae2e-45e5-9cfe-72bc920fa9bd",
   "metadata": {},
   "source": [
    "定义了两个随机过程 $X_t$ 和 $Y_t$，每个过程都受到两个独立的布朗运动 $z_{1t}$ 和 $z_{2t}$ 的影响。"
   ]
  },
  {
   "cell_type": "markdown",
   "id": "39a3c4cd-e696-4e1d-8684-e0c98d906ec1",
   "metadata": {},
   "source": [
    "* **漂移项 (Drift):** $\\mu_{X_{1t}} dt$。这表示在没有随机冲击的情况下，过程 $X_t$ 随时间 $dt$ 的预期变化率。\n",
    "* **波动项 (Volatility/Diffusion):** $\\sigma_{X_{1t}}dz_{1t} + \\sigma_{X_{2t}}dz_{2t}$。这表示过程 $X_t$ 受到两个独立的**随机冲击**（由布朗运动 $z_1$ 和 $z_2$ 驱动）的影响。\n",
    "    * $\\sigma_{X_{1t}}$ 是对 $z_{1t}$ 冲击的敏感度。\n",
    "    * $\\sigma_{X_{2t}}$ 是对 $z_{2t}$ 冲击的敏感度。\n",
    "* **漂移项 (Drift):** $\\mu_{Y_{1t}} dt$。\n",
    "* **波动项 (Volatility/Diffusion):** $\\sigma_{Y_{1t}}dz_{1t} + \\sigma_{Y_{2t}}dz_{2t}$。\n"
   ]
  },
  {
   "cell_type": "markdown",
   "id": "d9cfd604-ce59-4e4d-bfd6-bbe6323415ad",
   "metadata": {},
   "source": [
    "### 1.2 Itô lemma"
   ]
  },
  {
   "cell_type": "markdown",
   "id": "08a775f1-c49e-49a6-9221-751eb5b58369",
   "metadata": {},
   "source": [
    "对于复合函数 $W_t = f(t, X_t, Y_t)$，其中 $f(t, x, y) = x e^{-y}$，Itô引理给出了：\n",
    "$$df = \\frac{\\partial f}{\\partial t} dt + \\frac{\\partial f}{\\partial x} dX + \\frac{\\partial f}{\\partial y} dY + \\frac{1}{2} \\frac{\\partial^2 f}{\\partial x^2} (dX)^2 + \\frac{1}{2} \\frac{\\partial^2 f}{\\partial y^2} (dY)^2 + \\frac{\\partial^2 f}{\\partial x \\partial y} dX dY$$"
   ]
  },
  {
   "cell_type": "markdown",
   "id": "576d8b7c-af4c-4dee-bbb4-cd56799de6a0",
   "metadata": {},
   "source": [
    "### 1.3 Variance\n",
    "首先计算 $dX_t$ 和 $dY_t$ 的瞬时方差：\n",
    "\n",
    "$$\\mathbf{Var}_t[dX_t] = (dX_t)^2 = (\\sigma_{X_{1t}}dz_{1t} + \\sigma_{X_{2t}}dz_{2t})^2$$$$\\mathbf{Var}_t[dX_t] = \\sigma_{X_{1t}}^2 (dz_{1t})^2 + \\sigma_{X_{2t}}^2 (dz_{2t})^2 + 2\\sigma_{X_{1t}}\\sigma_{X_{2t}}(dz_{1t}dz_{2t})$$$$\\mathbf{Var}_t[dX_t] = (\\sigma_{X_{1t}}^2 + \\sigma_{X_{2t}}^2) dt$$\n",
    "\n",
    "$$\\mathbf{Var}_t[dY_t] = (dY_t)^2 = (\\sigma_{Y_{1t}}dz_{1t} + \\sigma_{Y_{2t}}dz_{2t})^2$$\n",
    "$$\\mathbf{Var}_t[dY_t] = (\\sigma_{Y_{1t}}^2 + \\sigma_{Y_{2t}}^2) dt$$\n"
   ]
  },
  {
   "cell_type": "markdown",
   "id": "4ed7aaed-273b-48c8-af48-8f28238fe1c9",
   "metadata": {},
   "source": [
    "### 1.4 Covariance"
   ]
  },
  {
   "cell_type": "markdown",
   "id": "752b589f-f123-488f-8374-993ff5fe5f6b",
   "metadata": {},
   "source": [
    "\n",
    "**瞬时协方差 (Instantaneous Covariance)** 为：\n",
    "$$dX_t dY_t = (\\sigma_{X_{1t}} dz_{1t} + \\sigma_{X_{2t}} dz_{2t}) (\\sigma_{Y_{1t}} dz_{1t} + \\sigma_{Y_{2t}} dz_{2t})$$\n",
    "\n",
    "由于 $dz_{1t}^2 = dt$, $dz_{2t}^2 = dt$, 且 $dz_{1t} dz_{2t} = 0$，所以：\n",
    "$$\\mathbf{Cov}_t[dX_t, dY_t] = dX_t dY_t = (\\sigma_{X_{1t}} \\sigma_{Y_{1t}} + \\sigma_{X_{2t}} \\sigma_{Y_{2t}}) dt$$\n"
   ]
  },
  {
   "cell_type": "markdown",
   "id": "12113d9d-7a6a-4bd9-a9c8-e1b2f14eb4f2",
   "metadata": {},
   "source": [
    "### 1.5 Instantaneous Correlation"
   ]
  },
  {
   "cell_type": "markdown",
   "id": "36f781a5-f334-45b1-89ff-d5a1f11c3e8a",
   "metadata": {},
   "source": [
    "\n",
    "$\\mathbf{Corr}_t[dX_t, dY_t]$ 定义为协方差除以方差的平方根：\n",
    "\n",
    "$$\\mathbf{Corr}_t[dX_t, dY_t] = \\rho_{t} = \\frac{\\mathbf{Cov}_t[dX_t, dY_t]}{\\sqrt{\\mathbf{Var}_t[dX_t] \\mathbf{Var}_t[dY_t]}}$$\n",
    "\n",
    "代入上述结果：\n",
    "\n",
    "$$\\rho_{t} = \\frac{(\\sigma_{X_{1t}}\\sigma_{Y_{1t}} + \\sigma_{X_{2t}}\\sigma_{Y_{2t}}) dt}{\\sqrt{(\\sigma_{X_{1t}}^2 + \\sigma_{X_{2t}}^2) dt \\cdot (\\sigma_{Y_{1t}}^2 + \\sigma_{Y_{2t}}^2) dt}}$$\n",
    "\n",
    "$$\\mathbf{Corr}_t[dX_t, dY_t] = \\mathbf{\\frac{\\sigma_{X_{1t}}\\sigma_{Y_{1t}} + \\sigma_{X_{2t}}\\sigma_{Y_{2t}}}{\\sqrt{(\\sigma_{X_{1t}}^2 + \\sigma_{X_{2t}}^2)(\\sigma_{Y_{1t}}^2 + \\sigma_{Y_{2t}}^2)}}}$$\n",
    "\n",
    "相关性是由两个过程**共享的布朗运动项**（$dz_{1t}$ 和 $dz_{2t}$）的波动率系数共同决定的。"
   ]
  },
  {
   "cell_type": "markdown",
   "id": "e2cf6458-61a6-4f12-8369-6812d96b1d10",
   "metadata": {},
   "source": []
  }
 ],
 "metadata": {
  "kernelspec": {
   "display_name": "Python 3 (ipykernel)",
   "language": "python",
   "name": "python3"
  },
  "language_info": {
   "codemirror_mode": {
    "name": "ipython",
    "version": 3
   },
   "file_extension": ".py",
   "mimetype": "text/x-python",
   "name": "python",
   "nbconvert_exporter": "python",
   "pygments_lexer": "ipython3",
   "version": "3.9.17"
  }
 },
 "nbformat": 4,
 "nbformat_minor": 5
}
