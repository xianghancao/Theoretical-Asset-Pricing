{
 "cells": [
  {
   "cell_type": "markdown",
   "id": "deaeeb83-c538-4f82-963a-9c49ff495bc1",
   "metadata": {},
   "source": [
    "# Itô's Lemma"
   ]
  },
  {
   "cell_type": "markdown",
   "id": "96875bcd-2a31-4716-be24-bd17391f860c",
   "metadata": {},
   "source": [
    "## 1. Definition\n"
   ]
  },
  {
   "cell_type": "markdown",
   "id": "f2f124f5-3804-4352-8f09-0a7e29643ecf",
   "metadata": {},
   "source": [
    "### 1.1 Itô process "
   ]
  },
  {
   "cell_type": "markdown",
   "id": "2b414250-43cb-4ac0-95ee-f1c020e41663",
   "metadata": {},
   "source": [
    "Define the Itô Process $ X_t $:\n",
    "$$dX_t = \\mu_t dt + \\sigma_t dz_t$$\n",
    "where $ \\mu_t $ is the drift term, $ \\sigma_t $ is the diffusion term, and $ dz_t $ is the increment of a Wiener process."
   ]
  },
  {
   "cell_type": "markdown",
   "id": "91ecbe9a-c7f3-470c-93a0-26c07841de58",
   "metadata": {},
   "source": [
    "$$ E_t[dX_t] = \\mu_tdt$$\n",
    "$$Var_t[dX_t] = \\sigma_t^2 dt$$"
   ]
  },
  {
   "cell_type": "markdown",
   "id": "e113bd16-f269-4b99-8085-365741f0ad2a",
   "metadata": {},
   "source": [
    "so, $dX_t \\sim N(\\mu_tdt, \\sigma^2_t dt)$"
   ]
  },
  {
   "cell_type": "markdown",
   "id": "1edbb7d4-5e52-442b-8f47-3b5a9a118df0",
   "metadata": {},
   "source": [
    "### 1.2 Itô calculus rules"
   ]
  },
  {
   "cell_type": "markdown",
   "id": "f5f4d60b-f4d2-4aff-ad51-f4486ae1870e",
   "metadata": {},
   "source": [
    "Due to the properties of Brownian processes:\n",
    "\\begin{align}(dt)^2 = 0 \\\\  dt \\cdot dz = 0 \\\\  (dz)^2 = dt \\end{align}"
   ]
  },
  {
   "cell_type": "markdown",
   "id": "e4128a90-f69b-4573-a796-76b96beb3d72",
   "metadata": {},
   "source": [
    "\n",
    "$$ (dX)^2 =  (\\mu_t dt + \\sigma_t dz_t)^2 = (\\mu_t dt)^2 + 2\\mu_t dt \\sigma_t dz_t + (\\sigma dz)^2 = 0 + 0 +(\\sigma dz)^2 = \\sigma^2 (dz)^2 = \\sigma^2 dt $$"
   ]
  },
  {
   "cell_type": "markdown",
   "id": "e4fdb96a-c895-458f-a1a0-e1502f3e9973",
   "metadata": {},
   "source": [
    "### 1.3 Itô's lemma"
   ]
  },
  {
   "cell_type": "markdown",
   "id": "90412b9b-165f-4251-b1b0-d84d10587b56",
   "metadata": {},
   "source": [
    "> **Theorem(Itô's lemma)**, a fundamental theorem in stochastic calculus  \n",
    "> *Let $ x(t) $ follow the Itô process:\n",
    "$$dX_t = \\mu(X_t, t) dt + \\sigma(X_t, t) dz$$\n",
    ">Let $ Y(X_t, t) $ be a function of an Itô process $ X_t $ and time $t$, and at least twice differentiable. Then, $ dY $ follows the process:\n",
    "> $$ dY = \\left[ \\frac{\\partial Y}{\\partial X} \\mu(X, t) + \\frac{\\partial Y}{\\partial t} + \\frac{1}{2} \\frac{\\partial^2 Y}{\\partial X^2} \\sigma^2(X, t) \\right] dt + \\frac{\\partial Y}{\\partial X} \\sigma(X, t) dz$$*\n"
   ]
  },
  {
   "cell_type": "markdown",
   "id": "09b9d2c1-05aa-4e8c-9de7-d9994e372610",
   "metadata": {},
   "source": [
    "\n",
    "This implies $ Y(X_t, t) $ also follows an Itô process with a drift rate of:\n",
    "$$\\left[ \\frac{\\partial Y}{\\partial X} \\mu(X, t) + \\frac{\\partial Y}{\\partial t} + \\frac{1}{2} \\frac{\\partial^2 Y}{\\partial X^2} \\sigma^2(X, t) \\right]$$\n",
    "and a variance rate of:\n",
    "$$\\left( \\frac{\\partial Y}{\\partial X} \\right)^2 \\sigma^2(X, t)$$\n",
    "Note that both $ X_t $ and $ Y(X_t, t) $ depend on the same source of uncertainty captured by $ dz $."
   ]
  },
  {
   "cell_type": "markdown",
   "id": "cc861e35-9f62-42a5-8347-74f77e11d84f",
   "metadata": {},
   "source": [
    "$$ dY=\\frac{\\partial Y}{\\partial X} dX + \\frac{\\partial Y}{\\partial t} dt + \\frac{1}{2} \\frac{\\partial^2 Y}{\\partial X^2} (dX)^2$$"
   ]
  },
  {
   "cell_type": "markdown",
   "id": "0bcea953-838a-46d0-9113-861f26d812c2",
   "metadata": {},
   "source": [
    "### 1.4 Itô integral"
   ]
  },
  {
   "cell_type": "markdown",
   "id": "15825859-d923-413c-9f80-f4358c3851ff",
   "metadata": {},
   "source": [
    "\n",
    "| 符号 | 描述 | 名称 | 驱动者 | 积分形式 |\n",
    "| :--- | :--- | :--- | :--- | :--- |\n",
    "| $dX_t$ | 随机过程 $X_t$ 在微小时间 $dt$ 内的增量（变化）。 | **伊藤微分** | N/A | $\\int_0^t dX_s = X_t - X_0$ |\n",
    "| $\\mu_t dt$ | $X_t$ 在微小时间 $dt$ 内的**可预测**变化部分。 | **漂移项 (Drift Term)** | 时间 $t$ 和 $X_t$ 的状态。 | $\\int_0^t \\mu_s ds$ （**普通积分**） |\n",
    "| $\\sigma_t dz_t$ | $X_t$ 在微小时间 $dt$ 内的**随机**变化部分。 | **扩散项 (Diffusion Term)** | 标准布朗运动 $z_t$。 | $\\int_0^t \\sigma_s dz_s$ （**伊藤积分**） |\n",
    "\n",
    "$$dX_t = \\mu_t dt + \\sigma_t dz_t$$\n",
    "\n",
    "微分形式 $dX_t = \\mu_t dt + \\sigma_t dz_t$ 总是等价于其**积分形式**（即 $X_t$ 的定义）：\n",
    "\n",
    "$$X_t = X_0 + \\int_0^t \\mu_s ds + \\int_0^t \\sigma_s dz_s$$\n",
    "\n",
    "1.  **漂移项 $\\mu_t dt$：** 对应于传统微积分中的变化率（如 $\\frac{dX}{dt} = \\mu$）。它描述了过程的**平均趋势**或**确定性**部分。\n",
    "2.  **扩散项 $\\sigma_t dz_t$：** 这是随机过程独有的部分，它描述了过程的**波动性**或**随机冲击**。其中 $\\sigma_t$ 称为**波动率系数（Volatility Coefficient）**，而 $dz_t$ 则是标准布朗运动的微分。\n"
   ]
  },
  {
   "cell_type": "markdown",
   "id": "968ead87-f28e-47f0-97ed-fb5370efbb98",
   "metadata": {},
   "source": [
    "伊藤积分的微分形式：\n",
    "$$ d\\left(\\int_0^T X_t \\, dz_t\\right) = X_t \\, dz_t$$"
   ]
  },
  {
   "cell_type": "markdown",
   "id": "3941453b-e16c-4335-b72b-717c9918afc7",
   "metadata": {},
   "source": [
    "\n",
    "Itô integral provides a precise mathematical framework to define the integrals of the form $\\int_0^T X_t dz_t$, where $z_t$ is typically a **standard Brownian motion** and $X_t$ is an **adapted stochastic process** (i.e., non-anticipating).\n",
    "\n",
    "It is defined as the mean-square limit of the following **Riemann sum**, where the process $X_t$ is evaluated at the **left endpoint** of each subinterval:\n",
    "\n",
    "$$ \\int_0^T X_t \\, dz_t = \\lim_{\\|\\Pi\\| \\to 0} \\sum_{i} X_{t_{i}} (z_{t_{i+1}} - z_{t_i})$$"
   ]
  },
  {
   "cell_type": "markdown",
   "id": "b7ff17c3-65c9-43ba-ba4a-b3315a4884f4",
   "metadata": {},
   "source": [
    "**Itô's Properties (Martingale Property):**"
   ]
  },
  {
   "cell_type": "markdown",
   "id": "94869c66-3f52-47e9-bab3-1572f4d9ef32",
   "metadata": {},
   "source": [
    "根据伊藤积分的性质，如果 $\\int_0^t f(s) dz_s$ 是一个伊藤积分，且满足 $\\mathbf{E}\\left[\\int_0^t f(s)^2 ds\\right] < \\infty$，那么它的期望值为零：\n",
    "$$\\mathbf{E}\\left[\\int_0^t f(s) dz_s\\right] = 0$$"
   ]
  },
  {
   "cell_type": "markdown",
   "id": "5dc28833-75b8-4c38-846e-898fa6dcef80",
   "metadata": {},
   "source": []
  }
 ],
 "metadata": {
  "kernelspec": {
   "display_name": "Python 3 (ipykernel)",
   "language": "python",
   "name": "python3"
  },
  "language_info": {
   "codemirror_mode": {
    "name": "ipython",
    "version": 3
   },
   "file_extension": ".py",
   "mimetype": "text/x-python",
   "name": "python",
   "nbconvert_exporter": "python",
   "pygments_lexer": "ipython3",
   "version": "3.9.17"
  }
 },
 "nbformat": 4,
 "nbformat_minor": 5
}
