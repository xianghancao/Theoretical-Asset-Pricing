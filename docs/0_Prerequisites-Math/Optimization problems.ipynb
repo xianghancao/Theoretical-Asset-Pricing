{
 "cells": [
  {
   "cell_type": "markdown",
   "id": "5c03ec29-693e-4fab-8df7-a16a3a2fa4ed",
   "metadata": {},
   "source": [
    "# Optimization problems"
   ]
  },
  {
   "cell_type": "markdown",
   "id": "ea5dd2a9-77fb-48ca-8241-9f81a54e5782",
   "metadata": {},
   "source": []
  }
 ],
 "metadata": {
  "kernelspec": {
   "display_name": "Python 3 (ipykernel)",
   "language": "python",
   "name": "python3"
  },
  "language_info": {
   "codemirror_mode": {
    "name": "ipython",
    "version": 3
   },
   "file_extension": ".py",
   "mimetype": "text/x-python",
   "name": "python",
   "nbconvert_exporter": "python",
   "pygments_lexer": "ipython3",
   "version": "3.9.17"
  }
 },
 "nbformat": 4,
 "nbformat_minor": 5
}
