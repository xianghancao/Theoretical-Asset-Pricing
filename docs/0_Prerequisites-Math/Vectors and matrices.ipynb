{
 "cells": [
  {
   "cell_type": "markdown",
   "id": "4df4171b-726b-49fa-93d3-3ad492dce826",
   "metadata": {},
   "source": [
    "# Vectors and matrices"
   ]
  },
  {
   "cell_type": "markdown",
   "id": "8a92cc12-cbe1-4ef5-94cc-3c6692b235a7",
   "metadata": {},
   "source": []
  }
 ],
 "metadata": {
  "kernelspec": {
   "display_name": "Python 3 (ipykernel)",
   "language": "python",
   "name": "python3"
  },
  "language_info": {
   "codemirror_mode": {
    "name": "ipython",
    "version": 3
   },
   "file_extension": ".py",
   "mimetype": "text/x-python",
   "name": "python",
   "nbconvert_exporter": "python",
   "pygments_lexer": "ipython3",
   "version": "3.9.17"
  }
 },
 "nbformat": 4,
 "nbformat_minor": 5
}
