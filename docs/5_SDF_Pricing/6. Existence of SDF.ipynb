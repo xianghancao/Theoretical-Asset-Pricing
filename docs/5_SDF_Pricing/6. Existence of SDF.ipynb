{
 "cells": [
  {
   "cell_type": "markdown",
   "id": "501cdf7e-d36b-4d1a-8ee1-db6a5082950b",
   "metadata": {},
   "source": [
    "# 6. Existence of SDF"
   ]
  },
  {
   "cell_type": "markdown",
   "id": "1bdf4d3c-8576-4050-94a9-a13780d87b71",
   "metadata": {},
   "source": [
    "> ***Theorem(Existence of SDF)***  \n",
    "> - 如果“单一价格法则”（Law of One Price）成立，则总是存在一个随机折扣因子。\n",
    "> - 如果更强的条件（无套利机会）成立，不仅存在随机折扣因子，而且其所有实现值都严格为正。\n",
    "> - 如果市场是完整的，则存在唯一的随机折扣因子。\n",
    "> - 如果市场不完整，但“单一价格法则”成立，则存在多个随机折扣因子，这些因子能够将观察到的价格分配给市场上交易的资产。"
   ]
  },
  {
   "cell_type": "markdown",
   "id": "00a66156-170f-4ad0-b488-3fbfdb4cbf53",
   "metadata": {},
   "source": []
  }
 ],
 "metadata": {
  "kernelspec": {
   "display_name": "Python 3 (ipykernel)",
   "language": "python",
   "name": "python3"
  },
  "language_info": {
   "codemirror_mode": {
    "name": "ipython",
    "version": 3
   },
   "file_extension": ".py",
   "mimetype": "text/x-python",
   "name": "python",
   "nbconvert_exporter": "python",
   "pygments_lexer": "ipython3",
   "version": "3.9.17"
  }
 },
 "nbformat": 4,
 "nbformat_minor": 5
}
