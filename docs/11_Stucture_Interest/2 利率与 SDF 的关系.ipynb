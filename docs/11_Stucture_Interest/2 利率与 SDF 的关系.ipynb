{
 "cells": [
  {
   "cell_type": "markdown",
   "id": "411a2fec-658e-4286-8250-1572d4c7941b",
   "metadata": {},
   "source": [
    "\n",
    "# 利率与 SDF 的关系\n"
   ]
  },
  {
   "cell_type": "markdown",
   "id": "5aef9530-3606-4f8c-b535-06d6bf33e3f3",
   "metadata": {},
   "source": [
    "## 1. Definition"
   ]
  },
  {
   "cell_type": "markdown",
   "id": "b045f53b-58cf-4900-91e3-9670d9bdd319",
   "metadata": {},
   "source": [
    "\n",
    "* **无风险利率（短期利率）$r_t$：** 是指零期限债券的收益率。它直接与**当前 SDF** 的期望值相关：\n",
    "    $$R^{f}_{t} = \\frac{1}{E_{t}[\\zeta_{t, t+1}]}$$\n",
    "    * **经济含义：** 无风险利率由市场对**未来消费的边际效用增长**的预期决定。预期 $\\zeta_{t, t+1}$ 越低（即预期消费增长越快，未来边际效用越低），投资者对当前消费的替代意愿越强，**利率就越高**。\n",
    "\n",
    "* **远期利率（Forward Rates）$f_{t}(T, T+\\Delta)$：** 是指今天约定的、在未来某个时间段（$T$ 到 $T+\\Delta$）生效的利率。它与**状态价格** $\\psi$ 的比率相关。\n"
   ]
  }
 ],
 "metadata": {
  "kernelspec": {
   "display_name": "Python 3 (ipykernel)",
   "language": "python",
   "name": "python3"
  },
  "language_info": {
   "codemirror_mode": {
    "name": "ipython",
    "version": 3
   },
   "file_extension": ".py",
   "mimetype": "text/x-python",
   "name": "python",
   "nbconvert_exporter": "python",
   "pygments_lexer": "ipython3",
   "version": "3.9.17"
  }
 },
 "nbformat": 4,
 "nbformat_minor": 5
}
