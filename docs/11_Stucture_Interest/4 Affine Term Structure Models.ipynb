{
 "cells": [
  {
   "cell_type": "markdown",
   "id": "9093c08f-bc1f-4eff-896d-0831d498ab8e",
   "metadata": {},
   "source": [
    "\n",
    "# 仿射期限结构模型（Affine Term Structure Models）\n",
    "\n",
    "* **模型动机：** 为了在实证中应用理论并保持可处理性，期限结构模型通常假设**短期利率** $r_t$ 和 **SDF** $\\zeta$ 是**少数状态变量** $X_t$ 的线性函数（或仿射函数）。\n",
    "* **核心特征：**\n",
    "    * **短期利率 $r_t$：** 是状态变量 $X_t$ 的仿射函数：$r_{t} = \\delta_{0} + \\delta_{1}^{\\top} X_{t}$。\n",
    "    * **零息债券对数收益率：** 零息债券收益率 $r_{t}(T)$ 也是状态变量 $X_t$ 的仿射函数：$\\ln P_{t, T} = A(T-t) + B(T-t)^{\\top} X_{t}$。\n",
    "* **市场价格风险 $\\eta$：** 仿射模型还必须定义**市场价格风险** $\\eta$（Market Price of Risk），它将无风险测度下的状态变量波动率 $\\sigma(X_t)$ 与真实测度下的状态变量波动率联系起来。期限结构模型通过 $X_t$ 的动态和 $\\eta(X_t)$ 的设定来同时定价所有期限的债券，并隐含了期限溢价。\n"
   ]
  }
 ],
 "metadata": {
  "kernelspec": {
   "display_name": "Python 3 (ipykernel)",
   "language": "python",
   "name": "python3"
  },
  "language_info": {
   "codemirror_mode": {
    "name": "ipython",
    "version": 3
   },
   "file_extension": ".py",
   "mimetype": "text/x-python",
   "name": "python",
   "nbconvert_exporter": "python",
   "pygments_lexer": "ipython3",
   "version": "3.9.17"
  }
 },
 "nbformat": 4,
 "nbformat_minor": 5
}
