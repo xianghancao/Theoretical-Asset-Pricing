{
 "cells": [
  {
   "cell_type": "markdown",
   "id": "6ac7b7ff-0c22-44f0-b9b1-ae6164de1c9a",
   "metadata": {},
   "source": [
    "\n",
    "# 期望假说与风险溢价\n"
   ]
  },
  {
   "cell_type": "markdown",
   "id": "455d8271-9de2-4cae-b1a1-56c2268de702",
   "metadata": {},
   "source": [
    "\n",
    "* **利率的期望假说（Expectations Hypothesis, EH）：** 假设长期利率仅仅是未来预期短期利率的平均值。如果该假说成立，意味着**所有期限的债券都没有风险溢价**，即：\n",
    "    $$E_{t}[R_{t+1}^{T}] = R_{t}^{f}$$\n",
    "    * 经验结果：**期望假说通常被拒绝**。长期债券的收益率通常包含了**期限溢价**（Term Premium）。\n",
    "* **期限溢价 (Term Premium)：** 长期债券的期望收益率高于其对应的短期无风险利率的增量，它是对持有长期债券所承担风险的补偿。\n",
    "    $$TP_{t}(T) = E_{t}[R_{t, T}] - R_{t}^{f}$$\n",
    "* **期限溢价与 SDF 的关系：** 期限溢价的经济学根源在于 SDF $\\zeta$ 的**波动性**和它与**债券收益率**的**协方差**：\n",
    "    * 如果 $\\mathrm{Cov}_{t}(\\zeta_{t, T}, R_{t, T}) < 0$，意味着长期债券在**边际效用低**（经济好）时表现好，而在**边际效用高**（经济差）时表现差，属于“坏资产”，因此要求**正的期限溢价** ($TP_{t}(T) > 0$)。\n"
   ]
  }
 ],
 "metadata": {
  "kernelspec": {
   "display_name": "Python 3 (ipykernel)",
   "language": "python",
   "name": "python3"
  },
  "language_info": {
   "codemirror_mode": {
    "name": "ipython",
    "version": 3
   },
   "file_extension": ".py",
   "mimetype": "text/x-python",
   "name": "python",
   "nbconvert_exporter": "python",
   "pygments_lexer": "ipython3",
   "version": "3.9.17"
  }
 },
 "nbformat": 4,
 "nbformat_minor": 5
}
