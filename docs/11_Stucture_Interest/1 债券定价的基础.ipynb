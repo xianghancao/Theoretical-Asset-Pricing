{
 "cells": [
  {
   "cell_type": "markdown",
   "id": "636d6a49-5ba3-4c68-8439-bf042a70bca2",
   "metadata": {},
   "source": [
    "# 债券定价的基础\n",
    "\n",
    "* **债券的定义：** 债券是标准化的可转让借款协议。债券市场的存在允许个体在不同时间点之间**交易消费机会**。\n",
    "* **债券定价公式：** 任何资产（包括零息债券）的定价都必须遵循**欧拉方程**，使用**状态价格平减指数（SDF）$\\zeta$**：\n",
    "    $$P_{T} = E[\\zeta_{0, T} D_{T}]$$\n",
    "    * $P_T$ 是 $t=0$ 时刻到期日为 $T$ 的债券价格。\n",
    "    * $\\zeta_{0, T}$ 是 $t=0$ 到 $t=T$ 期间的累积 SDF。\n",
    "    * $D_T$ 是债券在 $T$ 时刻的现金流（对于零息债券，$D_T=1$）。\n"
   ]
  },
  {
   "cell_type": "markdown",
   "id": "476f0416-77d2-4275-86e5-cfa50e01452f",
   "metadata": {},
   "source": []
  }
 ],
 "metadata": {
  "kernelspec": {
   "display_name": "Python 3 (ipykernel)",
   "language": "python",
   "name": "python3"
  },
  "language_info": {
   "codemirror_mode": {
    "name": "ipython",
    "version": 3
   },
   "file_extension": ".py",
   "mimetype": "text/x-python",
   "name": "python",
   "nbconvert_exporter": "python",
   "pygments_lexer": "ipython3",
   "version": "3.9.17"
  }
 },
 "nbformat": 4,
 "nbformat_minor": 5
}
