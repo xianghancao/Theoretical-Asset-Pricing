{
 "cells": [
  {
   "cell_type": "markdown",
   "id": "38257aa2-286a-4643-ab03-5e8c8e19a3b9",
   "metadata": {},
   "source": [
    "\n",
    "# 著名的单因子模型\n",
    "\n",
    "* **Vasicek 模型：** 假设**短期利率 $r_t$** 是唯一的因子，并且遵循 **Ornstein-Uhlenbeck (OU) 过程**（即均值回归过程）。这是一个**仿射模型**。\n",
    "    * **特点：** 债券收益率解析可解，但允许利率为负（理论缺陷）。\n",
    "* **CIR (Cox-Ingersoll-Ross) 模型：** 假设短期利率 $r_t$ 遵循**平方根过程**（Square Root Process）。这是一个**仿射模型**。\n",
    "    * **特点：** 债券收益率解析可解，且保证利率**始终为正**（$r_t \\ge 0$）。\n",
    "\n",
    "**总结：** 利率期限结构理论将资产定价的基本原理应用于债券市场。它确定了债券价格由 SDF 的**期望值**和**波动性**决定，并指出长期债券之所以存在期限溢价，正是因为它在**总消费的边际效用高**（即经济较差）时往往提供较低的回报。仿射期限结构模型是实现这一理论并进行实证分析的重要工具。"
   ]
  },
  {
   "cell_type": "markdown",
   "id": "c10ad978-253a-4396-b18c-c4990a7c3f28",
   "metadata": {},
   "source": []
  }
 ],
 "metadata": {
  "kernelspec": {
   "display_name": "Python 3 (ipykernel)",
   "language": "python",
   "name": "python3"
  },
  "language_info": {
   "codemirror_mode": {
    "name": "ipython",
    "version": 3
   },
   "file_extension": ".py",
   "mimetype": "text/x-python",
   "name": "python",
   "nbconvert_exporter": "python",
   "pygments_lexer": "ipython3",
   "version": "3.9.17"
  }
 },
 "nbformat": 4,
 "nbformat_minor": 5
}
