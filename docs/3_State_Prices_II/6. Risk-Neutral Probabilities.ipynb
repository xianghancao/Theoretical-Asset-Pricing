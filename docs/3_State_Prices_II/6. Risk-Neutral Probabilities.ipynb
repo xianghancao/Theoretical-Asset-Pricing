{
 "cells": [
  {
   "cell_type": "markdown",
   "id": "38bbd42f-41e9-4f2f-acad-7a5e3f0b5894",
   "metadata": {},
   "source": [
    "# Risk-Neutral Probabilities"
   ]
  },
  {
   "cell_type": "markdown",
   "id": "0f6b7eb5-47fc-47e1-8d4b-d46a6371f631",
   "metadata": {},
   "source": [
    "## 1. Definition"
   ]
  },
  {
   "cell_type": "markdown",
   "id": "977f9f05-81b3-4d21-970f-5fee702bf20c",
   "metadata": {},
   "source": [
    "### 1.1 $\\mathbb{P} \\rightarrow \\mathbb{Q}$"
   ]
  },
  {
   "cell_type": "markdown",
   "id": "3c82fdf2-934e-49ca-aa00-c1c8f08d73d7",
   "metadata": {},
   "source": [
    "Risk-neutral probabilities ($\\mathbf{q}$) are theoretical probabilities assigned to future states of the world used for pricing financial assets, particularly derivatives, in an **arbitrage-free** market."
   ]
  },
  {
   "cell_type": "markdown",
   "id": "b1586f38-ab3e-4a40-8fc7-eb380818d69e",
   "metadata": {},
   "source": [
    "#### 1.1.1  $\\mathbb{P}$"
   ]
  },
  {
   "cell_type": "markdown",
   "id": "83ea50db-6139-4d21-8e9e-b3ef61e31cce",
   "metadata": {},
   "source": [
    "In financial modeling, the price of any asset today ($P_0$) is its expected future payoff ($E[D_1]$) discounted at a required rate of return ($r$):\n",
    "$$P_0 = \\frac{E^{\\mathbb{P}}[D_1]}{1+r}$$\n",
    "where $\\mathbb{P}$ is the true (physical) probability measure, and $r$ is a risk-adjusted discount rate.\n"
   ]
  },
  {
   "cell_type": "markdown",
   "id": "4eabb20f-50aa-4d81-8ed6-9e576494c738",
   "metadata": {},
   "source": [
    "#### 1.1.2 $\\mathbb{Q}$\n",
    "The risk-neutral pricing formula simplifies this:\n",
    "$$P_0 = \\frac{E^{\\mathbb{Q}}[D_1]}{1+r_f}$$\n",
    "where $\\mathbb{Q}$ is the risk-neutral probability measure (the set of risk-neutral probabilities $\\mathbf{q}$), and $r_f$ is the risk-free rate.\n"
   ]
  },
  {
   "cell_type": "markdown",
   "id": "a51db5d9-deb3-49f1-b3e9-c7eb53025cd7",
   "metadata": {},
   "source": [
    "By adjusting the probabilities from the real-world $\\mathbb{P}$ to the risk-neutral $\\mathbb{Q}$, we no longer need to adjust the discount rate for risk; all assets have the same expected return, $r_f$.\n"
   ]
  },
  {
   "cell_type": "markdown",
   "id": "7c5ea097-1f59-4dba-b7e2-f34f8ed7b248",
   "metadata": {},
   "source": [
    "These probabilities are crucial because they simplify asset valuation: under the risk-neutral measure, the price of any asset equals the **present value** of its **expected future payoff** discounted at the **risk-free rate** ($r_f$). This method effectively removes investors' risk preferences (risk aversion) from the pricing equation, hence the name \"risk-neutral.\"\n"
   ]
  },
  {
   "cell_type": "markdown",
   "id": "166d9fde-6e47-47dd-837e-5e22a35a5bc4",
   "metadata": {},
   "source": [
    "### 1.3 Risk-Neutral Pricing"
   ]
  },
  {
   "cell_type": "markdown",
   "id": "44e4a0a9-9db2-413d-b68c-6cc80b71eb17",
   "metadata": {},
   "source": [
    "> ***Theorem (Risk-Neutral Pricing)***  \n",
    "The prices of financial assets can be calculated by:\n",
    "$$P_i = \\frac{E^\\mathbb{Q}(\\mathbf{D}_i)}{1 + r_f} = \\frac{\\sum_i^S q_i * D_i}{1+ r_f}$$\n",
    "where $   E^\\mathbb{Q}(\\mathbf{D}_i)   $ is the expectation of the asset's payoffs obtained using the risk-neutral probabilities, $i= 0,...,S$ is the states, $q_i$ is the risk-neutral probabilities of state $i$, and $   r_f   $ is the risk-free rate of return.  \n",
    "Furthermore, the expected return on any asset, evaluated using the risk-neutral probabilities, equals the risk-free rate of return:\n",
    "$$E^\\mathbb{Q}(r_i) = r_f$$"
   ]
  },
  {
   "cell_type": "markdown",
   "id": "35c50482-288f-47e7-80b4-cb954cb7af7e",
   "metadata": {},
   "source": [
    "### 1.4 Existence & Unique of $\\mathbb{Q}$ "
   ]
  },
  {
   "cell_type": "markdown",
   "id": "9e38825a-b399-4094-b7d1-d9188667b446",
   "metadata": {},
   "source": [
    "\n",
    "The existence of a risk-neutral measure ($\\mathbb{Q}$) is equivalent to the **absence of arbitrage** (Fundamental Theorem of Asset Pricing). If the market is also **complete** (as in a binomial model with two states and two assets), the risk-neutral measure is **unique**."
   ]
  },
  {
   "cell_type": "markdown",
   "id": "3841cb7d-9c8f-454a-b06c-7aeaea938535",
   "metadata": {},
   "source": [
    "> ***Theorem (Existence of a risk-neutral probability measure)***  \n",
    "A risk-neutral probability measure exists if and only if prices admit no arbitrage."
   ]
  },
  {
   "cell_type": "markdown",
   "id": "f932be9d-9003-4b34-b916-d1e668fa85f3",
   "metadata": {},
   "source": [
    "The implication works in both directions:  \n",
    "<center><b>$\\mathbb{Q}$ exists $ \\Leftrightarrow $ Absence of arbitrage</b></center>"
   ]
  },
  {
   "cell_type": "markdown",
   "id": "7f2c4fac-3812-40bb-804a-c118ff5639f4",
   "metadata": {},
   "source": [
    "\n",
    "<center><b>$\\mathbb{Q}$ is unique $ \\Leftrightarrow $ market is complete</b></center>"
   ]
  },
  {
   "cell_type": "markdown",
   "id": "aa0b510e-2b1e-45c0-b6ae-2fd893e9bcb1",
   "metadata": {},
   "source": [
    "## 2. Example"
   ]
  },
  {
   "cell_type": "markdown",
   "id": "44d935d2-630f-4fa2-81f7-8c8b78518c47",
   "metadata": {},
   "source": [
    "\n",
    "无风险资产的**初始价格** $P_{\\text{risk-free}}$ 是其未来支付 $R_f$ 的折现值：\n",
    "$$P_{\\text{risk-free}} = \\pi_1 R_f + \\pi_2 R_f = (\\pi_1 + \\pi_2) R_f$$\n",
    "我们假设无风险资产在期末支付 $R_f = 1$（即期末的 1 块钱的当前价格）。\n",
    "因此，无风险资产在期末支付 1 块钱的**当前价格**（即 $\\frac{1}{1+r_f}$）是：\n",
    "$$P_{\\text{risk-free}} = \\pi_1 + \\pi_2$$\n",
    "\n",
    "**无风险利率 ($r_f$) 是多少?**\n",
    "\n",
    "如果无风险资产的当前价格是 $\\frac{3}{4}$，它在期末支付 1，那么**无风险利率** $r_f$ 满足：\n",
    "$$P_{\\text{risk-free}} * (1 + r_f)= 1$$\n",
    "$$P_{\\text{risk-free}} = \\frac{1}{1 + r_f}$$"
   ]
  },
  {
   "cell_type": "markdown",
   "id": "bd8ed06f-1ef2-409f-9018-6b9dcc20fb8e",
   "metadata": {},
   "source": [
    "Consider asset 1 with a payoff vector $ \\mathbf{D}_1 = (8.5, 10, 4)^T $ and a price $ P_1 = 7.23 $. The state prices are given as $ \\psi = (0.18, 0.45, 0.3)^T $.\n",
    "\n",
    "The risk-free asset has a payoff vector $ \\mathbf{D}_{rf} = (1, 1, 1)^T $, and its price is calculated as $ \\mathbf{D}_{rf}^T*\\psi =  0.18 + 0.45 + 0.3 = 0.93 $, yielding a risk-free rate $ r_f = (1/0.93) - 1 \\approx 0.0752688 $, since $P_{rf} (1+r_f) = D_{rf}$ \n",
    "\n",
    "The risk-neutral probabilities are then:\n",
    "$$\\pi^* = (1 + r_f) \\psi = (1 + 0.0752688) \\begin{pmatrix} 0.18 \\\\ 0.45 \\\\ 0.3 \\end{pmatrix} \\approx \\begin{pmatrix} 0.1935 \\\\ 0.4839 \\\\ 0.3226 \\end{pmatrix}$$\n",
    "The price of asset 1 is recalculated using the risk-neutral pricing formula:\n",
    "$$P_1 = \\frac{\\sum_{s=1}^3 \\pi_s^* \\mathbf{D}_{s,1}}{1 + r_f} = \\frac{0.1935 \\cdot 8.5 + 0.4839 \\cdot 10 + 0.3226 \\cdot 4}{1.0752688} \\approx 7.23$$\n",
    "This matches the original price, and the expected return using risk-neutral probabilities equals the risk-free rate, confirming the method's consistency."
   ]
  },
  {
   "cell_type": "markdown",
   "id": "d9e3596e-c943-4dcd-8b21-76f189fdf7aa",
   "metadata": {},
   "source": []
  }
 ],
 "metadata": {
  "kernelspec": {
   "display_name": "Python 3 (ipykernel)",
   "language": "python",
   "name": "python3"
  },
  "language_info": {
   "codemirror_mode": {
    "name": "ipython",
    "version": 3
   },
   "file_extension": ".py",
   "mimetype": "text/x-python",
   "name": "python",
   "nbconvert_exporter": "python",
   "pygments_lexer": "ipython3",
   "version": "3.9.17"
  }
 },
 "nbformat": 4,
 "nbformat_minor": 5
}
