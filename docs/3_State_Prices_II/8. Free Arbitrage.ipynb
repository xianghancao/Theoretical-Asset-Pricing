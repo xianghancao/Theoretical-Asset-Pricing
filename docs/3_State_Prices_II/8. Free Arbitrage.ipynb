{
 "cells": [
  {
   "cell_type": "markdown",
   "id": "d481bb48-3815-48cf-a6e3-b6de2ccfb8dd",
   "metadata": {},
   "source": [
    "# 7. Free of Arbitrage"
   ]
  },
  {
   "cell_type": "markdown",
   "id": "0bd3b135-7865-4c93-b2d3-905c7535e3fc",
   "metadata": {},
   "source": [
    "## 1. Definition"
   ]
  },
  {
   "cell_type": "markdown",
   "id": "f7dada9b-2f7b-4737-aa20-36fc3df85c84",
   "metadata": {},
   "source": [
    "> ***Theorem (The positivity of state prices)***  \n",
    "If there are no arbitrage opportunities on the market, then the state prices will be\n",
    "strictly positive. The implication works in both directions:\n",
    "> - The positivity of state prices implies the absence of arbitrage(no arbitrage)\n",
    "> - The absence of arbitrage(no arbitrage) implies the positivity of state price"
   ]
  },
  {
   "cell_type": "markdown",
   "id": "9194855f-a137-412a-9ac5-031600ce6dd9",
   "metadata": {},
   "source": [
    "- Q1: state prices is unique or not unique?\n",
    "- Q2: complete market or incomplate market?"
   ]
  },
  {
   "cell_type": "markdown",
   "id": "af325f02-6899-4389-b696-949b40e533fc",
   "metadata": {},
   "source": [
    "## 2. Example"
   ]
  },
  {
   "cell_type": "markdown",
   "id": "160a83e6-bc99-4363-a663-031b00d33cfd",
   "metadata": {},
   "source": [
    "Consider a market with two assets and two states of nature, with payoff vectors $ \\mathbf{D}_1 = (0, 1)^T $ and $ \\mathbf{D}_2 = (1, 2)^T $, and prices $ P_1 = 0.9 $ and $ P_2 = 1.6 $. $$\\mathbf{D_1} = \\begin{pmatrix}\n",
    "0 \\\\\n",
    "1\n",
    "\\end{pmatrix}, \\quad \\mathbf{D_2} = \\begin{pmatrix}\n",
    "1 \\\\\n",
    "2 \n",
    "\\end{pmatrix}, \\quad \\mathbf{D} = (\\mathbf{D_1}, \\mathbf{D_2})=\\begin{pmatrix}\n",
    "0 & 1 \\\\\n",
    "1 & 2 \n",
    "\\end{pmatrix},  \\quad \\mathbf{P} = \\begin{pmatrix}\n",
    "0.9 \\\\\n",
    "1.6 \n",
    "\\end{pmatrix} \n",
    "$$\n",
    "The market is complete since the payoffs are linearly independent. \n",
    "\n",
    "A portfolio is constructed by shorting 2 units of asset 1 ($ \\theta_1 = -2 $) and buying 1 unit of asset 2 ($ \\theta_2 = 1 $).   \n",
    "- The portfolio price is $ P^\\theta = \\theta_1 P_1 + \\theta_2 P_2 = -2(0.9) + 1(1.6) = -0.2 $, which is negative (a cash inflow today).   \n",
    "- The payoff vector is $ \\mathbf{D}^\\theta = -2 \\mathbf{D}_1 + 1 \\mathbf{D}_2 = -2(0, 1)^T + 1(1, 2)^T = (1, 0)^T $, which is non-negative and has a positive payoff in the first state.\n",
    "\n",
    "This satisfies condition (i), indicating an arbitrage opportunity, as it allows a risk-free profit. \n",
    "\n",
    "The state prices are calculated as \n",
    "$$ \\psi = (\\mathbf{D}^T)^{-1} \\mathbf{P} = \\begin{pmatrix}\n",
    "0 & 1 \\\\\n",
    "1 & 2 \n",
    "\\end{pmatrix}^{-1} \\begin{pmatrix}\n",
    "0.9 \\\\\n",
    "1.6 \n",
    "\\end{pmatrix} = \\begin{pmatrix}\n",
    "-0.2 \\\\\n",
    "0.9 \n",
    "\\end{pmatrix} $$, with a negative first state price, confirming the presence of arbitrage(**Theorem (The positivity of state prices)**)."
   ]
  },
  {
   "cell_type": "markdown",
   "id": "755a6057-5007-497f-9caa-2f4c46bb3507",
   "metadata": {},
   "source": [
    "## Q&A"
   ]
  },
  {
   "cell_type": "markdown",
   "id": "f01e527e-71ba-461a-a203-9c18a59da726",
   "metadata": {},
   "source": [
    "Q: How to understand: If the market in incomplete, and the Law of One Price holds, there exists\n",
    "many state price vectors that assign the observed prices to the assets that are\n",
    "traded on the market."
   ]
  },
  {
   "cell_type": "markdown",
   "id": "bc92b44f-95d0-4a4b-b20f-97c6859423a1",
   "metadata": {},
   "source": []
  }
 ],
 "metadata": {
  "kernelspec": {
   "display_name": "Python 3 (ipykernel)",
   "language": "python",
   "name": "python3"
  },
  "language_info": {
   "codemirror_mode": {
    "name": "ipython",
    "version": 3
   },
   "file_extension": ".py",
   "mimetype": "text/x-python",
   "name": "python",
   "nbconvert_exporter": "python",
   "pygments_lexer": "ipython3",
   "version": "3.9.17"
  }
 },
 "nbformat": 4,
 "nbformat_minor": 5
}
