{
 "cells": [
  {
   "cell_type": "markdown",
   "id": "3ca467a4-d127-47eb-96d2-eb8f3efed855",
   "metadata": {},
   "source": [
    "# Incomplete markets"
   ]
  },
  {
   "cell_type": "markdown",
   "id": "bff9fa23-ed82-4704-af38-f2f0cf8872f0",
   "metadata": {},
   "source": [
    "## 1. Definition"
   ]
  },
  {
   "cell_type": "markdown",
   "id": "73f0a3a2-fa66-496e-8d47-94f8e0422874",
   "metadata": {},
   "source": [
    "### 1.1 Incomplete markets"
   ]
  },
  {
   "cell_type": "markdown",
   "id": "0b47f844-11e7-48c1-97bf-900ab440f61e",
   "metadata": {},
   "source": [
    "Incomplete markets occur when the number of linearly independent assets is less than the number of possible states of nature. \n"
   ]
  },
  {
   "cell_type": "markdown",
   "id": "5b03b68b-02b7-4af2-b109-04309ba2bd42",
   "metadata": {},
   "source": [
    "### 1.2 State-price is not unique\n",
    "It is defined by the payoff matrix $ D $ having a rank less than $ S $ (the number of states), i.e., $ \\text{rank}(D) < S $. This means the market cannot fully replicate all possible payoff patterns, and the matrix $ D $ is not invertible. \n",
    "\n",
    "As a result, state prices ($ \\psi $) are not unique, and while the Law of One Price may still hold, new assets with non-replicable payoffs cannot be priced uniquely."
   ]
  },
  {
   "cell_type": "markdown",
   "id": "8abdaa4d-40a1-47eb-9483-a90ab0dd5b3a",
   "metadata": {},
   "source": [
    "\n",
    "$$\\mathbf{P} = \\mathbf{D}^T \\mathbf{\\psi}$$\n"
   ]
  },
  {
   "cell_type": "markdown",
   "id": "ade990b8-f83a-4063-a713-3101fec9cb0d",
   "metadata": {},
   "source": [
    "推导过程"
   ]
  },
  {
   "cell_type": "markdown",
   "id": "3f53465d-1b8b-4300-8104-56eda9642fac",
   "metadata": {},
   "source": [
    "$$ \\psi^* = \\mathbf{D}(\\mathbf{D}^T \\mathbf{D})^{-1}\\mathbf{P} $$"
   ]
  },
  {
   "cell_type": "markdown",
   "id": "4a4467a9-80d8-4ab6-896c-29e066b1d2dd",
   "metadata": {},
   "source": [
    "和complete的公式的不同点"
   ]
  },
  {
   "cell_type": "markdown",
   "id": "3d7f2eb5-47fb-4758-8e91-accb8461c0e3",
   "metadata": {},
   "source": [
    "## Example\n",
    "Consider a market with three possible states of nature but only two traded assets. The payoff vectors are:\n",
    "\n",
    "$ \\mathbf{D}_1 = (8.5, 10, 4)^T $\n",
    "$ \\mathbf{D}_2 = (8.5, 8, 10)^T $\n",
    "\n",
    "The prices of these assets are $ P_1 = 7.23 $ and $ P_2 = 8.13 $. The stacked payoff matrix is:\n",
    "$$\\mathbf{D} = \\begin{pmatrix}\n",
    "8.5 & 8.5 \\\\\n",
    "10 & 8 \\\\\n",
    "4 & 10\n",
    "\\end{pmatrix}$$\n",
    "Since there are 2 assets but 3 states ($ \\text{rank}(D) = 2 < 3 $), the market is incomplete. This means there aren’t enough linearly independent assets to cover all possible states, and the matrix $ D $ is not invertible."
   ]
  },
  {
   "cell_type": "markdown",
   "id": "915f8c45-f2d1-4797-bef2-fe9c75330874",
   "metadata": {},
   "source": [
    "The state price vector $ \\psi $ can be calculated using $$ \\psi^* = \\mathbf{D}(\\mathbf{D}^T \\mathbf{D})^{-1}\\mathbf{P} $$, yielding one possible solution $ \\psi^* = (0.323077, 0.342692, 0.264231)^T $."
   ]
  },
  {
   "cell_type": "markdown",
   "id": "28693ae4-f76a-4294-847a-c3b63a2e1f5a",
   "metadata": {},
   "source": [
    "Another valid solution is $ \\psi = (0.18, 0.45, 0.3)^T $, showing that state prices are not unique in an incomplete market.\n",
    "\n",
    "If a new asset with payoff $ D_4 = (10, 4, 2)^T $ is introduced, its price cannot be uniquely determined. Using $ \\psi^* $, the price is 5.13, but with $ \\psi $, it’s 4.2, indicating multiple possible prices due to the market’s incompleteness."
   ]
  }
 ],
 "metadata": {
  "kernelspec": {
   "display_name": "Python 3 (ipykernel)",
   "language": "python",
   "name": "python3"
  },
  "language_info": {
   "codemirror_mode": {
    "name": "ipython",
    "version": 3
   },
   "file_extension": ".py",
   "mimetype": "text/x-python",
   "name": "python",
   "nbconvert_exporter": "python",
   "pygments_lexer": "ipython3",
   "version": "3.9.17"
  }
 },
 "nbformat": 4,
 "nbformat_minor": 5
}
