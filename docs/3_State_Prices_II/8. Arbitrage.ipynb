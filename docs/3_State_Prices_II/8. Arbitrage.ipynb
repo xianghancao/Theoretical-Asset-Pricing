{
 "cells": [
  {
   "cell_type": "markdown",
   "id": "ec417b29-2b21-4d85-bfaf-9962102ffc5d",
   "metadata": {},
   "source": [
    "# Arbitrage"
   ]
  },
  {
   "cell_type": "markdown",
   "id": "95f56471-d331-4f18-b153-c585c53095a9",
   "metadata": {},
   "source": [
    "## 1. Definition"
   ]
  },
  {
   "cell_type": "markdown",
   "id": "6e4cc3f9-e92c-4a8f-8330-1724616c28ac",
   "metadata": {},
   "source": [
    "Arbitrage is defined as a portfolio that satisfies one of the following conditions:  \n",
    "- (i) $ P^\\theta < 0 $ and $ \\mathbf{D}^\\theta \\geq 0 $ \n",
    "- (ii) $ P^\\theta \\leq 0 $ and $ \\mathbf{D}^\\theta \\geq 0 $ with $ \\text{Prob}(\\mathbf{D}^\\theta > 0) > 0 $\n",
    "\n",
    "(i) meaning the portfolio has a negative price (a cash inflow today) with non-negative payoffs in the future.   \n",
    "(ii) meaning the portfolio costs nothing or provides a cash inflow today and has a positive probability of a positive payoff in the future, with no possibility of a negative payoff.\n",
    "\n",
    "Arbitrage represents an opportunity to make a profit without risk or investment, which should not exist in an efficient market."
   ]
  }
 ],
 "metadata": {
  "kernelspec": {
   "display_name": "Python 3 (ipykernel)",
   "language": "python",
   "name": "python3"
  },
  "language_info": {
   "codemirror_mode": {
    "name": "ipython",
    "version": 3
   },
   "file_extension": ".py",
   "mimetype": "text/x-python",
   "name": "python",
   "nbconvert_exporter": "python",
   "pygments_lexer": "ipython3",
   "version": "3.9.17"
  }
 },
 "nbformat": 4,
 "nbformat_minor": 5
}
