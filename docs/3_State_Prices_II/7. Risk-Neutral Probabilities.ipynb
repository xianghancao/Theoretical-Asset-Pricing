{
 "cells": [
  {
   "cell_type": "markdown",
   "id": "38bbd42f-41e9-4f2f-acad-7a5e3f0b5894",
   "metadata": {},
   "source": [
    "# Risk-Neutral Probabilities"
   ]
  },
  {
   "cell_type": "markdown",
   "id": "0f6b7eb5-47fc-47e1-8d4b-d46a6371f631",
   "metadata": {},
   "source": [
    "## 1. Definition"
   ]
  },
  {
   "cell_type": "markdown",
   "id": "5512f2ac-2559-4d48-ac77-e40dbffa9474",
   "metadata": {},
   "source": [
    "### 1.1 Existence of risk-neutral probability measure"
   ]
  },
  {
   "cell_type": "markdown",
   "id": "54fb06b6-8af4-4578-a320-fd971a8c3093",
   "metadata": {},
   "source": [
    "> ***Theorem (Existence of a risk-neutral probability measure)***  \n",
    "A risk-neutral probability measure exists if and only if prices admit no arbitrage."
   ]
  },
  {
   "cell_type": "markdown",
   "id": "cb65280e-888b-46f1-93f4-6b2886e44a3f",
   "metadata": {},
   "source": [
    "The implication works in both directions:  \n",
    "<center><b>Risk-neutral probability measure exists $ \\Leftrightarrow $ Absence of arbitrage</b></center>"
   ]
  },
  {
   "cell_type": "markdown",
   "id": "db2a6383-f136-403e-a29a-6b92428b2ded",
   "metadata": {},
   "source": [
    "### 1.2 Risk-neutral probabilities"
   ]
  },
  {
   "cell_type": "markdown",
   "id": "8a18087a-5426-4c07-8a38-9ecef9c4844f",
   "metadata": {},
   "source": [
    "Risk-neutral probabilities for state $ s $, denoted by $ \\pi_s^* $, are defined as the product between the gross risk-free rate of return $ (1 + r_f) $ and the state price for state $ s $, $ \\psi_s $:\n",
    "$$\\pi_s^* = (1 + r_f) \\psi_s$$\n",
    "or\n",
    "$$\\psi_s = \\frac{\\pi_s^*}{1 + r_f} $$\n",
    "Note that risk-neutral probabilities are not actual probabilities(objective, real-world probabilities) but are constructed to simplify pricing under the assumption that all assets have an expected return equal to the risk-free rate when evaluated using these probabilities."
   ]
  },
  {
   "cell_type": "markdown",
   "id": "166d9fde-6e47-47dd-837e-5e22a35a5bc4",
   "metadata": {},
   "source": [
    "### 1.3 Risk-Neutral Pricing"
   ]
  },
  {
   "cell_type": "markdown",
   "id": "44e4a0a9-9db2-413d-b68c-6cc80b71eb17",
   "metadata": {},
   "source": [
    "> ***Theorem (Risk-Neutral Pricing)***  \n",
    "The prices of financial assets can be calculated by:\n",
    "$$P_i = \\frac{E^*(\\mathbf{D}_i)}{1 + r_f}$$\n",
    "where $   E^*(\\mathbf{D}_i)   $ is the expectation of the asset's payoffs obtained using the risk-neutral probabilities, and $   r_f   $ is the risk-free rate of return.  \n",
    "Furthermore, the expected return on any asset, evaluated using the risk-neutral probabilities, equals the risk-free rate of return:\n",
    "$$E^*(r_i) = r_f$$"
   ]
  },
  {
   "cell_type": "markdown",
   "id": "20a2c6a5-f8b6-4635-acb7-e45ce0f11586",
   "metadata": {},
   "source": [
    "推导"
   ]
  },
  {
   "cell_type": "markdown",
   "id": "aa0b510e-2b1e-45c0-b6ae-2fd893e9bcb1",
   "metadata": {},
   "source": [
    "## 2. Example"
   ]
  },
  {
   "cell_type": "markdown",
   "id": "bd8ed06f-1ef2-409f-9018-6b9dcc20fb8e",
   "metadata": {},
   "source": [
    "Consider asset 1 with a payoff vector $ \\mathbf{D}_1 = (8.5, 10, 4)^T $ and a price $ P_1 = 7.23 $. The state prices are given as $ \\psi = (0.18, 0.45, 0.3)^T $.\n",
    "\n",
    "The risk-free asset has a payoff vector $ \\mathbf{D}_{rf} = (1, 1, 1)^T $, and its price is calculated as $ \\mathbf{D}_{rf}^T*\\psi =  0.18 + 0.45 + 0.3 = 0.93 $, yielding a risk-free rate $ r_f = (1/0.93) - 1 \\approx 0.0752688 $, since $P_{rf} (1+r_f) = D_{rf}$ \n",
    "\n",
    "The risk-neutral probabilities are then:\n",
    "$$\\pi^* = (1 + r_f) \\psi = (1 + 0.0752688) \\begin{pmatrix} 0.18 \\\\ 0.45 \\\\ 0.3 \\end{pmatrix} \\approx \\begin{pmatrix} 0.1935 \\\\ 0.4839 \\\\ 0.3226 \\end{pmatrix}$$\n",
    "The price of asset 1 is recalculated using the risk-neutral pricing formula:\n",
    "$$P_1 = \\frac{\\sum_{s=1}^3 \\pi_s^* \\mathbf{D}_{s,1}}{1 + r_f} = \\frac{0.1935 \\cdot 8.5 + 0.4839 \\cdot 10 + 0.3226 \\cdot 4}{1.0752688} \\approx 7.23$$\n",
    "This matches the original price, and the expected return using risk-neutral probabilities equals the risk-free rate, confirming the method's consistency."
   ]
  },
  {
   "cell_type": "markdown",
   "id": "d9e3596e-c943-4dcd-8b21-76f189fdf7aa",
   "metadata": {},
   "source": []
  }
 ],
 "metadata": {
  "kernelspec": {
   "display_name": "Python 3 (ipykernel)",
   "language": "python",
   "name": "python3"
  },
  "language_info": {
   "codemirror_mode": {
    "name": "ipython",
    "version": 3
   },
   "file_extension": ".py",
   "mimetype": "text/x-python",
   "name": "python",
   "nbconvert_exporter": "python",
   "pygments_lexer": "ipython3",
   "version": "3.9.17"
  }
 },
 "nbformat": 4,
 "nbformat_minor": 5
}
