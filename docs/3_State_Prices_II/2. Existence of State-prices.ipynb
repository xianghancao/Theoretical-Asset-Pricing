{
 "cells": [
  {
   "cell_type": "markdown",
   "id": "80eb79ef-80b8-4cda-a5c5-7fd1a6c01528",
   "metadata": {},
   "source": [
    "# Existence of State Prices"
   ]
  },
  {
   "cell_type": "markdown",
   "id": "1c4daabc-e654-4059-b542-a1d1e5b928f3",
   "metadata": {},
   "source": [
    "## 1. Definition"
   ]
  },
  {
   "cell_type": "markdown",
   "id": "1d62edb5-2b59-4287-a2e2-807b138413c8",
   "metadata": {},
   "source": [
    "> ***Theorem (The existence of state prices)***   \n",
    "State prices exist if and only if the Law of One Price holds.\n",
    "\n"
   ]
  },
  {
   "cell_type": "markdown",
   "id": "d310a0f1-1965-42a6-9df1-69af1d4de295",
   "metadata": {},
   "source": [
    "The implication works in both directions:\n",
    "<center><b>Existence of state prices $ \\Leftrightarrow $ Law of one price(LOP) holds</b></center>"
   ]
  },
  {
   "cell_type": "markdown",
   "id": "0ce91baa-7c59-4839-bea7-69e535fc5ff4",
   "metadata": {},
   "source": []
  }
 ],
 "metadata": {
  "kernelspec": {
   "display_name": "Python 3 (ipykernel)",
   "language": "python",
   "name": "python3"
  },
  "language_info": {
   "codemirror_mode": {
    "name": "ipython",
    "version": 3
   },
   "file_extension": ".py",
   "mimetype": "text/x-python",
   "name": "python",
   "nbconvert_exporter": "python",
   "pygments_lexer": "ipython3",
   "version": "3.9.17"
  }
 },
 "nbformat": 4,
 "nbformat_minor": 5
}
