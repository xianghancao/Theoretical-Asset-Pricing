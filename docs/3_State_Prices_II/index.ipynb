{
 "cells": [
  {
   "cell_type": "markdown",
   "id": "450ee532-ab3c-483c-ab8e-6bfe91f2fbb3",
   "metadata": {},
   "source": [
    "# 3 State Prices II"
   ]
  },
  {
   "cell_type": "markdown",
   "id": "8a351718-0beb-45fe-bc57-492dbad709c8",
   "metadata": {},
   "source": []
  }
 ],
 "metadata": {
  "kernelspec": {
   "display_name": "Python 3 (ipykernel)",
   "language": "python",
   "name": "python3"
  },
  "language_info": {
   "codemirror_mode": {
    "name": "ipython",
    "version": 3
   },
   "file_extension": ".py",
   "mimetype": "text/x-python",
   "name": "python",
   "nbconvert_exporter": "python",
   "pygments_lexer": "ipython3",
   "version": "3.9.17"
  }
 },
 "nbformat": 4,
 "nbformat_minor": 5
}
