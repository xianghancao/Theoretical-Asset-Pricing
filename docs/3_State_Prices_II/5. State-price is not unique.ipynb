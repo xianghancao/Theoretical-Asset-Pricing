{
 "cells": [
  {
   "cell_type": "markdown",
   "id": "ef8775f5-0842-4564-8618-47021b87b0c4",
   "metadata": {},
   "source": [
    "# State-price is not unique"
   ]
  },
  {
   "cell_type": "markdown",
   "id": "1adfdc13-97e0-44b4-b1ea-5d69e7248bc8",
   "metadata": {},
   "source": [
    "## 1. Definition"
   ]
  },
  {
   "cell_type": "markdown",
   "id": "2c8b359e-cfc1-43f8-8c82-b711a65f4adc",
   "metadata": {},
   "source": [
    "### 1.1 Incomplete markets"
   ]
  },
  {
   "cell_type": "markdown",
   "id": "d64b8ba2-f25f-4c33-bb1a-1c854027eca2",
   "metadata": {},
   "source": [
    "Incomplete markets occur when the number of linearly independent assets is less than the number of possible states of nature. \n"
   ]
  },
  {
   "cell_type": "markdown",
   "id": "b65b9f43-d2ad-4dc4-9b92-6231a85b64c4",
   "metadata": {},
   "source": [
    "### 1.2 State-price is not unique\n",
    "It is defined by the payoff matrix $ D $ having a rank less than $ S $ (the number of states), i.e., $ \\text{rank}(D) < S $. This means the market cannot fully replicate all possible payoff patterns, and the matrix $ D $ is not invertible. \n",
    "\n",
    "As a result, state prices ($ \\psi $) are not unique, and while the Law of One Price may still hold, new assets with non-replicable payoffs cannot be priced uniquely."
   ]
  },
  {
   "cell_type": "markdown",
   "id": "e5946eea-944b-46c4-9af9-e4f738f2d117",
   "metadata": {},
   "source": [
    "\n",
    "$$\\mathbf{P} = \\mathbf{D}^T \\mathbf{\\psi}$$\n"
   ]
  },
  {
   "cell_type": "markdown",
   "id": "5f456dda-2747-4cad-ac86-5a091ee38412",
   "metadata": {},
   "source": [
    "推导过程"
   ]
  },
  {
   "cell_type": "markdown",
   "id": "6c0a492f-f83a-4d1f-aafb-5eb1672b811a",
   "metadata": {},
   "source": [
    "$$ \\psi^* = \\mathbf{D}(\\mathbf{D}^T \\mathbf{D})^{-1}\\mathbf{P} $$"
   ]
  },
  {
   "cell_type": "markdown",
   "id": "e242b367-7775-4581-b848-577ad6646e8a",
   "metadata": {},
   "source": [
    "和complete的公式的不同点"
   ]
  },
  {
   "cell_type": "markdown",
   "id": "0469deb4-e2df-4bd9-86c0-15bd9c340bc5",
   "metadata": {},
   "source": [
    "## Example\n",
    "Consider a market with three possible states of nature but only two traded assets. The payoff vectors are:\n",
    "\n",
    "$ \\mathbf{D}_1 = (8.5, 10, 4)^T $\n",
    "$ \\mathbf{D}_2 = (8.5, 8, 10)^T $\n",
    "\n",
    "The prices of these assets are $ P_1 = 7.23 $ and $ P_2 = 8.13 $. The stacked payoff matrix is:\n",
    "$$\\mathbf{D} = \\begin{pmatrix}\n",
    "8.5 & 8.5 \\\\\n",
    "10 & 8 \\\\\n",
    "4 & 10\n",
    "\\end{pmatrix}$$\n",
    "Since there are 2 assets but 3 states ($ \\text{rank}(D) = 2 < 3 $), the market is incomplete. This means there aren’t enough linearly independent assets to cover all possible states, and the matrix $ D $ is not invertible."
   ]
  },
  {
   "cell_type": "markdown",
   "id": "0b92959a-860e-4c1b-9d39-126537a562a1",
   "metadata": {},
   "source": [
    "The state price vector $ \\psi $ can be calculated using $$ \\psi^* = \\mathbf{D}(\\mathbf{D}^T \\mathbf{D})^{-1}\\mathbf{P} $$, yielding one possible solution $ \\psi^* = (0.323077, 0.342692, 0.264231)^T $."
   ]
  },
  {
   "cell_type": "markdown",
   "id": "cc9bfaa1-5ebc-4cd7-8bd4-83f45452c1d8",
   "metadata": {},
   "source": [
    "Another valid solution is $ \\psi = (0.18, 0.45, 0.3)^T $, showing that state prices are not unique in an incomplete market.\n",
    "\n",
    "If a new asset with payoff $ D_4 = (10, 4, 2)^T $ is introduced, its price cannot be uniquely determined. Using $ \\psi^* $, the price is 5.13, but with $ \\psi $, it’s 4.2, indicating multiple possible prices due to the market’s incompleteness."
   ]
  }
 ],
 "metadata": {
  "kernelspec": {
   "display_name": "Python 3 (ipykernel)",
   "language": "python",
   "name": "python3"
  },
  "language_info": {
   "codemirror_mode": {
    "name": "ipython",
    "version": 3
   },
   "file_extension": ".py",
   "mimetype": "text/x-python",
   "name": "python",
   "nbconvert_exporter": "python",
   "pygments_lexer": "ipython3",
   "version": "3.9.17"
  }
 },
 "nbformat": 4,
 "nbformat_minor": 5
}
