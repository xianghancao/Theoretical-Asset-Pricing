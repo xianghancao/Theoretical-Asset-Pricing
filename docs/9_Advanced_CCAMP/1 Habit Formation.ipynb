{
 "cells": [
  {
   "cell_type": "markdown",
   "id": "4a1b0b81-1b44-41e1-8f13-2b89784eebe7",
   "metadata": {},
   "source": [
    "# Habit Formation"
   ]
  },
  {
   "cell_type": "markdown",
   "id": "9f40a683-08ca-44cb-93cb-e1ff70a4ac9a",
   "metadata": {},
   "source": [
    "\n",
    "\n",
    "习惯形成是一种替代性的偏好设定，旨在解决简单 **消费-CAPM** 模型（Simple CCAPM）无法解释资产定价现象（例如股权溢价之谜、无风险利率之谜）的问题 。\n",
    "\n",
    "**核心思想：** 个体的效用不仅取决于当前的消费水平，还取决于当前的消费与过去的平均消费水平（即“习惯水平”）的对比 。\n",
    "\n",
    "## 两种主要类型\n",
    "\n",
    "习惯形成主要分为两种类型：\n",
    "\n",
    "1.  **内部习惯 (Internal Habit):**\n",
    "    * **定义:** 个体当前的消费会影响其未来的效用水平 。习惯水平 $h_t$ 是过去一段时期消费的指数加权平均值 。\n",
    "    * **效用函数示例:** $u(c,h) = \\frac{1}{1-\\gamma}(c-h)^{1-\\gamma}$ 。\n",
    "    * **影响:** Grischenko (2010) 的研究表明，这种内部习惯模型能够匹配美国人均消费时间序列数据的收益水平和短期平均收益的变化 。然而，它仍然推导出**非常高的相对风险厌恶（Relative Risk Aversion, RRA）**值（例如约为 **57.3**），这在代表性个体模型中可能不合理 。\n",
    "\n",
    "2.  **外部习惯 (External Habit)** (如 Campbell & Cochrane 模型):\n",
    "    * **定义:** 个体的效用取决于其消费 $c_t$ 与**外部**习惯水平 $X_t$（通常是总消费的某个长期平均值，且个体将其视为外生）的对比 。\n",
    "    * **效用函数示例:** $u(c,X) = \\frac{1}{1-\\gamma}(c-X)^{1-\\gamma}$ 。\n",
    "\n",
    "---\n",
    "\n",
    "## Campbell & Cochrane (1999) 外部习惯模型\n",
    "\n",
    "这是金融领域最有影响力的习惯形成模型之一，其核心在于 **Surplus Consumption Ratio** $S_t$：\n",
    "\n",
    "$$S_t = \\frac{c_t - X_t}{c_t}$$\n",
    "\n",
    "其中 $c_t$ 是总消费，$X_t$ 是外部习惯水平 。\n",
    "\n",
    "## 主要推论和成果\n",
    "\n",
    "* **相对风险厌恶（RRA）的周期性变化:**\n",
    "    * 模型的 RRA 变为 $\\text{RRA} = \\frac{\\gamma}{S_t}$ 。\n",
    "    * 这意味着 RRA 是**逆周期变动**的：在经济“好状态”（$S_t$ 高）时，RRA 较低；而在经济“坏状态”（$S_t$ 低，消费接近习惯水平）时，RRA 非常高 。高 RRA 使得投资者在经济衰退时更加规避风险，从而要求更高的股权风险溢价。\n",
    "* **无风险利率 ($r_t^f$) 的常数化:**\n",
    "    * Campbell & Cochrane 通过对习惯水平动力学中的 $\\Lambda(S_t)$ 函数进行特殊选择，使得模型可以匹配经验事实，即 **$r_t^f$ 保持不变** 。\n",
    "* **实证匹配:**\n",
    "    * 校准后的模型可以产生与实证数据一致的**股票收益的期望和标准差** 。\n",
    "    * 与观察到的**预期收益的逆周期波动**和夏普比率（Sharpe Ratio）的变化一致 。\n",
    "\n",
    "## 模型局限性\n",
    "\n",
    "* **过度校准:** 该模型被批评为是“反向工程”（reverse-engineered）来匹配已观察到的特征的 。\n",
    "* **极端习惯程度:** 模型校准显示需要“极端的习惯程度”才能匹配数据 。\n",
    "* **无法解释价值溢价:** 该模型未能解释观测到的**价值溢价**（Value Premium）现象 。\n",
    "* **夏普比率波动不足:** 模型产生的夏普比率的周期性波动程度似乎低于实际数据 。"
   ]
  },
  {
   "cell_type": "markdown",
   "id": "715c5887-d5c1-4133-8000-b19df0e5a240",
   "metadata": {},
   "source": []
  }
 ],
 "metadata": {
  "kernelspec": {
   "display_name": "Python 3 (ipykernel)",
   "language": "python",
   "name": "python3"
  },
  "language_info": {
   "codemirror_mode": {
    "name": "ipython",
    "version": 3
   },
   "file_extension": ".py",
   "mimetype": "text/x-python",
   "name": "python",
   "nbconvert_exporter": "python",
   "pygments_lexer": "ipython3",
   "version": "3.9.17"
  }
 },
 "nbformat": 4,
 "nbformat_minor": 5
}
