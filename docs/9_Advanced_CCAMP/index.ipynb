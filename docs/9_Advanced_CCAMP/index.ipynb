{
 "cells": [
  {
   "cell_type": "markdown",
   "id": "673ef7ae-0f9c-4af2-9977-eb3243ee042d",
   "metadata": {},
   "source": [
    "# 9 Advanced CCAMP"
   ]
  },
  {
   "cell_type": "markdown",
   "id": "40e85a62-e038-40e8-bc5f-c55a6775887f",
   "metadata": {},
   "source": []
  }
 ],
 "metadata": {
  "kernelspec": {
   "display_name": "Python 3 (ipykernel)",
   "language": "python",
   "name": "python3"
  },
  "language_info": {
   "codemirror_mode": {
    "name": "ipython",
    "version": 3
   },
   "file_extension": ".py",
   "mimetype": "text/x-python",
   "name": "python",
   "nbconvert_exporter": "python",
   "pygments_lexer": "ipython3",
   "version": "3.9.17"
  }
 },
 "nbformat": 4,
 "nbformat_minor": 5
}
