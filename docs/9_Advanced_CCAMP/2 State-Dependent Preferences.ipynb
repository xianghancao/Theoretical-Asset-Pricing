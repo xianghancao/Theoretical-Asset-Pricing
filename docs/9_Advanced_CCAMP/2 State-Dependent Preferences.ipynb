{
 "cells": [
  {
   "cell_type": "markdown",
   "id": "312026e6-9a97-4664-ada6-3fecd9e395a8",
   "metadata": {},
   "source": [
    "# 状态依赖偏好 (State-Dependent Preferences)"
   ]
  },
  {
   "cell_type": "markdown",
   "id": "186fa5cb-2f01-4173-9038-3a54120ff2b5",
   "metadata": {},
   "source": [
    "\n",
    "**核心思想:** 个体对风险的厌恶程度或其效用函数，不再是固定的，而是随着经济状态（或宏观变量，如失业率、经济增长率等）的变化而变化。\n",
    "\n",
    "这种方法旨在使**随机贴现因子 (Stochastic Discount Factor, SDF)** 在经济衰退或“坏状态”时变得更低、波动性更大，从而更好地匹配高风险溢价和低无风险利率的实证事实。\n",
    "\n",
    "### 1. 状态依赖的相对风险厌恶 (State-Dependent RRA)\n",
    "\n",
    "这是最直接的实现方式，即让代表性个体的**相对风险厌恶系数 $(\\gamma)$** 依赖于经济状态 $Z_t$：\n",
    "\n",
    "$$\\text{RRA}(\\gamma) = \\gamma(Z_t)$$\n",
    "\n",
    "#### **Guvenen (2009) 模型**\n",
    "\n",
    "Guvenen (2009) 的模型是这种方法的典型例子，他提出的 RRA 形式是：\n",
    "\n",
    "$$\\text{RRA} = \\gamma_0 \\times \\exp(\\kappa_0 - \\kappa_1 Z_t)$$\n",
    "\n",
    "其中：\n",
    "* $Z_t$ 是一个逆周期（Countercyclical）变量，例如**失业率**。\n",
    "* $Z_t$ 在经济衰退时（失业率高）会变大。\n",
    "* 由于 $\\kappa_1 > 0$，因此 RRA 在经济衰退时会**更高**。\n",
    "\n",
    "**模型的直觉：**\n",
    "\n",
    "1.  **在经济衰退时（坏状态）：** RRA 变高，投资者变得更加厌恶风险。\n",
    "2.  **后果：** 投资者在坏状态下对资产风险要求更高的补偿，这提高了股票的**风险溢价**。\n",
    "3.  **结果：** 该模型能够同时解决股权溢价之谜（Equity Premium Puzzle）和无风险利率之谜（Risk-Free Rate Puzzle）。\n",
    "\n",
    "### 2. 状态依赖的习惯形成（Habit Formation）\n",
    "\n",
    "如上一问所述的 **Campbell & Cochrane (1999) 外部习惯模型** 也可以视为一种状态依赖偏好模型：\n",
    "\n",
    "* 其**相对风险厌恶**是 $RRA = \\frac{\\gamma}{S_t}$，取决于 **Surplus Consumption Ratio $S_t$**。\n",
    "* $S_t$ 是一个宏观状态变量，反映了当前消费 $c_t$ 相对于习惯水平 $X_t$ 的稀缺程度。\n",
    "* 因此，该模型的 RRA 是一个**状态依赖的**变量，并在经济“坏状态”（$S_t$ 低）时飙升，从而匹配资产定价事实。\n",
    "\n",
    "---\n",
    "\n",
    "## 总结\n",
    "\n",
    "状态依赖偏好与习惯形成的核心目标是一致的：通过让个体的**风险厌恶程度**或**跨期替代弹性 (IES)** 随着经济周期（状态）而变化，来产生一个在坏状态下波动性强、贴现因子低的 SDF，从而成功解释资产定价的谜团。"
   ]
  },
  {
   "cell_type": "markdown",
   "id": "448cb796-0284-4994-ad6f-42f282884057",
   "metadata": {},
   "source": []
  }
 ],
 "metadata": {
  "kernelspec": {
   "display_name": "Python 3 (ipykernel)",
   "language": "python",
   "name": "python3"
  },
  "language_info": {
   "codemirror_mode": {
    "name": "ipython",
    "version": 3
   },
   "file_extension": ".py",
   "mimetype": "text/x-python",
   "name": "python",
   "nbconvert_exporter": "python",
   "pygments_lexer": "ipython3",
   "version": "3.9.17"
  }
 },
 "nbformat": 4,
 "nbformat_minor": 5
}
