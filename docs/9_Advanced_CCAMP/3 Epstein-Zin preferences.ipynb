{
 "cells": [
  {
   "cell_type": "markdown",
   "id": "310cc3fa-ee26-4180-9075-027f0590d907",
   "metadata": {},
   "source": [
    "# Epstein-Zin (EZ) 偏好\n"
   ]
  },
  {
   "cell_type": "markdown",
   "id": "0e6017bc-90d8-4369-a422-f6c4e47aa268",
   "metadata": {},
   "source": [
    "\n",
    "\n",
    "### 1. 核心概念：分离风险厌恶与跨期替代弹性\n",
    "\n",
    "传统的预期效用（Expected Utility, EU）模型，特别是像幂函数效用（Power Utility）这样的简单形式，有一个限制：它将**跨期替代弹性（Elasticity of Intertemporal Substitution, IES）**和**相对风险厌恶（Relative Risk Aversion, RRA）**系数**捆绑在一起**。\n",
    "\n",
    "在标准幂函数效用中：\n",
    "$$RRA = \\gamma$$\n",
    "$$IES = \\frac{1}{\\gamma}$$\n",
    "这意味着 $\\text{IES} = \\frac{1}{\\text{RRA}}$。\n",
    "\n",
    "**EZ 偏好**（也称为递归偏好或非预期效用）克服了这一限制，它允许分析师**独立设定**这两个关键参数：\n",
    "\n",
    "* **RRA ($\\gamma$):** 衡量个体对当期风险的厌恶程度。\n",
    "* **IES ($\\psi$):** 衡量个体愿意将消费从一个时期转移到另一个时期的意愿，即他们愿意在时间上替代消费的程度。\n",
    "\n",
    "### 2. 效用函数的结构\n",
    "\n",
    "EZ 偏好模型中的递归效用 $V_t$ 定义如下：\n",
    "\n",
    "$$V_t = \\left\\{ c_t^{1-\\frac{1}{\\psi}} + \\delta \\left( E_t[V_{t+1}^{1-\\gamma}] \\right)^{\\frac{1-\\frac{1}{\\psi}}{1-\\gamma}} \\right\\}^{\\frac{1}{1-\\frac{1}{\\psi}}}$$\n",
    "\n",
    "其中：\n",
    "\n",
    "* $c_t$: 当前消费。\n",
    "* $V_{t+1}$: 下一期的递归效用。\n",
    "* $\\delta$: 时间贴现因子（Time Discount Factor）。\n",
    "* $\\psi = IES$ (跨期替代弹性)。\n",
    "* $\\gamma = RRA$ (相对风险厌恶系数)。\n",
    "\n",
    "### 3. 随机贴现因子 (Stochastic Discount Factor, SDF)\n",
    "\n",
    "EZ 模型的随机贴现因子 $M_{t+1}$ 具有一个关键的分解结构，它由三个组成部分决定：\n",
    "\n",
    "$$M_{t+1} = \\delta \\left( \\frac{c_{t+1}}{c_t} \\right)^{-\\frac{1}{\\psi}} \\left( \\frac{V_{t+1}}{\\left( E_t[V_{t+1}^{1-\\gamma}] \\right)^{\\frac{1}{1-\\gamma}}} \\right)^{\\frac{1}{\\psi}-\\gamma}$$\n",
    "\n",
    "EZ 偏好的重要性在于，它为后续的**长期风险（Long-Run Risk, LRR）模型**奠定了基础。\n",
    "\n",
    "### 4. 长期风险（LRR）模型中的应用 (Bansal & Yaron, 2004)\n",
    "\n",
    "LRR 模型假设消费增长率和消费波动性包含一个**缓慢变化**的长期预期分量。当结合 EZ 偏好时，可以得出强大的资产定价推论：\n",
    "\n",
    "| 参数关系 | **经济直觉** | **对资产价格的影响** |\n",
    "| :--- | :--- | :--- |\n",
    "| **IES ($\\psi$) > 1** | 投资者愿意**提前**消费（在预期高增长时储蓄意愿低）。 | 股市对预期消费增长的变化**敏感**。 |\n",
    "| **RRA ($\\gamma$) > IES ($\\psi$)\\* 的倒数** | **高风险厌恶**的投资者。 | **高股权溢价**。 |\n",
    "\n",
    "\\* EZ 偏好模型的成功校准通常涉及设定：\n",
    "1.  **高 RRA ($\\gamma$):** 使投资者对风险高度厌恶。\n",
    "2.  **高 IES ($\\psi$ > 1):** 使投资者对未来增长机会高度敏感。\n",
    "\n",
    "**LRR 模型的成功:** 通过结合 EZ 偏好和特定的消费动态假设，LRR 模型能够同时解释：\n",
    "\n",
    "1.  **股权溢价之谜:** 通过高 $\\gamma$ 和对长期风险的厌恶。\n",
    "2.  **波动性之谜:** 股票价格对消费增长预期波动的敏感性提高。\n",
    "3.  **预测性:** 能够解释股票收益的可预测性现象（如分红收益率能预测未来收益）。\n",
    "\n",
    "---\n",
    "**总结:** Epstein-Zin 偏好是现代 CCAPM 中最重要的发展之一，因为它打破了 RRA 和 IES 之间的联系，从而能够构建出像长期风险模型这样，可以更好地匹配宏观经济和金融市场数据的模型。"
   ]
  },
  {
   "cell_type": "markdown",
   "id": "d2e02600-bdcc-4cdf-85d8-2bb670370dc9",
   "metadata": {},
   "source": []
  }
 ],
 "metadata": {
  "kernelspec": {
   "display_name": "Python 3 (ipykernel)",
   "language": "python",
   "name": "python3"
  },
  "language_info": {
   "codemirror_mode": {
    "name": "ipython",
    "version": 3
   },
   "file_extension": ".py",
   "mimetype": "text/x-python",
   "name": "python",
   "nbconvert_exporter": "python",
   "pygments_lexer": "ipython3",
   "version": "3.9.17"
  }
 },
 "nbformat": 4,
 "nbformat_minor": 5
}
