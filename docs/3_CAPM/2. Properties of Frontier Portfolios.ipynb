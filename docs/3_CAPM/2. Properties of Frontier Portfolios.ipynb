{
 "cells": [
  {
   "cell_type": "markdown",
   "id": "8e5906e9-66c3-4504-aa1f-28f1d790b59b",
   "metadata": {},
   "source": [
    "# 2. Portfolio Separation"
   ]
  },
  {
   "cell_type": "markdown",
   "id": "c6cad549-7033-4385-a61b-750fc83fab9c",
   "metadata": {},
   "source": [
    "## Portfolio Separation:\n",
    "\n",
    "Every portfolio on the mean-variance frontier can be replicated by a combination of any two frontier portfolios (two-fund separation).\n",
    "\n",
    "Proof: \n",
    "\n",
    "For two frontier portfolios with weights $ w_1 = a + b E[r_{p,1}] $ and $ w_2 = a + b E[r_{p,2}] $, a convex combination $ x w_1 + (1-x) w_2 $ yields:\n",
    "\n",
    "$$x w_1 + (1-x) w_2 = a + b [x E[r_{p,1}] + (1-x) E[r_{p,2}]] = a + b E[r_{p,3}]$$\n",
    "Since this matches the frontier form, the combination is also a frontier portfolio.\n",
    "\n"
   ]
  },
  {
   "cell_type": "markdown",
   "id": "94b7013a-eca5-4121-af67-7a2e106b8745",
   "metadata": {},
   "source": []
  }
 ],
 "metadata": {
  "kernelspec": {
   "display_name": "Python 3 (ipykernel)",
   "language": "python",
   "name": "python3"
  },
  "language_info": {
   "codemirror_mode": {
    "name": "ipython",
    "version": 3
   },
   "file_extension": ".py",
   "mimetype": "text/x-python",
   "name": "python",
   "nbconvert_exporter": "python",
   "pygments_lexer": "ipython3",
   "version": "3.9.17"
  }
 },
 "nbformat": 4,
 "nbformat_minor": 5
}
