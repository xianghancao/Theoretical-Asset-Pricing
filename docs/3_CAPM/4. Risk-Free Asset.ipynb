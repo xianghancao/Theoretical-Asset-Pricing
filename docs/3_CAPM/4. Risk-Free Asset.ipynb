{
 "cells": [
  {
   "cell_type": "markdown",
   "id": "69c74014-8f87-47bd-9487-d772d89c4b71",
   "metadata": {},
   "source": [
    "# 4. Risk-Free Asset"
   ]
  },
  {
   "cell_type": "markdown",
   "id": "9cd98f3f-6878-4dcd-991c-70f6d291fb4e",
   "metadata": {},
   "source": [
    "## Efficient Frontier with a Risk-Free Asset\n",
    "\n",
    "Setup: Include a risk-free asset with return $ r_f $ and zero variance. Portfolio weights: $ w $ for $ N $ risky assets, $ 1 - w^T i $ for the risk-free asset.\n",
    "Portfolio Metrics:\n",
    "\n",
    "Expected return: $ E[r_p] = r_f + w^T (E[r] - r_f i) $.\n",
    "Variance: $ \\sigma_p^2 = w^T V w $ (since the risk-free asset has zero variance).\n",
    "\n",
    "\n",
    "## Optimization Problem:\n",
    "$$\\min_w \\frac{1}{2} w^T V w + \\lambda [E[r_p] - r_f - w^T (E[r] - r_f i)]$$\n",
    "\n",
    "Solution:\n",
    "\n",
    "Optimal weights: $ w^* = \\lambda V^{-1} (E[r] - r_f i) $, where:\n",
    "$$\\lambda = \\frac{E[r_p] - r_f}{(E[r] - r_f i)^T V^{-1} (E[r] - r_f i)} = \\frac{E[r_p] - r_f}{z - 2a r_f + d r_f^2}$$\n",
    "\n",
    "Risk-free asset weight: $ 1 - (w^*)^T i $.\n",
    "\n",
    "\n",
    "## Portfolio Variance:\n",
    "$$\\sigma_p^2 = (w^*)^T V w^* = \\frac{(E[r_p] - r_f)^2}{z - 2a r_f + d r_f^2}$$\n",
    "\n",
    "Key Result: The efficient frontier is linear in mean-standard deviation space:\n",
    "$$E[r_p] = r_f \\pm \\sqrt{z - 2a r_f + d r_f^2} \\cdot \\sigma_p$$\n",
    "\n",
    "This linearity reflects the capital allocation line (CAL), where all efficient portfolios are combinations of the risk-free asset and a tangency portfolio of risky assets.\n",
    "\n"
   ]
  },
  {
   "cell_type": "markdown",
   "id": "b5446b63-6cf6-43ec-b23d-4a58c4d1befa",
   "metadata": {},
   "source": []
  }
 ],
 "metadata": {
  "kernelspec": {
   "display_name": "Python 3 (ipykernel)",
   "language": "python",
   "name": "python3"
  },
  "language_info": {
   "codemirror_mode": {
    "name": "ipython",
    "version": 3
   },
   "file_extension": ".py",
   "mimetype": "text/x-python",
   "name": "python",
   "nbconvert_exporter": "python",
   "pygments_lexer": "ipython3",
   "version": "3.9.17"
  }
 },
 "nbformat": 4,
 "nbformat_minor": 5
}
