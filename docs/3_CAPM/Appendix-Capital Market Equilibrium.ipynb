{
 "cells": [
  {
   "cell_type": "markdown",
   "id": "c86bbab0-eec7-40a1-94b6-9e82f60d06c7",
   "metadata": {},
   "source": [
    "# Appendix: Capital Market Equilibrium"
   ]
  },
  {
   "cell_type": "markdown",
   "id": "fa1a305f-2d35-4802-9fe5-1a2224a73555",
   "metadata": {},
   "source": [
    "**Capital Market Equilibrium** refers to a state in the financial markets where the prices of all assets reflect their expected returns and risks, such that supply equals demand for each asset, and no investor can achieve excess returns without taking on additional risk. It is a central concept in Modern Portfolio Theory (MPT) and the Capital Asset Pricing Model (CAPM).\n",
    "\n",
    "### Key Features of Capital Market Equilibrium:\n",
    "1. **Market Portfolio**: In equilibrium, all investors hold the same optimal portfolio of risky assets, known as the **market portfolio**, which includes all investable assets weighted by their market value. This occurs because investors optimize their portfolios based on the same risk-return trade-offs.\n",
    "\n",
    "2. **Capital Market Line (CML)**: The CML represents the efficient frontier of portfolios combining the risk-free asset and the market portfolio. In equilibrium, all portfolios lie on the CML, and the tangency point between the efficient frontier and the CML is the market portfolio.\n",
    "\n",
    "3. **Risk and Return Balance**: Asset prices adjust so that the expected return of each asset is consistent with its systematic risk (measured by beta in CAPM). The Security Market Line (SML) describes this relationship, where:\n",
    "   \\[\n",
    "   E(R_i) = R_f + \\beta_i (E(R_m) - R_f)\n",
    "   \\]\n",
    "   - \\(E(R_i)\\): Expected return of asset \\(i\\)\n",
    "   - \\(R_f\\): Risk-free rate\n",
    "   - \\(\\beta_i\\): Asset \\(i\\)'s beta (systematic risk)\n",
    "   - \\(E(R_m)\\): Expected return of the market portfolio\n",
    "\n",
    "4. **No Arbitrage Opportunities**: In equilibrium, asset prices are such that no investor can earn abnormal returns (alpha) by exploiting mispricings, as prices fully reflect all available information.\n",
    "\n",
    "5. **Homogeneous Expectations**: Investors share the same expectations about asset returns, risks, and correlations, leading to a single optimal risky portfolio (the market portfolio).\n",
    "\n",
    "### Implications:\n",
    "- In equilibrium, the **tangency portfolio** (the portfolio with the highest Sharpe ratio) is the market portfolio, as explained in your previous question.\n",
    "- All investors hold a combination of the risk-free asset and the market portfolio, depending on their risk tolerance.\n",
    "- The market clears, meaning the total demand for each asset equals its supply at the equilibrium prices.\n",
    "\n",
    "### Real-World Considerations:\n",
    "- Equilibrium assumes idealized conditions (e.g., no transaction costs, perfect information, rational investors). In reality, frictions like taxes, liquidity constraints, or differing investor beliefs can cause deviations from equilibrium.\n",
    "- Market inefficiencies or behavioral biases may lead to temporary mispricings, preventing perfect equilibrium.\n",
    "\n",
    "In summary, capital market equilibrium is the theoretical state where asset prices align with their risk-adjusted returns, all investors hold the market portfolio (combined with the risk-free asset), and the market clears with no unexploited opportunities for excess returns."
   ]
  },
  {
   "cell_type": "markdown",
   "id": "9a5e8a20-bc16-4a77-ba53-b5b333c2a4d1",
   "metadata": {},
   "source": []
  }
 ],
 "metadata": {
  "kernelspec": {
   "display_name": "Python 3 (ipykernel)",
   "language": "python",
   "name": "python3"
  },
  "language_info": {
   "codemirror_mode": {
    "name": "ipython",
    "version": 3
   },
   "file_extension": ".py",
   "mimetype": "text/x-python",
   "name": "python",
   "nbconvert_exporter": "python",
   "pygments_lexer": "ipython3",
   "version": "3.9.17"
  }
 },
 "nbformat": 4,
 "nbformat_minor": 5
}
