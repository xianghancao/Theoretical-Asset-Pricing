{
 "cells": [
  {
   "cell_type": "markdown",
   "id": "204826ea-a4ea-4795-a573-2a240ab9099f",
   "metadata": {},
   "source": [
    "# SPD:Discrete-Time Euler Equation"
   ]
  },
  {
   "cell_type": "markdown",
   "id": "f441ad5e-80d0-4d08-b1e0-64cb1c49560b",
   "metadata": {},
   "source": [
    "在离散时间、时间可加预期效用下，资产 $i$ 在 $t$ 期的价格 $P_{it}$ 满足：$$P_{i t}=E_{t}\\left[e^{-\\delta} \\frac{u^{\\prime}(c_{t+1})}{u^{\\prime}(c_{t})} (P_{i, t+1}+D_{i, t+1})\\right]$$"
   ]
  },
  {
   "cell_type": "markdown",
   "id": "f86c8e32-d505-46a6-bf2a-ee9d86293db0",
   "metadata": {},
   "source": []
  }
 ],
 "metadata": {
  "kernelspec": {
   "display_name": "Python 3 (ipykernel)",
   "language": "python",
   "name": "python3"
  },
  "language_info": {
   "codemirror_mode": {
    "name": "ipython",
    "version": 3
   },
   "file_extension": ".py",
   "mimetype": "text/x-python",
   "name": "python",
   "nbconvert_exporter": "python",
   "pygments_lexer": "ipython3",
   "version": "3.9.17"
  }
 },
 "nbformat": 4,
 "nbformat_minor": 5
}
