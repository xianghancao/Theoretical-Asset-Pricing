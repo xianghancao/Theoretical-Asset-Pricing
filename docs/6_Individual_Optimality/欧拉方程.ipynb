{
 "cells": [
  {
   "cell_type": "markdown",
   "id": "b73b4083-0aad-4903-a635-1d4a7704773d",
   "metadata": {},
   "source": [
    "# 欧拉方程"
   ]
  },
  {
   "cell_type": "markdown",
   "id": "38c09abe-47f9-43f0-b86f-559394549ba9",
   "metadata": {},
   "source": [
    "## 1. Definition\n",
    "\n",
    "欧拉方程（或称一阶最优条件，First-Order Condition, FOC）描述了**理性经济人**（如效用最大化的个体）在面对**不确定性**时，在**不同时间**和**不同状态**下进行消费和投资决策时必须满足的关系。\n",
    "\n",
    "它捕捉了**跨期和跨状态的边际替代**与**市场价格**之间的平衡。\n",
    "\n",
    "### 1.1 一般形式的欧拉方程\n",
    "\n",
    "对于一个风险规避、寻求最大化预期效用 $E[\\mathcal{U}(c_{0},c)]$ 的个体而言，他投资于任何资产 $i$ 的**最优条件**（即欧拉方程）为：\n",
    "\n",
    "$$P_{i} = E\\left[e^{-\\delta}\\frac{u^{\\prime}(c)}{u^{\\prime}(c_{0})}D_{i}\\right]= E\\left[\\frac{\\frac{\\partial \\mathcal{U}}{\\partial c_{1}}}{\\frac{\\partial \\mathcal{U}}{\\partial c_{0}}} D_{i}\\right]$$\n",
    "\n",
    "其中：\n",
    "* $P_{i}$ 是资产 $i$ 在 **$t=0$ 时的价格**。\n",
    "* $D_{i}$ 是资产 $i$ 在 **$t=1$ 时的分红**（包括资产售价和现金流，这是一个随机变量）。\n",
    "* $\\frac{\\partial \\mathcal{U}}{\\partial c_{t}}$ 是**边际效用**，代表在 $t$ 时的消费每增加一单位带来的效用变化。\n",
    "* $\\frac{\\frac{\\partial \\mathcal{U}}{\\partial c_{1}}}{\\frac{\\partial \\mathcal{U}}{\\partial c_{0}}}$ 是**随机折现因子**（Stochastic Discount Factor, SDF）或**状态价格平减指数**（State-Price Deflator, $\\zeta$），它衡量了个体愿意放弃**当前**一单位消费来换取**未来**一单位（状态依赖的）消费的比率。\n"
   ]
  },
  {
   "cell_type": "markdown",
   "id": "144fface-f799-4f82-b2f4-1300ceac2907",
   "metadata": {},
   "source": [
    "欧拉方程直接定义了 $\\zeta$ 为个体的主观**边际替代率**（Marginal Rate of Substitution）：\n",
    "    $$\\zeta=e^{-\\delta}\\frac{u^{\\prime}(c)}{u^{\\prime}(c_{0})}$$\n",
    "    这意味着资产价格 $P_i$ 等于其未来预期分红 $D_i$ 乘以状态价格平减指数 $\\zeta$ 的现值 $P_{i}=E[\\zeta D_{i}]$ 。"
   ]
  },
  {
   "cell_type": "markdown",
   "id": "a24de841-0b84-471b-8d61-e3c572aeb885",
   "metadata": {},
   "source": [
    "\n",
    "### 1.2. 在离散状态和时间可加效用下的形式\n",
    "\n",
    "在**单期、有限状态** ($\\Omega=\\{1,2,...,S\\}$)、且效用函数是**时间可加** ($\\mathcal{U}(c_{0},c) = u_{0}(c_{0}) + \\beta E[u_{1}(c)]$) 的模型中，欧拉方程展开为：\n",
    "\n",
    "$$P_{i} = \\sum_{\\omega \\in \\Omega} \\pi_{\\omega} \\left[ \\frac{u_{1}^{\\prime}(c_{\\omega})}{u_{0}^{\\prime}(c_{0})} \\right] D_{i,\\omega}$$\n",
    "\n",
    "其中：\n",
    "* $\\pi_{\\omega}$ 是状态 $\\omega$ 发生的**主观概率**。\n",
    "* $u_{t}^{\\prime}(c_{t}) = \\frac{\\partial u_{t}}{\\partial c_{t}}$ 是 $t$ 时的**边际效用**。\n",
    "* $D_{i,\\omega}$ 是资产 $i$ 在状态 $\\omega$ 下的分红。\n"
   ]
  },
  {
   "cell_type": "markdown",
   "id": "9232b9d5-4c45-46c4-9862-43878652df0d",
   "metadata": {},
   "source": [
    "### 1.3 经济学含义\n",
    "\n",
    "欧拉方程的核心思想是：在最优消费和投资组合下，购买任何资产所带来的**边际成本**必须等于它带来的**边际收益**：\n",
    "\n",
    "1.  **左侧 $P_{i}$ (边际成本)：** 今天（$t=0$）购买一单位资产 $i$ 需要花费的**现值**（价格）。\n",
    "2.  **右侧 $E[\\dots]$ (边际收益)：** 购买一单位资产 $i$ 在明天（$t=1$）带来的所有**预期效用收益的现值**。\n",
    "\n",
    "更具体地说，方程表明：今天的资产价格必须等于其未来现金流 $D_{i}$ 的**期望值**，该期望值是用个体主观的边际效用比率 $\\zeta = \\frac{u_{1}^{\\prime}(c_{\\omega})}{u_{0}^{\\prime}(c_{0})}$ 加权折现得到的。\n",
    "\n",
    "* **风险厌恶**（凹效用函数 $u^{\\prime\\prime}<0$）和**消费平滑**：如果个体预期某个状态 $\\omega$ 下的消费 $c_{\\omega}$ 会**很低**（即边际效用 $u_{1}^{\\prime}(c_{\\omega})$ **很高**），那么来自该状态的现金流 $D_{i,\\omega}$ 就会被赋予**更高的价值**（更高的 $\\zeta$），因为这部分现金流在个体最需要的时候出现。\n",
    "\n",
    "**总结：** 欧拉方程是资产定价的基础，它将资产价格与经济主体的**偏好**（效用函数）和**消费机会**（消费路径）紧密联系起来。"
   ]
  },
  {
   "cell_type": "markdown",
   "id": "215291b7-a2e9-4db8-9ee8-4b5b0fa1e3b4",
   "metadata": {},
   "source": []
  }
 ],
 "metadata": {
  "kernelspec": {
   "display_name": "Python 3 (ipykernel)",
   "language": "python",
   "name": "python3"
  },
  "language_info": {
   "codemirror_mode": {
    "name": "ipython",
    "version": 3
   },
   "file_extension": ".py",
   "mimetype": "text/x-python",
   "name": "python",
   "nbconvert_exporter": "python",
   "pygments_lexer": "ipython3",
   "version": "3.9.17"
  }
 },
 "nbformat": 4,
 "nbformat_minor": 5
}
