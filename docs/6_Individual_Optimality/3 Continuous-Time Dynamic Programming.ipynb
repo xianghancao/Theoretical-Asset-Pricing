{
 "cells": [
  {
   "cell_type": "markdown",
   "id": "d6f65bb8-fe77-4220-9c15-beaba317e2f1",
   "metadata": {},
   "source": [
    "# Continuous-Time Dynamic Programming"
   ]
  },
  {
   "cell_type": "markdown",
   "id": "0151cbc3-16bd-4de8-980d-4a26fe8ba33c",
   "metadata": {},
   "source": [
    "在连续时间框架下，对于时间可加预期效用，间接效用函数 $J(W, x, t)$（$W$ 为财富，$x$ 为状态变量）满足汉密尔顿-雅可比-贝尔曼（HJB）方程。最优消费率 $c_t$ 和最优投资组合权重 $\\pi_t$ 由间接效用函数的导数决定：最优消费率 (ct​) 由 边际效用 与 财富的边际效用 的逆函数给出30:$$c_{t}=I_{u}\\left(J_{W}(W_{t}, x_{t}, t)\\right)$$$I_u$: 边际效用函数 $u'$ 的逆函数。最优投资组合 (πt​) 由对冲项和风险项组成31:$$\\pi_{t}=-\\frac{J_{W}(W_{t}, x_{t}, t)}{W_{t} J_{W W}(W_{t}, x_{t}, t)}\\left(\\sigma_{t} \\sigma_{t}^{\\top}\\right)^{-1} \\lambda_{t}-\\frac{J_{W x}(W_{t}, x_{t}, t)}{W_{t} J_{W W}(W_{t}, x_{t}, t)}\\left(\\sigma_{t} \\sigma_{t}^{\\top}\\right)^{-1} \\nu_{t}$$$\\lambda_t$: 市场风险价格向量 32。$\\nu_t$: 状态变量的扩散项 33。$J_W, J_{WW}, J_{Wx}$: 间接效用函数对财富和状态变量的偏导数 34。"
   ]
  },
  {
   "cell_type": "markdown",
   "id": "0ab53927-3f8f-424d-9a96-67dd03824f2e",
   "metadata": {},
   "source": []
  }
 ],
 "metadata": {
  "kernelspec": {
   "display_name": "Python 3 (ipykernel)",
   "language": "python",
   "name": "python3"
  },
  "language_info": {
   "codemirror_mode": {
    "name": "ipython",
    "version": 3
   },
   "file_extension": ".py",
   "mimetype": "text/x-python",
   "name": "python",
   "nbconvert_exporter": "python",
   "pygments_lexer": "ipython3",
   "version": "3.9.17"
  }
 },
 "nbformat": 4,
 "nbformat_minor": 5
}
