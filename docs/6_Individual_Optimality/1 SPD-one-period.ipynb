{
 "cells": [
  {
   "cell_type": "markdown",
   "id": "7d7e3f49-d2f6-4af0-a83f-aaae041a2d5f",
   "metadata": {},
   "source": [
    "# SPD: One-period"
   ]
  },
  {
   "cell_type": "markdown",
   "id": "8284aa04-7f43-4bf0-9581-551cb1c5b7cf",
   "metadata": {},
   "source": [
    "## 1. Definition"
   ]
  },
  {
   "cell_type": "markdown",
   "id": "0644044c-f1f6-4c7f-a35d-16072ef97500",
   "metadata": {},
   "source": [
    "在单期、时间可加预期效用 ($U = u(c_0) + E[e^{-\\delta}u(c)]$) 的假设下，资产 $i$ 的价格 $P_i$ 必须满足欧拉方程，并由此定义了状态价格折现因子 $\\zeta$。"
   ]
  },
  {
   "cell_type": "markdown",
   "id": "ca63c7bc-1cdb-4a08-8c8a-c65f5c65525b",
   "metadata": {},
   "source": [
    "最优消费的边际效用比即为状态价格折现因子 。"
   ]
  },
  {
   "cell_type": "markdown",
   "id": "4bc63431-ffcb-436e-ba03-b60ff00c5028",
   "metadata": {},
   "source": [
    "For state $\\omega$,"
   ]
  },
  {
   "cell_type": "markdown",
   "id": "bff21f3f-be08-4a27-a5c0-0b89f7e83d40",
   "metadata": {},
   "source": [
    "$$\\zeta = e^{-\\delta}\\frac{u'(c)}{u'(c_0)}$$"
   ]
  },
  {
   "cell_type": "markdown",
   "id": "1a76eda3-1174-4f74-bf52-7de6ba42564e",
   "metadata": {},
   "source": [
    "$$P_i = E[\\zeta D_i] = E[e^{-\\delta}\\frac{u'(c)}{u'(c_0)}D_i]$$"
   ]
  }
 ],
 "metadata": {
  "kernelspec": {
   "display_name": "Python 3 (ipykernel)",
   "language": "python",
   "name": "python3"
  },
  "language_info": {
   "codemirror_mode": {
    "name": "ipython",
    "version": 3
   },
   "file_extension": ".py",
   "mimetype": "text/x-python",
   "name": "python",
   "nbconvert_exporter": "python",
   "pygments_lexer": "ipython3",
   "version": "3.9.17"
  }
 },
 "nbformat": 4,
 "nbformat_minor": 5
}
