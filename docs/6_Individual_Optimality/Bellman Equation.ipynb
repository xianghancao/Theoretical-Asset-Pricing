{
 "cells": [
  {
   "cell_type": "markdown",
   "id": "72cd9037-aedd-4f2d-9246-331ed2e0d67f",
   "metadata": {},
   "source": [
    "# Bellman Equation"
   ]
  },
  {
   "cell_type": "markdown",
   "id": "75cfa50a-510d-48a6-b82f-091e03e59e62",
   "metadata": {},
   "source": []
  }
 ],
 "metadata": {
  "kernelspec": {
   "display_name": "Python 3 (ipykernel)",
   "language": "python",
   "name": "python3"
  },
  "language_info": {
   "codemirror_mode": {
    "name": "ipython",
    "version": 3
   },
   "file_extension": ".py",
   "mimetype": "text/x-python",
   "name": "python",
   "nbconvert_exporter": "python",
   "pygments_lexer": "ipython3",
   "version": "3.9.17"
  }
 },
 "nbformat": 4,
 "nbformat_minor": 5
}
