{
 "cells": [
  {
   "cell_type": "markdown",
   "id": "cb533ede-a451-47da-943b-c6a0c60ad2e1",
   "metadata": {},
   "source": [
    "# FormulaSheet"
   ]
  },
  {
   "cell_type": "markdown",
   "id": "898248fe-bcbf-45bb-bef2-4e28018d1f9f",
   "metadata": {},
   "source": [
    "## 2 Stochastic Processes"
   ]
  },
  {
   "cell_type": "markdown",
   "id": "e7f51834-0ef0-415f-bf7b-c9f10f955224",
   "metadata": {},
   "source": [
    "### Law of Iterated Expectations"
   ]
  },
  {
   "cell_type": "markdown",
   "id": "fe8ebe52-5625-4280-b34f-726693f98345",
   "metadata": {},
   "source": [
    "> Thereom(Law of Iterated Expectations)\n",
    "for $t<t'$,\n",
    "> $$ E_t[Et'[X]] = E_t[X]$$"
   ]
  },
  {
   "cell_type": "markdown",
   "id": "9681e034-ee9a-486a-bfe1-44b779297a2d",
   "metadata": {},
   "source": [
    "### GBM\n",
    "$$dX_t = \\mu X_t dt + \\sigma X_t dz,$$"
   ]
  },
  {
   "cell_type": "markdown",
   "id": "c39e5f44-7df7-4e72-a742-57713a857980",
   "metadata": {},
   "source": [
    "### GBM explicit solution\n",
    "$$X_t = X_0 exp \\left\\{ \\left( \\mu -  \\frac{1}{2}\\sigma ^2\\right) dt + \\sigma dz \\right\\} $$\n",
    " $\\ln(X_t) $ follow normal distribution， $X_t$ follow log-normal distribution。"
   ]
  },
  {
   "cell_type": "markdown",
   "id": "5576a21f-5e3f-4241-a810-ac7f63dcc4ae",
   "metadata": {},
   "source": [
    "### Martingale\n",
    "变量 $x_t$ 被定义为 $x_t = E_t[F_T]$，即在 $t$ 时刻（基于 $\\mathcal{F}_t$ 信息集）对未来 $T$ 时刻现金流 $F_T$ 的（物理概率测度 $\\mathbb{P}$ 下的）条件期望。"
   ]
  },
  {
   "cell_type": "markdown",
   "id": "51de0db0-2f1f-4c57-8eb5-725c6ba76790",
   "metadata": {},
   "source": [
    "## 3 State Prices"
   ]
  },
  {
   "cell_type": "markdown",
   "id": "7ffb54dd-8c82-43fb-99b5-bac697e56855",
   "metadata": {},
   "source": [
    "#### Call Option Payoff： \n",
    "$$\\max(S_T - K, 0)$$\n",
    "$S_T$ 是到期时标的资产价格， $K$ 是执行价格"
   ]
  },
  {
   "cell_type": "markdown",
   "id": "43471d4c-f69c-4ce6-b98f-c913bafaa2fb",
   "metadata": {},
   "source": [
    "#### Arrow-Debreu security\n",
    "called state security, primitive security, pure security, state contingent claims) pays 1 unit if state $ s $ occurs and 0 otherwise. Its payoff vector is:\n",
    "$$\\mathbf{e}_s = \\begin{pmatrix} D_{1} \\\\ D_{2} \\\\ \\vdots \\\\ D_{s} \\\\ \\vdots \\\\ D_{S} \\end{pmatrix}\n",
    "= \\begin{pmatrix} 0 \\\\ 0 \\\\ \\vdots \\\\ 1 \\\\ \\vdots \\\\ 0 \\end{pmatrix} \\quad (\\text{1 in position } s)$$\n"
   ]
  },
  {
   "cell_type": "markdown",
   "id": "73ee832e-64a0-4a73-83b7-57b819e64d24",
   "metadata": {},
   "source": [
    "#### State Pricing\n",
    "$$\\mathbf{P} = \\mathbf{D}^T \\mathbf{\\psi} $$\n",
    "$$\\begin{pmatrix} P_1 \\\\ P_2 \\\\ \\vdots \\\\ P_N \\end{pmatrix}  = \\begin{pmatrix}\n",
    "D_{1,1} & \\cdots & D_{1,N} \\\\\n",
    "D_{2,1} & \\cdots & D_{2,N} \\\\\n",
    "\\vdots & \\ddots & \\vdots \\\\\n",
    "D_{S,1} & \\cdots & D_{S,N}\n",
    "\\end{pmatrix} ^ T \n",
    "\\begin{pmatrix} \\psi_1 \\\\ \\psi_2 \\\\ \\vdots \\\\ \\psi_S \\end{pmatrix}$$\n",
    "For $ N $ assets, the state-contingent payoffs are stacked in an $ S \\times N $ matrix $ \\mathbf{D} $."
   ]
  },
  {
   "cell_type": "markdown",
   "id": "407d7c09-ca91-4d2c-9953-e9082325166a",
   "metadata": {},
   "source": [
    "### Portfolio\n",
    "$$\\mathbf{D}_{portfolio}  = \\mathbf{D}_{asset}*\\theta = \\begin{pmatrix}\n",
    "D_{1,1} & \\cdots & D_{1,N} \\\\\n",
    "D_{2,1} & \\cdots & D_{2,N} \\\\\n",
    "\\vdots & \\ddots & \\vdots \\\\\n",
    "D_{S,1} & \\cdots & D_{S,N}\n",
    "\\end{pmatrix}  \\begin{pmatrix}\n",
    "\\theta_1 \\\\\n",
    "\\theta_2 \\\\\n",
    "\\vdots \\\\\n",
    "\\theta_N \\\\\n",
    "\\end{pmatrix}$$"
   ]
  },
  {
   "cell_type": "markdown",
   "id": "dd41e72f-bd7e-4d03-8330-f9ed6a32c871",
   "metadata": {},
   "source": [
    "### Law of One Price (LOP) \n",
    "If $ P(\\mathbf{D}_1) $ is the current price of an asset with payoff vector $ \\mathbf{D}_1 $, the LOP implies a <u>linear pricing rule</u> where the price of a portfolio of assets is the weighted sum of the individual asset prices: $$ P(\\theta_1 \\mathbf{D}_1 + \\theta_2 \\mathbf{D}_2) = \\theta_1 P(\\mathbf{D}_1) + \\theta_2 P(\\mathbf{D}_2) $$, with $ \\theta_1 $ and $ \\theta_2 $ representing the amounts invested in assets 1 and 2, respectively.\n",
    "\n",
    "<center><b> Law of one price(LOP) holds $ \\Leftrightarrow $ Existence of state prices </b></center>"
   ]
  },
  {
   "cell_type": "markdown",
   "id": "fdf97f74-4cc7-4a9b-8cf2-23a2f0033d20",
   "metadata": {},
   "source": [
    "### Market Completeness\n",
    "> *Theorem (Market Completeness)*\n",
    "Unique state prices exist if the payoff matrix $ \\mathbf{D} $ has rank $ S $ (i.e., $ \\text{rank}(\\mathbf{D}) = S $), meaning there are at least $ S $ linearly independent assets. In this case, $ \\mathbf{D} $ is invertible (if square), and state prices are:\n",
    "$$\\mathbf{\\psi} = (\\mathbf{D}^T)^{-1} \\mathbf{P}$$\n",
    "\n",
    "The implication works in both directions:\n",
    "<center><b>Market Completeness $ \\Leftrightarrow $ Unique of state prices</b></center>\n",
    "also,\n",
    "<center><b>Market Completeness $ \\Leftrightarrow $Perfect Replication of existed portfolio</b></center>\n",
    "<center><b>$\\mathbf{D}$ is full-rank$ \\Leftrightarrow $ Unique of state prices</b></center>\n",
    "all in all, <center><b>$\\mathbf{D}$ is full-rank (invertible、行列式不等于0)$ \\Leftrightarrow $ Unique of state prices $ \\Leftrightarrow $ Market Completeness</b></center>\n"
   ]
  },
  {
   "cell_type": "markdown",
   "id": "cadd64da-151c-4bbb-b63e-4fd753ea4315",
   "metadata": {},
   "source": [
    "### Incomplete markets \n",
    "\n",
    "\n",
    "It is defined by the payoff matrix $ D $ having a rank less than $ S $ (the number of states), i.e., $ \\text{rank}(D) < S $. This means the market cannot fully replicate all possible payoff patterns, and the matrix $ D $ is not invertible. \n",
    "\n",
    "As a result, state prices ($ \\psi $) are not unique, and while the Law of One Price may still hold, new assets with non-replicable payoffs cannot be priced uniquely."
   ]
  },
  {
   "cell_type": "markdown",
   "id": "c95e15d6-fcde-4f55-b47c-a6fcb5034713",
   "metadata": {},
   "source": [
    "### Absence of arbitrage\n",
    "> *Theorem (The positivity of state prices)*\n",
    "If there are no arbitrage opportunities on the market, then the state prices will be\n",
    "strictly positive.\n",
    "\n",
    "The implication works in both directions:  \n",
    "<center><b>Absence of arbitrage $ \\Leftrightarrow $ Positivity of state price</b></center>  \n"
   ]
  },
  {
   "cell_type": "markdown",
   "id": "bfbdb04d-f178-4c50-a6f5-7dc9e6d371f0",
   "metadata": {},
   "source": [
    "### Risk-Neutral Probabilities"
   ]
  },
  {
   "cell_type": "markdown",
   "id": "3f783db1-a892-4ebe-bfad-c719a90a315b",
   "metadata": {},
   "source": [
    "#### $\\mathbb{P}$  \n",
    "In financial modeling, the price of any asset today ($P_0$) is its expected future payoff ($E[D_1]$) discounted at a required rate of return ($r$):\n",
    "$$P_0 = \\frac{E^{\\mathbb{P}}[D_1]}{1+r}$$\n",
    "where $\\mathbb{P}$ is the true (physical) probability measure, and $r$ is a risk-adjusted discount rate.\n"
   ]
  },
  {
   "cell_type": "markdown",
   "id": "789d4f21-0542-4597-8603-bdea320c84d9",
   "metadata": {},
   "source": [
    "#### $\\mathbb{Q}$  \n",
    "The risk-neutral pricing formula simplifies this:\n",
    "$$P_0 = \\frac{E^{\\mathbb{Q}}[D_1]}{1+r_f}$$\n",
    "where $\\mathbb{Q}$ is the risk-neutral probability measure (the set of risk-neutral probabilities $\\mathbf{q}$), and $r_f$ is the risk-free rate.\n",
    "By adjusting the probabilities from the real-world $\\mathbb{P}$ to the risk-neutral $\\mathbb{Q}$, we no longer need to adjust the discount rate for risk; all assets have the same expected return, $r_f$.\n"
   ]
  },
  {
   "cell_type": "markdown",
   "id": "b7a21f30-135f-43e5-8d5f-e8acf694b38f",
   "metadata": {},
   "source": [
    "### Risk-Neutral Pricing\n",
    "> *Theorem (Risk-Neutral Pricing)*\n",
    "The prices of financial assets can be calculated by:\n",
    "$$P = \\frac{E^\\mathbb{Q}(\\mathbf{D}_s)}{1 + r_f} = \\frac{\\sum_s^S q_s * D_s}{1+ r_f}$$\n",
    "where $   E^\\mathbb{Q}(\\mathbf{D}_s)   $ is the expectation of the asset's payoffs obtained using the risk-neutral probabilities, $s= 0,...,S$ is the states, $q_i$ is the risk-neutral probabilities of state $s$, and $   r_f   $ is the risk-free rate of return.  \n",
    "Furthermore, the expected return on any asset, evaluated using the risk-neutral probabilities, equals the risk-free rate of return:\n",
    "$$E^\\mathbb{Q}(r_i) = r_f$$"
   ]
  },
  {
   "cell_type": "markdown",
   "id": "57cea333-e899-4850-9110-33e19bb4d5a9",
   "metadata": {},
   "source": [
    "### Existence & Unique of $\\mathbb{Q}$ \n",
    "> ***Theorem (Existence of a risk-neutral probability measure)**####  \n",
    "A risk-neutral probability measure exists if and only if prices admit no arbitrage.\n",
    "The implication works in both directions:  \n",
    "<center><b>$\\mathbb{Q}$ exists $ \\Leftrightarrow $ Absence of arbitrage</b></center>\n",
    "\n",
    "<center><b>$\\mathbb{Q}$ is unique $ \\Leftrightarrow $ market is complete</b></center>\n",
    "\n"
   ]
  },
  {
   "cell_type": "markdown",
   "id": "c681bce4-9bde-45b9-957a-a453b32d8d73",
   "metadata": {},
   "source": [
    "### Multiple $ \\mathbb{Q}$s\n",
    "<center><b>multiple $ \\mathbb{Q}$s $ \\Leftrightarrow $ Absence of arbitrage $ \\Leftrightarrow $ market is incomplete</b></center>\n",
    "\n",
    "\n",
    "$$V_{min} = \\inf_Q E^Q \\left[ \\frac{V_T}{B_T} \\right] $$\n",
    "$$V_{max} = \\sup_Q E^Q \\left[ \\frac{V_T}{B_T} \\right]$$\n",
    "无套利原则本身只能确定一个价格区间，即由所有风险中性测度给出的价格的最小值和最大值所构成的区间 $[V_{min}, V_{max}]$，在这个区间内任何价格都是无套利的。"
   ]
  },
  {
   "cell_type": "markdown",
   "id": "c80201fc-ff75-4429-9a4f-8c711f5d3f23",
   "metadata": {},
   "source": [
    "## 4 SPD"
   ]
  },
  {
   "cell_type": "markdown",
   "id": "883a79d2-2907-4047-b718-968a13f59b85",
   "metadata": {},
   "source": [
    "### One-period SPD\n",
    "For an asset with state-contingent payoffs $ D_i = (D_{1,i}, D_{2,i}, \\ldots, D_{S,i}) $, since state price $\\psi_s$:\n",
    "$$\\psi_s = \\pi_s \\zeta_s $$, its price is:\n",
    "$$P_i = \\sum_{s=1}^S \\psi_s D_{s,i} = \\sum_{s=1}^S \\pi_s \\zeta_s D_{s,i}$$\n",
    "\n",
    "$$P_i = \\text{E}[\\zeta D_i]$$\n",
    "\n",
    "$\\pi_s$: probability of state $s$, $\\zeta$: SPD, $D_{s,i}$: payoffs from asset $i$ at state $s$\n",
    "\n"
   ]
  },
  {
   "cell_type": "markdown",
   "id": "33d59e69-f16a-4c5f-9658-bccfdb68f98b",
   "metadata": {},
   "source": [
    "#### compact format\n",
    "$$\\mathbf{P} = \\text{E}[\\zeta \\mathbf{D}]$$"
   ]
  },
  {
   "cell_type": "markdown",
   "id": "82901045-5409-4b03-83e6-bedfe734dbcc",
   "metadata": {},
   "source": [
    "\"Good State\": Low $\\zeta$, \"Bad State\": High $\\zeta$\n",
    "\n"
   ]
  },
  {
   "cell_type": "markdown",
   "id": "c4193d32-b3e2-470f-9d0d-ac99c8a5126e",
   "metadata": {},
   "source": [
    "\n",
    "\n",
    "$$\\frac{P_i}{P_i} = \\text{E}[\\zeta\\frac{D_i}{P_i}]$$\n",
    "\n",
    "In terms of returns ($ R_i = \\frac{D_i}{P_i} $):\n",
    "$$1 = \\text{E}[\\zeta R_i]$$\n",
    "\n"
   ]
  },
  {
   "cell_type": "markdown",
   "id": "ef0ff226-c539-4328-8682-7f917a97789a",
   "metadata": {},
   "source": [
    "#### Covariance format\n",
    "from covariance formula\n",
    "$$\\text{Cov}[\\zeta, D_i] = E[\\zeta D_i] - E[\\zeta]E[D_i]$$\n",
    "we can get\n",
    "$$P_i = E[\\zeta D_i]= \\text{E}[\\zeta]\\text{E}[D_i] + \\text{Cov}[\\zeta, D_i]$$\n",
    "the gross return $R_i$,\n",
    "$$1 = E[\\zeta R_i] = E[\\zeta]E[R_i] + Cov[\\zeta, R_i]$$\n",
    "$$\\text{E}[R_i] = \\frac{1}{\\text{E}[\\zeta]} - \\frac{\\text{Cov}[R_i, \\zeta]}{\\text{E}[\\zeta]}$$"
   ]
  },
  {
   "cell_type": "markdown",
   "id": "9413dc24-4c0f-429f-8bb0-f1d905a90c50",
   "metadata": {},
   "source": [
    "#### Risk-free return\n",
    "Risk-free(gross) return $R^f$ 是对期末支付 $1$ 且不依赖于状态的资产（即无风险资产, $D=1$, $ P^f=\\text{E}[\\zeta]D = \\text{E}[\\zeta]$）:\n",
    "$$ \\frac{P^f}{P^f}=\\text{E}[\\zeta\\frac{D}{P^f}] = \\text{E}[\\zeta R^f]$$\n",
    "$$1 = \\text{E}[\\zeta R^f] = \\text{E}[\\zeta] * R^f$$\n",
    "$$R^f = \\frac{1}{\\text{E}[\\zeta]} = \\frac{1}{P^f} $$\n"
   ]
  },
  {
   "cell_type": "markdown",
   "id": "c5eecb52-073c-45ab-9b34-c25696fa7ab3",
   "metadata": {},
   "source": [
    "#### Risk Premium\n",
    "$$E[R_i] - R^f$$"
   ]
  },
  {
   "cell_type": "markdown",
   "id": "4b173c50-08cc-4287-b42c-ff96fcf9ff8d",
   "metadata": {},
   "source": [
    "#### Sharpe Ratio"
   ]
  },
  {
   "cell_type": "markdown",
   "id": "557026fc-f005-4b9b-9da1-0c07ce1ba16e",
   "metadata": {},
   "source": [
    "$$\\frac{E[R_i] - R^f}{\\sigma[R_i]} = -Corr[R_i, \\zeta]\\frac{\\sigma[\\zeta]}{E[\\zeta]}$$"
   ]
  },
  {
   "cell_type": "markdown",
   "id": "67760e86-9a4a-4b10-b05c-6b37ff54a312",
   "metadata": {},
   "source": [
    "If $-Corr[R_i, \\zeta] > 0$, which means $R_i$  and $\\zeta$ opposite relationship, e.g. \"Good State\" (low $\\zeta$) happens, asset return will be very high; \"Bad State\"(high $\\zeta$) happens, asset return will be very llow."
   ]
  },
  {
   "cell_type": "markdown",
   "id": "587c8abe-4dc9-4148-9e36-5383320261cd",
   "metadata": {},
   "source": [
    "### Discrete-period SPD\n"
   ]
  },
  {
   "cell_type": "markdown",
   "id": "d52c9917-4000-482e-ae38-bfd1d4f47b7f",
   "metadata": {},
   "source": [
    "$$\n",
    "P_t = E_t\\left[\\sum^T_{s=t+1}D_s\\frac{\\zeta_{s}}{\\zeta_t}\\right]\n",
    "$$"
   ]
  },
  {
   "cell_type": "markdown",
   "id": "624850a2-69c9-49b0-857a-6dea2f49f827",
   "metadata": {},
   "source": [
    "当对初始时刻$t=0$进行定价时,\n",
    "$$\n",
    "P_0 = E_0\\left[\\sum^T_{s=1}D_s\\zeta_{s}\\right], \\zeta_0=1\n",
    "$$"
   ]
  },
  {
   "cell_type": "markdown",
   "id": "77aa2691-7dec-495f-8390-b162fe4d575b",
   "metadata": {},
   "source": [
    "根据折现因子的定义：\n",
    "- $s$时刻到$t=0$的折现因子: $\\zeta_s$\n",
    "- $t$时刻到$t=0$的折现因子: $\\zeta_t$\n",
    "\n",
    "当对中间时刻$t(t>0)$进行定价时，那么从$s$时刻($s>t$)的现金流$D_s$折现到当前时刻$t$, 其折现因子是: $$\\frac{\\zeta_s}{\\zeta_t}$$"
   ]
  },
  {
   "cell_type": "markdown",
   "id": "cd95731a-4c84-4d2e-9597-cab756019915",
   "metadata": {},
   "source": [
    "#### Zero-Coupon Bond\n",
    "\n",
    "零息债券是一种最简单的债券。\n",
    "\n",
    "* **定义：** 它在存续期内不支付任何利息（息票）。\n",
    "* **现金流：** 它只在**到期日 $s$** 支付一次现金流，即**面值 $F$**（在您的练习题中 $F=1$）。\n",
    "\n",
    "由于零息债券的现金流发生在**单一时间点 $s$**，所以我们只需要对这一笔现金流进行折现，而**不需要对多个现金流求和**。\n",
    "\n",
    "**零息债券价格公式：**\n",
    "$$B_t^s = \\mathbb{E}_t \\left[ \\mathbf{1} \\cdot \\frac{\\zeta_s}{\\zeta_t} \\right]$$\n",
    "（其中 $1$ 是到期日 $s$ 的现金流 $D_s$）\n",
    "\n"
   ]
  },
  {
   "cell_type": "markdown",
   "id": "de8cf8d0-9933-4d78-a23d-92c78e3ad557",
   "metadata": {},
   "source": [
    "#### General Asset（Coupon Bond、Stock)\n",
    "\n",
    "一般资产（例如附息债券或股票）在存续期内会支付**多笔现金流**。\n",
    "\n",
    "* **附息债券（Coupon Bond）：** 在 $t+1, t+2, \\dots, T$ 时刻支付息票 $C$ 和在 $T$ 时刻支付面值 $F$。\n",
    "* **股票：** 在 $t+1, t+2, \\dots$ 时刻支付股息 $D_s$。\n",
    "\n",
    "对于这些资产，其当前价格是**未来所有现金流**的折现现值之和。\n",
    "\n",
    "**一般资产定价公式：**\n",
    "$$P_t = \\mathbb{E}_t \\left[ \\sum_{s=t+1}^{T} D_s \\frac{\\zeta_s}{\\zeta_t} \\right]$$\n",
    "\n",
    "\n",
    "\n",
    "| 资产类型 | 现金流发生次数 | 现金流 $D_s$ | 定价公式是否需要求和 |\n",
    "| :---: | :---: | :---: | :---: |\n",
    "| **零息债券** ($B_t^s$) | **一次** (到期日 $s$) | 仅 $D_s=1$ | **不需要求和** |\n",
    "| **一般资产** ($P_t$) | **多次** ($t+1$ 到 $T$) | $D_{t+1}, D_{t+2}, \\dots$ | **需要求和** |\n",
    "\n",
    "因此，零息债券的价格公式是更一般资产定价公式中**只取一项**（对应于到期日 $s$ 的现金流）的特殊情况。"
   ]
  },
  {
   "cell_type": "markdown",
   "id": "776c724b-8caa-4600-a0ba-3f67c8befefa",
   "metadata": {},
   "source": [
    "#### Continuously compounded risk-free rate\n",
    "$$e^{r^f} = 1/E_t\\left[ \\frac{\\zeta_{t+1}}{\\zeta_t} \\right]$$\n",
    "or $$r^f = -\\text{ln}E_t\\left[ \\frac{\\zeta_{t+1}}{\\zeta_t} \\right]$$"
   ]
  },
  {
   "cell_type": "markdown",
   "id": "c72299e3-5032-4bb1-a833-69889b08d65b",
   "metadata": {},
   "source": [
    "## 5 Utility"
   ]
  },
  {
   "cell_type": "markdown",
   "id": "cd91e474-1e86-46b7-bf92-5f426e754826",
   "metadata": {},
   "source": [
    "### Marginal Utility"
   ]
  },
  {
   "cell_type": "markdown",
   "id": "44296cce-55d8-4084-b140-9ee4e5c559db",
   "metadata": {},
   "source": [
    "Marginal utility describes the additional satisfaction or benefit a consumer gains from consuming one more unit of a good or service $c$."
   ]
  },
  {
   "cell_type": "markdown",
   "id": "af5fc017-9aaf-4389-b907-6a03e50b6034",
   "metadata": {},
   "source": [
    "$$ MU = U'(c)= \\frac{dU}{dc}$$"
   ]
  },
  {
   "cell_type": "markdown",
   "id": "4637625f-5c8f-4887-9d33-01846539005c",
   "metadata": {},
   "source": [
    "### Utility Index"
   ]
  },
  {
   "cell_type": "markdown",
   "id": "afdb95ed-d152-4760-822f-219e993030ac",
   "metadata": {},
   "source": [
    "### Expected Utility"
   ]
  },
  {
   "cell_type": "markdown",
   "id": "e247218c-bcbe-427d-abbf-606c097b3c2c",
   "metadata": {},
   "source": [
    "\n",
    "Von Neumann-Morgenstern (VNM) Utility:\n",
    "\n",
    "If preferences satisfy these axioms, they can be represented by an expected utility function:\n",
    "$$V(\\pi_1, ..., \\pi_n) = \\sum_{i=1}^n \\pi_i U_i$$\n",
    "where $ U_i $ is the utility of outcome $ x_i $.\n",
    "\n"
   ]
  },
  {
   "cell_type": "markdown",
   "id": "94eaaac8-2d34-44c2-9b2d-6f57c0e8f608",
   "metadata": {},
   "source": [
    "### Certainty Equivalent"
   ]
  },
  {
   "cell_type": "markdown",
   "id": "ff64cace-ac0f-417d-9876-0c23cefc583b",
   "metadata": {},
   "source": [
    "确定等价物 $c^*$ 是指一个人能无风险地获得与风险消费计划相同的预期效用水平的消费量，换句话，它是指一个确定的消费水平，它能带来与不确定消费计划相同的期望效用。它的定义如下："
   ]
  },
  {
   "cell_type": "markdown",
   "id": "b08899d2-494e-46dc-883f-a3e7140f1ca4",
   "metadata": {},
   "source": [
    "$$u(c^*) = E[u(c)]$$"
   ]
  },
  {
   "cell_type": "markdown",
   "id": "4cd1af9f-91bc-41a2-a464-c79daf7c3c38",
   "metadata": {},
   "source": [
    "### Risk Premium"
   ]
  },
  {
   "cell_type": "markdown",
   "id": "a6c972cc-6c87-4087-989b-c58bb7892c6a",
   "metadata": {},
   "source": [
    "风险溢价 (RP) 是指为了放弃不确定消费计划而接受确定性等价消费所必须获得的补偿。换句话说，它是期望消费与确定性等价之间的差额。"
   ]
  },
  {
   "cell_type": "markdown",
   "id": "76a2cecd-44f8-437f-b4fe-86a2bd5fd5b8",
   "metadata": {},
   "source": [
    "<center>Risk premium = Expectation of consumption - certainty equivalent</center>"
   ]
  },
  {
   "cell_type": "markdown",
   "id": "7aacf412-94ae-4620-8e67-d3d904867c24",
   "metadata": {},
   "source": [
    "$$\\lambda(c)= E[c] - c^*$$"
   ]
  },
  {
   "cell_type": "markdown",
   "id": "ead59bc2-206c-4908-b094-6b6b38017b38",
   "metadata": {},
   "source": [
    "$$E[u(c)] = u(c^*) = u(E[c] - \\lambda(c))$$"
   ]
  },
  {
   "cell_type": "markdown",
   "id": "94a5277c-1010-4922-a856-06efa543219b",
   "metadata": {},
   "source": [
    "通常，我们更关心相对风险溢价 (relative risk premium)，它以期望消费的百分比表示：\n",
    "$$\\text{相对风险溢价} = \\frac{\\lambda(c)}{E[c]}$$\n"
   ]
  },
  {
   "cell_type": "markdown",
   "id": "ebb0cc58-1aac-4643-828c-de81be177d2e",
   "metadata": {},
   "source": [
    "### Power Utility\n",
    "$$u(c) = \\frac{c^{1-\\gamma}}{1-\\gamma}$$, where $\\gamma >0$ and $\\gamma \\neq i$.\n",
    "\n",
    "$$u'(c) = c^{-\\gamma}$$ \n",
    "$$u''(c) = -\\gamma c^{-\\gamma - 1}$$\n",
    "$$u'''(c)=\\gamma(\\gamma+1)c^{-\\gamma-2}$$\n",
    "$$c_t^2\\frac{u'''(c)}{u'(c)}= \\gamma(\\gamma+1)$$\n"
   ]
  },
  {
   "cell_type": "markdown",
   "id": "630ed413-2831-40b4-baf3-e774e43b57d4",
   "metadata": {},
   "source": [
    "### Absolute Risk Aversion(ARA)\n",
    "\n",
    "衡量对**给定金额**风险的厌恶程度：\n",
    "\n",
    "$$\\text{ARA}(c) = - \\frac{u''(c)}{u'(c)}$$ \n",
    "for power utility, $\\text{ARA}(c) = - \\frac{u''(c)}{u'(c)} = \\frac{\\gamma}{c}$"
   ]
  },
  {
   "cell_type": "markdown",
   "id": "e35a713c-f253-45a9-826d-c8e1c8dd7cd4",
   "metadata": {},
   "source": [
    "### Relative Risk Aversion(RRA)\n",
    "\n",
    "衡量对**给定比例**风险的厌恶程度：\n",
    "\n",
    "$$\\text{RRA}(c) = - \\frac{c u''(c)}{u'(c)} = c \\cdot \\text{ARA}(c)$$ \n",
    "\n",
    "其中：\n",
    "* $c$：消费水平。\n",
    "* $u'(c)$：效用函数的一阶导数（边际效用），假设为正 ($u'(c)>0$)。\n",
    "* $u''(c)$：效用函数的二阶导数，对于风险厌恶的个体为负 ($u''(c)<0$)。\n"
   ]
  },
  {
   "cell_type": "markdown",
   "id": "fb9bfbaf-0cc8-479b-accb-e346a79689b0",
   "metadata": {},
   "source": [
    "### Risk Aversion == Concave"
   ]
  },
  {
   "cell_type": "markdown",
   "id": "cd5ed04e-ddd6-4285-9f2a-3fe488ec33e3",
   "metadata": {},
   "source": [
    "如果一个函数 $u(c)$ 是凹的，那么对于函数上任意两点 $A=(c_1, u(c_1))$ 和 $B=(c_2, u(c_2))$，连接 $A$ 和 $B$ 的线段（弦）上的点，都位于函数图像的下方。用公式表达就是：对于任意 $c_1, c_2$ 以及 $0 < \\alpha < 1$，函数满足：$$u(\\alpha c_1 + (1-\\alpha) c_2) \\ge \\alpha u(c_1) + (1-\\alpha) u(c_2)$$"
   ]
  },
  {
   "cell_type": "markdown",
   "id": "080c6ecf-3e53-43ac-984b-ec0d562ddff3",
   "metadata": {},
   "source": [
    "### Risk-averse Invstor\n",
    "- They perfer risk-free asset\n",
    "- "
   ]
  },
  {
   "cell_type": "markdown",
   "id": "a1a501cb-af16-4214-97c2-294329b8bfcd",
   "metadata": {},
   "source": [
    "## 6 Individual Optimality"
   ]
  },
  {
   "cell_type": "markdown",
   "id": "6781b60e-1dc4-4db5-bbc2-b2a71d445db5",
   "metadata": {},
   "source": [
    "### One-period Framework"
   ]
  },
  {
   "cell_type": "markdown",
   "id": "0a5c6d87-c9e8-48cf-bd6a-870cb8b95a15",
   "metadata": {},
   "source": [
    "在单期、时间可加预期效用 ($U = u(c_0) + E[e^{-\\delta}u(c)]$) 的假设下，资产 $i$ 的价格 $P_i$ 必须满足欧拉方程，并由此定义了状态价格折现因子 $\\zeta$。"
   ]
  },
  {
   "cell_type": "markdown",
   "id": "bd0483ce-e6f2-43b0-8b3a-9a0418efe227",
   "metadata": {},
   "source": [
    "最优消费的边际效用比即为状态价格折现因子 。"
   ]
  },
  {
   "cell_type": "markdown",
   "id": "6d84b5e1-1dc4-4abb-a502-bbd72d7febee",
   "metadata": {},
   "source": [
    "For state $\\omega$,"
   ]
  },
  {
   "cell_type": "markdown",
   "id": "0a727f47-b2b2-4515-810d-ec2c1dcbdbbe",
   "metadata": {},
   "source": [
    "$$\\zeta = e^{-\\delta}\\frac{u'(c)}{u'(c_0)}$$"
   ]
  },
  {
   "cell_type": "markdown",
   "id": "9fb9f4f9-ae12-4492-b167-6e060a40cced",
   "metadata": {},
   "source": [
    "$$P_i = E[\\zeta D_i] = E[e^{-\\delta}\\frac{u'(c)}{u'(c_0)}D_i]$$"
   ]
  },
  {
   "cell_type": "markdown",
   "id": "58ef1531-e060-404c-9c75-358a7441ce94",
   "metadata": {},
   "source": [
    "### The Discrete-Time Framework"
   ]
  },
  {
   "cell_type": "markdown",
   "id": "c6365c9c-d314-4962-b1de-477be4b75ced",
   "metadata": {},
   "source": [
    "在离散时间、时间可加预期效用下，资产 $i$ 在 $t$ 期的价格 $P_{it}$ 满足：$$P_{i t}=E_{t}\\left[e^{-\\delta} \\frac{u^{\\prime}(c_{t+1})}{u^{\\prime}(c_{t})} (P_{i, t+1}+D_{i, t+1})\\right]$$"
   ]
  },
  {
   "attachments": {},
   "cell_type": "markdown",
   "id": "b8e49113-37b4-47ed-bb22-c91c4dfecaef",
   "metadata": {},
   "source": [
    "可以从个体的最优消费过程定义一个状态价格平减指数 $\\zeta = (\\zeta_t)_{t \\in T}$，其中 $\\zeta_0 = 1$ 且\n",
    "\n",
    "$$\\frac{\\zeta_{t+1}}{\\zeta_t} = \\frac{e^{-\\delta} u'(c_{t+1})}{u'(c_t)},$$\n",
    "\n",
    "* 这意味着\n",
    "\n",
    "$$\\zeta_t = \\frac{\\zeta_t}{\\zeta_{t-1}} \\frac{\\zeta_{t-1}}{\\zeta_{t-2}} \\cdots \\frac{\\zeta_1}{\\zeta_0} = e^{-\\delta} \\frac{u'(c_t)}{u'(c_{t-1})} \\cdot e^{-\\delta} \\frac{u'(c_{t-1})}{u'(c_{t-2})} \\cdots e^{-\\delta} \\frac{u'(c_1)}{u'(c_0)} = e^{-\\delta t} \\frac{u'(c_t)}{u'(c_0)}.$$\n",
    "\n",
    "\n",
    "**Theorem 6.6** In a discrete-time, arbitrage-free economy with a single consumption good, let $\\delta$ be the time preference rate and $u$ the utility function of an individual with time-additive expected utility. If $c = (c_t)_{t \\in T}$ denotes the optimal consumption plan of the individual, then the process $\\zeta = (\\zeta_t)_{t \\in T}$ defined by\n",
    "\n",
    "$$\\zeta_t = e^{-\\delta t} \\frac{u'(c_t)}{u'(c_0)}, \\quad t = 0, 1, \\dots, T, \\tag{6.27}$$\n",
    "\n",
    "is a state-price deflator."
   ]
  },
  {
   "cell_type": "markdown",
   "id": "becc9580-9edf-4255-af07-fc5178c74476",
   "metadata": {},
   "source": [
    "## 7 Equilibrium"
   ]
  },
  {
   "cell_type": "markdown",
   "id": "687f2c45-1b39-4ded-8167-d32481abd74f",
   "metadata": {},
   "source": [
    "## 8 CCAMP"
   ]
  },
  {
   "cell_type": "markdown",
   "id": "963f1c63-bd45-4e2a-a660-10e66cfe9cef",
   "metadata": {},
   "source": [
    "####  SPD: Continuous-time \n",
    "  $$\\zeta_{t}=e^{-\\delta t}\\frac{u^{\\prime}(c_{t})}{u^{\\prime}(c_{0})}$$其中 $\\delta$ 是主观贴现率， $u'(c_t)$ 是 $t$ 时刻消费 $c_t$ 的边际效用\n",
    "####  time-additive expected utility\n",
    "####  consumption dynamics: $$dc_{t}=c_{t}[\\mu_{ct}dt+\\sigma_{ct}^{\\top}dz_{t}]$$"
   ]
  },
  {
   "cell_type": "markdown",
   "id": "02349e31-b9b3-4e7b-8688-e24b2bc8794c",
   "metadata": {},
   "source": [
    "#### Risk-free short-term interest rate $r^f_t$"
   ]
  },
  {
   "cell_type": "markdown",
   "id": "4b68c9ca-c457-472c-901e-d7127f2db901",
   "metadata": {},
   "source": [
    "#### excess expected rate of return\n",
    "在没有套利机会的连续时间模型中，任何风险资产 $i$ 的瞬时预期总收益（包括资本利得 $\\mu_{it}$ 和股息 $\\delta_{it}$）与其风险由以下方程关联：$$(\\mu_{it} + \\delta_{it}) - r_t^f = \\sigma_{it}^T \\lambda_t$$其中：$\\mu_{it} + \\delta_{it} - r_t^f$ 是资产 $i$ 的瞬时超额预期收益率（风险溢价）。$\\sigma_{it}$ 是资产 $i$ 价格过程的瞬时波动率（敏感性）向量。$\\lambda_t$ 是风险的市场价格向量"
   ]
  },
  {
   "attachments": {},
   "cell_type": "markdown",
   "id": "babcee0f-1605-43b5-95fb-cc6bacf87abf",
   "metadata": {},
   "source": [
    "\n",
    "#### Theorem 8.3\n",
    "Assume a continuous-time economy in which the optimal consumption process of an individual with time-additive expected utility satisfies Eq. (8.21). Then the continuously compounded **risk-free short-term interest rate** is\n",
    "\n",
    "$$r_t^f = \\delta + \\gamma(c_t)\\mu_{c_t} - \\frac{1}{2}\\eta(c_t) \\Vert\\sigma_{c_t}\\Vert^2, \\tag{8.22}$$\n",
    "\n",
    "where $\\gamma(c_t) = -c_t u''(c_t) / u'(c_t)$ and $\\eta(c_t) = c_t^2 u'''(c_t) / u'(c_t)$. The **market price of risk process** is\n",
    "\n",
    "$$\\lambda_t = \\gamma(c_t) \\sigma_{c_t}, \\tag{8.23}$$\n",
    "\n",
    "which implies that the **excess expected rate of return** on asset $i$ over the instant following time $t$ can be written as\n",
    "\n",
    "$$\\mu_{it} + \\delta_{it} - r_t^f = \\gamma(c_t) \\sigma_{it} \\sigma_{c_t}^\\top = \\gamma(c_t) \\rho_{ic_t} \\Vert\\sigma_{it}\\Vert \\Vert\\sigma_{c_t}\\Vert. \\tag{8.24}$$"
   ]
  },
  {
   "cell_type": "markdown",
   "id": "a33d7dfb-28be-40ef-b4f5-26df5e5e18d8",
   "metadata": {},
   "source": [
    "## 9 Advanced CCAMP"
   ]
  },
  {
   "cell_type": "markdown",
   "id": "c8595992-24e1-4712-8783-497dee532940",
   "metadata": {},
   "source": [
    "## 10 Factors"
   ]
  },
  {
   "cell_type": "markdown",
   "id": "a18cb280-036c-4c0b-a1d9-8ce947f45a00",
   "metadata": {},
   "source": [
    "### One-period Framework"
   ]
  },
  {
   "cell_type": "markdown",
   "id": "80c54fb4-45d9-42e1-ab93-72c3c2b55e06",
   "metadata": {},
   "source": [
    "#### Basic pricing equation\n",
    "$1 = E[\\zeta R_i]$,  and $i=1,\\dots, I$ so that\n",
    "$$E[R_i] = \\alpha + \\beta[R_i, \\zeta]\\eta$$\n"
   ]
  },
  {
   "cell_type": "markdown",
   "id": "9a496e1f-b0bb-4506-904a-87933378b844",
   "metadata": {},
   "source": [
    "#### Factor-beta\n",
    "Apply Covariance equation $\\mathrm{Cov}[R_i, \\zeta] = E[R_i \\zeta] - E[R_i] E[\\zeta]$ , we can get\n",
    "    $$E[R_i] = \\frac{1}{E[\\zeta]} - \\frac{\\mathrm{Cov}[R_i, \\zeta]}{E[\\zeta]}$$\n",
    "\n",
    "$$\\beta[R_i, \\zeta] = \\frac{\\mathrm{Cov}[R_i, \\zeta]}{\\mathrm{Var}[\\zeta]}$$\n"
   ]
  },
  {
   "cell_type": "markdown",
   "id": "ac554695-bd39-4421-a6fa-7c732e8c01bf",
   "metadata": {},
   "source": [
    "#### zero-beta return\n",
    "$$\\alpha = \\frac{1}{E[\\zeta]}$$"
   ]
  },
  {
   "cell_type": "markdown",
   "id": "4615bad8-2b8e-45c9-9a4b-aa456f7c056e",
   "metadata": {},
   "source": [
    "#### Factor risk premium\n",
    "$$\\eta = - \\frac{\\mathrm{Var}[\\zeta]}{E[\\zeta]}$$\n",
    "\n",
    "we can rewrite   $$E[R_i] = \\frac{1}{E[\\zeta]} + \\beta[R_i, \\zeta]\\eta$$"
   ]
  },
  {
   "cell_type": "markdown",
   "id": "7769f97d-1a61-4cdc-be9f-f283665f7dd7",
   "metadata": {},
   "source": [
    "## 11 Structure Interest"
   ]
  },
  {
   "cell_type": "markdown",
   "id": "798833ca-1d2a-4b67-9ceb-dd1dedc03e17",
   "metadata": {},
   "source": [
    "### 11.2 Basic interest rate concepts "
   ]
  },
  {
   "cell_type": "markdown",
   "id": "83cdafce-8e63-4338-981a-9c6299dcf986",
   "metadata": {},
   "source": [
    "-  Coupon Bond Price $B_{t}$\n",
    "$$B_{t}=\\sum_{t_{i}>t}Y_{i}B_{t}^{t_{i}}$$\n",
    "    这表示附息债券的价格等于其未来所有现金流（$Y_i$）按相应的零息债券价格（$B_{t}^{t_{i}}$）贴现的总和"
   ]
  },
  {
   "cell_type": "markdown",
   "id": "864626f1-23f3-4773-a291-7f9adca972ae",
   "metadata": {},
   "source": [
    "-  Spot rate: Annual compounding of zero-coupon rate $\\hat{y}_t^T$\n",
    "$$B_t^T = (1 + \\hat{y}_t^T)^{-(T-t)} \\Leftrightarrow \\hat{y}_t^T = (B_t^T)^{-1/(T-t)} - 1$$"
   ]
  },
  {
   "cell_type": "markdown",
   "id": "28e50ba3-d59e-4c38-9d48-dc4ea03b4588",
   "metadata": {},
   "source": [
    "-  Spot rate: Continuous Compounding of zero-coupon rate $y_{t}^{T}$\n",
    "$$  B_t^T = e^{-y_t^T (T-t)} \\Leftrightarrow y_{t}^{T}=-\\frac{1}{T-t}\\ln B_{t}^{T}$$\n"
   ]
  },
  {
   "cell_type": "markdown",
   "id": "44f48895-b21f-4008-8ebd-303c6501f9a3",
   "metadata": {},
   "source": [
    "-  Forward Rate: Continuous Compounding  $f_{t}^{T,S}$\n",
    "$$B_{t}^{S}=B_{t}^{T}e^{-f_{t}^{T,S}(S-T)} \\Leftrightarrow f_{t}^{T,S}=-\\frac{\\ln B_{t}^{S}-\\ln B_{t}^{T}}{S-T}$$"
   ]
  },
  {
   "cell_type": "markdown",
   "id": "918dd68c-7589-4d13-81ed-4eb208bc032b",
   "metadata": {
    "jp-MarkdownHeadingCollapsed": true
   },
   "source": [
    "-  Infinitesimal Forward Rate $f_t^T$\n",
    "$$f_t^T = \\lim_{S \\to T} f_t^{T,S} = -\\frac{\\partial \\ln B_{t}^{T}}{\\partial T}$$"
   ]
  },
  {
   "cell_type": "markdown",
   "id": "0d8f67f3-d742-42b9-aa01-609901db1609",
   "metadata": {},
   "source": [
    "-  Price from Forward Rates $B_{t}^{T}$\n",
    "$$f_t^T = -\\frac{\\partial \\ln B_{t}^{T}}{\\partial T} \\Leftrightarrow -f_{t}^{T} dT = d(\\ln B_{t}^{T}) \\Leftrightarrow \\int_{t}^{T} -f_t^u du = \\int_{t}^{T} d(\\ln B_t^u)\\Leftrightarrow B_{t}^{T}=e^{-\\int_{t}^{T}f_{t}^{u}du}$$"
   ]
  },
  {
   "cell_type": "markdown",
   "id": "7a7ce919-7108-4434-82f0-9167ec79c178",
   "metadata": {},
   "source": [
    "-  Spot Rate as Average of Forwards\n",
    "$$y_{t}^{T}=\\frac{1}{T-t}\\int_{t}^{T}f_{t}^{u}du$$\n"
   ]
  },
  {
   "cell_type": "markdown",
   "id": "3c8aec5d-5e44-41d5-9347-ca955ec665a2",
   "metadata": {},
   "source": [
    "### 11.3 Real interest rates and aggregate consumption"
   ]
  },
  {
   "cell_type": "markdown",
   "id": "a951c406-34b0-4c33-87f6-5a11d2ff3226",
   "metadata": {},
   "source": [
    "-  Short Rate with General Utility\n",
    "Aggregate consumption follows a stochastic process\n",
    "$$dc_{t}=c_{t}[\\mu_{ct}dt+\\sigma_{ct}^{\\top}dz_{t}]$$\n",
    "$$r_{t}=\\delta+\\gamma(c_{t})\\mu_{ct}-\\frac{1}{2}\\eta(c_{t})||\\sigma_{ct}||^{2}$$\n",
    "    这是均衡状态下的实际短期利率，它与主观贴现率（$\\delta$）、相对风险厌恶（$\\gamma$）、预期消费增长（$\\mu_{ct}$）以及对消费波动性的审慎动机（$\\eta$）相关"
   ]
  },
  {
   "cell_type": "markdown",
   "id": "28903960-c33c-4d9b-8833-9f368766bf06",
   "metadata": {},
   "source": [
    "-  Short Rate with Power Utility\n",
    "$$r_{t}=\\delta+\\gamma\\mu_{ct}-\\frac{1}{2}\\gamma(1+\\gamma)||\\sigma_{ct}||^{2}$$\n",
    "在恒定相对风险厌恶（CRRA）幂效用下的简化形式，被广泛使用。\n"
   ]
  },
  {
   "cell_type": "markdown",
   "id": "9d790cc8-01f5-4c3f-906a-ede8d1d8ead8",
   "metadata": {},
   "source": [
    "- Bond Price with General Utility\n",
    "    $$B_{t}^{T}=E_{t}\\left[\\frac{\\zeta_{T}}{\\zeta_{t}}\\right]=e^{-\\delta(T-t)}\\frac{E_{t}[u^{\\prime}(c_{T})]}{u^{\\prime}(c_{t})}$$\n",
    "    这是基于状态价格偏转因子（$\\zeta_{t}$）和边际效用（$u'$）的实际零息债券的基本定价方程"
   ]
  },
  {
   "cell_type": "markdown",
   "id": "fe7ee59b-67b1-4950-addc-3c9f40998d6a",
   "metadata": {},
   "source": [
    "- Bond Price in Campbell-Cochrane\n",
    "    $$B_{t}^{t+n}=e^{-\\delta-\\gamma\\overline{g}-\\gamma(1-\\varphi)\\ln\\overline{s}}E_{t}[e^{-\\gamma[1+\\Lambda(S_{t})]\\nu_{t+1}}B_{t+1}^{t+n}]$$\n",
    "在状态依赖效用模型中，债券价格没有封闭解，必须通过这种递归关系进行数值求解。"
   ]
  },
  {
   "cell_type": "markdown",
   "id": "b4184942-d284-441e-ad84-ac0918a1fab9",
   "metadata": {},
   "source": [
    "#### Bond Price in Long-Run Risk Model\n",
    "$$B_{t}^{t+n}=e^{-\\Gamma_{0,n}-\\Gamma_{1,n}x_{t}-\\Gamma_{2,n}\\sigma_{t}^{2}}$$\n",
    "在长期风险模型中，债券价格可以近似为状态变量（预期消费增长 $x_t$ 和消费方差 $\\sigma_t^2$）的指数仿射函数（exponential-affine）。"
   ]
  },
  {
   "cell_type": "markdown",
   "id": "92320575-0c5c-4da6-ad8d-d471547d0895",
   "metadata": {},
   "source": [
    "### 11.5 Equilibrium interest rate models"
   ]
  },
  {
   "cell_type": "markdown",
   "id": "ecaa33ec-5ca2-4ad2-8a44-d7913d017352",
   "metadata": {},
   "source": [
    "#### Short-Rate Process  $dr_{t}$\n",
    "$$dr_{t}=\\kappa(\\overline{r}-r_{t})dt+\\sigma_{r}dz_{t}$$\n",
    "其中 $\\kappa$（调整速度）、$\\overline{r}$（长期均值）和 $\\sigma_r$（波动率）是正常数\n",
    "连续复利的短期利率 $r_t$ 遵循一个Ornstein-Uhlenbeck过程。这个过程具有“均值回归”（mean reversion）特性，意味着利率总会被拉向一个长期均值 "
   ]
  },
  {
   "cell_type": "markdown",
   "id": "597ccda8-e326-48ca-a85c-15947640d41f",
   "metadata": {},
   "source": [
    "#### Vasicek model\n",
    "Vasicek模型的关键优势在于它能为零息债券提供封闭解（closed-form solution） 17。定价公式： 债券价格 $B_t^s$（在 $t$ 时刻，到期日为 $s$）具有指数仿射 (exponential-affine) 形式：$$B_{t}^{s}=\\exp\\{-\\mathcal{A}(s-t)-\\mathcal{B}_{\\kappa}(s-t)r_{t}\\}$$其中 $\\tau = s-t$ 是剩余期限。系数：$\\mathcal{B}_{\\kappa}(\\tau)$ 是一个确定性函数，仅依赖于到期时间和均值回归速度 $\\kappa$ 。$\\mathcal{A}(\\tau)$ 也是一个确定性函数，它依赖于 $\\kappa, \\sigma_r, \\lambda$ 和 $\\overline{r}$"
   ]
  },
  {
   "cell_type": "markdown",
   "id": "f876d9f1-c6d1-4473-96d5-7a45f5d8d4d1",
   "metadata": {},
   "source": [
    "#### 收益率曲线收益率公式\n",
    "从债券定价公式 (11.28) 可以直接得到收益率 $y_t^s$：$$y_{t}^{s}=\\frac{\\mathcal{A}(s-t)}{s-t}+\\frac{\\mathcal{B}_{k}(s-t)}{s-t}r_{t}$$"
   ]
  },
  {
   "cell_type": "markdown",
   "id": "7b9793ba-3f4a-4723-9f22-797eba5e1073",
   "metadata": {},
   "source": [
    "## Prob"
   ]
  },
  {
   "cell_type": "markdown",
   "id": "ce162874-1cd0-4eb4-9d38-e401ae3a034e",
   "metadata": {},
   "source": [
    "### Expectation\n",
    "对于任意两个随机变量 $X$ 和 $Y$，以及任意两个常数 $a$ 和 $b$，期望算子 $E$ 满足以下性质：\n",
    "$$E[aX + bY] = aE[X] + bE[Y]$$\n"
   ]
  },
  {
   "cell_type": "markdown",
   "id": "810e25d4-a653-460f-8aa1-7b6fd4421784",
   "metadata": {},
   "source": [
    "指数的期望$$E[e^x] = e^{\\mu_x + \\frac{1}{2}\\sigma_x^2}$$"
   ]
  },
  {
   "cell_type": "markdown",
   "id": "34ac22bd-329d-48e0-b935-e1e915987de5",
   "metadata": {},
   "source": [
    "\n",
    "$$\n",
    "E\\left[\\left(\\sum_{l=1}^L \\alpha_l \\zeta_l\\right) D_i\\right] = E\\left[\\sum_{l=1}^L \\alpha_l (\\zeta_l D_i)\\right] = \\sum_{l=1}^L \\alpha_l E[\\zeta_l D_i] = \\sum_{l=1}^L \\alpha_l P_i = P_i \\sum_{l=1}^L \\alpha_l\n",
    "$$"
   ]
  },
  {
   "cell_type": "markdown",
   "id": "5fbc3834-3ffa-46e7-9bfb-c2ba346a0bcc",
   "metadata": {},
   "source": [
    "### Variance"
   ]
  },
  {
   "cell_type": "markdown",
   "id": "ebd479dd-d7a0-4091-9fe0-ec281c8dfb98",
   "metadata": {},
   "source": [
    "假设 $ \\zeta_s $ 是每个状态 $ s $ 下的随机折扣因子，方差可以定义为：\n",
    "$$\\text{Var}(\\zeta) = E[(\\zeta -  E[\\zeta])^2]$$\n",
    "\n",
    "$ E[\\zeta] $ 是 SDF 的期望值，计算为 $ E[\\zeta] = \\sum_s \\pi_s \\zeta_s $。\n",
    "方差展开为：\n",
    "$$\\text{Var}(\\zeta) = E[\\zeta^2] -  (E[\\zeta])^2$$\n",
    "其中 $ E[\\zeta^2] = \\sum_s \\pi_s \\zeta_s^2 $。"
   ]
  },
  {
   "cell_type": "markdown",
   "id": "1436b305-9a18-47a8-b9dd-354684a5f5e0",
   "metadata": {},
   "source": [
    "### Covariance\n",
    "对于两个随机变量 $ X $ 和 $ Y $，总体协方差 $ \\text{Cov}(X, Y) $ 的定义为：\n",
    "$$\\text{Cov}(X, Y) = E[(X -  E[X])(Y -  E[Y])]$$\n",
    "等价地，可以展开为：\n",
    "$$\\text{Cov}(X, Y) = E[XY] -  E[X] \\cdot E[Y]$$\n",
    "\n",
    "$ E[X] $ 和 $ E[Y] $ 分别是 $ X $ 和 $ Y $ 的期望值。\n",
    "$ E[XY] $ 是 $ X $ 和 $ Y $ 的乘积的期望值。"
   ]
  },
  {
   "cell_type": "markdown",
   "id": "230ae647-1fb4-4689-91b7-e1c6939427a8",
   "metadata": {},
   "source": [
    "灵活使用该公式：\n",
    "$$E[XY] =\\text{Cov}(X, Y) + E[X] \\cdot E[Y]$$"
   ]
  },
  {
   "cell_type": "markdown",
   "id": "d8b28cca-2c07-4147-8675-753a41e109b1",
   "metadata": {},
   "source": [
    "-  Linear of Covariance Properties\n",
    "对于任意随机变量 $A, B, C$ 和常数 $c$，有：\n",
    "\n",
    "1.  $\\text{Cov}(A+B, C) = \\text{Cov}(A, C) + \\text{Cov}(B, C)$\n",
    "2.  $\\text{Cov}(c A, B) = c \\cdot \\text{Cov}(A, B)$\n"
   ]
  },
  {
   "cell_type": "markdown",
   "id": "72be740b-7d6e-472c-9b34-5ea3d7463b9a",
   "metadata": {},
   "source": [
    "### 柯西施瓦茨不等式"
   ]
  },
  {
   "cell_type": "markdown",
   "id": "ae1b8a5b-fa8e-415c-ac48-3c96baf14881",
   "metadata": {},
   "source": [
    "柯西施瓦茨不等式:\n",
    "$$|cov[x, z]| \\le \\sigma[x]\\sigma[z]$$"
   ]
  },
  {
   "cell_type": "markdown",
   "id": "5876f068-3e34-4c27-b383-19d995b69dcc",
   "metadata": {},
   "source": [
    "### Correlation"
   ]
  },
  {
   "cell_type": "markdown",
   "id": "a04781b0-f495-445b-b300-d6f201cbfbf1",
   "metadata": {},
   "source": []
  },
  {
   "cell_type": "markdown",
   "id": "75588dff-e3f1-4f2a-871b-bcda98c4ea74",
   "metadata": {},
   "source": [
    "### Lognormal Distribution"
   ]
  },
  {
   "cell_type": "markdown",
   "id": "9d0dae38-01dc-4083-9028-1725dffdf18c",
   "metadata": {},
   "source": [
    "对于一个服从正态分布 $X \\sim \\text{LogNorm}(\\mu, \\sigma^2)$ 的随机变量，其自然对数 $\\ln X$ 成正态分布，\n",
    "\n",
    "$$ \\ln X \\sim N(\\mu, \\sigma^2)$$"
   ]
  },
  {
   "cell_type": "markdown",
   "id": "6fbd9c7a-2dba-42c8-ab3f-243bc4fe6fff",
   "metadata": {},
   "source": [
    "### Exponential Distribution"
   ]
  },
  {
   "cell_type": "markdown",
   "id": "7f28427c-5b41-4fa6-a035-5a61fa230f4d",
   "metadata": {},
   "source": [
    "If $X \\sim N(\\mu, \\sigma^2)$, then\n",
    "\n",
    "$$E(e^X) = e^{\\mu + \\frac{\\sigma^2}{2}}$$\n"
   ]
  },
  {
   "cell_type": "markdown",
   "id": "e08c36fd-276c-4ab5-901c-313028a71859",
   "metadata": {},
   "source": [
    "## Calculas"
   ]
  },
  {
   "cell_type": "markdown",
   "id": "1622d614-ffc3-4744-9482-2ad78306200e",
   "metadata": {},
   "source": [
    "\n",
    "乘积数法则: $$\\frac{d}{dt} \\left( f(t) g(t) \\right) = f'(t)g(t) + f(t)g'(t)$$\n",
    "\n",
    "根据微积分基本定理，当对一个积分上限为变量的定积分求导时，直接将被积函数中的积分变量替换为积分上限即可。\n",
    "$$g'(t) = \\frac{d}{dt}\\left(\\int_0^t e^{\\alpha u} c_u du\\right)$$，所以 $g'(t) = e^{\\alpha t} c_t$。"
   ]
  },
  {
   "cell_type": "markdown",
   "id": "224f7fff-0736-466e-a14a-6270058fb087",
   "metadata": {},
   "source": [
    "### 几何级数求和"
   ]
  },
  {
   "cell_type": "markdown",
   "id": "8e9fabf8-b79e-4233-abf1-dff3c23fee00",
   "metadata": {},
   "source": [
    "令 $N = T-t$，求和为 $\\sum_{s=1}^{N} A^s = A + A^2 + \\cdots + A^N$。\n",
    "根据几何级数求和公式 $$\\sum_{k=1}^N A^k = A \\frac{1-A^N}{1-A}$$"
   ]
  },
  {
   "cell_type": "markdown",
   "id": "c787b7f5-335b-47e3-897d-d4ccc5e0352b",
   "metadata": {},
   "source": [
    "### Jensen's Inequality\n",
    "\n",
    "如果 $f$ 是一个**凹函数**（图形向下弯曲，像一个倒扣的碗），不等式的方向则会颠倒：\n",
    "\n",
    "$$E[f(X)] \\le f(E[X])$$\n",
    "\n",
    "\n",
    "如果不涉及概率论中的随机变量和期望，它也有一个更基础的**离散形式**，适用于加权平均值。对于凸函数 $f$ 和一组数 $x_1, x_2, \\ldots, x_n$，以及满足 $\\lambda_i \\ge 0$ 且 $\\sum_{i=1}^n \\lambda_i = 1$ 的权重 $\\lambda_i$：\n",
    "\n",
    "$$f\\left(\\sum_{i=1}^n \\lambda_i x_i\\right) \\le \\sum_{i=1}^n \\lambda_i f(x_i)$$\n",
    "\n",
    "这个形式说明：**加权平均值的函数值** 小于等于 **函数值的加权平均值**。\n"
   ]
  },
  {
   "cell_type": "markdown",
   "id": "cf4a38cb-9a3b-4af2-88c8-ee1962ff805b",
   "metadata": {},
   "source": [
    "### Chain Rule"
   ]
  },
  {
   "cell_type": "markdown",
   "id": "59d25609-3c06-4b45-9281-056050521740",
   "metadata": {},
   "source": [
    "> **Theorem (The chain rule)**  \n",
    "> *If $g$ is differentiable at $x_0$ and $f$ is differentiable at $u_0 = g(x_0)$, then $F(x) = f(g(x))$ is differentiable at $x_0$ and\n",
    "> $$ F'(x_0) = f'(g(x_0))g'(x_0)$$*"
   ]
  },
  {
   "cell_type": "markdown",
   "id": "5e0488cd-eb00-4512-9c77-9bca6bd7d354",
   "metadata": {},
   "source": [
    "### Lagrange Mean Theorem\n",
    "\n",
    "如果函数 $f(x)$ 满足以下两个条件：\n",
    "\n",
    "1.  $f(x)$ 在**闭区间** $[a, b]$ 上**连续**。\n",
    "2.  $f(x)$ 在**开区间** $(a, b)$ 内**可导**。\n",
    "\n",
    "那么，在开区间 $(a, b)$ 内**至少存在一个点** $\\boldsymbol{c}$，使得：\n",
    "\n",
    "$$f'(c) = \\frac{f(b) - f(a)}{b - a}$$\n",
    "\n",
    "**积分第一均值定理：** 如果函数 $f(x)$ 在 $[a, b]$ 上连续，则在该区间内至少存在一点 $c$，使得：\n",
    "    $$\\int_a^b f(x) \\,dx = f(c)(b-a)$$\n",
    "    这表示函数在一个区间上的**积分（曲线下的面积）**，等于某一点的函数值 $f(c)$ 乘以区间长度 $(b-a)$。$f(c)$ 正是函数在 $[a, b]$ 上的**平均值**"
   ]
  },
  {
   "cell_type": "markdown",
   "id": "c147f8bf-4585-4270-811f-63210bc1697d",
   "metadata": {},
   "source": [
    "### 积分求导"
   ]
  },
  {
   "cell_type": "markdown",
   "id": "8b1d939b-6841-4bcf-b453-d7f11f101085",
   "metadata": {},
   "source": [
    "根据微积分基本定理，当对一个积分上限为变量的定积分求导时，直接将被积函数中的积分变量替换为积分上限即可。"
   ]
  },
  {
   "cell_type": "markdown",
   "id": "c923d3e5-8924-43b4-908a-7426dd8ef960",
   "metadata": {},
   "source": [
    "### Lagrange Multiplier Method\n",
    "假设你要解决的优化问题是：\n",
    "**最大化** 目标函数 $f(x_1, x_2, \\ldots, x_n)$\n",
    "**受限于** 约束条件 $g(x_1, x_2, \\ldots, x_n) = c$\n",
    "\n",
    "以下是使用拉格朗日乘数法的通用步骤：\n",
    "\n",
    "\n",
    "引入一个新的变量 $\\lambda$（**拉格朗日乘数**），构造拉格朗日函数 $L$：\n",
    "$$L(x_1, \\ldots, x_n, \\lambda) = f(x_1, \\ldots, x_n) + \\lambda \\left( c - g(x_1, \\ldots, x_n) \\right)$$\n",
    "**注意：** 也可以写成 $f - \\lambda(g - c)$ 或 $f + \\lambda(g - c)$，这只会影响 $\\lambda$ 的符号，最终的极值点 $(x_1, \\ldots, x_n)$ 是相同的。\n",
    "\n",
    "\n",
    "\n",
    "将拉格朗日函数 $L$ 对所有变量（包括 $\\lambda$）分别求偏导数，并让所有偏导数等于零。这构成了**一阶条件**（First-Order Conditions）：\n",
    "1.  $\\frac{\\partial L}{\\partial x_1} = \\frac{\\partial f}{\\partial x_1} - \\lambda \\frac{\\partial g}{\\partial x_1} = 0$\n",
    "2.  $\\frac{\\partial L}{\\partial x_2} = \\frac{\\partial f}{\\partial x_2} - \\lambda \\frac{\\partial g}{\\partial x_2} = 0$\n",
    "3.  $\\vdots$\n",
    "4.  $\\frac{\\partial L}{\\partial x_n} = \\frac{\\partial f}{\\partial x_n} - \\lambda \\frac{\\partial g}{\\partial x_n} = 0$\n",
    "5.  $\\frac{\\partial L}{\\partial \\lambda} = c - g(x_1, \\ldots, x_n) = 0$  （这一步实际上就是回到了约束条件本身）\n"
   ]
  },
  {
   "cell_type": "markdown",
   "id": "dd7ba910-3d81-4bb3-a80b-d035bb1047ea",
   "metadata": {},
   "source": [
    "### Product rule"
   ]
  },
  {
   "cell_type": "markdown",
   "id": "941c482a-ebe6-45f3-930a-820d59e180a7",
   "metadata": {},
   "source": []
  }
 ],
 "metadata": {
  "kernelspec": {
   "display_name": "Python 3 (ipykernel)",
   "language": "python",
   "name": "python3"
  },
  "language_info": {
   "codemirror_mode": {
    "name": "ipython",
    "version": 3
   },
   "file_extension": ".py",
   "mimetype": "text/x-python",
   "name": "python",
   "nbconvert_exporter": "python",
   "pygments_lexer": "ipython3",
   "version": "3.9.17"
  }
 },
 "nbformat": 4,
 "nbformat_minor": 5
}
