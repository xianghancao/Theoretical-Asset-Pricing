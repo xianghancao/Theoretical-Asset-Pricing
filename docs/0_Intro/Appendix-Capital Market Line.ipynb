{
 "cells": [
  {
   "cell_type": "markdown",
   "id": "1b8ea40b-a0a0-410e-b959-1217286e0a50",
   "metadata": {},
   "source": [
    "# Appendix: Capital Market Line"
   ]
  },
  {
   "cell_type": "markdown",
   "id": "eb430eed-2fd8-4dc2-9c1d-a49bb99a9bf6",
   "metadata": {},
   "source": [
    "## 夏普比率的定义\n",
    "夏普比率衡量的是投资组合的单位风险超额回报，公式为：\n",
    "\n",
    "$$\\text{Sharpe Ratio} = \\frac{E[R_p] - R_f}{\\sigma_p}$$\n",
    "\n",
    "其中：\n",
    "\n",
    "- $E[R_p]$：投资组合的预期回报率\n",
    "- $R_f$：无风险利率\n",
    "- $\\sigma_p$：投资组合的标准差（风险）\n",
    "\n",
    "夏普比率越高，说明单位风险带来的超额回报越高，投资组合的效率越高。"
   ]
  },
  {
   "cell_type": "markdown",
   "id": "9a58e63a-1a87-4a0d-9ae2-7173f6878433",
   "metadata": {},
   "source": [
    "## 有效前沿与资本市场线\n",
    "\n",
    "有效前沿：在均值-方差框架下，有效前沿是由所有风险-回报组合构成的曲线，这些组合在给定风险水平下提供最高回报。\n",
    "资本市场线：当引入无风险资产后，CML是从无风险利率点开始，经过某个投资组合（即切线组合）的一条直线，表示投资者通过在无风险资产和风险资产组合之间分配资金所能获得的最优风险-回报组合。\n",
    "\n",
    "CML的斜率是：\n",
    "\n",
    "$$\\text{CML Slope} = \\frac{E[R_m] - R_f}{\\sigma_m}$$\n",
    "\n",
    "其中 $R_m$ 和 $\\sigma_m$ 是某个投资组合的预期回报和标准差。这个斜率实际上就是该组合的夏普比率。"
   ]
  },
  {
   "cell_type": "markdown",
   "id": "bfbc56d4-ccc3-49ae-88b8-7344dca2896e",
   "metadata": {},
   "source": [
    "## 3. 为什么切线组合的夏普比率最高？\n",
    "\n",
    "几何解释：在均值-方差空间中，CML是与有效前沿相切的直线。相切点的投资组合（即切线组合）是唯一一个使得CML斜率（夏普比率）最大化的组合。任何其他投资组合（无论在有效前沿上还是下方）都会导致CML的斜率较低，因为它们的风险-回报权衡不如切线组合优越。\n",
    "数学推导：切线组合是通过优化问题求解得到的，即最大化夏普比率：\n",
    "$$\\max \\frac{E[R_p] - R_f}{\\sigma_p}$$\n",
    "这相当于找到有效前沿上与无风险资产连线斜率最大的点。通过拉格朗日乘子法或几何约束，可以证明切线组合是唯一解，其夏普比率高于其他任何投资组合。\n",
    "经济直觉：切线组合是风险资产的最优组合，因为它在给定风险水平下提供了最高的超额回报。投资者可以通过在切线组合和无风险资产之间分配资金，获得所有可能的最优风险-回报组合（即CML上的点）。\n",
    "\n",
    "## 4. 在资产定价中的意义\n",
    "在资本资产定价模型（CAPM）中，切线组合通常被视为市场组合（market portfolio），因为在均衡状态下，所有投资者都会选择持有这个组合（结合无风险资产）。CAPM假设市场组合是均值-方差有效的，因此它具有最高的夏普比率。"
   ]
  },
  {
   "cell_type": "markdown",
   "id": "c5d214f0-bcdb-4460-a586-6f52c0ea2fd3",
   "metadata": {},
   "source": []
  }
 ],
 "metadata": {
  "kernelspec": {
   "display_name": "Python 3 (ipykernel)",
   "language": "python",
   "name": "python3"
  },
  "language_info": {
   "codemirror_mode": {
    "name": "ipython",
    "version": 3
   },
   "file_extension": ".py",
   "mimetype": "text/x-python",
   "name": "python",
   "nbconvert_exporter": "python",
   "pygments_lexer": "ipython3",
   "version": "3.9.17"
  }
 },
 "nbformat": 4,
 "nbformat_minor": 5
}
