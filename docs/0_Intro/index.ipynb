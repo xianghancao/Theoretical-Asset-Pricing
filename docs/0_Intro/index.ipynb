{
 "cells": [
  {
   "cell_type": "markdown",
   "id": "c235500f-02cb-485f-8b26-57a249781e38",
   "metadata": {},
   "source": [
    "# Introduction"
   ]
  },
  {
   "cell_type": "markdown",
   "id": "1c42d36a-c35e-465c-84c6-3e1c729d6c3c",
   "metadata": {},
   "source": [
    "## Key Takeaways\n",
    "\n",
    "- Core Frameworks: From Markowitz’s diversification to Tobin’s separation theorem and Sharpe’s CAPM, asset pricing theory evolved, but CAPM is limited by strict assumptions and empirical failures.\n",
    "- Empirical Challenges: Value and size premiums highlight CAPM’s inability to explain return variations, necessitating multifactor models like Fama-French.\n",
    "- Theoretical Advances: ICAPM and multifactor models address dynamic returns and multiple risks, emphasizing hedging economic state changes.\n",
    "- Practical Implications: CAPM’s limitations affect fund evaluation and capital budgeting, requiring more sophisticated models.\n"
   ]
  },
  {
   "cell_type": "markdown",
   "id": "6eca95a1-474c-4a18-8ee3-c6e0af8b10ed",
   "metadata": {},
   "source": []
  }
 ],
 "metadata": {
  "kernelspec": {
   "display_name": "Python 3 (ipykernel)",
   "language": "python",
   "name": "python3"
  },
  "language_info": {
   "codemirror_mode": {
    "name": "ipython",
    "version": 3
   },
   "file_extension": ".py",
   "mimetype": "text/x-python",
   "name": "python",
   "nbconvert_exporter": "python",
   "pygments_lexer": "ipython3",
   "version": "3.9.17"
  }
 },
 "nbformat": 4,
 "nbformat_minor": 5
}
