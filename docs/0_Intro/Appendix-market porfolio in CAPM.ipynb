{
 "cells": [
  {
   "cell_type": "markdown",
   "id": "75868620-aec3-4228-871a-4a2569ff5dc6",
   "metadata": {},
   "source": [
    "# Appendix: market porfolio in CAPM"
   ]
  },
  {
   "cell_type": "markdown",
   "id": "161fe313-930b-4408-aff1-16be42b440f2",
   "metadata": {},
   "source": []
  }
 ],
 "metadata": {
  "kernelspec": {
   "display_name": "Python 3 (ipykernel)",
   "language": "python",
   "name": "python3"
  },
  "language_info": {
   "codemirror_mode": {
    "name": "ipython",
    "version": 3
   },
   "file_extension": ".py",
   "mimetype": "text/x-python",
   "name": "python",
   "nbconvert_exporter": "python",
   "pygments_lexer": "ipython3",
   "version": "3.9.17"
  }
 },
 "nbformat": 4,
 "nbformat_minor": 5
}
