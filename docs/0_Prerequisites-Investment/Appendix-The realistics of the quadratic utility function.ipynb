{
 "cells": [
  {
   "cell_type": "markdown",
   "id": "241e29e3-5202-4aa6-b80c-5aa15b3add3f",
   "metadata": {},
   "source": [
    "# Appendix: The realistics of the quadratic utility function"
   ]
  },
  {
   "cell_type": "markdown",
   "id": "f81e1044-c3ba-4845-bedc-d9984d81d379",
   "metadata": {},
   "source": [
    "The assumption that investors have a quadratic utility function is a common simplification in financial economics, particularly in the context of mean-variance portfolio theory and asset pricing models like the Capital Asset Pricing Model (CAPM). However, its realism is limited and has been widely debated. Below, I evaluate the realism of this assumption, focusing on its implications, advantages, and shortcomings in the context of a PhD-level asset pricing course.\n",
    "What is a Quadratic Utility Function?\n",
    "A quadratic utility function typically takes the form:\n",
    "$$U(W) = aW - bW^2$$\n",
    "where:\n",
    "\n",
    "$W$ is wealth,\n",
    "$a > 0$, $b > 0$ are constants,\n",
    "The function is concave (indicating risk aversion) for $W < \\frac{a}{2b}$, but becomes convex (risk-loving) beyond this point.\n",
    "\n",
    "In mean-variance analysis, this utility function leads to preferences based solely on the mean and variance of portfolio returns, which is foundational to models like CAPM and the derivation of the tangency portfolio.\n",
    "Why is the Quadratic Utility Assumption Used?\n",
    "The quadratic utility function is appealing in theoretical models because:\n",
    "\n",
    "Mean-Variance Framework: It implies that investors care only about the expected return (mean) and risk (variance) of their portfolio, simplifying portfolio optimization.\n",
    "Mathematical Tractability: It leads to closed-form solutions for optimal portfolios, as the expected utility depends linearly on the mean and variance of wealth.\n",
    "CAPM Derivation: In CAPM, assuming quadratic utility (or normal return distributions) ensures that all investors choose portfolios on the efficient frontier, with the tangency portfolio becoming the market portfolio.\n",
    "\n",
    "Realism of the Quadratic Utility Assumption\n",
    "The realism of assuming quadratic utility for investors can be evaluated by examining its properties, empirical fit, and behavioral implications:\n",
    "1. Advantages Supporting Realism\n",
    "\n",
    "Focus on Mean and Variance: Quadratic utility aligns with the intuition that investors care about expected returns and risk (measured by variance). This is consistent with empirical observations that investors often evaluate portfolios based on return and volatility.\n",
    "Simplification for Modeling: It provides a tractable way to derive key results, such as the tangency portfolio or the security market line in CAPM, which are robust under certain conditions.\n",
    "Approximation for Small Risks: For small changes in wealth, quadratic utility can approximate other concave utility functions (e.g., logarithmic or power utility) via a Taylor expansion, making it a reasonable local approximation.\n",
    "\n",
    "2. Limitations Undermining Realism\n",
    "\n",
    "Increasing Absolute Risk Aversion (IARA):\n",
    "\n",
    "Quadratic utility implies increasing absolute risk aversion (IARA), meaning that as wealth increases, investors become more risk-averse in absolute terms (i.e., they demand a higher risk premium for the same absolute risk). This is counterintuitive, as empirical evidence and intuition suggest that wealthier investors are often less risk-averse (decreasing or constant absolute risk aversion, DARA or CARA).\n",
    "Mathematically, the absolute risk aversion coefficient is:\n",
    "$$A(W) = -\\frac{U''(W)}{U'(W)} = \\frac{2b}{a - 2bW}$$\n",
    "As $W$ increases, $A(W)$ increases, which contradicts typical investor behavior.\n",
    "\n",
    "\n",
    "Negative Utility for High Wealth:\n",
    "\n",
    "Beyond a certain wealth level ($W > \\frac{a}{2b}$), the quadratic utility function becomes convex, implying risk-loving behavior, and utility decreases as wealth increases further. This is unrealistic, as investors typically do not prefer less wealth at very high levels.\n",
    "\n",
    "\n",
    "Limited Flexibility:\n",
    "\n",
    "Quadratic utility cannot capture higher moments of the return distribution, such as skewness or kurtosis, which are empirically relevant. Investors often prefer positively skewed returns (e.g., lottery-like payoffs) and dislike fat-tailed risks (e.g., crashes), which quadratic utility ignores.\n",
    "\n",
    "\n",
    "Inconsistency with Observed Behavior:\n",
    "\n",
    "Behavioral finance shows that investors exhibit preferences inconsistent with quadratic utility, such as loss aversion, prospect theory preferences, or ambiguity aversion. For example, Kahneman and Tversky’s prospect theory suggests investors are more sensitive to losses than gains, which quadratic utility cannot model.\n",
    "\n",
    "\n",
    "Empirical Evidence:\n",
    "\n",
    "Asset returns often exhibit fat tails and skewness (as discussed in the previous answer), which quadratic utility does not account for unless combined with normal distribution assumptions. However, normal distributions are also empirically unrealistic for asset returns.\n",
    "Studies (e.g., Friend and Blume, 1975) suggest that investor preferences are better approximated by utility functions with decreasing absolute risk aversion, such as logarithmic or power utility.\n",
    "\n",
    "\n",
    "\n",
    "3. Empirical and Practical Considerations\n",
    "\n",
    "Portfolio Choice: In practice, investors do not strictly optimize based on mean and variance alone. They consider other factors like liquidity, taxes, or behavioral biases, which quadratic utility does not capture.\n",
    "Alternative Utility Functions: More realistic utility functions, such as power utility ($U(W) = \\frac{W^{1-\\gamma}}{1-\\gamma}$) or exponential utility ($U(W) = -e^{-\\alpha W}$), better capture decreasing absolute risk aversion and are more consistent with empirical investor behavior.\n",
    "Historical Context: The quadratic utility assumption was historically justified when computational power was limited, and mean-variance analysis was a groundbreaking simplification. Modern computing allows for more flexible utility functions and return distributions.\n",
    "\n",
    "Alternatives to Quadratic Utility\n",
    "To address the limitations, PhD-level asset pricing often explores:\n",
    "\n",
    "Power Utility: Exhibits decreasing absolute risk aversion (DARA), aligning with empirical evidence that wealthier investors take on more risk.\n",
    "Exponential Utility: Assumes constant absolute risk aversion (CARA), useful for tractable models with non-normal distributions.\n",
    "Prospect Theory: Incorporates loss aversion and reference-dependent preferences, better capturing behavioral biases.\n",
    "Non-Expected Utility Models: Models like Epstein-Zin preferences separate risk aversion from intertemporal substitution, offering more flexibility for dynamic asset pricing."
   ]
  },
  {
   "cell_type": "markdown",
   "id": "60e63156-dc17-4057-92e3-a5ce4b3b54c3",
   "metadata": {},
   "source": []
  }
 ],
 "metadata": {
  "kernelspec": {
   "display_name": "Python 3 (ipykernel)",
   "language": "python",
   "name": "python3"
  },
  "language_info": {
   "codemirror_mode": {
    "name": "ipython",
    "version": 3
   },
   "file_extension": ".py",
   "mimetype": "text/x-python",
   "name": "python",
   "nbconvert_exporter": "python",
   "pygments_lexer": "ipython3",
   "version": "3.9.17"
  }
 },
 "nbformat": 4,
 "nbformat_minor": 5
}
