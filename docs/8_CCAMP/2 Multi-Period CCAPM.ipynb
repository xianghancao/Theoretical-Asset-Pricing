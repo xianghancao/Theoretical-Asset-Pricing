{
 "cells": [
  {
   "cell_type": "markdown",
   "id": "b4a0e4ce-084f-4da3-b75b-6d8e2f34f74a",
   "metadata": {},
   "source": [
    "# 多期 CCAPM (Multi-Period CCAPM)\n",
    "\n",
    "在多期离散时间框架下，CCAPM 的基本原理保持不变，结果与单期情况是相似的 。\n",
    "\n",
    "### 一般结果\n",
    "\n",
    "在多期框架中，**状态价格紧缩因子** $(\\zeta_t)$ 在每期 $t$ 仍然由边际效用比率来定义。时期 $t$ 到 $t+1$ 的无风险利率和期望超额收益的公式如下：\n",
    "\n",
    "1.  **无风险利率 (Gross Risk-Free Return)**：\n",
    "    $$R_{f,t} = e^{\\delta} \\left(E_t\\left[\\frac{u'(c_{t+1})}{u'(c_t)}\\right]\\right)^{-1}$$ \n",
    "2.  **期望超额收益**：\n",
    "    $$E_t[R_{i,t+1}] - R_{f,t} = -\\frac{Cov_t[u'(c_{t+1})/u'(c_t), R_{i,t+1}]}{E_t[u'(c_{t+1})/u'(c_t)]}$$ \n",
    "\n",
    "**近似关系**：\n",
    "使用粗略的一阶泰勒近似，超额收益可以近似表示为：\n",
    "$$E_t[R_{i,t+1}] - R_{f,t} \\approx \\gamma(c_t) Cov_t[g_{t+1}, R_{i,t+1}]$$ \n",
    "其中：\n",
    "* $g_{t+1} = \\frac{c_{t+1} - c_t}{c_t}$ 是消费增长率。\n",
    "* $\\gamma(c_t) = -\\frac{c_t u''(c_t)}{u'(c_t)}$ 是相对风险厌恶 (RRA) 系数。\n",
    "\n",
    "### CRRA-对数正态模型 (离散时间)\n",
    "\n",
    "当假设**时间可加期望 CRRA 效用** $u(c) = \\frac{1}{1-\\gamma}c^{1-\\gamma}$ 和**未来消费对数正态分布** $\\ln(c_{t+1}/c_t) \\sim N(\\bar{g}, \\sigma_g^2)$ 时 ，可以得到精确的对数收益率表达式：\n",
    "\n",
    "1.  **连续复利无风险利率 (Continuously Compounded Risk-Free Rate)**：\n",
    "    $$\\ln R_{f,t} = \\delta + \\gamma\\bar{g} - \\frac{1}{2}\\gamma^2\\sigma_g^2$$ \n",
    "2.  **期望超额总收益** (近似) ：\n",
    "    $$E_t[R_{i,t+1}] - R_{f,t} \\approx \\gamma \\sigma_g \\rho_t[R_{i,t+1}, g_{t+1}] \\sigma_t[R_{i,t+1}]$$\n",
    "\n",
    "### 连续时间下的精确结果\n",
    "\n",
    "在连续时间框架下，状态价格紧缩因子是 $\\zeta_t = e^{-\\delta t} \\frac{u'(c_t)}{u'(c_0)}$。通过 Ito's Lemma 计算 $\\zeta_t$ 的动态变化，可以得到以下结果 ：\n",
    "\n",
    "* **连续复利无风险利率** $r_{f,t}$：\n",
    "    $$r_{f,t} = \\delta + \\gamma(c_t)\\mu_{c,t} - \\frac{1}{2}\\gamma(c_t)(1+\\gamma(c_t))\\sigma_{c,t}^2$$ \n",
    "* **期望超额收益率** $\\mu_{i,t} - r_{f,t}$：\n",
    "    $$\\mu_{i,t} - r_{f,t} = \\gamma(c_t) \\rho_{i c, t} \\sigma_{i,t} \\sigma_{c,t}$$ \n",
    "\n",
    "其中：\n",
    "* $\\mu_{c,t}$ 是消费的瞬时期望增长率。\n",
    "* $\\sigma_{c,t}$ 是消费增长的瞬时波动率。\n",
    "* $\\rho_{ic,t}$ 是资产 $i$ 的回报与消费增长之间的瞬时相关性。\n"
   ]
  },
  {
   "cell_type": "markdown",
   "id": "c95f5afd-19f3-47e7-ac6f-de1433bf61df",
   "metadata": {},
   "source": []
  }
 ],
 "metadata": {
  "kernelspec": {
   "display_name": "Python 3 (ipykernel)",
   "language": "python",
   "name": "python3"
  },
  "language_info": {
   "codemirror_mode": {
    "name": "ipython",
    "version": 3
   },
   "file_extension": ".py",
   "mimetype": "text/x-python",
   "name": "python",
   "nbconvert_exporter": "python",
   "pygments_lexer": "ipython3",
   "version": "3.9.17"
  }
 },
 "nbformat": 4,
 "nbformat_minor": 5
}
