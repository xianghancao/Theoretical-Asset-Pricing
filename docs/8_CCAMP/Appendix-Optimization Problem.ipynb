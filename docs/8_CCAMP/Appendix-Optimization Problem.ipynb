{
 "cells": [
  {
   "cell_type": "markdown",
   "id": "dddc4250-34c9-4889-8c4f-ce680148f200",
   "metadata": {},
   "source": [
    "# Optimization Problem"
   ]
  },
  {
   "cell_type": "markdown",
   "id": "5d5797c5-2113-4081-9671-6ae12fdd6869",
   "metadata": {},
   "source": [
    "Consider an investor who can buy or sell an asset with price $ P_{t,i} $ at time $ t $ and payoff $ D_{t+1,i} $ at time $ t+1 $. The investor chooses the amount $ x $ of the asset to maximize expected utility:\n",
    "$$\\max_x u(c_t) + E_t[\\delta u(c_{t+1})]$$\n",
    "subject to:\n",
    "\\begin{align}c_t &= e_t - P_{t,i} x \\\\  c_{t+1}&= e_{t+1} + D_{t+1,i} x\\end{align}\n",
    "where:\n",
    "\n",
    "- $ e_t, e_{t+1} $: Endowment consumption at times $ t $ and $ t+1 $.\n",
    "- $ c_t, c_{t+1} $: Actual consumption after buying/selling $ x $ units of the asset.\n",
    "- $ \\delta $: Subjective time-preference factor (time discount factor).\n",
    "\n",
    "\n",
    "\n"
   ]
  },
  {
   "cell_type": "markdown",
   "id": "d8869562-fb9c-461d-a042-9113474ba6ef",
   "metadata": {},
   "source": [
    "\n",
    "\n",
    "Substituting constraints into the objective function:\n",
    "$$\\max_x u(e_t - P_{t,i} x) + E_t[\\delta u(e_{t+1} + D_{t+1,i} x)]$$\n",
    "\n",
    "First-order condition (FOC) using the chain rule, setting the derivative with respect to $ x $ to zero:\n",
    "$$-P_{t,i} u'(c_t) + E_t[\\delta u'(c_{t+1}) D_{t+1,i}] = 0$$\n",
    "$$P_{t,i} u'(c_t) = E_t[\\delta u'(c_{t+1}) D_{t+1,i}]$$\n"
   ]
  },
  {
   "cell_type": "markdown",
   "id": "55c16046-73b9-4bab-b35b-d015b09bc9a1",
   "metadata": {},
   "source": [
    "\n",
    "\n",
    "At the optimum, the marginal utility lost from reducing consumption today (to buy the asset) equals the expected marginal utility gained from the asset’s payoff tomorrow.\n",
    "If $ P_{t,i} u'(c_t) < E_t[\\delta u'(c_{t+1}) D_{t+1,i}] $, the investor buys more of the asset, reducing today’s consumption (increasing $ u'(c_t) $) and increasing tomorrow’s consumption (decreasing $ u'(c_{t+1}) $) until equality holds.\n"
   ]
  },
  {
   "cell_type": "markdown",
   "id": "7e0caa59-8f12-4e02-96ac-da1cd479bd66",
   "metadata": {},
   "source": [
    "## 2. Example"
   ]
  },
  {
   "cell_type": "markdown",
   "id": "730fa8ae-bdb5-4fcc-8046-500f28ae6f78",
   "metadata": {},
   "source": []
  }
 ],
 "metadata": {
  "kernelspec": {
   "display_name": "Python 3 (ipykernel)",
   "language": "python",
   "name": "python3"
  },
  "language_info": {
   "codemirror_mode": {
    "name": "ipython",
    "version": 3
   },
   "file_extension": ".py",
   "mimetype": "text/x-python",
   "name": "python",
   "nbconvert_exporter": "python",
   "pygments_lexer": "ipython3",
   "version": "3.9.17"
  }
 },
 "nbformat": 4,
 "nbformat_minor": 5
}
