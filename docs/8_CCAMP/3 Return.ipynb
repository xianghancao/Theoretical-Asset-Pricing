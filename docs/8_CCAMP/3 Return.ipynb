{
 "cells": [
  {
   "cell_type": "markdown",
   "id": "81cd69be-72ef-4759-ac7e-6a87c39237bc",
   "metadata": {},
   "source": [
    "# Gross Return & Risk-free Return"
   ]
  },
  {
   "cell_type": "markdown",
   "id": "06d1f977-57b7-4676-98dc-4b7af9724e38",
   "metadata": {},
   "source": [
    "## 1. Definition"
   ]
  },
  {
   "cell_type": "markdown",
   "id": "59d8fe4e-b219-4489-8471-f94d24cb3c00",
   "metadata": {},
   "source": [
    "\n",
    "### 1.1 Gross Return\n",
    "\n",
    "For gross return $ R_{t+1,i} = \\frac{D_{t+1,i}}{P_{t,i}} $:\n",
    "$$\\frac{P_{t,i}}{P_{t,i}} = E_t[\\zeta_{t+1} \\frac{D_{t+1,i}}{P_{t,i}}]$$\n",
    "$$ 1 = E_t[\\zeta_{t+1} R_{t+1,i}]$$\n",
    "Expected gross return of the asset $E[R]$:\n",
    "$$E[R] = \\sum_{s=1}^S \\pi_s \\frac{d_s}{p} $$\n",
    "\n",
    "\n"
   ]
  },
  {
   "cell_type": "markdown",
   "id": "a8cf40ee-f661-448e-8025-53c92d0c4f13",
   "metadata": {},
   "source": [
    "### 1.2 Risk-free Return"
   ]
  },
  {
   "cell_type": "markdown",
   "id": "6313b885-74ab-4d99-ace5-567364ef0a87",
   "metadata": {},
   "source": [
    "The gross risk-free return $ R_f $ is the return of an asset that pays the same amount in all states. It is derived from the condition that the price of a risk-free asset equals the present value of its payoff using the $\\zeta$:"
   ]
  },
  {
   "cell_type": "markdown",
   "id": "3772ab47-18c1-421d-99b3-3bd76b628ed5",
   "metadata": {},
   "source": [
    "$$ 1 = E_t[\\zeta_{t+1} (1+R_{t+1,rf})]$$\n",
    "$$1 = \\sum_{s=1}^S \\pi_s \\zeta_s (1+R_f)$$\n",
    "$$1+R_f = \\frac{1}{\\sum_{s=1}^S \\pi_s \\zeta_s} = \\frac{1}{E[\\zeta]}$$"
   ]
  },
  {
   "cell_type": "markdown",
   "id": "c77ee77e-fe93-42d3-b192-e0cb1420f215",
   "metadata": {},
   "source": [
    "### 1.3 Risk Premium\n",
    "\n",
    "The risk premium is the difference between the expected gross return and the gross risk-free return:\n",
    "$$\\text{Risk Premium} = E[R] - R_f$$"
   ]
  },
  {
   "cell_type": "markdown",
   "id": "a144ab58-7737-4001-a301-4f3fd0a02d55",
   "metadata": {},
   "source": [
    "\n",
    "\n",
    "任何资产的预期超额收益都与该资产收益和消费边际效用（或负的消费水平）之间的协方差成反比。\n",
    "    $$E[R_i^e] = E[R_i] - R^f = - \\frac{Cov[u'(c)/u'(c_0), R_i]}{E[u'(c)/u'(c_0)]} = - \\frac{Cov[\\zeta, R_i]}{E[\\zeta]}$$ \n",
    "    因此，与消费的边际效用正相关（即与消费水平负相关）的资产，在经济状况不佳时（消费低迷，边际效用高）能提供高回报，因此具有吸引力、价格高、预期收益低。\n"
   ]
  },
  {
   "cell_type": "markdown",
   "id": "cd253740-1482-4748-ae3a-ea77f9362f29",
   "metadata": {},
   "source": [
    "\n",
    "\n",
    "The expected excess return is:\n",
    "$$E[R_i] - R_f = -\\frac{\\text{Cov}[z, R_i]}{E[z]} R_f$$\n",
    "\n",
    "Substituting the CCAPM SDF $ z_{t+1} = \\delta \\frac{u'(c_{t+1})}{u'(c_t)} $:\n",
    "$$E_t[R_{t+1,i}] - R_f = -\\frac{\\text{Cov}_t\\left[\\delta \\frac{u'(c_{t+1})}{u'(c_t)}, R_{t+1,i}\\right]}{E_t\\left[\\delta \\frac{u'(c_{t+1})}{u'(c_t)}\\right]} = -\\frac{\\text{Cov}_t[u'(c_{t+1}), R_{t+1,i}]}{E_t[u'(c_{t+1})]}$$\n",
    "\n",
    "\n",
    "\n",
    "## Economic Intuition:\n",
    "\n",
    "For risk-averse investors ($ u'' < 0 $), marginal utility $ u'(c_{t+1}) $ decreases with consumption.\n",
    "Assets with returns positively correlated with consumption (negatively with marginal utility) increase consumption volatility, requiring higher expected returns to compensate for risk.\n",
    "Assets with returns negatively correlated with consumption (positively with marginal utility), like insurance, reduce consumption volatility and can have expected returns below the risk-free rate.\n",
    "\n",
    "\n"
   ]
  },
  {
   "cell_type": "markdown",
   "id": "cb2b6e7f-02da-422a-abe9-be4364b34054",
   "metadata": {},
   "source": []
  }
 ],
 "metadata": {
  "kernelspec": {
   "display_name": "Python 3 (ipykernel)",
   "language": "python",
   "name": "python3"
  },
  "language_info": {
   "codemirror_mode": {
    "name": "ipython",
    "version": 3
   },
   "file_extension": ".py",
   "mimetype": "text/x-python",
   "name": "python",
   "nbconvert_exporter": "python",
   "pygments_lexer": "ipython3",
   "version": "3.9.17"
  }
 },
 "nbformat": 4,
 "nbformat_minor": 5
}
