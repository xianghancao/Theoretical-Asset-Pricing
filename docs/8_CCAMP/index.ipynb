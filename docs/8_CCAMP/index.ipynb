{
 "cells": [
  {
   "cell_type": "markdown",
   "id": "f944b2c2-c3a6-477b-b5c6-1bd9b0f1542b",
   "metadata": {},
   "source": [
    "# 8 CCAPM"
   ]
  }
 ],
 "metadata": {
  "kernelspec": {
   "display_name": "Python 3 (ipykernel)",
   "language": "python",
   "name": "python3"
  },
  "language_info": {
   "codemirror_mode": {
    "name": "ipython",
    "version": 3
   },
   "file_extension": ".py",
   "mimetype": "text/x-python",
   "name": "python",
   "nbconvert_exporter": "python",
   "pygments_lexer": "ipython3",
   "version": "3.9.17"
  }
 },
 "nbformat": 4,
 "nbformat_minor": 5
}
