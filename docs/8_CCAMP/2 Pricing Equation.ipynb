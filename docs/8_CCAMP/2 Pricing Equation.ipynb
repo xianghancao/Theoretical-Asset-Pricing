{
 "cells": [
  {
   "cell_type": "markdown",
   "id": "ef7c6ad1-849e-42e2-9c43-13764ecd100d",
   "metadata": {},
   "source": [
    "# Pricing Equation\n",
    "\n",
    "Price Form:\n",
    "$$P_{t,i} = E_t\\left[\\delta \\frac{u'(c_{t+1})}{u'(c_t)} D_{t+1,i}\\right]$$\n",
    "Define the SDF as:\n",
    "$$\\zeta_{t+1} \\equiv \\delta \\frac{u'(c_{t+1})}{u'(c_t)}$$\n",
    "Thus:\n",
    "$$P_{t,i} = E_t[\\zeta_{t+1} D_{t+1,i}]$$\n"
   ]
  },
  {
   "cell_type": "markdown",
   "id": "7d6ea183-b543-4588-8ef0-3977021caf72",
   "metadata": {},
   "source": [
    "\n",
    "The SDF $ \\zeta_{t+1} $ discounts future payoffs based on time preference ($ \\delta $) and the marginal utility ratio $\\frac{u'(c_{t+1})}{u'(c_t)}$, which reflects risk aversion and consumption smoothing.\n",
    "\n",
    "Assets with high payoffs in states where consumption is low (high $ u'(c_{t+1}) $) have higher prices (lower expected returns) due to their hedging value.\n",
    "\n"
   ]
  }
 ],
 "metadata": {
  "kernelspec": {
   "display_name": "Python 3 (ipykernel)",
   "language": "python",
   "name": "python3"
  },
  "language_info": {
   "codemirror_mode": {
    "name": "ipython",
    "version": 3
   },
   "file_extension": ".py",
   "mimetype": "text/x-python",
   "name": "python",
   "nbconvert_exporter": "python",
   "pygments_lexer": "ipython3",
   "version": "3.9.17"
  }
 },
 "nbformat": 4,
 "nbformat_minor": 5
}
