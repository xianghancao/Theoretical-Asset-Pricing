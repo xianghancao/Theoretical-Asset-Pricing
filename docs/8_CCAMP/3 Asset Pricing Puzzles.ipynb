{
 "cells": [
  {
   "cell_type": "markdown",
   "id": "6dea17a3-4741-41c6-ae5c-1429ae91b66a",
   "metadata": {},
   "source": [
    "# 资产定价难题 (Asset Pricing Puzzles)\n"
   ]
  },
  {
   "cell_type": "markdown",
   "id": "78e28b5a-ec42-4be6-8466-ff56757f539c",
   "metadata": {},
   "source": [
    "CCAPM 旨在用消费风险来解释资产回报。然而，实际数据与模型预测之间存在着显著差异，主要集中在以下四个方面：\n",
    "\n",
    "## 1. 股权溢价之谜 (The Equity Premium Puzzle)\n",
    "\n",
    "这个谜题是 CCAPM 在经验检验中最著名、最核心的挑战 。\n",
    "\n",
    "* **问题所在**：历史数据显示，股票（风险资产）相对于无风险资产（如短期国库券）提供了非常高的平均超额回报（**股权溢价**）。然而，在基本 CCAPM 中，要解释这个高溢价，模型需要一个**不合理地高**的相对风险厌恶 (RRA) 系数 $\\gamma$ 。\n",
    "* **美国数据示例 (1950-2000)** ：\n",
    "    * 平均年度实际股票超额收益：$\\approx 8\\%$\n",
    "    * 年度总消费实际变化标准差 ($\\sigma_C$)：$\\approx 2\\%$\n",
    "    * 股票回报与消费变化的相关性 ($\\rho$)：$\\approx 0.2$\n",
    "    * **模型要求**：使用简化的 CCAPM 公式 $E[R_i] - R^f \\approx \\gamma \\sigma_g \\sigma[R_i] \\rho[R_i, g]$，代入这些经验值，要求 RRA 系数 $\\gamma$ 必须高达 $\\mathbf{100}$ 左右才能匹配 $8\\%$ 的股权溢价 。\n",
    "* **结论**：一个 $\\gamma = 100$ 的风险厌恶程度被认为**极不合理**，因为这意味着个体为了避免微小的消费波动，愿意放弃巨额的期望回报。因此，**平均超额股票回报太高**，无法用合理的风险厌恶系数来解释 。\n",
    "\n",
    "## 2. 无风险利率之谜 (Riskfree Rate Puzzle)\n",
    "\n",
    "这个谜题与股权溢价之谜相伴而生 。\n",
    "\n",
    "* **问题所在**：对于大多数能稍微匹配股权溢价的风险厌恶水平 $\\gamma$，基本 CCAPM 预测的无风险利率 $r^f$ 要**高于**实际观察到的水平 。\n",
    "* **公式分析**：根据 CRRA-lognormal 模型，对数无风险利率为 $r^f = \\delta + \\gamma\\bar{g} - \\frac{1}{2}\\gamma^2\\sigma_g^2$ 。\n",
    "    * 为了匹配股权溢价，我们必须提高 $\\gamma$，但这会同时导致 $r^f$ 被提高（因为 $\\gamma$ 前面的 $\\bar{g}$ 项通常占主导）。\n",
    "    * 为了使 $r^f$ 接近观察值，我们需要一个**非常低**，甚至是**显著为负**的贴现率 $\\delta$ ，这意味着个体对未来消费的重视程度极高，或者说时间偏好极低，这被认为是**不合理**的 。\n",
    "\n",
    "## 3. 可预测性之谜 (Predictability Puzzle)\n",
    "\n",
    "* **问题所在**：实际市场数据表明，利率、夏普比率、期望回报和波动率都会随商业周期**反周期性**地变化 。换句话说，股票回报似乎在一定程度上是可预测的，例如通过市盈率、周期性调整市盈率 (CAPE) 或 GDP 增长率等指标 。\n",
    "* **模型要求**：在具有单商品时间可加效用的基本 CCAPM 中，要解释这种可预测性，需要**时变的相对风险厌恶 ($\\gamma(c_t)$)** 和/或**时变的资产-消费协方差** 。\n",
    "\n",
    "## 4. 横截面股票收益之谜 (Cross-Sectional Stock Return Puzzle)\n",
    "\n",
    "* **问题所在**：CCAPM 的核心是 $\\beta[R_i, g]$（资产 $i$ 回报对消费增长的 $\\beta$）应该能够解释不同资产平均回报的差异 。然而，简单的 CCAPM **只能解释一小部分**不同股票平均回报的差异 。\n",
    "* **具体表现**：模型未能解释著名的 **价值溢价**（价值股回报高于成长股）和 **规模溢价**（小盘股回报高于大盘股）。这意味着消费 $\\beta$ 似乎不是一个足以解释股票横截面回报差异的因子。\n",
    "\n",
    "## 5. 波动率之谜 (Volatility Puzzle)\n",
    "\n",
    "* **问题所在**：股票回报相对于总股息或总消费来说**波动性太大** 。\n",
    "* **模型要求**：在简单的 CRRA-lognormal 模型中，股票回报的波动率近似等于股息波动率 。为了解决这个谜题，模型需要**状态价格紧缩因子 ($\\zeta$) 中有更多的变动** 。\n",
    "\n"
   ]
  },
  {
   "cell_type": "markdown",
   "id": "82fe24e2-a0db-4b3c-a209-19ed15c584e9",
   "metadata": {},
   "source": []
  }
 ],
 "metadata": {
  "kernelspec": {
   "display_name": "Python 3 (ipykernel)",
   "language": "python",
   "name": "python3"
  },
  "language_info": {
   "codemirror_mode": {
    "name": "ipython",
    "version": 3
   },
   "file_extension": ".py",
   "mimetype": "text/x-python",
   "name": "python",
   "nbconvert_exporter": "python",
   "pygments_lexer": "ipython3",
   "version": "3.9.17"
  }
 },
 "nbformat": 4,
 "nbformat_minor": 5
}
