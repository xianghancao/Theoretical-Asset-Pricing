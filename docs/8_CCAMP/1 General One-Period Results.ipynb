{
 "cells": [
  {
   "cell_type": "markdown",
   "id": "966e9e97-ea7a-4b0b-bc5a-dadf1126feb1",
   "metadata": {},
   "source": [
    "# 一般单期结果 (General One-Period Results)\n",
    "\n",
    "## 状态价格紧缩因子 (State-Price Deflator)\n",
    "\n",
    "对于任何具有**时间可加期望效用**的个体，状态价格紧缩因子 ($\\zeta$) 定义为 ：\n",
    "$$\\zeta = e^{-\\delta}\\frac{u'(c)}{u'(c_0)}$$\n",
    "其中：\n",
    "* $c_0$ 和 $c$ 是个体的最优消费计划 。\n",
    "* $\\delta$ 是折现因子 $\\beta=e^{-\\delta}$ 的对数（或负的对数）。\n",
    "* $u'(c)$ 是边际效用。\n",
    "* 如果经济中存在**代表性个体** (representative individual)，则 $c$ 和 $c_0$ 代表**总消费** (aggregate consumption) 。\n",
    "\n",
    "如果使用**幂效用函数 (Power Utility)** $u(c)=\\frac{1}{1-\\gamma}c^{1-\\gamma}$，则边际效用 $u'(c)=c^{-\\gamma}$，状态价格紧缩因子简化为 ：\n",
    "$$\\zeta = e^{-\\delta}\\left(\\frac{c}{c_0}\\right)^{-\\gamma}$$\n",
    "\n",
    "## 资产定价公式\n",
    "\n",
    "资产 $i$ 的价格 $P_i$、无风险总收益 $R^f$ 和期望总收益 $E[R_i]$ 可以用 $\\zeta$ 表示 ：\n",
    "\n",
    "1.  **资产价格**：\n",
    "    $$P_{i} = E[\\zeta D_{i}]$$\n",
    "    其中 $D_i$ 是资产 $i$ 的未来股息或回报 。\n",
    "2.  **无风险收益**：\n",
    "    $$R^{f} = \\frac{1}{E[\\zeta]} = e^{\\delta}\\frac{1}{E[u'(c)/u'(c_0)]} \\quad \\text{(Gross risk-free return)}$$ \n",
    "3.  **期望超额收益** (Expected Excess Return)：\n",
    "    $$E[R_{i}] - R^{f} = -\\frac{Cov[R_{i},\\zeta]}{E[\\zeta]} = -\\frac{Cov[u'(c)/u'(c_0),R_{i}]}{E[u'(c)/u'(c_0)]}$$ \n",
    "\n",
    "---\n",
    "\n",
    "## CRRA-对数正态模型 (The CRRA-lognormal Model)\n",
    "\n",
    "这是 CCAPM 的一个“简单模型”版本，它做出了两个特定假设 ：\n",
    "\n",
    "1.  **CRRA 效用**：个体具有 $u(c)=c^{1-\\gamma}/(1-\\gamma)$ 效用 。\n",
    "2.  **对数正态消费增长**：消费增长的对数 $\\ln(c/c_0)$ 服从正态分布 $N(\\bar{g}, \\sigma_g^2)$ 。\n",
    "\n",
    "### 收益率的推导 (Implications for Returns)\n",
    "\n",
    "在这个模型下，可以得到无风险收益率和风险溢价的精确或近似表达式：\n",
    "\n",
    "1.  **无风险收益率 ($R^f$)**：\n",
    "    $$R^{f} = \\exp\\left\\{\\delta + \\gamma\\bar{g} - \\frac{1}{2}\\gamma^2\\sigma_g^2\\right\\}$$ \n",
    "    * **对数无风险收益率 ($r^f = \\ln R^f$)**：\n",
    "        $$r^f = \\delta + \\gamma\\bar{g} - \\frac{1}{2}\\gamma^2\\sigma_g^2$$ \n",
    "\n",
    "2.  **期望超额收益** ($E[R_i] - R^f$)：\n",
    "    $$\\mathbb{E}[R_{i}] - R^{f} \\approx \\gamma\\sigma_g \\sigma[R_i] |\\rho[R_i, g]| = \\beta[R_i, g] \\gamma\\sigma_g^2$$ \n",
    "    这个结果表明，资产的风险溢价**与其对消费增长 $g = \\ln(c/c_0)$ 的协方差成正比**，其中 $\\gamma$ 是相对风险厌恶系数 。\n"
   ]
  },
  {
   "cell_type": "markdown",
   "id": "3950afe6-cffd-4656-878b-75ee51c68c32",
   "metadata": {},
   "source": []
  }
 ],
 "metadata": {
  "kernelspec": {
   "display_name": "Python 3 (ipykernel)",
   "language": "python",
   "name": "python3"
  },
  "language_info": {
   "codemirror_mode": {
    "name": "ipython",
    "version": 3
   },
   "file_extension": ".py",
   "mimetype": "text/x-python",
   "name": "python",
   "nbconvert_exporter": "python",
   "pygments_lexer": "ipython3",
   "version": "3.9.17"
  }
 },
 "nbformat": 4,
 "nbformat_minor": 5
}
