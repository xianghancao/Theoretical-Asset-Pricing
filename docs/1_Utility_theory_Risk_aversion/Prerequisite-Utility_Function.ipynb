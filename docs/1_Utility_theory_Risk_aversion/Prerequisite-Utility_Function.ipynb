{
 "cells": [
  {
   "cell_type": "markdown",
   "id": "9aae0f40-9be4-4dfb-b582-fa5b7578e05e",
   "metadata": {},
   "source": [
    "# Prerequisite: Utility Function"
   ]
  },
  {
   "cell_type": "markdown",
   "id": "7d9a78b4-14b9-4168-a649-bf6be79647dc",
   "metadata": {},
   "source": [
    "## \"Utility\" Meaning\n",
    "\n",
    "\"Utility\" refers to the satisfaction or happiness an individual derives from goods, wealth, or outcomes.\n",
    "In economics, it’s an abstract concept used to quantify preferences. For instance, a person might prefer higher wealth $ Y $ or more stable returns, which a utility function can mathematically express.\n",
    "\n",
    "\n",
    "## \"Function\" Role\n",
    "\n",
    "\"Function\" indicates it’s a mathematical function that maps an input (e.g., wealth $ Y $) to a utility value $ u(Y) $.\n",
    "Specific forms like $ u(Y) = \\ln(Y) $ or $ u(Y) = \\frac{1}{1-\\rho} Y^{1-\\rho} $ provide rules for how $ Y $ influences satisfaction or decision-making.\n",
    "\n",
    "\n",
    "## Historical and Theoretical Background\n",
    "\n",
    "The concept was introduced in the 18th century by economists like Daniel Bernoulli (e.g., to address the St. Petersburg Paradox) and formalized in the 20th century by von Neumann and Morgenstern in expected utility theory.\n",
    "The name \"utility function\" reflects its role in translating subjective preferences into a quantifiable mathematical tool for analysis and optimization.\n",
    "\n",
    "\n",
    "Applications in Finance:\n",
    "\n",
    "In your field (e.g., GSF or NFN PhD studies), utility functions model investor risk preferences:\n",
    "\n",
    "- $ u(Y) = -e^{-\\alpha Y} $ (negative exponential utility): Represents constant absolute risk aversion (CARA), common in asset pricing.\n",
    "- $ u(Y) = \\ln(Y) $: Log utility, reflecting constant relative risk aversion (CRRA), often used in portfolio choice.\n",
    "- $ u(Y) = \\frac{1}{1-\\rho} Y^{1-\\rho} $ (CRRA form): Parameter $ \\rho $ controls risk aversion, widely used in consumption and investment models.\n",
    "- $ u(Y) = \\alpha Y - \\beta Y^2 $: Quadratic utility, where risk aversion varies with wealth, applicable to specific investment analyses.\n",
    "\n",
    "\n",
    "The term \"utility\" emphasizes measuring the \"satisfaction\" or \"benefit\" investors derive from wealth or returns, guiding optimal decisions (e.g., maximizing expected utility).\n",
    "\n",
    "\n",
    "Why This Name?\n",
    "\n",
    "The name intuitively conveys its purpose: capturing the \"usefulness\" or \"satisfaction\" from outcomes, formalized through a mathematical function.\n",
    "It distinguishes utility functions from others (e.g., production or cost functions), as it focuses on preferences and subjective value rather than physical output.\n",
    "\n",
    "\n",
    "\n"
   ]
  },
  {
   "cell_type": "markdown",
   "id": "4055eb58-b4ec-48b7-98fd-db7b291fe797",
   "metadata": {},
   "source": [
    "\n",
    "## \"Utility\" 的含义：\n",
    "\n",
    "\"Utility\" 在英语中意为“效用”或“效用价值”，指的是个体从商品、财富或结果中获得的满意度或幸福感。\n",
    "在经济学中，效用是一个抽象概念，用来量化偏好。例如，一个人可能更倾向于更高的财富 $ Y $ 或更稳定的收益，这可以通过效用函数来数学化表示。\n",
    "\n",
    "\n",
    "\"Function\" 的作用：\n",
    "\n",
    "\"Function\" 表示这是一个数学函数，将输入（如财富 $ Y $）映射到效用值 $ u(Y) $。\n",
    "效用函数的形式（如 $ u(Y) = \\ln(Y) $ 或 $ u(Y) = \\frac{1}{1-\\rho} Y^{1-\\rho} $）提供了具体规则，描述 $ Y $ 如何影响满意度或决策。\n",
    "\n",
    "\n",
    "## 历史与理论背景：\n",
    "\n",
    "效用函数的概念起源于 18 世纪的经济学家（如丹尼尔·伯努利），用于解释风险决策（例如圣彼得堡悖论），并在 20 世纪由冯·诺伊曼和摩根斯坦在博弈论和期望效用理论中正式发展。\n",
    "名称“utility function” 反映了它将主观偏好转化为可量化的数学工具，方便分析和优化。\n",
    "\n",
    "\n",
    "## 金融领域的应用：\n",
    "\n",
    "在你的研究领域（例如 GSF 或 NFN 的金融博士课程），效用函数用于建模投资者的风险偏好：\n",
    "\n",
    "- $ u(Y) = -e^{-\\alpha Y} $（负指数效用）：表示恒定绝对风险规避（CARA），常用于资产定价。\n",
    "- $ u(Y) = \\ln(Y) $：表示对数效用，反映恒定相对风险规避（CRRA），常见于投资组合选择。\n",
    "- $ u(Y) = \\frac{1}{1-\\rho} Y^{1-\\rho} $（CRRA 形式）：参数 $ \\rho $ 控制风险规避程度，广泛用于消费和投资模型。\n",
    "- $ u(Y) = \\alpha Y - \\beta Y^2 $：二次效用，反映风险规避随财富增加而变化，适用于特定投资分析。\n",
    "\n",
    "\n",
    "这些函数的名字“utility” 强调它们衡量投资者从财富或收益中获得的“效用”，并指导最优决策（如最大化期望效用）。\n",
    "\n",
    "\n",
    "为什么这样命名？\n",
    "\n",
    "名称直观地传达了其目的：捕捉个体对结果的“有用性”或“满意度”，并通过数学形式（函数）使其可分析。\n",
    "它区别于其他函数（如生产函数或成本函数），因为它聚焦于偏好和主观价值，而非物理输出。\n",
    "\n",
    "\n",
    "\n",
    "总结\n",
    "“Utility function” 之所以叫这个名字，是因为它是一个数学函数，用于量化个体从财富、消费或收益中获得的效用或满意度。在金融中，它是分析风险偏好、投资决策和资产定价的关键工具，名字反映了其从主观偏好到客观量化的桥梁作用。\n"
   ]
  },
  {
   "cell_type": "markdown",
   "id": "a696e2b4-70c7-4eb7-aabe-0674e43c5805",
   "metadata": {},
   "source": []
  },
  {
   "cell_type": "markdown",
   "id": "af160ebc-0c26-48a7-b985-0028f8057ad7",
   "metadata": {},
   "source": []
  },
  {
   "cell_type": "markdown",
   "id": "37fd5b72-a431-4c1b-973a-6d4b873f9c5b",
   "metadata": {},
   "source": []
  }
 ],
 "metadata": {
  "kernelspec": {
   "display_name": "Python 3 (ipykernel)",
   "language": "python",
   "name": "python3"
  },
  "language_info": {
   "codemirror_mode": {
    "name": "ipython",
    "version": 3
   },
   "file_extension": ".py",
   "mimetype": "text/x-python",
   "name": "python",
   "nbconvert_exporter": "python",
   "pygments_lexer": "ipython3",
   "version": "3.9.17"
  }
 },
 "nbformat": 4,
 "nbformat_minor": 5
}
