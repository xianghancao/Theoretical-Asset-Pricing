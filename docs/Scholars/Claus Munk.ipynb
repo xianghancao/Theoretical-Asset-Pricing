{
 "cells": [
  {
   "cell_type": "markdown",
   "id": "5accfca2-d0d6-41af-ab7e-adef405530ed",
   "metadata": {},
   "source": [
    "# Claus Munk"
   ]
  },
  {
   "cell_type": "markdown",
   "id": "545d0dd2-8ba2-46ad-99ca-51ac713cd3b9",
   "metadata": {},
   "source": [
    "### <img src=\"https://lh5.googleusercontent.com/uJwq1CgOcSnWUqzbTMhA2uiKCzw0rpPvV2ugW33cTt4GPdaRGq0O-7DMJlDMjYFh9PSq6FFxdmbSMn6qlRLhq8VrxEFVkkZRIdzcIyXsVaHWYzHgpk_txYgoLzlwyPgaXqDslPNX9OvUQgLAW6WIIgL_0tH6E3ybG4jA=w1280\" width=200>\n",
    "\n",
    "https://sites.google.com/view/clausmunk/home"
   ]
  },
  {
   "cell_type": "markdown",
   "id": "57dfeda3-a4ca-4ced-871e-62dea7c51602",
   "metadata": {},
   "source": [
    "## Contributions"
   ]
  },
  {
   "cell_type": "markdown",
   "id": "8cac1b77-22d9-4a42-b619-9badc3d46adf",
   "metadata": {},
   "source": [
    "### Life-Cycle Finance"
   ]
  },
  {
   "cell_type": "markdown",
   "id": "3035e47f-c98d-4963-8e88-73affacf7fbe",
   "metadata": {},
   "source": [
    "Munk 的研究通过将现实因素（如住房、劳动力收入不确定性和通胀）融入经典生命周期模型，显著推进了该领域的理论和实践应用。"
   ]
  },
  {
   "cell_type": "markdown",
   "id": "7457ea31-767e-437d-8743-1e30938ecf00",
   "metadata": {},
   "source": [
    "### Dynamic Asset Allocation"
   ]
  },
  {
   "cell_type": "markdown",
   "id": "8b6eed58-0e44-4226-85dc-b98dc8b06e68",
   "metadata": {},
   "source": [
    "Munk 在动态资产配置领域的研究聚焦于开发数学模型和分析现实约束下的最优投资策略，为理论和实践提供了重要贡献。"
   ]
  },
  {
   "cell_type": "code",
   "execution_count": null,
   "id": "4a2d614f-e9b9-4e65-8e1b-1a79813e5b62",
   "metadata": {},
   "outputs": [],
   "source": []
  }
 ],
 "metadata": {
  "kernelspec": {
   "display_name": "Python 3 (ipykernel)",
   "language": "python",
   "name": "python3"
  },
  "language_info": {
   "codemirror_mode": {
    "name": "ipython",
    "version": 3
   },
   "file_extension": ".py",
   "mimetype": "text/x-python",
   "name": "python",
   "nbconvert_exporter": "python",
   "pygments_lexer": "ipython3",
   "version": "3.9.17"
  }
 },
 "nbformat": 4,
 "nbformat_minor": 5
}
