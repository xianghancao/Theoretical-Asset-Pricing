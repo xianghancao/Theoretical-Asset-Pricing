{
 "cells": [
  {
   "cell_type": "markdown",
   "id": "33d88eaa-9720-4a3c-a0a5-eed69d57f7b0",
   "metadata": {},
   "source": [
    "# Payoffs"
   ]
  },
  {
   "cell_type": "markdown",
   "id": "c1e9ec07-2113-4cb1-b2f7-690915ec7fce",
   "metadata": {},
   "source": [
    "## Key Insight\n",
    "\n",
    "Assets with identical expected payoffs can have different values based on their risk-diversifying properties.\n",
    "\n"
   ]
  },
  {
   "cell_type": "markdown",
   "id": "5b900792-e790-49a3-8582-1a13c30b6556",
   "metadata": {},
   "source": [
    "## Example\n",
    "Two assets with the same expected payoff (2.5 units) differ in value. Asset 1 (payoffs {1, 2, 3, 4}) reduces consumption variability, making it more valuable (higher price, lower expected return) than Asset 2 (payoffs {4, 3, 2, 1}).\n",
    "Implication: Expected return $ E[r_i] = \\frac{E[D_i]}{P_i} - 1 $ is lower for Asset 1 due to its higher price, despite equal payoff variance. Asset pricing depends on systematic risk (covariance with consumption), not individual variance.\n"
   ]
  }
 ],
 "metadata": {
  "kernelspec": {
   "display_name": "Python 3 (ipykernel)",
   "language": "python",
   "name": "python3"
  },
  "language_info": {
   "codemirror_mode": {
    "name": "ipython",
    "version": 3
   },
   "file_extension": ".py",
   "mimetype": "text/x-python",
   "name": "python",
   "nbconvert_exporter": "python",
   "pygments_lexer": "ipython3",
   "version": "3.9.17"
  }
 },
 "nbformat": 4,
 "nbformat_minor": 5
}
