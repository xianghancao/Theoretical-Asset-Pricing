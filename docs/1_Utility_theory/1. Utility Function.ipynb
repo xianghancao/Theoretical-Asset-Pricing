{
 "cells": [
  {
   "cell_type": "markdown",
   "id": "9aae0f40-9be4-4dfb-b582-fa5b7578e05e",
   "metadata": {},
   "source": [
    "# Utility Function"
   ]
  },
  {
   "cell_type": "markdown",
   "id": "7d9a78b4-14b9-4168-a649-bf6be79647dc",
   "metadata": {},
   "source": [
    "## 1. Definition\n",
    "### 1.1 \"Utility\" Meaning\n",
    "\n",
    "\"Utility\" refers to the satisfaction or happiness an individual derives from goods, wealth, or outcomes.\n",
    "In economics, it’s an abstract concept used to quantify preferences. For instance, a person might prefer higher wealth $ Y $ or more stable returns, which a utility function can mathematically express.\n",
    "\n",
    "The concept was introduced in the 18th century by economists like Daniel Bernoulli (e.g., to address the St. Petersburg Paradox) and formalized in the 20th century by von Neumann and Morgenstern in expected utility theory.\n",
    "The name \"utility function\" reflects its role in translating subjective preferences into a quantifiable mathematical tool for analysis and optimization.\n",
    "\n"
   ]
  },
  {
   "cell_type": "markdown",
   "id": "653a4674-16df-4202-9edb-bd683709f111",
   "metadata": {},
   "source": [
    "\n",
    "\n",
    "\n",
    "The term \"utility\" emphasizes measuring the \"satisfaction\" or \"benefit\" investors derive from wealth or returns, guiding optimal decisions (e.g., maximizing expected utility).\n",
    "\n",
    "\n",
    "\n",
    "The name intuitively conveys its purpose: capturing the \"usefulness\" or \"satisfaction\" from outcomes, formalized through a mathematical function.\n",
    "It distinguishes utility functions from others (e.g., production or cost functions), as it focuses on preferences and subjective value rather than physical output.\n",
    "\n",
    "\n"
   ]
  },
  {
   "cell_type": "markdown",
   "id": "53e261a5-6285-4d79-b46c-0522eb8ced22",
   "metadata": {},
   "source": [
    "### 1.2 Utility Functions\n",
    "**Utility Functions** are mathematical functions that map an input (e.g., wealth $ c $) to a utility value $ u(c) $, which provide rules for how $ Y $ influences satisfaction or decision-making.\n",
    "\n",
    "#### 1.2.1 Power Utility\n",
    " $$ u(c) = \\frac{1}{1-\\gamma}c^{1-\\gamma} $$, where $ \\gamma > 1 $ indicates relative risk aversion greater than 1\n",
    "\n",
    "$$u'(c) = c^{-\\gamma}$$\n",
    " "
   ]
  },
  {
   "cell_type": "markdown",
   "id": "df90dd2e-b713-4226-9b74-af38d298b303",
   "metadata": {},
   "source": [
    "#### 1.2.2 Negative exponential utility\n",
    "$$ u(Y) = -e^{-\\alpha Y} $$\n",
    "Represents constant absolute risk aversion (CARA), common in asset pricing.\n"
   ]
  },
  {
   "cell_type": "markdown",
   "id": "d6e5f93c-cfb9-4caf-8366-f49befe011f6",
   "metadata": {},
   "source": [
    "#### 1.2.3 Log utility"
   ]
  },
  {
   "cell_type": "markdown",
   "id": "fd04010e-fe46-48b1-92c9-295ac9ffaa1f",
   "metadata": {},
   "source": [
    "$$ u(Y) = \\ln(Y) $$\n",
    "reflecting constant relative risk aversion (CRRA), often used in portfolio choice.\n"
   ]
  },
  {
   "cell_type": "markdown",
   "id": "1c3f5de4-ad78-4518-81ed-478664df38ac",
   "metadata": {},
   "source": [
    "#### 1.2.4 CRRA form"
   ]
  },
  {
   "cell_type": "markdown",
   "id": "7018dead-c382-40fe-87f8-808f7be80499",
   "metadata": {},
   "source": [
    "$$u(Y) = \\frac{1}{1-\\rho} Y^{1-\\rho} $$ \n",
    "Parameter $ \\rho $ controls risk aversion, widely used in consumption and investment models.\n"
   ]
  },
  {
   "cell_type": "markdown",
   "id": "356b609c-b061-4786-bff6-a8541e3303e1",
   "metadata": {},
   "source": [
    "#### 1.2.5 Quadratic utility\n",
    "$$ u(Y) = \\alpha Y - \\beta Y^2 $$\n",
    "where risk aversion varies with wealth, applicable to specific investment analyses.\n"
   ]
  },
  {
   "cell_type": "markdown",
   "id": "a696e2b4-70c7-4eb7-aabe-0674e43c5805",
   "metadata": {},
   "source": [
    "## 2. Example"
   ]
  },
  {
   "cell_type": "markdown",
   "id": "e3a4227f-c4a7-433f-9162-e70a3e4a679a",
   "metadata": {},
   "source": [
    "Consider a representative agent with power utility and relative risk\n",
    "aversion coefficient $\\gamma > 1$ who consumes an economy’s aggregate consumption\n",
    "$c_{t+1}$ at $t + 1$."
   ]
  },
  {
   "cell_type": "markdown",
   "id": "95cd34c1-c940-4ebf-a81c-86b5343ac6c3",
   "metadata": {},
   "source": [
    "The agent's utility function is of the power form: $ U(c) = \\frac{c^{1-\\gamma}}{1-\\gamma} $, where $ \\gamma > 1 $ indicates relative risk aversion greater than 1.\n",
    "Higher $ \\gamma $ implies the agent is more risk-averse, meaning they discount future consumption more heavily when it is uncertain."
   ]
  },
  {
   "cell_type": "markdown",
   "id": "af160ebc-0c26-48a7-b985-0028f8057ad7",
   "metadata": {},
   "source": []
  },
  {
   "cell_type": "markdown",
   "id": "37fd5b72-a431-4c1b-973a-6d4b873f9c5b",
   "metadata": {},
   "source": []
  }
 ],
 "metadata": {
  "kernelspec": {
   "display_name": "Python 3 (ipykernel)",
   "language": "python",
   "name": "python3"
  },
  "language_info": {
   "codemirror_mode": {
    "name": "ipython",
    "version": 3
   },
   "file_extension": ".py",
   "mimetype": "text/x-python",
   "name": "python",
   "nbconvert_exporter": "python",
   "pygments_lexer": "ipython3",
   "version": "3.9.17"
  }
 },
 "nbformat": 4,
 "nbformat_minor": 5
}
