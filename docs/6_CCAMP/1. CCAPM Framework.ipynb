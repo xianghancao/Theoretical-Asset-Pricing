{
 "cells": [
  {
   "cell_type": "markdown",
   "id": "c087029b-0ce4-4ac5-8b72-4426015d0ac0",
   "metadata": {},
   "source": [
    "# 1. CCAPM Framework"
   ]
  },
  {
   "cell_type": "markdown",
   "id": "b8a7938a-6e76-4c20-8187-46a3599f4bd7",
   "metadata": {},
   "source": [
    "## 1. Introduction to Consumption-Based Asset Pricing (CCAPM)\n",
    "\n",
    "Objective: Move beyond mechanical derivation of state prices and stochastic discount factors (SDF) to provide economic structure by linking the SDF to observable variables, enabling empirically testable asset pricing models.\n",
    "Focus: CCAPM relates the SDF to consumption, modeling how investors' consumption decisions drive asset prices and expected returns."
   ]
  },
  {
   "cell_type": "markdown",
   "id": "5d5797c5-2113-4081-9671-6ae12fdd6869",
   "metadata": {},
   "source": [
    "## 2. Deriving the Stochastic Discount Factor in CCAPM\n",
    "\n",
    "Investor’s Problem:\n",
    "\n",
    "Consider an investor who can buy or sell an asset with price $ P_{t,i} $ at time $ t $ and payoff $ D_{t+1,i} $ at time $ t+1 $. The investor chooses the amount $ x $ of the asset to maximize expected utility:\n",
    "$$\\max_x u(c_t) + E_t[\\delta u(c_{t+1})]$$\n",
    "subject to:\n",
    "$$c_t = e_t - P_{t,i} x, \\quad c_{t+1} = e_{t+1} + D_{t+1,i} x$$\n",
    "where:\n",
    "\n",
    "$ e_t, e_{t+1} $: Endowment consumption at times $ t $ and $ t+1 $.\n",
    "$ c_t, c_{t+1} $: Actual consumption after buying/selling $ x $ units of the asset.\n",
    "$ \\delta $: Subjective time-preference factor.\n",
    "\n",
    "\n",
    "\n",
    "\n",
    "Optimization:\n",
    "\n",
    "Substituting constraints into the objective function:\n",
    "$$\\max_x u(e_t - P_{t,i} x) + E_t[\\delta u(e_{t+1} + D_{t+1,i} x)]$$\n",
    "\n",
    "First-order condition (FOC) using the chain rule, setting the derivative with respect to $ x $ to zero:\n",
    "$$-P_{t,i} u'(c_t) + E_t[\\delta u'(c_{t+1}) D_{t+1,i}] = 0$$\n",
    "$$P_{t,i} u'(c_t) = E_t[\\delta u'(c_{t+1}) D_{t+1,i}]$$\n",
    "\n",
    "\n",
    "\n",
    "Economic Intuition:\n",
    "\n",
    "At the optimum, the marginal utility lost from reducing consumption today (to buy the asset) equals the expected marginal utility gained from the asset’s payoff tomorrow.\n",
    "If $ P_{t,i} u'(c_t) < E_t[\\delta u'(c_{t+1}) D_{t+1,i}] $, the investor buys more of the asset, reducing today’s consumption (increasing $ u'(c_t) $) and increasing tomorrow’s consumption (decreasing $ u'(c_{t+1}) $) until equality holds.\n"
   ]
  },
  {
   "cell_type": "markdown",
   "id": "5f127693-e93a-4af4-82c5-e370e1c5bc80",
   "metadata": {},
   "source": [
    "## 3. Basic Pricing Equation\n",
    "\n",
    "Price Form:\n",
    "$$P_{t,i} = E_t\\left[\\delta \\frac{u'(c_{t+1})}{u'(c_t)} D_{t+1,i}\\right]$$\n",
    "Define the SDF as:\n",
    "$$z_{t+1} = \\delta \\frac{u'(c_{t+1})}{u'(c_t)}$$\n",
    "Thus:\n",
    "$$P_{t,i} = E_t[z_{t+1} D_{t+1,i}]$$\n",
    "\n",
    "Return Form:\n",
    "\n",
    "For gross return $ R_{t+1,i} = \\frac{D_{t+1,i}}{P_{t,i}} $:\n",
    "$$1 = E_t[z_{t+1} R_{t+1,i}]$$\n",
    "\n",
    "\n",
    "\n",
    "Interpretation:\n",
    "\n",
    "The SDF $ z_{t+1} $ discounts future payoffs based on time preference ($ \\delta $) and the marginal utility ratio, which reflects risk aversion and consumption smoothing.\n",
    "Assets with high payoffs in states where consumption is low (high $ u'(c_{t+1}) $) have higher prices (lower expected returns) due to their hedging value.\n",
    "\n"
   ]
  },
  {
   "cell_type": "markdown",
   "id": "15ec3b40-5eb9-44b2-9c72-75c957280251",
   "metadata": {},
   "source": []
  }
 ],
 "metadata": {
  "kernelspec": {
   "display_name": "Python 3 (ipykernel)",
   "language": "python",
   "name": "python3"
  },
  "language_info": {
   "codemirror_mode": {
    "name": "ipython",
    "version": 3
   },
   "file_extension": ".py",
   "mimetype": "text/x-python",
   "name": "python",
   "nbconvert_exporter": "python",
   "pygments_lexer": "ipython3",
   "version": "3.9.17"
  }
 },
 "nbformat": 4,
 "nbformat_minor": 5
}
