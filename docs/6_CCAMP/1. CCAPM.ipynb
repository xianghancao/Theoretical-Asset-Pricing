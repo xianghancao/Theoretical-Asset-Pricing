{
 "cells": [
  {
   "cell_type": "markdown",
   "id": "c087029b-0ce4-4ac5-8b72-4426015d0ac0",
   "metadata": {},
   "source": [
    "# CCAMP"
   ]
  },
  {
   "cell_type": "markdown",
   "id": "82a88fa0-92c2-4d7b-9add-114f4383adaf",
   "metadata": {},
   "source": [
    "## 1. Definition"
   ]
  },
  {
   "cell_type": "markdown",
   "id": "dddc4250-34c9-4889-8c4f-ce680148f200",
   "metadata": {},
   "source": [
    "### 1.1 Optimization Problem"
   ]
  },
  {
   "cell_type": "markdown",
   "id": "5d5797c5-2113-4081-9671-6ae12fdd6869",
   "metadata": {},
   "source": [
    "Consider an investor who can buy or sell an asset with price $ P_{t,i} $ at time $ t $ and payoff $ D_{t+1,i} $ at time $ t+1 $. The investor chooses the amount $ x $ of the asset to maximize expected utility:\n",
    "$$\\max_x u(c_t) + E_t[\\delta u(c_{t+1})]$$\n",
    "subject to:\n",
    "\\begin{align}c_t &= e_t - P_{t,i} x \\\\  c_{t+1}&= e_{t+1} + D_{t+1,i} x\\end{align}\n",
    "where:\n",
    "\n",
    "- $ e_t, e_{t+1} $: Endowment consumption at times $ t $ and $ t+1 $.\n",
    "- $ c_t, c_{t+1} $: Actual consumption after buying/selling $ x $ units of the asset.\n",
    "- $ \\delta $: Subjective time-preference factor (time discount factor).\n",
    "\n",
    "\n",
    "\n"
   ]
  },
  {
   "cell_type": "markdown",
   "id": "d8869562-fb9c-461d-a042-9113474ba6ef",
   "metadata": {},
   "source": [
    "\n",
    "\n",
    "Substituting constraints into the objective function:\n",
    "$$\\max_x u(e_t - P_{t,i} x) + E_t[\\delta u(e_{t+1} + D_{t+1,i} x)]$$\n",
    "\n",
    "First-order condition (FOC) using the chain rule, setting the derivative with respect to $ x $ to zero:\n",
    "$$-P_{t,i} u'(c_t) + E_t[\\delta u'(c_{t+1}) D_{t+1,i}] = 0$$\n",
    "$$P_{t,i} u'(c_t) = E_t[\\delta u'(c_{t+1}) D_{t+1,i}]$$\n"
   ]
  },
  {
   "cell_type": "markdown",
   "id": "55c16046-73b9-4bab-b35b-d015b09bc9a1",
   "metadata": {},
   "source": [
    "\n",
    "\n",
    "At the optimum, the marginal utility lost from reducing consumption today (to buy the asset) equals the expected marginal utility gained from the asset’s payoff tomorrow.\n",
    "If $ P_{t,i} u'(c_t) < E_t[\\delta u'(c_{t+1}) D_{t+1,i}] $, the investor buys more of the asset, reducing today’s consumption (increasing $ u'(c_t) $) and increasing tomorrow’s consumption (decreasing $ u'(c_{t+1}) $) until equality holds.\n"
   ]
  },
  {
   "cell_type": "markdown",
   "id": "5f127693-e93a-4af4-82c5-e370e1c5bc80",
   "metadata": {},
   "source": [
    "### 1.2 Pricing Equation\n",
    "\n",
    "Price Form:\n",
    "$$P_{t,i} = E_t\\left[\\delta \\frac{u'(c_{t+1})}{u'(c_t)} D_{t+1,i}\\right]$$\n",
    "Define the SDF as:\n",
    "$$\\zeta_{t+1} \\equiv \\delta \\frac{u'(c_{t+1})}{u'(c_t)}$$\n",
    "Thus:\n",
    "$$P_{t,i} = E_t[\\zeta_{t+1} D_{t+1,i}]$$\n"
   ]
  },
  {
   "cell_type": "markdown",
   "id": "054b9da4-286b-4196-b46d-cf2a83d4a55c",
   "metadata": {},
   "source": [
    "\n",
    "The SDF $ \\zeta_{t+1} $ discounts future payoffs based on time preference ($ \\delta $) and the marginal utility ratio $\\frac{u'(c_{t+1})}{u'(c_t)}$, which reflects risk aversion and consumption smoothing.\n",
    "\n",
    "Assets with high payoffs in states where consumption is low (high $ u'(c_{t+1}) $) have higher prices (lower expected returns) due to their hedging value.\n",
    "\n"
   ]
  },
  {
   "cell_type": "markdown",
   "id": "32452f17-647f-4dfb-bb9b-32455c2bb105",
   "metadata": {},
   "source": [
    "\n",
    "### 1.3 Gross Return\n",
    "\n",
    "For gross return $ R_{t+1,i} = \\frac{D_{t+1,i}}{P_{t,i}} $:\n",
    "$$\\frac{P_{t,i}}{P_{t,i}} = E_t[\\zeta_{t+1} \\frac{D_{t+1,i}}{P_{t,i}}]$$\n",
    "$$ 1 = E_t[\\zeta_{t+1} R_{t+1,i}]$$\n",
    "Expected gross return of the asset $E[R]$:\n",
    "$$E[R] = \\sum_{s=1}^S \\pi_s \\frac{d_s}{p} $$\n",
    "\n",
    "\n"
   ]
  },
  {
   "cell_type": "markdown",
   "id": "2d8e1cf4-043a-40c8-bcae-b57d4080f6bc",
   "metadata": {},
   "source": [
    "### 1.4 Risk-free Return"
   ]
  },
  {
   "cell_type": "markdown",
   "id": "d40cdfa5-e7a2-40f7-ae31-41c3f1d552f3",
   "metadata": {},
   "source": [
    "The gross risk-free return $ R_f $ is the return of an asset that pays the same amount in all states. It is derived from the condition that the price of a risk-free asset equals the present value of its payoff using the $\\zeta$:"
   ]
  },
  {
   "cell_type": "markdown",
   "id": "dc231994-1b55-447e-9ff8-7674231d1c3c",
   "metadata": {},
   "source": [
    "$$ 1 = E_t[\\zeta_{t+1} R_{t+1,rf}]$$\n",
    "$$1 = \\sum_{s=1}^S \\pi_s \\zeta_s R_f$$\n",
    "$$R_f = \\frac{1}{\\sum_{s=1}^S \\pi_s \\zeta_s} = \\frac{1}{E[\\zeta]}$$"
   ]
  },
  {
   "cell_type": "markdown",
   "id": "8c7ba699-5dc0-4b1a-b764-e1f42243622e",
   "metadata": {},
   "source": [
    "### 1.5 Risk Premium\n",
    "\n",
    "The risk premium is the difference between the expected gross return and the gross risk-free return:\n",
    "$$\\text{Risk Premium} = E[R] - R_f$$"
   ]
  },
  {
   "cell_type": "markdown",
   "id": "7e0caa59-8f12-4e02-96ac-da1cd479bd66",
   "metadata": {},
   "source": [
    "## 2. Example"
   ]
  },
  {
   "cell_type": "markdown",
   "id": "730fa8ae-bdb5-4fcc-8046-500f28ae6f78",
   "metadata": {},
   "source": []
  }
 ],
 "metadata": {
  "kernelspec": {
   "display_name": "Python 3 (ipykernel)",
   "language": "python",
   "name": "python3"
  },
  "language_info": {
   "codemirror_mode": {
    "name": "ipython",
    "version": 3
   },
   "file_extension": ".py",
   "mimetype": "text/x-python",
   "name": "python",
   "nbconvert_exporter": "python",
   "pygments_lexer": "ipython3",
   "version": "3.9.17"
  }
 },
 "nbformat": 4,
 "nbformat_minor": 5
}
