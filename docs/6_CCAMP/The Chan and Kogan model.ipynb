{
 "cells": [
  {
   "cell_type": "markdown",
   "id": "8d1e01a2-d774-4c5b-b68c-ef19719549e5",
   "metadata": {},
   "source": [
    "# The Chan and Kogan model"
   ]
  },
  {
   "cell_type": "markdown",
   "id": "21538289-1642-410a-b057-767b95ff3307",
   "metadata": {},
   "source": [
    "Let us take a closer look at the model of Chan and Kogan (2002). It is a continuous-time exchange economy in which the aggregate endowment/consumption \n",
    "$Y = (Y_t)$ follows the a geometric Brownian motion\n",
    "$$dY_t= Y_t [\\mu dt + \\sigma dz_t]$$\n",
    "where $\\mu>\\sigma^2, \\sigma > 0$ and $z=(z_t)$ is a one-dimensional standard Brownian motion."
   ]
  },
  {
   "cell_type": "markdown",
   "id": "d962e985-07d1-439c-b402-7e58a4a7c6ab",
   "metadata": {},
   "source": []
  }
 ],
 "metadata": {
  "kernelspec": {
   "display_name": "Python 3 (ipykernel)",
   "language": "python",
   "name": "python3"
  },
  "language_info": {
   "codemirror_mode": {
    "name": "ipython",
    "version": 3
   },
   "file_extension": ".py",
   "mimetype": "text/x-python",
   "name": "python",
   "nbconvert_exporter": "python",
   "pygments_lexer": "ipython3",
   "version": "3.9.17"
  }
 },
 "nbformat": 4,
 "nbformat_minor": 5
}
