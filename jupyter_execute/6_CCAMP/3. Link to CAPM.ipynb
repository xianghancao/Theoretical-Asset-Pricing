{
 "cells": [
  {
   "cell_type": "markdown",
   "id": "fbba313f-541e-4591-94b5-3f711c9856be",
   "metadata": {},
   "source": [
    "# 3. Link to CAPM"
   ]
  },
  {
   "cell_type": "markdown",
   "id": "4f2664d0-b003-4f52-93a3-1f6489097d28",
   "metadata": {},
   "source": [
    "## Relationship to CAPM\n",
    "\n",
    "Assumption: Suppose a portfolio with return $ R_{m,t+1} $ is perfectly negatively correlated with marginal utility:\n",
    "$$u'(c_{t+1}) = -k R_{m,t+1}, \\quad k > 0$$\n",
    "Thus, the SDF is:\n",
    "$$z_{t+1} = \\delta \\frac{u'(c_{t+1})}{u'(c_t)} = -\\delta \\frac{k R_{m,t+1}}{u'(c_t)}$$\n",
    "\n",
    "Covariances:\n",
    "$$\\text{Cov}_t[u'(c_{t+1}), R_{m,t+1}] = \\text{Cov}_t[-k R_{m,t+1}, R_{m,t+1}] = -k \\text{Var}_t[R_{m,t+1}]$$\n",
    "$$\\text{Cov}_t[u'(c_{t+1}), R_{t+1,i}] = \\text{Cov}_t[-k R_{m,t+1}, R_{t+1,i}] = -k \\text{Cov}_t[R_{m,t+1}, R_{t+1,i}]$$\n",
    "\n",
    "Market Portfolio Return:\n",
    "$$E_t[R_{m,t+1}] - R_f = -\\frac{\\text{Cov}_t[u'(c_{t+1}), R_{m,t+1}]}{E_t[u'(c_{t+1})]} = \\frac{k \\text{Var}_t[R_{m,t+1}]}{E_t[u'(c_{t+1})]}$$\n",
    "\n",
    "Asset Return:\n",
    "$$E_t[R_{t+1,i}] - R_f = -\\frac{\\text{Cov}_t[u'(c_{t+1}), R_{t+1,i}]}{E_t[u'(c_{t+1})]} = \\frac{k \\text{Cov}_t[R_{m,t+1}, R_{t+1,i}]}{E_t[u'(c_{t+1})]}$$\n",
    "\n",
    "CAPM Derivation:\n",
    "\n",
    "Divide the asset’s risk-return equation by the market’s:\n",
    "$$E_t[R_{t+1,i}] - R_f = \\frac{\\text{Cov}_t[R_{m,t+1}, R_{t+1,i}]}{\\text{Var}_t[R_{m,t+1}]} (E_t[R_{m,t+1}] - R_f) = \\beta_i (E_t[R_{m,t+1}] - R_f)$$\n",
    "where $ \\beta_i = \\frac{\\text{Cov}_t[R_{m,t+1}, R_{t+1,i}]}{\\text{Var}_t[R_{m,t+1}]} $.\n",
    "\n",
    "\n",
    "Interpretation:\n",
    "\n",
    "If the market portfolio’s return is perfectly negatively correlated with marginal utility, CCAPM reduces to CAPM, with expected returns driven by market beta.\n",
    "This assumes the market portfolio proxies consumption perfectly, which is restrictive and not always empirically valid.\n"
   ]
  },
  {
   "cell_type": "markdown",
   "id": "11b45b05-db79-4427-8e6f-86a6d55bc7ac",
   "metadata": {},
   "source": []
  }
 ],
 "metadata": {
  "kernelspec": {
   "display_name": "Python 3 (ipykernel)",
   "language": "python",
   "name": "python3"
  },
  "language_info": {
   "codemirror_mode": {
    "name": "ipython",
    "version": 3
   },
   "file_extension": ".py",
   "mimetype": "text/x-python",
   "name": "python",
   "nbconvert_exporter": "python",
   "pygments_lexer": "ipython3",
   "version": "3.9.17"
  }
 },
 "nbformat": 4,
 "nbformat_minor": 5
}