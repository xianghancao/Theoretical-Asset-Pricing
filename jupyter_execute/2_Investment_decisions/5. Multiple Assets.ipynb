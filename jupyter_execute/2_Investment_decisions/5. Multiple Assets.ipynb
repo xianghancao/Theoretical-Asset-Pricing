{
 "cells": [
  {
   "cell_type": "markdown",
   "id": "de98c15e-a8f8-43c7-9fde-bfab3782f809",
   "metadata": {},
   "source": [
    "# 5. Multiple Assets"
   ]
  },
  {
   "cell_type": "markdown",
   "id": "c4f8319d-06fc-43a5-be66-53795fbb1dd4",
   "metadata": {},
   "source": [
    "## Multiple Risky Assets\n",
    "\n",
    "Generalized Problem: Extend the model to $ N $ risky assets with stochastic returns $ (\\tilde{r}_1, \\tilde{r}_2, ..., \\tilde{r}_N) $. The investor allocates $ a_i $ to risky asset $ i $, with the remainder in the risk-free asset. The maximization problem is:\n",
    "$$\\max_{a_1, a_2, ..., a_N} E\\left[U\\left(Y_0(1 + r_f) + \\sum_{i=1}^N a_i(\\tilde{r}_i - r_f)\\right)\\right]$$\n",
    "\n",
    "Portfolio Weights: Define $ w_i = \\frac{a_i}{Y_0} $, the proportion of wealth in risky asset $ i $. The problem becomes:\n",
    "$$\\max_{w_1, w_2, ..., w_N} E\\left[U\\left(Y_0\\left[1 + r_f + \\sum_{i=1}^N w_i(\\tilde{r}_i - r_f)\\right]\\right)\\right]$$\n",
    "\n",
    "Total risky asset allocation: $ \\sum_{i=1}^N w_i $.\n",
    "Risk-free asset allocation: $ 1 - \\sum_{i=1}^N w_i $.\n",
    "Portfolio return: $ \\tilde{r}_p = (1 - \\sum_{i=1}^N w_i)r_f + \\sum_{i=1}^N w_i \\tilde{r}_i $.\n",
    "Thus, the problem simplifies to:\n",
    "$$\\max_{w_1, w_2, ..., w_N} E[U(Y_0(1 + \\tilde{r}_p))]$$\n",
    "\n"
   ]
  },
  {
   "cell_type": "markdown",
   "id": "c63d9f4d-71e6-4bda-9cc4-242415d0ba0a",
   "metadata": {},
   "source": []
  }
 ],
 "metadata": {
  "kernelspec": {
   "display_name": "Python 3 (ipykernel)",
   "language": "python",
   "name": "python3"
  },
  "language_info": {
   "codemirror_mode": {
    "name": "ipython",
    "version": 3
   },
   "file_extension": ".py",
   "mimetype": "text/x-python",
   "name": "python",
   "nbconvert_exporter": "python",
   "pygments_lexer": "ipython3",
   "version": "3.9.17"
  }
 },
 "nbformat": 4,
 "nbformat_minor": 5
}