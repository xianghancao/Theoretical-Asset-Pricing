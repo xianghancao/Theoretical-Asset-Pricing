{
 "cells": [
  {
   "cell_type": "markdown",
   "id": "7f57681a-8ce6-466b-9945-dac50221d193",
   "metadata": {},
   "source": [
    "# 4. Risk-Neutral Investors"
   ]
  },
  {
   "cell_type": "markdown",
   "id": "c4a0e81b-fcde-47fa-80d8-c069e6a37516",
   "metadata": {},
   "source": [
    "4. Example with Risk-Neutral Utility\n",
    "\n",
    "Setup: Risk-neutral investors have linear utility $ U(Y) = c + dY $, where $ d > 0 $, $ U'' = 0 $. The optimization problem becomes:\n",
    "$$\\max_a E[c + d(Y_0(1 + r_f) + a(\\tilde{r} - r_f))] = \\max_a [c + d(Y_0(1 + r_f) + a E[\\tilde{r} - r_f])]$$\n",
    "\n",
    "Result: If $ E[\\tilde{r} - r_f] > 0 $, expected utility increases with $ a $. A risk-neutral investor invests all wealth (or borrows to invest more) in the risky asset, i.e., $ a = Y_0 $ (or more if borrowing is allowed).\n"
   ]
  }
 ],
 "metadata": {
  "kernelspec": {
   "display_name": "Python 3 (ipykernel)",
   "language": "python",
   "name": "python3"
  },
  "language_info": {
   "codemirror_mode": {
    "name": "ipython",
    "version": 3
   },
   "file_extension": ".py",
   "mimetype": "text/x-python",
   "name": "python",
   "nbconvert_exporter": "python",
   "pygments_lexer": "ipython3",
   "version": "3.9.17"
  }
 },
 "nbformat": 4,
 "nbformat_minor": 5
}