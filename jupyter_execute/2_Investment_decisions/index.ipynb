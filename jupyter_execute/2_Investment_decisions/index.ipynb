{
 "cells": [
  {
   "cell_type": "markdown",
   "id": "9fa216b1-73e4-4979-bd5c-43078045197c",
   "metadata": {},
   "source": [
    "# 3 Investment Decisions"
   ]
  },
  {
   "cell_type": "markdown",
   "id": "646198ec-3921-41a1-a2cb-f0c96f8d6eb4",
   "metadata": {},
   "source": [
    "## Key Takeaways\n",
    "\n",
    "1. Portfolio Allocation: Investors maximize expected utility by balancing risk-free and risky assets, with optimal allocation determined by the FOC equating marginal utilities.\n",
    "2. Risk Aversion: Risk-averse investors invest in risky assets only if the expected return exceeds the risk-free rate, with the allocation increasing in the risk premium and decreasing in return dispersion.\n",
    "3. Logarithmic Utility: For CRRA utility, the risky asset allocation is wealth-independent, driven by the risk premium and return variability.\n",
    "4. Risk-Neutral Investors: Maximize risky asset investment when the risk premium is positive, ignoring variance.\n",
    "5. Multiple Assets: The framework extends to multiple risky assets, optimizing portfolio weights to maximize expected utility of total portfolio return.\n",
    "6. Mean-Variance Framework: Valid under quadratic utility or normal returns, allowing decisions based on mean and variance alone."
   ]
  },
  {
   "cell_type": "markdown",
   "id": "9e6d8383-9a82-4078-b2e7-8c16615d03a7",
   "metadata": {},
   "source": [
    "\n",
    "\n",
    "\n",
    "\n",
    "\n",
    "\n",
    "\n",
    "\n",
    "\n",
    "\n",
    "\n"
   ]
  }
 ],
 "metadata": {
  "kernelspec": {
   "display_name": "Python 3 (ipykernel)",
   "language": "python",
   "name": "python3"
  },
  "language_info": {
   "codemirror_mode": {
    "name": "ipython",
    "version": 3
   },
   "file_extension": ".py",
   "mimetype": "text/x-python",
   "name": "python",
   "nbconvert_exporter": "python",
   "pygments_lexer": "ipython3",
   "version": "3.9.17"
  }
 },
 "nbformat": 4,
 "nbformat_minor": 5
}