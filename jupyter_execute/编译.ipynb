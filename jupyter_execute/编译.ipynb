{
 "cells": [
  {
   "cell_type": "markdown",
   "id": "e19f66a2-b66a-4595-bec2-ef84a00627b8",
   "metadata": {},
   "source": [
    "jupyter-book:https://jupyterbook.org/en/stable/publish/gh-pages.html"
   ]
  },
  {
   "cell_type": "markdown",
   "id": "c6b9646d-558f-4e4f-a3c1-c3bdc97d818e",
   "metadata": {},
   "source": [
    "readthedocs: https://docs.readthedocs.com/platform/stable/tutorial/index.html"
   ]
  },
  {
   "cell_type": "markdown",
   "id": "418f2f41-d0e3-49c4-93dd-ef7a17389756",
   "metadata": {},
   "source": [
    "ReadtheDocs Dashboard: https://app.readthedocs.org/dashboard/"
   ]
  },
  {
   "cell_type": "markdown",
   "id": "6bd5940b-a3f1-4597-a556-f3fed381ea03",
   "metadata": {},
   "source": [
    "## Test"
   ]
  },
  {
   "cell_type": "markdown",
   "id": "9de8eef8-d449-4dba-950c-d655855d44b8",
   "metadata": {},
   "source": [
    "python -mvirtualenv $READTHEDOCS_VIRTUALENV_PATH \n",
    "python -m pip install --upgrade --no-cache-dir pip setuptools \n",
    "python -m pip install --upgrade --no-cache-dir sphinx \n",
    "python -m pip install --exists-action=w --no-cache-dir -r docs/requirements.txt \n",
    "python -m sphinx -T -b html -d _build/doctrees -D language=zh_CN . $READTHEDOCS_OUTPUT/html"
   ]
  },
  {
   "cell_type": "markdown",
   "id": "5669799c-4617-4626-ba14-fddf618e4592",
   "metadata": {},
   "source": [
    "## sphinx编译"
   ]
  },
  {
   "cell_type": "markdown",
   "id": "5008289a-4380-4bb3-9983-cc9e64b56a8d",
   "metadata": {},
   "source": [
    "jupyter-book config sphinx /Users/hans/Documents/Jbook-Code-Project-Blog/\\[JBook\\]\\ Big-Data-Finance/"
   ]
  },
  {
   "cell_type": "markdown",
   "id": "9d0e1a2a-abfd-4440-bf7f-30187d13d32c",
   "metadata": {},
   "source": [
    "## jupyter-book编译"
   ]
  },
  {
   "cell_type": "markdown",
   "id": "9bb2657e-0616-4cc0-bbdf-6e030b16b933",
   "metadata": {},
   "source": [
    "sphinx-build /Users/hans/Documents/Now/\\[JBook\\]\\ TAP  /Users/hans/Documents/Now/\\[JBook\\]\\ TAP/_build/html -b html"
   ]
  },
  {
   "cell_type": "markdown",
   "id": "03b8ef58-f4e3-4e48-9569-59ddf76f219a",
   "metadata": {},
   "source": []
  },
  {
   "cell_type": "markdown",
   "id": "2c53a27d-c78c-4652-aeec-d11826e2cad1",
   "metadata": {},
   "source": []
  }
 ],
 "metadata": {
  "kernelspec": {
   "display_name": "Python 3 (ipykernel)",
   "language": "python",
   "name": "python3"
  },
  "language_info": {
   "codemirror_mode": {
    "name": "ipython",
    "version": 3
   },
   "file_extension": ".py",
   "mimetype": "text/x-python",
   "name": "python",
   "nbconvert_exporter": "python",
   "pygments_lexer": "ipython3",
   "version": "3.9.17"
  }
 },
 "nbformat": 4,
 "nbformat_minor": 5
}