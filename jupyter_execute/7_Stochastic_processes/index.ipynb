{
 "cells": [
  {
   "cell_type": "markdown",
   "id": "dc0f1e55-51f3-4f23-acf5-9ba1083bf9ec",
   "metadata": {},
   "source": [
    "# 7 Stochastic Processes"
   ]
  },
  {
   "cell_type": "markdown",
   "id": "49295331-a552-44a9-af98-09350ba576cb",
   "metadata": {},
   "source": [
    "## Key Takeaways\n",
    "\n",
    "1. Wiener Process: A continuous-time Markov process with increments $ \\Delta z = \\sqrt{\\Delta t} \\, \\tilde{\\epsilon} $, where $ \\tilde{\\epsilon} \\sim N(0,1) $, and total change over $[0, T]$ is normally distributed with mean 0 and variance $ T $.\n",
    "2. Markov Property: Future values depend only on the current value, not past history, making it memoryless for predictive purposes.\n",
    "3. Continuous-Time Limit: As $ \\Delta t \\to 0 $, increments become $ dz = \\tilde{\\epsilon} \\sqrt{dt} $, with $ E[dz] = 0 $, $ \\text{Var}[dz] = dt $.\n",
    "4. Itô Integral: Represents the cumulative change in a Wiener process as a stochastic integral, critical for modeling asset price dynamics in continuous-time finance.\n",
    "5. Relevance to Asset Pricing: Wiener processes form the foundation for continuous-time models (e.g., Black-Scholes), capturing random asset price movements."
   ]
  },
  {
   "cell_type": "markdown",
   "id": "6c51e0e8-93bf-4444-a416-0759573f3293",
   "metadata": {},
   "source": []
  }
 ],
 "metadata": {
  "kernelspec": {
   "display_name": "Python 3 (ipykernel)",
   "language": "python",
   "name": "python3"
  },
  "language_info": {
   "codemirror_mode": {
    "name": "ipython",
    "version": 3
   },
   "file_extension": ".py",
   "mimetype": "text/x-python",
   "name": "python",
   "nbconvert_exporter": "python",
   "pygments_lexer": "ipython3",
   "version": "3.9.17"
  }
 },
 "nbformat": 4,
 "nbformat_minor": 5
}