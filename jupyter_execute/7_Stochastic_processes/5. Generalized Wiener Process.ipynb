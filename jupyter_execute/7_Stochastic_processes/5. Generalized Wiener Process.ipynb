{
 "cells": [
  {
   "cell_type": "markdown",
   "id": "5571d953-da9f-4e3e-82d6-57e92168cef2",
   "metadata": {},
   "source": [
    "# 5. Generalized Wiener Process"
   ]
  },
  {
   "cell_type": "markdown",
   "id": "b0714ba0-3af4-4ba5-ae2b-9d3a835eda87",
   "metadata": {},
   "source": [
    "## Generalized Wiener Process\n",
    "\n",
    "Drift and Variance Rates:\n",
    "\n",
    "The drift rate is the mean change per unit time, and the variance rate is the variance per unit time.\n",
    "For a pure Wiener process $ dz $, the drift rate is 0, and the variance rate is 1.\n",
    "\n",
    "\n",
    "Generalized Form (partially covered in the truncated document):\n",
    "\n",
    "A generalized Wiener process includes a non-zero drift and possibly a different variance rate, built upon the pure Wiener process. For example:\n",
    "$$dx(t) = \\mu dt + \\sigma dz(t)$$\n",
    "where $ \\mu $ is the drift rate, $ \\sigma $ is the volatility, and $ dz(t) $ is the Wiener process increment.\n",
    "\n",
    "\n",
    "\n"
   ]
  },
  {
   "cell_type": "markdown",
   "id": "aaa114e0-ff05-4959-8205-e7c9b6456642",
   "metadata": {},
   "source": []
  }
 ],
 "metadata": {
  "kernelspec": {
   "display_name": "Python 3 (ipykernel)",
   "language": "python",
   "name": "python3"
  },
  "language_info": {
   "codemirror_mode": {
    "name": "ipython",
    "version": 3
   },
   "file_extension": ".py",
   "mimetype": "text/x-python",
   "name": "python",
   "nbconvert_exporter": "python",
   "pygments_lexer": "ipython3",
   "version": "3.9.17"
  }
 },
 "nbformat": 4,
 "nbformat_minor": 5
}