{
 "cells": [
  {
   "cell_type": "markdown",
   "id": "eff493b6-2973-4540-9a43-15ad0ec1dd49",
   "metadata": {},
   "source": [
    "# Theoretical Asset Pricing\n",
    "\n",
    "[![License: CC BY-NC 4.0](https://img.shields.io/badge/License-CC%20BY--NC%204.0-orange.svg)](https://creativecommons.org/licenses/by-nc/4.0/)\n",
    "![Version](https://img.shields.io/badge/version-1.0-blue.svg)\n",
    "![Status](https://img.shields.io/badge/status-in%20progress-yellow.svg)\n",
    "![Format](https://img.shields.io/badge/format-PDF-green.svg)\n",
    "![Contributions](https://img.shields.io/badge/contributions-welcome-brightgreen.svg)"
   ]
  },
  {
   "cell_type": "markdown",
   "id": "9492d9e5-685b-4fd2-b1b6-29c129af0ddb",
   "metadata": {},
   "source": [
    "Literature: Munk: Financial Asset Pricing Theory, Oxford University Press, 2013. Chapters 1-11."
   ]
  },
  {
   "cell_type": "markdown",
   "id": "42530084-a649-4b92-bc78-6fc8a60d031c",
   "metadata": {},
   "source": [
    "## 课程先修"
   ]
  },
  {
   "cell_type": "markdown",
   "id": "5d083adf-4aa7-4876-8aca-0efb637fb3a2",
   "metadata": {},
   "source": [
    "- 主流金融教材（例如Bodie、Kane和Marcus（2014年）、Brealey、Myers和Allen（2014年）或Hillier、Grinblatt和Titman（2011年））\n",
    "\n",
    "- 学员应熟悉基本的投资组合数学、最优投资组合选择的均值-方差分析、资本资产定价模型、期权定价的二项式模型和Black-Scholes-Merton模型，以及债券市场的基本概念和关系。\n",
    "- 学员应熟悉效用函数、基础统计学和概率论、优化问题以及向量和矩阵， 对使用随机过程进行连续时间建模的经验达到许多期权定价教材所用水平，例如，Hull (2014) 的第14章将涵盖这方面的基本需求"
   ]
  },
  {
   "cell_type": "markdown",
   "id": "5c1f8153-5740-49c7-96f2-5bb37615c9b7",
   "metadata": {},
   "source": []
  }
 ],
 "metadata": {
  "kernelspec": {
   "display_name": "Python 3 (ipykernel)",
   "language": "python",
   "name": "python3"
  },
  "language_info": {
   "codemirror_mode": {
    "name": "ipython",
    "version": 3
   },
   "file_extension": ".py",
   "mimetype": "text/x-python",
   "name": "python",
   "nbconvert_exporter": "python",
   "pygments_lexer": "ipython3",
   "version": "3.9.17"
  }
 },
 "nbformat": 4,
 "nbformat_minor": 5
}