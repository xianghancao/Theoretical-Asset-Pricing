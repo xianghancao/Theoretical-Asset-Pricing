{
 "cells": [
  {
   "cell_type": "markdown",
   "id": "2d959088-2d0b-4d7d-8afa-8509c85a814d",
   "metadata": {},
   "source": [
    "# 5. Problems with Expected Utility Theory\n"
   ]
  },
  {
   "cell_type": "markdown",
   "id": "4f09db31-43b4-447b-91b4-b54cba674aea",
   "metadata": {},
   "source": [
    "## Allais Paradox:\n",
    "\n",
    "Example: Lotteries:\n",
    "\n",
    "$ L_1 = (10000, 0, 0.1) $: 10% chance of 10000, else 0.\n",
    "$ L_2 = (15000, 0, 0.09) $: 9% chance of 15000, else 0.\n",
    "$ L_3 = (10000, 0, 1) $: Certain 10000.\n",
    "$ L_4 = (15000, 0, 0.9) $: 90% chance of 15000, else 0.\n",
    "\n",
    "\n",
    "Common preference: $ L_2 \\succ L_1 $, $ L_3 \\succ L_4 $.\n",
    "Issue: $ L_1 = (L_3, L_0, 0.1) $, $ L_2 = (L_4, L_0, 0.1) $, where $ L_0 = (0, 0, 1) $. Expected utility predicts consistent rankings, but observed preferences violate the independence axiom.\n",
    "\n",
    "\n",
    "Prospect Theory (Kahneman and Tversky, 1979; Tversky and Kahneman, 1992):\n",
    "\n",
    "Preferences are defined over gains and losses relative to a benchmark (e.g., wealth = 1000).\n",
    "Utility function is concave for gains (risk-averse) and convex for losses (risk-seeking), with greater weight on losses.\n",
    "Supported by behavioral finance and psychology experiments.\n",
    "\n",
    "\n",
    "Epstein and Zin Preferences (1989):\n",
    "\n",
    "Expected utility ignores the timing of uncertainty resolution.\n",
    "Epstein and Zin utility functions allow preferences for early or late resolution.\n",
    "Example: Two investments with identical outcomes but different uncertainty resolution timing yield the same expected utility, but investors may prefer one due to resolution timing, violating standard expected utility assumptions.\n",
    "\n"
   ]
  },
  {
   "cell_type": "markdown",
   "id": "08fa44fe-49c5-4ac7-b91a-d0c8669167a5",
   "metadata": {},
   "source": []
  }
 ],
 "metadata": {
  "kernelspec": {
   "display_name": "Python 3 (ipykernel)",
   "language": "python",
   "name": "python3"
  },
  "language_info": {
   "codemirror_mode": {
    "name": "ipython",
    "version": 3
   },
   "file_extension": ".py",
   "mimetype": "text/x-python",
   "name": "python",
   "nbconvert_exporter": "python",
   "pygments_lexer": "ipython3",
   "version": "3.9.17"
  }
 },
 "nbformat": 4,
 "nbformat_minor": 5
}