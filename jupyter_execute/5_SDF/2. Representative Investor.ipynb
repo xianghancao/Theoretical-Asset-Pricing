{
 "cells": [
  {
   "cell_type": "markdown",
   "id": "826d007c-b46b-4a7c-9cc1-20c8772a0c99",
   "metadata": {},
   "source": [
    "# 2. Representative Investor\n"
   ]
  },
  {
   "cell_type": "markdown",
   "id": "32afad1c-a9e1-4f00-8736-f87817a6e1e5",
   "metadata": {},
   "source": [
    "\n",
    "\n",
    "\n",
    "\n",
    "Representative Investor:\n",
    "\n",
    "Assumes a hypothetical investor whose actions aggregate the behavior of all investors, valid under technical conditions (e.g., specific utility functions and complete or quasi-complete markets, as per Rubinstein, 1974).\n",
    "Simplifies analysis by focusing on a single investor’s optimization problem.\n",
    "\n",
    "\n",
    "Optimization Problem:\n",
    "\n",
    "The representative investor maximizes expected utility over consumption today ($ c_0 $) and in $ S $ future states ($ c_s $) tomorrow:\n",
    "$$\\max_{c_0, c_1, \\ldots, c_S} E[U(C)] = u(c_0) + \\delta \\sum_{s=1}^S p_s u(c_s)$$\n",
    "subject to the budget constraint:\n",
    "$$c_0 + \\sum_{s=1}^S y_s c_s = Y$$\n",
    "where:\n",
    "\n",
    "$ \\delta $: Subjective time-preference factor (discounts future utility).\n",
    "$ p_s $: Probability of state $ s $.\n",
    "$ y_s $: State price for state $ s $.\n",
    "$ Y $: Current wealth.\n",
    "$ y_0 = 1 $: Price of one unit of consumption today (for simplicity).\n",
    "\n",
    "\n",
    "The budget constraint ensures that the cost of the consumption plan equals the investor’s wealth. In a one-period model, all wealth is consumed (unused wealth at the end provides no utility).\n",
    "\n",
    "\n"
   ]
  }
 ],
 "metadata": {
  "kernelspec": {
   "display_name": "Python 3 (ipykernel)",
   "language": "python",
   "name": "python3"
  },
  "language_info": {
   "codemirror_mode": {
    "name": "ipython",
    "version": 3
   },
   "file_extension": ".py",
   "mimetype": "text/x-python",
   "name": "python",
   "nbconvert_exporter": "python",
   "pygments_lexer": "ipython3",
   "version": "3.9.17"
  }
 },
 "nbformat": 4,
 "nbformat_minor": 5
}