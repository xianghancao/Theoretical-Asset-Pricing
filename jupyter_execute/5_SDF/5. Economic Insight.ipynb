{
 "cells": [
  {
   "cell_type": "markdown",
   "id": "2d1e074f-c735-48e7-9b01-6bf76771d519",
   "metadata": {},
   "source": [
    "# 5. Economic Insight"
   ]
  },
  {
   "cell_type": "markdown",
   "id": "016afa5f-ee1d-4a7c-83d7-a7c2efecd960",
   "metadata": {},
   "source": [
    "## State Prices and SDF:\n",
    "\n",
    "State prices reflect economic fundamentals: time preference, state probabilities, and marginal utility.\n",
    "The SDF encapsulates these factors into a single variable, enabling a unified framework for pricing all assets.\n",
    "\n",
    "\n",
    "\n"
   ]
  },
  {
   "cell_type": "markdown",
   "id": "17a47cec-f984-42d9-a74d-4d59904ae309",
   "metadata": {},
   "source": [
    "## Absolute Pricing Insight:\n",
    "\n",
    "Unlike relative pricing, which relies on other asset prices, absolute pricing explains prices through systematic risk exposure (via marginal utility in different states).\n",
    "Essential for pricing assets in incomplete markets where relative pricing fails.\n",
    "\n"
   ]
  },
  {
   "cell_type": "markdown",
   "id": "5f9802bf-8ffe-478a-8886-ffb9808e8775",
   "metadata": {},
   "source": [
    "## Risk and Return:\n",
    "\n",
    "Assets with high payoffs in low-marginal-utility states (e.g., “good” economic states) command lower prices (higher expected returns) because they are less valuable for risk hedging.\n",
    "Conversely, assets with high payoffs in high-marginal-utility states (e.g., “bad” economic states) have higher prices (lower expected returns) due to their hedging value.\n"
   ]
  },
  {
   "cell_type": "markdown",
   "id": "cfe13a6d-5a78-48f5-ac76-a9f0358c460d",
   "metadata": {},
   "source": []
  }
 ],
 "metadata": {
  "kernelspec": {
   "display_name": "Python 3 (ipykernel)",
   "language": "python",
   "name": "python3"
  },
  "language_info": {
   "codemirror_mode": {
    "name": "ipython",
    "version": 3
   },
   "file_extension": ".py",
   "mimetype": "text/x-python",
   "name": "python",
   "nbconvert_exporter": "python",
   "pygments_lexer": "ipython3",
   "version": "3.9.17"
  }
 },
 "nbformat": 4,
 "nbformat_minor": 5
}