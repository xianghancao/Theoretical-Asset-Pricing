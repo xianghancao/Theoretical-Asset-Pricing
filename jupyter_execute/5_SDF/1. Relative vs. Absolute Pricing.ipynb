{
 "cells": [
  {
   "cell_type": "markdown",
   "id": "f5d11f1c-4c45-4f16-bc6d-5c249bf82b8a",
   "metadata": {},
   "source": [
    "# 1. Relative vs. Absolute Pricing"
   ]
  },
  {
   "cell_type": "markdown",
   "id": "25ea042e-3857-4e4d-8606-25189cebc877",
   "metadata": {},
   "source": [
    "## 1. Relative vs. Absolute Pricing\n",
    "\n",
    "Relative Pricing:\n",
    "\n",
    "Determines an asset’s value based on the prices of other assets, as covered in previous notes on state pricing.\n",
    "Requires minimal assumptions about investor preferences (only that investors prefer more to less and exploit arbitrage opportunities).\n",
    "Limited in incomplete markets where an asset’s payoffs cannot be replicated by existing assets.\n",
    "\n",
    "\n",
    "Absolute Pricing:\n",
    "\n",
    "Seeks to explain why asset prices and expected returns are at their observed levels by referencing fundamental sources of systematic risk.\n",
    "More intellectually demanding but provides deeper insights into economic drivers of asset prices, especially in incomplete markets.\n",
    "\n"
   ]
  },
  {
   "cell_type": "markdown",
   "id": "911f88eb-b04b-4f9c-b38f-5c44a2993c55",
   "metadata": {},
   "source": []
  }
 ],
 "metadata": {
  "kernelspec": {
   "display_name": "Python 3 (ipykernel)",
   "language": "python",
   "name": "python3"
  },
  "language_info": {
   "codemirror_mode": {
    "name": "ipython",
    "version": 3
   },
   "file_extension": ".py",
   "mimetype": "text/x-python",
   "name": "python",
   "nbconvert_exporter": "python",
   "pygments_lexer": "ipython3",
   "version": "3.9.17"
  }
 },
 "nbformat": 4,
 "nbformat_minor": 5
}