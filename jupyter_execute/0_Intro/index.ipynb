{
 "cells": [
  {
   "cell_type": "markdown",
   "id": "c235500f-02cb-485f-8b26-57a249781e38",
   "metadata": {},
   "source": [
    "# 1 Intro"
   ]
  },
  {
   "cell_type": "markdown",
   "id": "78d7177f-b341-4b60-9c02-123f266da653",
   "metadata": {},
   "source": [
    "课程目标与结构\n",
    "\n",
    "- 目标：为资产定价理论提供简要介绍，注重直观理解，避免过多数学推导（数学细节在课程第二部分）。目标是让学生熟悉**随机折现因子（SDF）**表示法，即 $ P = E[zD] $ 或 $ 1 = E[zR] $，其中 $ z $ 为随机折现因子。\n",
    "- 结构：包括资产定价概述、效用理论、投资决策、均值-方差分析、CAPM、Arrow-Debreu证券、市场完备性、SDF、资产定价基本定理、消费基础资产定价、股权溢价之谜及连续时间随机过程入门。"
   ]
  },
  {
   "cell_type": "markdown",
   "id": "6eca95a1-474c-4a18-8ee3-c6e0af8b10ed",
   "metadata": {},
   "source": []
  }
 ],
 "metadata": {
  "kernelspec": {
   "display_name": "Python 3 (ipykernel)",
   "language": "python",
   "name": "python3"
  },
  "language_info": {
   "codemirror_mode": {
    "name": "ipython",
    "version": 3
   },
   "file_extension": ".py",
   "mimetype": "text/x-python",
   "name": "python",
   "nbconvert_exporter": "python",
   "pygments_lexer": "ipython3",
   "version": "3.9.17"
  }
 },
 "nbformat": 4,
 "nbformat_minor": 5
}