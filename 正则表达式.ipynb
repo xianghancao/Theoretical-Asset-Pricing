{
 "cells": [
  {
   "cell_type": "markdown",
   "id": "13dbb63c-b26e-4d3e-88c5-149eba96a6f9",
   "metadata": {},
   "source": [
    "# 正则表达式"
   ]
  },
  {
   "cell_type": "markdown",
   "id": "1402e221-908b-41b4-87fd-377599f50a2b",
   "metadata": {},
   "source": [
    "\\[cite: \\d+(, \\d+)*\\]"
   ]
  },
  {
   "cell_type": "markdown",
   "id": "277bb669-b15e-417b-b2af-0f52dd0c6d0b",
   "metadata": {},
   "source": []
  }
 ],
 "metadata": {
  "kernelspec": {
   "display_name": "Python 3 (ipykernel)",
   "language": "python",
   "name": "python3"
  },
  "language_info": {
   "codemirror_mode": {
    "name": "ipython",
    "version": 3
   },
   "file_extension": ".py",
   "mimetype": "text/x-python",
   "name": "python",
   "nbconvert_exporter": "python",
   "pygments_lexer": "ipython3",
   "version": "3.9.17"
  }
 },
 "nbformat": 4,
 "nbformat_minor": 5
}
