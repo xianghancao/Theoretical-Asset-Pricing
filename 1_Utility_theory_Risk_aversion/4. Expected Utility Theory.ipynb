{
 "cells": [
  {
   "cell_type": "markdown",
   "id": "2e494d6d-4a33-4012-b30d-bb99d5a59c4c",
   "metadata": {},
   "source": [
    "# 4. Expected Utility Theory"
   ]
  },
  {
   "cell_type": "markdown",
   "id": "9ff3c04a-2d90-4ae7-babf-af43c76fd447",
   "metadata": {},
   "source": [
    "Purpose: Provides a framework to rank investments by assigning a single value (expected utility) based on investor preferences.\n",
    "Lottery Definition: A risky asset (lottery) has payoffs $ \\{x_1, ..., x_n\\} $ with probabilities $ p = \\{p_1, ..., p_n\\} $, where $ \\sum p_i = 1 $, $ p_i \\geq 0 $.\n",
    "Preference Relations:\n",
    "\n",
    "$ p' \\succ p $: Lottery $ p' $ is strictly preferred.\n",
    "$ p' \\succeq p $: Lottery $ p' $ is weakly preferred (strictly or indifferent).\n",
    "$ p' \\sim p $: Indifferent between lotteries.\n",
    "\n",
    "\n",
    "Axioms for Expected Utility:\n",
    "\n",
    "Completeness: Investors can compare any two lotteries ($ p \\succeq p' $, $ p' \\succeq p $, or both).\n",
    "Transitivity: If $ p'' \\succeq p' $ and $ p' \\succeq p $, then $ p'' \\succeq p $.\n",
    "Continuity: If $ p'' \\succeq p' \\succeq p $, there exists $ \\lambda \\in [0, 1] $ such that $ p' \\sim \\lambda p'' + (1-\\lambda)p $.\n",
    "Independence: If $ p' \\succ p $, then $ \\lambda p' + (1-\\lambda)p'' \\succ \\lambda p + (1-\\lambda)p'' $ for any $ \\lambda \\in (0, 1] $ and lottery $ p'' $.\n",
    "Dominance: For compound lotteries $ p_1 = \\lambda_1 p^* + (1-\\lambda_1)p^\\dagger $ and $ p_2 = \\lambda_2 p^* + (1-\\lambda_2)p^\\dagger $, if $ p^* \\succ p^\\dagger $, then $ p_1 \\succ p_2 $ if and only if $ \\lambda_1 > \\lambda_2 $.\n",
    "\n",
    "\n",
    "Von Neumann-Morgenstern (VNM) Utility:\n",
    "\n",
    "If preferences satisfy these axioms, they can be represented by an expected utility function:\n",
    "$$V(p_1, ..., p_n) = \\sum_{i=1}^n p_i U_i$$\n",
    "where $ U_i $ is the utility of outcome $ x_i $.\n",
    "Investors choose the lottery (or consumption plan) maximizing expected utility.\n",
    "For a consumption plan $ \\{c_{1,1}, ..., c_{1,S}\\} $ over $ S $ states:\n",
    "$$V(c_1) = E[U(c_1)] = \\sum_{s=1}^S p_s U(c_{1,s})$$\n",
    "\n"
   ]
  },
  {
   "cell_type": "markdown",
   "id": "d2a37669-7313-42ad-badb-a100144e7161",
   "metadata": {},
   "source": []
  }
 ],
 "metadata": {
  "kernelspec": {
   "display_name": "Python 3 (ipykernel)",
   "language": "python",
   "name": "python3"
  },
  "language_info": {
   "codemirror_mode": {
    "name": "ipython",
    "version": 3
   },
   "file_extension": ".py",
   "mimetype": "text/x-python",
   "name": "python",
   "nbconvert_exporter": "python",
   "pygments_lexer": "ipython3",
   "version": "3.9.17"
  }
 },
 "nbformat": 4,
 "nbformat_minor": 5
}
