{
 "cells": [
  {
   "cell_type": "markdown",
   "id": "e3d43892-361c-4407-9791-fb8a84fc65be",
   "metadata": {},
   "source": [
    "# 2 Utility theory Risk aversion"
   ]
  },
  {
   "cell_type": "markdown",
   "id": "37282d19-4186-4991-9e3d-4a0cabd667a7",
   "metadata": {},
   "source": [
    "## Key Takeaways\n",
    "\n",
    "- Consumption Smoothing: Investors prefer smooth consumption across time and states, using financial markets to borrow, invest, or diversify risk.\n",
    "- Asset Pricing: Assets are valued not by their own variance but by their ability to hedge consumption risk, affecting prices and expected returns.\n",
    "- Investment Ranking: State-by-state dominance is robust but limited; mean-variance and Sharpe ratios can mislead without considering investor preferences.\n",
    "- Expected Utility Theory: Provides a rigorous framework to rank investments based on maximizing expected utility, assuming five axioms hold.\n",
    "- Limitations: Allais Paradox, Prospect Theory, and Epstein-Zin preferences highlight deviations from expected utility, incorporating behavioral insights and timing of uncertainty resolution.\n"
   ]
  },
  {
   "cell_type": "markdown",
   "id": "c2d0f43e-7fda-4fb7-aa29-dc70569fbca2",
   "metadata": {},
   "source": []
  }
 ],
 "metadata": {
  "kernelspec": {
   "display_name": "Python 3 (ipykernel)",
   "language": "python",
   "name": "python3"
  },
  "language_info": {
   "codemirror_mode": {
    "name": "ipython",
    "version": 3
   },
   "file_extension": ".py",
   "mimetype": "text/x-python",
   "name": "python",
   "nbconvert_exporter": "python",
   "pygments_lexer": "ipython3",
   "version": "3.9.17"
  }
 },
 "nbformat": 4,
 "nbformat_minor": 5
}
