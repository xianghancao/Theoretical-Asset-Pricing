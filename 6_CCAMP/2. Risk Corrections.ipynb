{
 "cells": [
  {
   "cell_type": "markdown",
   "id": "04eb5ac3-0fd3-488b-8557-dd5f96449ab0",
   "metadata": {},
   "source": [
    "# 2. Risk Corrections"
   ]
  },
  {
   "cell_type": "markdown",
   "id": "803a9e68-bda0-4f54-81dd-8796c65a2f87",
   "metadata": {},
   "source": [
    "## Risk Corrections\n",
    "\n",
    "Risk-Return Relationship:\n",
    "\n",
    "From prior notes, the expected excess return is:\n",
    "$$E[R_i] - R_f = -\\frac{\\text{Cov}[z, R_i]}{E[z]} R_f$$\n",
    "\n",
    "Substituting the CCAPM SDF $ z_{t+1} = \\delta \\frac{u'(c_{t+1})}{u'(c_t)} $:\n",
    "$$E_t[R_{t+1,i}] - R_f = -\\frac{\\text{Cov}_t\\left[\\delta \\frac{u'(c_{t+1})}{u'(c_t)}, R_{t+1,i}\\right]}{E_t\\left[\\delta \\frac{u'(c_{t+1})}{u'(c_t)}\\right]} = -\\frac{\\text{Cov}_t[u'(c_{t+1}), R_{t+1,i}]}{E_t[u'(c_{t+1})]}$$\n",
    "\n",
    "\n",
    "\n",
    "## Economic Intuition:\n",
    "\n",
    "For risk-averse investors ($ u'' < 0 $), marginal utility $ u'(c_{t+1}) $ decreases with consumption.\n",
    "Assets with returns positively correlated with consumption (negatively with marginal utility) increase consumption volatility, requiring higher expected returns to compensate for risk.\n",
    "Assets with returns negatively correlated with consumption (positively with marginal utility), like insurance, reduce consumption volatility and can have expected returns below the risk-free rate.\n",
    "\n",
    "\n"
   ]
  },
  {
   "cell_type": "markdown",
   "id": "a85b45bc-a6a3-4834-a01f-3218a4c6bf1e",
   "metadata": {},
   "source": []
  }
 ],
 "metadata": {
  "kernelspec": {
   "display_name": "Python 3 (ipykernel)",
   "language": "python",
   "name": "python3"
  },
  "language_info": {
   "codemirror_mode": {
    "name": "ipython",
    "version": 3
   },
   "file_extension": ".py",
   "mimetype": "text/x-python",
   "name": "python",
   "nbconvert_exporter": "python",
   "pygments_lexer": "ipython3",
   "version": "3.9.17"
  }
 },
 "nbformat": 4,
 "nbformat_minor": 5
}
